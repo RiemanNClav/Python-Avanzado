{
 "cells": [
  {
   "cell_type": "code",
   "execution_count": 1,
   "metadata": {},
   "outputs": [],
   "source": [
    "import numpy as np "
   ]
  },
  {
   "cell_type": "code",
   "execution_count": 11,
   "metadata": {},
   "outputs": [
    {
     "name": "stdout",
     "output_type": "stream",
     "text": [
      "[1 2 3 4 5 6 7 8 9]\n",
      "La dimension de mi array es  1\n",
      "El numero de elementos de la dimension es de (9,)\n",
      "[[[1 2 3]\n",
      "  [4 5 6]\n",
      "  [7 8 9]]]\n",
      "La dimension de mi nuevo array es  3\n",
      "El numero de elementos de las dimensiones del nuevo array es de (1, 3, 3)\n"
     ]
    }
   ],
   "source": [
    "#Ejercicio 1\n",
    "#Crea un array unidimensional de 9 elementos y transfórmalo en un array 3D. Muestra la dimensión y la\n",
    "#shape antes y después del reshape\n",
    "\n",
    "a =  np.array([1,2,3,4,5,6,7,8,9])\n",
    "\n",
    "print(a)\n",
    "print(\"La dimension de mi array es  {}\".format(a.ndim))\n",
    "print(\"El numero de elementos de la dimension es de {}\".format(a.shape))\n",
    "\n",
    "b = a.reshape(-1,3,3)\n",
    "print(b)\n",
    "print(\"La dimension de mi nuevo array es  {}\".format(b.ndim))\n",
    "print(\"El numero de elementos de las dimensiones del nuevo array es de {}\".format(b.shape))\n"
   ]
  },
  {
   "cell_type": "code",
   "execution_count": 49,
   "metadata": {},
   "outputs": [
    {
     "data": {
      "text/plain": [
       "array([[ 1,  2, -6, -5],\n",
       "       [ 3,  4, -4, -3],\n",
       "       [ 5,  6, -2, -1]])"
      ]
     },
     "execution_count": 49,
     "metadata": {},
     "output_type": "execute_result"
    }
   ],
   "source": [
    "#Ejercicio 2\n",
    "#Dados los arrays 2D [[-6, -5], [-4, -3], [-2, -1]] y [[1, 2], [3, 4], [5, 6]], concaténalos de\n",
    "#modo que obtengas el array [[1, 2, -6, -5], [3, 4, -4, -3] [5, 6, -2, -1]].\n",
    "\n",
    "a = np.array([[-6, -5], [-4, -3], [-2, -1]])\n",
    "b = np.array([[1, 2], [3, 4], [5, 6]])\n",
    "\n",
    "\n",
    "c1 = np.array([b[0],a[0]])\n",
    "c2 = np.array([b[1],a[1]])\n",
    "c3 = np.array([b[2],a[2]])\n",
    "c1 = c1.reshape(-1)\n",
    "c2 = c2.reshape(-1)\n",
    "c3 = c3.reshape(-1)\n",
    "c4 = np.concatenate((c1,c2))\n",
    "c5 = np.concatenate((c4,c3))\n",
    "c5.reshape(3,4)"
   ]
  },
  {
   "cell_type": "code",
   "execution_count": 63,
   "metadata": {},
   "outputs": [
    {
     "name": "stdout",
     "output_type": "stream",
     "text": [
      "[[ 1  2  3]\n",
      " [-1  0  1]]\n",
      "[[ 4  5  6]\n",
      " [-4  0  4]]\n",
      "[[ 3  2  1]\n",
      " [-3  0  3]]\n"
     ]
    }
   ],
   "source": [
    "#Ejercicio 3\n",
    "#Dado el array 2D [[1, 2, 3], [-1, 0, 1], [4, 5, 6], [-4, 0, 4], [3, 2, 1], [-3, 0, 3]], di\u0002vídelo en 3 arrays 2D.\n",
    "\n",
    "a = np.array([[1, 2, 3], [-1, 0, 1], [4, 5, 6], [-4, 0, 4], [3, 2, 1], [-3, 0, 3]])\n",
    "a = a.reshape(3,2,3)\n",
    "arrays = []\n",
    "for i in a:\n",
    "    arrays.append(i)\n",
    "    \n",
    "a2 = np.array(arrays[0])\n",
    "a3 = np.array(arrays[1])\n",
    "a4 = np.array(arrays[2])\n",
    "\n",
    "print(a2)\n",
    "print(a3)\n",
    "print(a4)"
   ]
  },
  {
   "cell_type": "code",
   "execution_count": null,
   "metadata": {},
   "outputs": [],
   "source": [
    "#Ejercicio 4\n",
    "#Dado el array 2D [[\"ala\", \"delfín\", \"arroz\"], [\"cena\", \"kayak\", \"picnic\"], [\"hoja\", \"gato\",\n",
    "#\"elle\"]], busca las palabras que sean palíndromos.\n",
    "#PISTA: Necesitarás una función universal."
   ]
  },
  {
   "cell_type": "code",
   "execution_count": null,
   "metadata": {},
   "outputs": [],
   "source": []
  },
  {
   "cell_type": "code",
   "execution_count": null,
   "metadata": {},
   "outputs": [],
   "source": []
  },
  {
   "cell_type": "code",
   "execution_count": null,
   "metadata": {},
   "outputs": [],
   "source": []
  },
  {
   "cell_type": "code",
   "execution_count": null,
   "metadata": {},
   "outputs": [],
   "source": []
  },
  {
   "cell_type": "code",
   "execution_count": null,
   "metadata": {},
   "outputs": [],
   "source": []
  },
  {
   "cell_type": "code",
   "execution_count": null,
   "metadata": {},
   "outputs": [],
   "source": []
  }
 ],
 "metadata": {
  "kernelspec": {
   "display_name": "Python 3",
   "language": "python",
   "name": "python3"
  },
  "language_info": {
   "codemirror_mode": {
    "name": "ipython",
    "version": 3
   },
   "file_extension": ".py",
   "mimetype": "text/x-python",
   "name": "python",
   "nbconvert_exporter": "python",
   "pygments_lexer": "ipython3",
   "version": "3.8.3"
  }
 },
 "nbformat": 4,
 "nbformat_minor": 4
}
