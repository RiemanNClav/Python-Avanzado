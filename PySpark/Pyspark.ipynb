{
 "cells": [
  {
   "cell_type": "code",
   "execution_count": null,
   "metadata": {},
   "outputs": [],
   "source": [
    "from pyspark.sql import SparkSession\n",
    "spark = SparkSession.builder.master(\"local\").appName(\"COVID\").config(\"spark.some.config.option\", \"some-value\").getOrCreate()\n",
    "sc = SparkContext.getOrCreate()\n"
   ]
  },
  {
   "cell_type": "markdown",
   "metadata": {},
   "source": [
    "pyspark.sql.SparkSession: Esta clase permite a los programadores programar en Spark con DataFrame y la funcionalidad SQL. SparkSession se usa para crear DataFrame, registrar DataFrame como tablas, tablas de caché, ejecuta SQL sobre tablas.\n",
    "\n",
    "Como ya hemos dicho antes, a la hora de trabajar con un DataFrame, la base o de donde cuelga toda la funcionalidad es una SparkSession. Para crearla lo que haremos de la siguiente forma.\n",
    "\n",
    "A través de SparkSession, puede crear un DataFrame, o puede registrar el DataFrame como una tabla y realizar una serie de operaciones SQL basadas en esto. DataFrame es similar a DataFrame en pandas."
   ]
  },
  {
   "cell_type": "code",
   "execution_count": null,
   "metadata": {},
   "outputs": [],
   "source": [
    "import re\n",
    "from datetime import datetime\n",
    "from array import array\n",
    "from pyspark import SparkContext\n",
    "from pyspark.sql import SQLContext, DataFrameWriter\n",
    "import pyspark.sql.functions as Func\n",
    "from pyspark.sql.types import IntegerType, StringType,DoubleType, FloatType\n",
    "from pyspark.sql.functions import col,concat,udf,year,month,monotonically_increasing_id,dayofmonth,substring,regexp_replace\n",
    "sqlContext = SQLContext(sc)"
   ]
  },
  {
   "cell_type": "code",
   "execution_count": 7,
   "metadata": {},
   "outputs": [],
   "source": [
    "from array import array \n",
    "\n",
    "n = array('i',[1,2,3,4])"
   ]
  },
  {
   "cell_type": "code",
   "execution_count": null,
   "metadata": {},
   "outputs": [],
   "source": [
    "# Catalogos Funciones\n",
    "BNC_CAT = sqlContext.read.csv('/data/sandboxes/mcib/data/users/GTB/CIE/BNC_CATFunc.csv', header=True).withColumnRenamed('function_stm_id','function_stm_id1')\n",
    "SIT_CAT = sqlContext.read.csv('/data/sandboxes/mcib/data/users/GTB/CIE/SIT_CATFunc.csv', header=True).withColumnRenamed('sender_application_id','sender_application_id1') \n",
    "H2H_CAT = sqlContext.read.csv('/data/sandboxes/mcib/data/users/GTB/CIE/H2H_CATFunc.csv', header=True).withColumnRenamed('function_channel_type','function_channel_type1') "
   ]
  },
  {
   "cell_type": "code",
   "execution_count": null,
   "metadata": {},
   "outputs": [],
   "source": [
    "data_path = '/data/master/mdco/data/engineering/t_mdco_tmidshst/'\n",
    "h2h = sqlContext.read.parquet(data_path).filter(Func.col(\"load_date\")>'2020-02-01')"
   ]
  },
  {
   "cell_type": "code",
   "execution_count": null,
   "metadata": {},
   "outputs": [],
   "source": [
    "###cuando corras la consulta nueva usar la de h2h en lugar de unión y quitar contract channel id y quitar ,'GRUPO','AREA_GTB','EJECUTIVO_GTB'\n",
    "func = ['I311','I312','I316','I313','I314','I315']\n",
    "h2h_sel = h2h.select('commission_account_id','banking_name','transaction_date','source_branch_id',\n",
    "                     'financial_cost_type','transaction_amount','option_catalog_name',\n",
    "                     'function_channel_type','event_desc').where(\n",
    "    (Func.ltrim(Func.rtrim(col('financial_cost_type'))) == \"1\")&((Func.ltrim(Func.rtrim(col('function_channel_type')))).isin(func)))\n",
    "    #&((Func.ltrim(Func.rtrim(col('banking_name')))=='C&I MEXICO')|(Func.ltrim(Func.rtrim(col('banking_name'))).isNull())))"
   ]
  },
  {
   "cell_type": "code",
   "execution_count": null,
   "metadata": {},
   "outputs": [],
   "source": [
    "h2h_sema = h2h_sel.withColumn('Semana_trans', Func.date_format(col('transaction_date'),'w')).withColumn(\n",
    "            'Fecha_trans', Func.to_date(col('transaction_date'))).withColumn('Mes_trans',Func.month('transaction_date'))"
   ]
  },
  {
   "cell_type": "code",
   "execution_count": null,
   "metadata": {},
   "outputs": [],
   "source": [
    "import pyspark\n",
    "h2h.persist(pyspark.StorageLevel.MEMORY_ONLY)"
   ]
  },
  {
   "cell_type": "code",
   "execution_count": null,
   "metadata": {},
   "outputs": [],
   "source": [
    "h2h.groupby('banking_name','Mes_trans').agg(Func.sum('monto').alias('sum'),Func.sum('trans').alias('count')\n",
    "                                           ).sort('banking_name','Mes_trans').show(20,False)"
   ]
  },
  {
   "cell_type": "code",
   "execution_count": null,
   "metadata": {},
   "outputs": [],
   "source": [
    "h2hf = h2h.where(col('banking_name')=='C&I MEXICO')"
   ]
  },
  {
   "cell_type": "code",
   "execution_count": null,
   "metadata": {},
   "outputs": [],
   "source": [
    "h2hf = h2hf.join(H2H_CAT, Func.ltrim(Func.rtrim(col('function_channel_type1')))==Func.ltrim(Func.rtrim(col('function_channel_type'))),how='left').select('commission_account_id',\n",
    "     'banking_name','source_branch_id','Fecha_trans','Semana_trans','Mes_trans','function_channel_type',col('H2H_DESC').alias('Desc'),'financial_cost_type','option_catalog_name','event_desc','monto','trans')"
   ]
  },
  {
   "cell_type": "code",
   "execution_count": null,
   "metadata": {},
   "outputs": [],
   "source": [
    "h2hf.count()  #semana empieza en lunes y es la semana calendario #1785 antes   1830 el 27 de mayo \n",
    "#solo C&I MEXICO 10/06 : 996"
   ]
  },
  {
   "cell_type": "code",
   "execution_count": null,
   "metadata": {},
   "outputs": [],
   "source": [
    "data_path = '/data/sandboxes/mcib/data/users/GTB'\n",
    "h2hf.coalesce(1).write.mode('overwrite').format(\"com.databricks.spark.csv\").option(\n",
    "                    \"header\",\"true\").save(data_path + '/h2h_inc.csv')"
   ]
  },
  {
   "cell_type": "code",
   "execution_count": null,
   "metadata": {},
   "outputs": [],
   "source": []
  },
  {
   "cell_type": "code",
   "execution_count": null,
   "metadata": {},
   "outputs": [],
   "source": []
  },
  {
   "cell_type": "code",
   "execution_count": null,
   "metadata": {},
   "outputs": [],
   "source": [
    "#---------------------------------------------------------------------------------------------------------------------------"
   ]
  },
  {
   "cell_type": "code",
   "execution_count": 1,
   "metadata": {},
   "outputs": [],
   "source": [
    "from pyspark.sql import SparkSession\n",
    "from pyspark.sql.functions import *\n",
    "from pyspark.sql.functions import broadcast\n",
    "from pyspark.sql.types import *"
   ]
  },
  {
   "cell_type": "code",
   "execution_count": 2,
   "metadata": {},
   "outputs": [],
   "source": [
    "import re\n",
    "from datetime import datetime\n",
    "from array import array\n",
    "from pyspark import SparkContext\n",
    "from pyspark.sql import SQLContext, DataFrameWriter\n",
    "import pyspark.sql.functions as Func\n",
    "from pyspark.sql.types import IntegerType, StringType,DoubleType, FloatType\n",
    "from pyspark.sql.functions import col,concat,udf,year,month,monotonically_increasing_id,dayofmonth,substring,regexp_replace"
   ]
  },
  {
   "cell_type": "code",
   "execution_count": 3,
   "metadata": {},
   "outputs": [],
   "source": [
    "spark = SparkSession.builder.getOrCreate()"
   ]
  },
  {
   "cell_type": "code",
   "execution_count": 4,
   "metadata": {},
   "outputs": [],
   "source": [
    "#una vez creada la session vamos a crear un dataframe a partir de un fichero de texto. \n",
    "df = spark.read.csv(\"C:/Users/URIEL/Documents/DATOS (CSV,XML,JSON,ETC)/planets.csv\", header = True, inferSchema = True)"
   ]
  },
  {
   "cell_type": "code",
   "execution_count": 5,
   "metadata": {},
   "outputs": [
    {
     "name": "stdout",
     "output_type": "stream",
     "text": [
      "+---------------+------+--------------+-----+--------+----+\n",
      "|         method|number|orbital_period| mass|distance|year|\n",
      "+---------------+------+--------------+-----+--------+----+\n",
      "|Radial Velocity|     1|         269.3|  7.1|    77.4|2006|\n",
      "|Radial Velocity|     1|       874.774| 2.21|   56.95|2008|\n",
      "|Radial Velocity|     1|         763.0|  2.6|   19.84|2011|\n",
      "|Radial Velocity|     1|        326.03| 19.4|  110.62|2007|\n",
      "|Radial Velocity|     1|        516.22| 10.5|  119.47|2009|\n",
      "|Radial Velocity|     1|        185.84|  4.8|   76.39|2008|\n",
      "|Radial Velocity|     1|        1773.4| 4.64|   18.15|2002|\n",
      "|Radial Velocity|     1|         798.5| null|   21.41|1996|\n",
      "|Radial Velocity|     1|         993.3| 10.3|    73.1|2008|\n",
      "|Radial Velocity|     2|         452.8| 1.99|   74.79|2010|\n",
      "|Radial Velocity|     2|         883.0| 0.86|   74.79|2010|\n",
      "|Radial Velocity|     1|         335.1| 9.88|   39.43|2009|\n",
      "|Radial Velocity|     1|         479.1| 3.88|   97.28|2008|\n",
      "|Radial Velocity|     3|        1078.0| 2.53|   14.08|1996|\n",
      "|Radial Velocity|     3|        2391.0| 0.54|   14.08|2001|\n",
      "|Radial Velocity|     3|       14002.0| 1.64|   14.08|2009|\n",
      "|Radial Velocity|     1|      4.230785|0.472|   15.36|1995|\n",
      "|Radial Velocity|     5|        14.651|  0.8|   12.53|1996|\n",
      "|Radial Velocity|     5|         44.38|0.165|   12.53|2004|\n",
      "|Radial Velocity|     5|        4909.0| 3.53|   12.53|2002|\n",
      "+---------------+------+--------------+-----+--------+----+\n",
      "only showing top 20 rows\n",
      "\n"
     ]
    }
   ],
   "source": [
    "df.show()"
   ]
  },
  {
   "cell_type": "code",
   "execution_count": 6,
   "metadata": {},
   "outputs": [
    {
     "name": "stdout",
     "output_type": "stream",
     "text": [
      "+---------------+------+--------------+-----+--------+----+\n",
      "|         method|number|orbital_period| mass|distance|year|\n",
      "+---------------+------+--------------+-----+--------+----+\n",
      "|Radial Velocity|     1|         269.3|  7.1|    77.4|2006|\n",
      "|Radial Velocity|     1|       874.774| 2.21|   56.95|2008|\n",
      "|Radial Velocity|     1|         763.0|  2.6|   19.84|2011|\n",
      "|Radial Velocity|     1|        326.03| 19.4|  110.62|2007|\n",
      "|Radial Velocity|     1|        516.22| 10.5|  119.47|2009|\n",
      "|Radial Velocity|     1|        185.84|  4.8|   76.39|2008|\n",
      "|Radial Velocity|     1|        1773.4| 4.64|   18.15|2002|\n",
      "|Radial Velocity|     1|         798.5| null|   21.41|1996|\n",
      "|Radial Velocity|     1|         993.3| 10.3|    73.1|2008|\n",
      "|Radial Velocity|     2|         452.8| 1.99|   74.79|2010|\n",
      "|Radial Velocity|     2|         883.0| 0.86|   74.79|2010|\n",
      "|Radial Velocity|     1|         335.1| 9.88|   39.43|2009|\n",
      "|Radial Velocity|     1|         479.1| 3.88|   97.28|2008|\n",
      "|Radial Velocity|     3|        1078.0| 2.53|   14.08|1996|\n",
      "|Radial Velocity|     3|        2391.0| 0.54|   14.08|2001|\n",
      "|Radial Velocity|     3|       14002.0| 1.64|   14.08|2009|\n",
      "|Radial Velocity|     1|      4.230785|0.472|   15.36|1995|\n",
      "|Radial Velocity|     5|        14.651|  0.8|   12.53|1996|\n",
      "|Radial Velocity|     5|         44.38|0.165|   12.53|2004|\n",
      "|Radial Velocity|     5|        4909.0| 3.53|   12.53|2002|\n",
      "+---------------+------+--------------+-----+--------+----+\n",
      "only showing top 20 rows\n",
      "\n"
     ]
    }
   ],
   "source": [
    "df.filter(Func.col(\"method\")=='Radial Velocity').show()"
   ]
  },
  {
   "cell_type": "code",
   "execution_count": 24,
   "metadata": {},
   "outputs": [
    {
     "name": "stdout",
     "output_type": "stream",
     "text": [
      "+-----+--------+---------------+\n",
      "| mass|distance|         method|\n",
      "+-----+--------+---------------+\n",
      "|  7.1|    77.4|Radial Velocity|\n",
      "| 2.21|   56.95|Radial Velocity|\n",
      "|  2.6|   19.84|Radial Velocity|\n",
      "| 19.4|  110.62|Radial Velocity|\n",
      "| 10.5|  119.47|Radial Velocity|\n",
      "|  4.8|   76.39|Radial Velocity|\n",
      "| 4.64|   18.15|Radial Velocity|\n",
      "| null|   21.41|Radial Velocity|\n",
      "| 10.3|    73.1|Radial Velocity|\n",
      "| 1.99|   74.79|Radial Velocity|\n",
      "| 0.86|   74.79|Radial Velocity|\n",
      "| 9.88|   39.43|Radial Velocity|\n",
      "| 3.88|   97.28|Radial Velocity|\n",
      "| 2.53|   14.08|Radial Velocity|\n",
      "| 0.54|   14.08|Radial Velocity|\n",
      "| 1.64|   14.08|Radial Velocity|\n",
      "|0.472|   15.36|Radial Velocity|\n",
      "|  0.8|   12.53|Radial Velocity|\n",
      "|0.165|   12.53|Radial Velocity|\n",
      "| 3.53|   12.53|Radial Velocity|\n",
      "+-----+--------+---------------+\n",
      "only showing top 20 rows\n",
      "\n"
     ]
    }
   ],
   "source": [
    "df.select('mass','distance','method').where(Func.ltrim(Func.rtrim('method')) == 'Radial Velocity').show()\n",
    "#"
   ]
  },
  {
   "cell_type": "code",
   "execution_count": null,
   "metadata": {},
   "outputs": [],
   "source": []
  },
  {
   "cell_type": "code",
   "execution_count": null,
   "metadata": {},
   "outputs": [],
   "source": []
  },
  {
   "cell_type": "code",
   "execution_count": null,
   "metadata": {},
   "outputs": [],
   "source": []
  },
  {
   "cell_type": "code",
   "execution_count": null,
   "metadata": {},
   "outputs": [],
   "source": []
  },
  {
   "cell_type": "code",
   "execution_count": null,
   "metadata": {},
   "outputs": [],
   "source": []
  },
  {
   "cell_type": "code",
   "execution_count": null,
   "metadata": {},
   "outputs": [],
   "source": []
  },
  {
   "cell_type": "code",
   "execution_count": null,
   "metadata": {},
   "outputs": [],
   "source": []
  },
  {
   "cell_type": "code",
   "execution_count": null,
   "metadata": {},
   "outputs": [],
   "source": []
  },
  {
   "cell_type": "code",
   "execution_count": null,
   "metadata": {},
   "outputs": [],
   "source": []
  },
  {
   "cell_type": "code",
   "execution_count": null,
   "metadata": {},
   "outputs": [],
   "source": []
  },
  {
   "cell_type": "code",
   "execution_count": null,
   "metadata": {},
   "outputs": [],
   "source": []
  },
  {
   "cell_type": "code",
   "execution_count": null,
   "metadata": {},
   "outputs": [],
   "source": []
  },
  {
   "cell_type": "code",
   "execution_count": null,
   "metadata": {},
   "outputs": [],
   "source": []
  },
  {
   "cell_type": "code",
   "execution_count": null,
   "metadata": {},
   "outputs": [],
   "source": []
  },
  {
   "cell_type": "code",
   "execution_count": null,
   "metadata": {},
   "outputs": [],
   "source": []
  },
  {
   "cell_type": "code",
   "execution_count": null,
   "metadata": {},
   "outputs": [],
   "source": []
  },
  {
   "cell_type": "code",
   "execution_count": null,
   "metadata": {},
   "outputs": [],
   "source": []
  },
  {
   "cell_type": "code",
   "execution_count": null,
   "metadata": {},
   "outputs": [],
   "source": []
  },
  {
   "cell_type": "code",
   "execution_count": null,
   "metadata": {},
   "outputs": [],
   "source": []
  },
  {
   "cell_type": "code",
   "execution_count": null,
   "metadata": {},
   "outputs": [],
   "source": []
  },
  {
   "cell_type": "code",
   "execution_count": null,
   "metadata": {},
   "outputs": [],
   "source": []
  },
  {
   "cell_type": "code",
   "execution_count": null,
   "metadata": {},
   "outputs": [],
   "source": []
  },
  {
   "cell_type": "code",
   "execution_count": null,
   "metadata": {},
   "outputs": [],
   "source": []
  }
 ],
 "metadata": {
  "kernelspec": {
   "display_name": "Python 3",
   "language": "python",
   "name": "python3"
  },
  "language_info": {
   "codemirror_mode": {
    "name": "ipython",
    "version": 3
   },
   "file_extension": ".py",
   "mimetype": "text/x-python",
   "name": "python",
   "nbconvert_exporter": "python",
   "pygments_lexer": "ipython3",
   "version": "3.8.3"
  }
 },
 "nbformat": 4,
 "nbformat_minor": 5
}
