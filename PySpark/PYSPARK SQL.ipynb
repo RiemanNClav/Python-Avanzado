{
 "cells": [
  {
   "cell_type": "markdown",
   "metadata": {},
   "source": [
    "Spark se ha incorporado herramientas de la mayoría de los científicos de datos. Es un framework open source para la computación en paralelo utilizando clusters. Se utiliza especialmente para acelerar la computación iterativa de grandes cantidades de datos o de modelos muy complejos."
   ]
  },
  {
   "cell_type": "markdown",
   "metadata": {},
   "source": [
    "PySpark SQL es la colaboración de Python con Spark SQL.\n",
    " Se utiliza principalmente en el procesamiento de datos estructurados y semiestructurados. La API que proporciona puede leer datos de una gran cantidad de fuentes. Estas fuentes de datos pueden estar en diferentes formatos de datos."
   ]
  },
  {
   "cell_type": "code",
   "execution_count": 1,
   "metadata": {},
   "outputs": [],
   "source": [
    "from pyspark.sql import SparkSession\n",
    "from pyspark.sql.functions import *\n",
    "from pyspark.sql.functions import broadcast\n",
    "from pyspark.sql.types import *"
   ]
  },
  {
   "cell_type": "markdown",
   "metadata": {},
   "source": [
    "Módulos PySpark\n",
    "\n",
    "Algunas de las clases importantes y sus características se dan a continuación:\n",
    "\n",
    "pyspark.sql.SparkSession: Esta clase permite a los programadores programar en Spark con DataFrame y la funcionalidad SQL. SparkSession se usa para crear DataFrame, registrar DataFrame como tablas, tablas de caché, ejecuta SQL sobre tablas.\n",
    "\n",
    "Como ya hemos dicho antes, a la hora de trabajar con un DataFrame, la base o de donde cuelga toda la funcionalidad es una SparkSession. Para crearla lo que haremos de la siguiente forma.\n",
    "\n",
    "A través de SparkSession, puede crear un DataFrame, o puede registrar el DataFrame como una tabla y realizar una serie de operaciones SQL basadas en esto. DataFrame es similar a DataFrame en pandas."
   ]
  },
  {
   "cell_type": "code",
   "execution_count": 2,
   "metadata": {},
   "outputs": [],
   "source": [
    "spark = SparkSession.builder.getOrCreate()"
   ]
  },
  {
   "cell_type": "code",
   "execution_count": 3,
   "metadata": {},
   "outputs": [],
   "source": [
    "#una vez creada la session vamos a crear un dataframe a partir de un fichero de texto. \n",
    "df = spark.read.csv(\"C:/Users/URIEL/Documents/DATOS (CSV,XML,JSON,ETC)/planets.csv\", header = True, inferSchema = True)"
   ]
  },
  {
   "cell_type": "code",
   "execution_count": 4,
   "metadata": {},
   "outputs": [
    {
     "name": "stdout",
     "output_type": "stream",
     "text": [
      "+---------------+------+--------------+-----+--------+----+\n",
      "|         method|number|orbital_period| mass|distance|year|\n",
      "+---------------+------+--------------+-----+--------+----+\n",
      "|Radial Velocity|     1|         269.3|  7.1|    77.4|2006|\n",
      "|Radial Velocity|     1|       874.774| 2.21|   56.95|2008|\n",
      "|Radial Velocity|     1|         763.0|  2.6|   19.84|2011|\n",
      "|Radial Velocity|     1|        326.03| 19.4|  110.62|2007|\n",
      "|Radial Velocity|     1|        516.22| 10.5|  119.47|2009|\n",
      "|Radial Velocity|     1|        185.84|  4.8|   76.39|2008|\n",
      "|Radial Velocity|     1|        1773.4| 4.64|   18.15|2002|\n",
      "|Radial Velocity|     1|         798.5| null|   21.41|1996|\n",
      "|Radial Velocity|     1|         993.3| 10.3|    73.1|2008|\n",
      "|Radial Velocity|     2|         452.8| 1.99|   74.79|2010|\n",
      "|Radial Velocity|     2|         883.0| 0.86|   74.79|2010|\n",
      "|Radial Velocity|     1|         335.1| 9.88|   39.43|2009|\n",
      "|Radial Velocity|     1|         479.1| 3.88|   97.28|2008|\n",
      "|Radial Velocity|     3|        1078.0| 2.53|   14.08|1996|\n",
      "|Radial Velocity|     3|        2391.0| 0.54|   14.08|2001|\n",
      "|Radial Velocity|     3|       14002.0| 1.64|   14.08|2009|\n",
      "|Radial Velocity|     1|      4.230785|0.472|   15.36|1995|\n",
      "|Radial Velocity|     5|        14.651|  0.8|   12.53|1996|\n",
      "|Radial Velocity|     5|         44.38|0.165|   12.53|2004|\n",
      "|Radial Velocity|     5|        4909.0| 3.53|   12.53|2002|\n",
      "+---------------+------+--------------+-----+--------+----+\n",
      "only showing top 20 rows\n",
      "\n"
     ]
    }
   ],
   "source": [
    "df.show()"
   ]
  },
  {
   "cell_type": "code",
   "execution_count": 18,
   "metadata": {},
   "outputs": [
    {
     "data": {
      "text/plain": [
       "['method', 'number', 'orbital_period', 'mass', 'distance', 'year']"
      ]
     },
     "execution_count": 18,
     "metadata": {},
     "output_type": "execute_result"
    }
   ],
   "source": [
    "df.columns"
   ]
  },
  {
   "cell_type": "code",
   "execution_count": 19,
   "metadata": {},
   "outputs": [
    {
     "name": "stdout",
     "output_type": "stream",
     "text": [
      "root\n",
      " |-- method: string (nullable = true)\n",
      " |-- number: integer (nullable = true)\n",
      " |-- orbital_period: double (nullable = true)\n",
      " |-- mass: double (nullable = true)\n",
      " |-- distance: double (nullable = true)\n",
      " |-- year: integer (nullable = true)\n",
      "\n"
     ]
    }
   ],
   "source": [
    "df.printSchema()"
   ]
  },
  {
   "cell_type": "code",
   "execution_count": 21,
   "metadata": {},
   "outputs": [
    {
     "name": "stdout",
     "output_type": "stream",
     "text": [
      "+---------------+------+\n",
      "|         method|number|\n",
      "+---------------+------+\n",
      "|Radial Velocity|     1|\n",
      "|Radial Velocity|     1|\n",
      "|Radial Velocity|     1|\n",
      "|Radial Velocity|     1|\n",
      "|Radial Velocity|     1|\n",
      "|Radial Velocity|     1|\n",
      "|Radial Velocity|     1|\n",
      "|Radial Velocity|     1|\n",
      "|Radial Velocity|     1|\n",
      "|Radial Velocity|     2|\n",
      "|Radial Velocity|     2|\n",
      "|Radial Velocity|     1|\n",
      "|Radial Velocity|     1|\n",
      "|Radial Velocity|     3|\n",
      "|Radial Velocity|     3|\n",
      "|Radial Velocity|     3|\n",
      "|Radial Velocity|     1|\n",
      "|Radial Velocity|     5|\n",
      "|Radial Velocity|     5|\n",
      "|Radial Velocity|     5|\n",
      "+---------------+------+\n",
      "only showing top 20 rows\n",
      "\n"
     ]
    }
   ],
   "source": [
    "df.select('method','number').show()"
   ]
  },
  {
   "cell_type": "code",
   "execution_count": 17,
   "metadata": {},
   "outputs": [
    {
     "data": {
      "text/plain": [
       "pyspark.sql.dataframe.DataFrame"
      ]
     },
     "execution_count": 17,
     "metadata": {},
     "output_type": "execute_result"
    }
   ],
   "source": [
    "type(df)"
   ]
  },
  {
   "cell_type": "code",
   "execution_count": 18,
   "metadata": {},
   "outputs": [
    {
     "name": "stdout",
     "output_type": "stream",
     "text": [
      "+---------------+------------+\n",
      "|         method|(number + 1)|\n",
      "+---------------+------------+\n",
      "|Radial Velocity|           2|\n",
      "|Radial Velocity|           2|\n",
      "|Radial Velocity|           2|\n",
      "|Radial Velocity|           2|\n",
      "|Radial Velocity|           2|\n",
      "|Radial Velocity|           2|\n",
      "|Radial Velocity|           2|\n",
      "|Radial Velocity|           2|\n",
      "|Radial Velocity|           2|\n",
      "|Radial Velocity|           3|\n",
      "|Radial Velocity|           3|\n",
      "|Radial Velocity|           2|\n",
      "|Radial Velocity|           2|\n",
      "|Radial Velocity|           4|\n",
      "|Radial Velocity|           4|\n",
      "|Radial Velocity|           4|\n",
      "|Radial Velocity|           2|\n",
      "|Radial Velocity|           6|\n",
      "|Radial Velocity|           6|\n",
      "|Radial Velocity|           6|\n",
      "+---------------+------------+\n",
      "only showing top 20 rows\n",
      "\n"
     ]
    }
   ],
   "source": [
    "df.select(df['method'], df['number'] + 1).show()"
   ]
  },
  {
   "cell_type": "code",
   "execution_count": 22,
   "metadata": {},
   "outputs": [
    {
     "name": "stdout",
     "output_type": "stream",
     "text": [
      "+--------------------+------+--------------+----+--------+----+\n",
      "|              method|number|orbital_period|mass|distance|year|\n",
      "+--------------------+------+--------------+----+--------+----+\n",
      "|     Radial Velocity|     1|        326.03|19.4|  110.62|2007|\n",
      "|     Radial Velocity|     1|        516.22|10.5|  119.47|2009|\n",
      "|             Imaging|     1|          null|null|   165.0|2007|\n",
      "|             Imaging|     1|          null|null|   140.0|2004|\n",
      "|             Imaging|     1|          null|null|   145.0|2013|\n",
      "|             Imaging|     1|          null|null|   139.0|2004|\n",
      "|Eclipse Timing Va...|     2|        5767.0|null|  130.72|2008|\n",
      "|Eclipse Timing Va...|     2|        3321.0|null|  130.72|2008|\n",
      "|Eclipse Timing Va...|     2|       5573.55|null|   500.0|2010|\n",
      "|Eclipse Timing Va...|     2|        2883.5|null|   500.0|2010|\n",
      "|             Imaging|     1|          null|null|   145.0|2008|\n",
      "|             Imaging|     1|          null|null|   140.0|2010|\n",
      "|     Radial Velocity|     1|        137.48|1.11|  175.44|2013|\n",
      "|             Transit|     1|     1.7429935|null|   200.0|2008|\n",
      "|             Transit|     1|        4.2568|null|   680.0|2008|\n",
      "|             Transit|     2|      0.853585|null|   150.0|2009|\n",
      "|     Radial Velocity|     2|         3.698|null|   150.0|2009|\n",
      "|             Transit|     1|       6.21229|null|   380.0|2010|\n",
      "|             Transit|     1|       95.2738|null|   460.0|2009|\n",
      "|             Transit|     1|       13.2406|null|   345.0|2010|\n",
      "+--------------------+------+--------------+----+--------+----+\n",
      "only showing top 20 rows\n",
      "\n"
     ]
    }
   ],
   "source": [
    "df.filter(df['distance'] > 100).show()"
   ]
  },
  {
   "cell_type": "code",
   "execution_count": 26,
   "metadata": {},
   "outputs": [
    {
     "name": "stdout",
     "output_type": "stream",
     "text": [
      "+--------------------+------------------+\n",
      "|              method|     sum(distance)|\n",
      "+--------------------+------------------+\n",
      "|Transit Timing Va...|            3313.0|\n",
      "|             Imaging|           2166.91|\n",
      "|             Transit|134242.77000000002|\n",
      "|Pulsation Timing ...|              null|\n",
      "|          Astrometry|             35.75|\n",
      "|        Microlensing|           41440.0|\n",
      "|       Pulsar Timing|            1200.0|\n",
      "|Orbital Brightnes...|            2360.0|\n",
      "|Eclipse Timing Va...|           1261.44|\n",
      "|     Radial Velocity| 27348.11000000001|\n",
      "+--------------------+------------------+\n",
      "\n"
     ]
    }
   ],
   "source": [
    "df.groupBy(\"method\").sum('distance').show()"
   ]
  },
  {
   "cell_type": "code",
   "execution_count": 30,
   "metadata": {},
   "outputs": [],
   "source": [
    "#queries sql \n",
    "#Registrar DataFrame as Temporary Table \n",
    "df.createOrReplaceTempView(\"table\")"
   ]
  },
  {
   "cell_type": "code",
   "execution_count": 72,
   "metadata": {},
   "outputs": [],
   "source": [
    "query = \"\"\"SELECT method AS Metodo, COUNT(year) AS Cantidad_Anos\n",
    "FROM table\n",
    "WHERE orbital_period IS NOT NULL\n",
    "GROUP BY method\n",
    "ORDER BY COUNT(year) DESC; \"\"\""
   ]
  },
  {
   "cell_type": "code",
   "execution_count": 73,
   "metadata": {},
   "outputs": [
    {
     "name": "stdout",
     "output_type": "stream",
     "text": [
      "+--------------------+-------------+\n",
      "|              Metodo|Cantidad_Anos|\n",
      "+--------------------+-------------+\n",
      "|     Radial Velocity|          553|\n",
      "|             Transit|          397|\n",
      "|             Imaging|           12|\n",
      "|Eclipse Timing Va...|            9|\n",
      "|        Microlensing|            7|\n",
      "|       Pulsar Timing|            5|\n",
      "|Transit Timing Va...|            3|\n",
      "|Orbital Brightnes...|            3|\n",
      "|          Astrometry|            2|\n",
      "|Pulsation Timing ...|            1|\n",
      "+--------------------+-------------+\n",
      "\n"
     ]
    }
   ],
   "source": [
    "spark.sql(query).show()"
   ]
  },
  {
   "cell_type": "code",
   "execution_count": 82,
   "metadata": {},
   "outputs": [],
   "source": [
    "query2 = \"\"\" SELECT method AS Metodo, AVG(distance) as Promedio_Distancia, SUM(distance) AS Suma_Distancia\n",
    "FROM TABLE \n",
    "WHERE orbital_period IS NOT NULL \n",
    "GROUP BY method\n",
    "HAVING AVG(distance) IS NOT NULL AND SUM(distance) IS NOT NULL\"\"\""
   ]
  },
  {
   "cell_type": "code",
   "execution_count": 85,
   "metadata": {},
   "outputs": [],
   "source": [
    " df2 = spark.sql(query2)"
   ]
  },
  {
   "cell_type": "code",
   "execution_count": 87,
   "metadata": {},
   "outputs": [],
   "source": [
    "df2 = df2.toPandas()"
   ]
  },
  {
   "cell_type": "code",
   "execution_count": 88,
   "metadata": {},
   "outputs": [
    {
     "data": {
      "text/html": [
       "<div>\n",
       "<style scoped>\n",
       "    .dataframe tbody tr th:only-of-type {\n",
       "        vertical-align: middle;\n",
       "    }\n",
       "\n",
       "    .dataframe tbody tr th {\n",
       "        vertical-align: top;\n",
       "    }\n",
       "\n",
       "    .dataframe thead th {\n",
       "        text-align: right;\n",
       "    }\n",
       "</style>\n",
       "<table border=\"1\" class=\"dataframe\">\n",
       "  <thead>\n",
       "    <tr style=\"text-align: right;\">\n",
       "      <th></th>\n",
       "      <th>Metodo</th>\n",
       "      <th>Promedio_Distancia</th>\n",
       "      <th>Suma_Distancia</th>\n",
       "    </tr>\n",
       "  </thead>\n",
       "  <tbody>\n",
       "    <tr>\n",
       "      <th>0</th>\n",
       "      <td>Transit Timing Variations</td>\n",
       "      <td>1104.333333</td>\n",
       "      <td>3313.00</td>\n",
       "    </tr>\n",
       "    <tr>\n",
       "      <th>1</th>\n",
       "      <td>Imaging</td>\n",
       "      <td>27.371000</td>\n",
       "      <td>273.71</td>\n",
       "    </tr>\n",
       "    <tr>\n",
       "      <th>2</th>\n",
       "      <td>Transit</td>\n",
       "      <td>599.298080</td>\n",
       "      <td>134242.77</td>\n",
       "    </tr>\n",
       "    <tr>\n",
       "      <th>3</th>\n",
       "      <td>Astrometry</td>\n",
       "      <td>17.875000</td>\n",
       "      <td>35.75</td>\n",
       "    </tr>\n",
       "    <tr>\n",
       "      <th>4</th>\n",
       "      <td>Pulsar Timing</td>\n",
       "      <td>1200.000000</td>\n",
       "      <td>1200.00</td>\n",
       "    </tr>\n",
       "    <tr>\n",
       "      <th>5</th>\n",
       "      <td>Orbital Brightness Modulation</td>\n",
       "      <td>1180.000000</td>\n",
       "      <td>2360.00</td>\n",
       "    </tr>\n",
       "    <tr>\n",
       "      <th>6</th>\n",
       "      <td>Eclipse Timing Variations</td>\n",
       "      <td>315.360000</td>\n",
       "      <td>1261.44</td>\n",
       "    </tr>\n",
       "    <tr>\n",
       "      <th>7</th>\n",
       "      <td>Radial Velocity</td>\n",
       "      <td>51.600208</td>\n",
       "      <td>27348.11</td>\n",
       "    </tr>\n",
       "  </tbody>\n",
       "</table>\n",
       "</div>"
      ],
      "text/plain": [
       "                          Metodo  Promedio_Distancia  Suma_Distancia\n",
       "0      Transit Timing Variations         1104.333333         3313.00\n",
       "1                        Imaging           27.371000          273.71\n",
       "2                        Transit          599.298080       134242.77\n",
       "3                     Astrometry           17.875000           35.75\n",
       "4                  Pulsar Timing         1200.000000         1200.00\n",
       "5  Orbital Brightness Modulation         1180.000000         2360.00\n",
       "6      Eclipse Timing Variations          315.360000         1261.44\n",
       "7                Radial Velocity           51.600208        27348.11"
      ]
     },
     "execution_count": 88,
     "metadata": {},
     "output_type": "execute_result"
    }
   ],
   "source": [
    "df2"
   ]
  },
  {
   "cell_type": "code",
   "execution_count": 89,
   "metadata": {},
   "outputs": [
    {
     "data": {
      "text/plain": [
       "pandas.core.frame.DataFrame"
      ]
     },
     "execution_count": 89,
     "metadata": {},
     "output_type": "execute_result"
    }
   ],
   "source": [
    "type(df2)"
   ]
  },
  {
   "cell_type": "markdown",
   "metadata": {},
   "source": [
    "* pyspark.sql.Columns: se pueden crear instancias de columna en DataFrame usando esta clase."
   ]
  },
  {
   "cell_type": "code",
   "execution_count": 111,
   "metadata": {},
   "outputs": [],
   "source": [
    "from pyspark.sql import *\n"
   ]
  },
  {
   "cell_type": "code",
   "execution_count": 112,
   "metadata": {},
   "outputs": [],
   "source": [
    "sqlContext.registerDataFrameAsTable(df, 'dataframe') #pseudo tabla que podemos usar despues para hacer queries"
   ]
  },
  {
   "cell_type": "code",
   "execution_count": 113,
   "metadata": {},
   "outputs": [
    {
     "data": {
      "text/plain": [
       "1"
      ]
     },
     "execution_count": 113,
     "metadata": {},
     "output_type": "execute_result"
    }
   ],
   "source": [
    "df.rdd.getNumPartitions() #para saber en cuantos trozos se ha partido la coleccion de datos. "
   ]
  },
  {
   "cell_type": "code",
   "execution_count": 114,
   "metadata": {},
   "outputs": [],
   "source": [
    "results = df.collect()"
   ]
  },
  {
   "cell_type": "code",
   "execution_count": 117,
   "metadata": {},
   "outputs": [
    {
     "name": "stdout",
     "output_type": "stream",
     "text": [
      "[Row(method='Radial Velocity', number=1, orbital_period=269.3, mass=7.1, distance=77.4, year=2006), Row(method='Radial Velocity', number=1, orbital_period=874.774, mass=2.21, distance=56.95, year=2008), Row(method='Radial Velocity', number=1, orbital_period=763.0, mass=2.6, distance=19.84, year=2011), Row(method='Radial Velocity', number=1, orbital_period=326.03, mass=19.4, distance=110.62, year=2007), Row(method='Radial Velocity', number=1, orbital_period=516.22, mass=10.5, distance=119.47, year=2009), Row(method='Radial Velocity', number=1, orbital_period=185.84, mass=4.8, distance=76.39, year=2008), Row(method='Radial Velocity', number=1, orbital_period=1773.4, mass=4.64, distance=18.15, year=2002), Row(method='Radial Velocity', number=1, orbital_period=798.5, mass=None, distance=21.41, year=1996), Row(method='Radial Velocity', number=1, orbital_period=993.3, mass=10.3, distance=73.1, year=2008), Row(method='Radial Velocity', number=2, orbital_period=452.8, mass=1.99, distance=74.79, year=2010), Row(method='Radial Velocity', number=2, orbital_period=883.0, mass=0.86, distance=74.79, year=2010), Row(method='Radial Velocity', number=1, orbital_period=335.1, mass=9.88, distance=39.43, year=2009), Row(method='Radial Velocity', number=1, orbital_period=479.1, mass=3.88, distance=97.28, year=2008), Row(method='Radial Velocity', number=3, orbital_period=1078.0, mass=2.53, distance=14.08, year=1996), Row(method='Radial Velocity', number=3, orbital_period=2391.0, mass=0.54, distance=14.08, year=2001), Row(method='Radial Velocity', number=3, orbital_period=14002.0, mass=1.64, distance=14.08, year=2009), Row(method='Radial Velocity', number=1, orbital_period=4.230785, mass=0.472, distance=15.36, year=1995), Row(method='Radial Velocity', number=5, orbital_period=14.651, mass=0.8, distance=12.53, year=1996), Row(method='Radial Velocity', number=5, orbital_period=44.38, mass=0.165, distance=12.53, year=2004), Row(method='Radial Velocity', number=5, orbital_period=4909.0, mass=3.53, distance=12.53, year=2002), Row(method='Radial Velocity', number=5, orbital_period=0.73654, mass=None, distance=12.53, year=2011), Row(method='Radial Velocity', number=5, orbital_period=261.2, mass=0.172, distance=12.53, year=2007), Row(method='Radial Velocity', number=3, orbital_period=4.215, mass=0.016, distance=8.52, year=2009), Row(method='Radial Velocity', number=3, orbital_period=38.021, mass=0.057, distance=8.52, year=2009), Row(method='Radial Velocity', number=3, orbital_period=123.01, mass=0.072, distance=8.52, year=2009), Row(method='Radial Velocity', number=1, orbital_period=116.6884, mass=None, distance=18.11, year=1996), Row(method='Radial Velocity', number=1, orbital_period=691.9, mass=None, distance=81.5, year=2012), Row(method='Radial Velocity', number=1, orbital_period=952.7, mass=5.3, distance=97.18, year=2008), Row(method='Radial Velocity', number=1, orbital_period=181.4, mass=3.2, distance=45.52, year=2013), Row(method='Imaging', number=1, orbital_period=None, mass=None, distance=45.52, year=2005), Row(method='Imaging', number=1, orbital_period=None, mass=None, distance=165.0, year=2007), Row(method='Imaging', number=1, orbital_period=None, mass=None, distance=140.0, year=2004), Row(method='Eclipse Timing Variations', number=1, orbital_period=10220.0, mass=6.05, distance=None, year=2009), Row(method='Imaging', number=1, orbital_period=None, mass=None, distance=None, year=2008), Row(method='Imaging', number=1, orbital_period=None, mass=None, distance=145.0, year=2013), Row(method='Imaging', number=1, orbital_period=None, mass=None, distance=139.0, year=2004), Row(method='Imaging', number=1, orbital_period=None, mass=None, distance=18.39, year=2006), Row(method='Eclipse Timing Variations', number=2, orbital_period=5767.0, mass=None, distance=130.72, year=2008), Row(method='Eclipse Timing Variations', number=2, orbital_period=3321.0, mass=None, distance=130.72, year=2008), Row(method='Eclipse Timing Variations', number=2, orbital_period=5573.55, mass=None, distance=500.0, year=2010), Row(method='Eclipse Timing Variations', number=2, orbital_period=2883.5, mass=None, distance=500.0, year=2010), Row(method='Eclipse Timing Variations', number=1, orbital_period=2900.0, mass=None, distance=None, year=2011), Row(method='Eclipse Timing Variations', number=1, orbital_period=4343.5, mass=4.2, distance=None, year=2012), Row(method='Eclipse Timing Variations', number=2, orbital_period=5840.0, mass=None, distance=None, year=2011), Row(method='Eclipse Timing Variations', number=2, orbital_period=1916.25, mass=None, distance=None, year=2011), Row(method='Radial Velocity', number=1, orbital_period=380.8, mass=1.8, distance=20.21, year=2010), Row(method='Radial Velocity', number=1, orbital_period=3.2357, mass=0.0036, distance=1.35, year=2012), Row(method='Imaging', number=1, orbital_period=6000.0, mass=None, distance=19.28, year=2008), Row(method='Radial Velocity', number=1, orbital_period=2502.0, mass=1.55, distance=3.22, year=2000), Row(method='Radial Velocity', number=1, orbital_period=417.9, mass=None, distance=70.42, year=2012), Row(method='Radial Velocity', number=1, orbital_period=594.9, mass=7.6, distance=47.53, year=2006), Row(method='Radial Velocity', number=1, orbital_period=428.5, mass=8.78, distance=38.52, year=2009), Row(method='Radial Velocity', number=1, orbital_period=903.3, mass=1.85, distance=13.79, year=2003), Row(method='Radial Velocity', number=1, orbital_period=1251.0, mass=None, distance=31.12, year=2007), Row(method='Imaging', number=1, orbital_period=None, mass=None, distance=52.03, year=2012), Row(method='Radial Velocity', number=1, orbital_period=136.75, mass=2.8, distance=62.66, year=2007), Row(method='Radial Velocity', number=2, orbital_period=530.32, mass=None, distance=46.84, year=2012), Row(method='Radial Velocity', number=2, orbital_period=3186.0, mass=None, distance=46.84, year=2012), Row(method='Radial Velocity', number=1, orbital_period=277.02, mass=1.7, distance=80.64, year=2013), Row(method='Radial Velocity', number=1, orbital_period=187.83, mass=None, distance=84.03, year=2012), Row(method='Radial Velocity', number=1, orbital_period=1630.0, mass=None, distance=56.31, year=2012), Row(method='Radial Velocity', number=1, orbital_period=39.845, mass=1.04, distance=17.43, year=1997), Row(method='Radial Velocity', number=1, orbital_period=3.3135, mass=3.9, distance=15.6, year=1996), Row(method='Radial Velocity', number=1, orbital_period=305.5, mass=20.6, distance=92.51, year=2013), Row(method='Radial Velocity', number=4, orbital_period=4.617033, mass=0.6876, distance=13.47, year=1996), Row(method='Radial Velocity', number=4, orbital_period=241.258, mass=1.981, distance=13.47, year=1999), Row(method='Radial Velocity', number=4, orbital_period=1276.46, mass=4.132, distance=13.47, year=1999), Row(method='Radial Velocity', number=4, orbital_period=3848.86, mass=1.059, distance=13.47, year=2010), Row(method='Imaging', number=1, orbital_period=318280.0, mass=None, distance=7.69, year=2008), Row(method='Imaging', number=1, orbital_period=None, mass=None, distance=145.0, year=2008), Row(method='Imaging', number=1, orbital_period=None, mass=None, distance=36.0, year=2013), Row(method='Imaging', number=1, orbital_period=None, mass=None, distance=140.0, year=2010), Row(method='Imaging', number=1, orbital_period=4639.15, mass=None, distance=12.21, year=2009), Row(method='Imaging', number=1, orbital_period=None, mass=None, distance=52.4, year=2004), Row(method='Imaging', number=1, orbital_period=7336.5, mass=None, distance=25.0, year=2009), Row(method='Imaging', number=1, orbital_period=8679.7, mass=None, distance=26.67, year=2009), Row(method='Radial Velocity', number=1, orbital_period=655.6, mass=5.1, distance=37.54, year=2008), Row(method='Radial Velocity', number=1, orbital_period=714.3, mass=10.6, distance=None, year=2007), Row(method='Radial Velocity', number=1, orbital_period=3.48777, mass=None, distance=80.0, year=2000), Row(method='Radial Velocity', number=2, orbital_period=5.6, mass=0.045, distance=42.09, year=2009), Row(method='Radial Velocity', number=2, orbital_period=237.6, mass=0.33, distance=42.09, year=2009), Row(method='Radial Velocity', number=2, orbital_period=3.8728, mass=0.027, distance=20.1, year=2013), Row(method='Radial Velocity', number=2, orbital_period=125.94, mass=0.17, distance=20.1, year=2013), Row(method='Radial Velocity', number=1, orbital_period=268.94, mass=1.47, distance=50.03, year=2009), Row(method='Radial Velocity', number=1, orbital_period=137.48, mass=1.11, distance=175.44, year=2013), Row(method='Radial Velocity', number=2, orbital_period=379.63, mass=21.42, distance=None, year=2009), Row(method='Radial Velocity', number=2, orbital_period=621.99, mass=12.47, distance=None, year=2009), Row(method='Radial Velocity', number=1, orbital_period=578.2, mass=None, distance=None, year=2012), Row(method='Radial Velocity', number=1, orbital_period=392.6, mass=0.91, distance=None, year=2011), Row(method='Imaging', number=1, orbital_period=10037.5, mass=None, distance=23.1, year=2011), Row(method='Imaging', number=1, orbital_period=None, mass=None, distance=None, year=2006), Row(method='Transit', number=1, orbital_period=1.5089557, mass=None, distance=None, year=2008), Row(method='Transit', number=1, orbital_period=1.7429935, mass=None, distance=200.0, year=2008), Row(method='Transit', number=1, orbital_period=4.2568, mass=None, distance=680.0, year=2008), Row(method='Transit', number=1, orbital_period=9.20205, mass=None, distance=None, year=2008), Row(method='Transit', number=1, orbital_period=4.0378962, mass=None, distance=None, year=2009), Row(method='Transit', number=1, orbital_period=8.886593, mass=None, distance=None, year=2009), Row(method='Transit', number=2, orbital_period=0.853585, mass=None, distance=150.0, year=2009), Row(method='Radial Velocity', number=2, orbital_period=3.698, mass=None, distance=150.0, year=2009), Row(method='Transit', number=1, orbital_period=6.21229, mass=None, distance=380.0, year=2010), Row(method='Transit', number=1, orbital_period=95.2738, mass=None, distance=460.0, year=2009), Row(method='Transit', number=1, orbital_period=13.2406, mass=None, distance=345.0, year=2010), Row(method='Transit', number=1, orbital_period=2.99433, mass=None, distance=560.0, year=2010), Row(method='Transit', number=1, orbital_period=2.828042, mass=None, distance=1150.0, year=2010), Row(method='Transit', number=1, orbital_period=4.03519, mass=None, distance=1060.0, year=2010), Row(method='Transit', number=1, orbital_period=1.51214, mass=None, distance=1340.0, year=2010), Row(method='Transit', number=1, orbital_period=5.35227, mass=None, distance=840.0, year=2011), Row(method='Transit', number=1, orbital_period=3.7681, mass=None, distance=920.0, year=2011), Row(method='Transit', number=1, orbital_period=1.9000693, mass=None, distance=870.0, year=2011), Row(method='Transit', number=1, orbital_period=3.89713, mass=None, distance=770.0, year=2011), Row(method='Transit', number=1, orbital_period=9.24285, mass=None, distance=1230.0, year=2011), Row(method='Transit', number=1, orbital_period=3.6313, mass=None, distance=600.0, year=2011), Row(method='Transit', number=1, orbital_period=3.57532, mass=None, distance=None, year=2014), Row(method='Astrometry', number=1, orbital_period=246.36, mass=None, distance=20.77, year=2013), Row(method='Radial Velocity', number=1, orbital_period=15.76491, mass=3.91, distance=10.91, year=1999), Row(method='Radial Velocity', number=3, orbital_period=8.631, mass=0.035, distance=14.97, year=2013), Row(method='Radial Velocity', number=3, orbital_period=25.6, mass=0.024, distance=14.97, year=2013), Row(method='Radial Velocity', number=3, orbital_period=603.0, mass=0.079, distance=14.97, year=2013), Row(method='Radial Velocity', number=1, orbital_period=2288.0, mass=0.82, distance=12.12, year=2009), Row(method='Radial Velocity', number=2, orbital_period=692.0, mass=1.894, distance=15.1, year=2007), Row(method='Radial Velocity', number=2, orbital_period=7100.0, mass=1.6, distance=15.1, year=2011), Row(method='Radial Velocity', number=1, orbital_period=4100.0, mass=2.3, distance=20.03, year=2013), Row(method='Radial Velocity', number=1, orbital_period=7.3709, mass=0.018, distance=9.04, year=2011), Row(method='Radial Velocity', number=1, orbital_period=2.64385, mass=None, distance=10.23, year=2004), Row(method='Imaging', number=1, orbital_period=None, mass=None, distance=17.95, year=2013), Row(method='Radial Velocity', number=4, orbital_period=5.36874, mass=0.049, distance=6.27, year=2005), Row(method='Radial Velocity', number=4, orbital_period=12.9292, mass=0.017, distance=6.27, year=2005), Row(method='Radial Velocity', number=4, orbital_period=66.8, mass=0.022, distance=6.27, year=2005), Row(method='Radial Velocity', number=4, orbital_period=3.14942, mass=0.006, distance=6.27, year=2005), Row(method='Radial Velocity', number=1, orbital_period=598.3, mass=0.328, distance=10.32, year=2009), Row(method='Radial Velocity', number=6, orbital_period=7.2004, mass=0.018, distance=6.8, year=2011), Row(method='Radial Velocity', number=6, orbital_period=28.14, mass=0.012, distance=6.8, year=2011), Row(method='Radial Velocity', number=6, orbital_period=91.61, mass=0.016, distance=6.8, year=2013), Row(method='Radial Velocity', number=6, orbital_period=62.24, mass=0.008, distance=6.8, year=2013), Row(method='Radial Velocity', number=6, orbital_period=39.026, mass=0.008, distance=6.8, year=2013), Row(method='Radial Velocity', number=6, orbital_period=256.2, mass=0.014, distance=6.8, year=2013), Row(method='Radial Velocity', number=1, orbital_period=4.6938, mass=0.035, distance=4.54, year=2007), Row(method='Radial Velocity', number=3, orbital_period=1050.3, mass=4.95, distance=16.13, year=2010), Row(method='Radial Velocity', number=3, orbital_period=3.6, mass=0.014, distance=16.13, year=2012), Row(method='Radial Velocity', number=3, orbital_period=35.37, mass=0.036, distance=16.13, year=2012), Row(method='Radial Velocity', number=1, orbital_period=3416.0, mass=0.64, distance=4.94, year=2008), Row(method='Radial Velocity', number=1, orbital_period=1845.0, mass=0.91, distance=8.77, year=2006), Row(method='Radial Velocity', number=4, orbital_period=61.1166, mass=2.2756, distance=4.7, year=1998), Row(method='Radial Velocity', number=4, orbital_period=30.0881, mass=0.7142, distance=4.7, year=2000), Row(method='Radial Velocity', number=4, orbital_period=1.93778, mass=0.021, distance=4.7, year=2005), Row(method='Radial Velocity', number=4, orbital_period=124.26, mass=0.046, distance=4.7, year=2010), Row(method='Transit', number=1, orbital_period=1.58040482, mass=None, distance=None, year=2009), Row(method='Radial Velocity', number=1, orbital_period=133.71, mass=3.37, distance=17.62, year=2000), Row(method='Radial Velocity', number=1, orbital_period=3.33714, mass=None, distance=25.2, year=2012), Row(method='Radial Velocity', number=1, orbital_period=2.64561, mass=0.022, distance=19.8, year=2010), Row(method='Imaging', number=1, orbital_period=None, mass=None, distance=145.0, year=2010), Row(method='Transit', number=1, orbital_period=4.4652934, mass=None, distance=139.0, year=2006), Row(method='Transit', number=1, orbital_period=5.6334729, mass=None, distance=135.32, year=2007), Row(method='Transit', number=1, orbital_period=2.899736, mass=None, distance=138.0, year=2007), Row(method='Transit', number=1, orbital_period=3.056536, mass=None, distance=314.0, year=2007), Row(method='Transit', number=1, orbital_period=2.788491, mass=None, distance=342.0, year=2007), Row(method='Transit', number=1, orbital_period=3.852985, mass=None, distance=261.0, year=2007), Row(method='Transit', number=1, orbital_period=3.0763776, mass=None, distance=230.0, year=2008), Row(method='Transit', number=1, orbital_period=3.92289, mass=None, distance=480.0, year=2008), Row(method='Transit', number=1, orbital_period=3.2130598, mass=None, distance=142.5, year=2009), Row(method='Transit', number=2, orbital_period=2.91626, mass=None, distance=214.0, year=2009), Row(method='Radial Velocity', number=2, orbital_period=428.5, mass=15.2, distance=214.0, year=2009), Row(method='Transit', number=1, orbital_period=4.627669, mass=None, distance=205.0, year=2010), Row(method='Transit', number=1, orbital_period=10.863502, mass=None, distance=190.0, year=2010), Row(method='Transit', number=1, orbital_period=2.77596, mass=None, distance=235.0, year=2010), Row(method='Transit', number=2, orbital_period=10.338523, mass=None, distance=90.0, year=2010), Row(method='Radial Velocity', number=2, orbital_period=5584.0, mass=3.4, distance=90.0, year=2010), Row(method='Transit', number=1, orbital_period=5.508023, mass=None, distance=166.0, year=2010), Row(method='Transit', number=1, orbital_period=4.008778, mass=None, distance=215.0, year=2010), Row(method='Transit', number=1, orbital_period=2.875317, mass=None, distance=70.0, year=2010), Row(method='Transit', number=1, orbital_period=4.124481, mass=None, distance=254.0, year=2010), Row(method='Transit', number=1, orbital_period=3.21222, mass=None, distance=82.0, year=2010), Row(method='Transit', number=1, orbital_period=1.212884, mass=None, distance=393.0, year=2010), Row(method='Transit', number=1, orbital_period=3.35524, mass=None, distance=396.0, year=2010), Row(method='Transit', number=1, orbital_period=3.652836, mass=None, distance=297.0, year=2010), Row(method='Transit', number=1, orbital_period=4.234516, mass=None, distance=134.0, year=2010), Row(method='Transit', number=1, orbital_period=3.039577, mass=None, distance=204.0, year=2011), Row(method='Transit', number=1, orbital_period=3.257215, mass=None, distance=395.0, year=2011), Row(method='Transit', number=1, orbital_period=5.723186, mass=None, distance=322.0, year=2011), Row(method='Transit', number=1, orbital_period=2.810595, mass=None, distance=193.0, year=2011), Row(method='Transit', number=2, orbital_period=5.005425, mass=None, distance=354.0, year=2011), Row(method='Radial Velocity', number=2, orbital_period=1022.0, mass=3.4, distance=354.0, year=2011), Row(method='Transit', number=1, orbital_period=2.150008, mass=None, distance=283.0, year=2011), Row(method='Transit', number=1, orbital_period=3.474474, mass=None, distance=387.0, year=2011), Row(method='Transit', number=1, orbital_period=5.452654, mass=None, distance=257.0, year=2011), Row(method='Transit', number=1, orbital_period=3.646706, mass=None, distance=535.0, year=2011), Row(method='Transit', number=1, orbital_period=1.327347, mass=None, distance=317.0, year=2011), Row(method='Transit', number=1, orbital_period=2.797436, mass=None, distance=411.0, year=2011), Row(method='Transit', number=1, orbital_period=4.640382, mass=None, distance=249.0, year=2012), Row(method='Transit', number=1, orbital_period=3.54387, mass=None, distance=642.0, year=2012), Row(method='Transit', number=1, orbital_period=4.457243, mass=None, distance=501.0, year=2012), Row(method='Transit', number=1, orbital_period=2.694047, mass=None, distance=344.0, year=2012), Row(method='Transit', number=1, orbital_period=4.641878, mass=None, distance=447.0, year=2012), Row(method='Transit', number=1, orbital_period=3.332687, mass=None, distance=542.0, year=2012), Row(method='Transit', number=1, orbital_period=2.691548, mass=None, distance=322.0, year=2014), Row(method='Transit', number=1, orbital_period=3.446459, mass=None, distance=303.0, year=2012), Row(method='Transit', number=1, orbital_period=1.354133, mass=None, distance=360.0, year=2013), Row(method='Transit', number=1, orbital_period=3.547851, mass=None, distance=453.0, year=2013), Row(method='Radial Velocity', number=2, orbital_period=349.7, mass=1.25, distance=25.64, year=2001), Row(method='Radial Velocity', number=2, orbital_period=6005.0, mass=5.3, distance=25.64, year=2012), Row(method='Radial Velocity', number=2, orbital_period=5.7727, mass=0.024, distance=23.44, year=2009), Row(method='Radial Velocity', number=2, orbital_period=13.505, mass=0.0186, distance=23.44, year=2011), Row(method='Radial Velocity', number=1, orbital_period=431.8, mass=3.1, distance=167.5, year=2011), Row(method='Radial Velocity', number=1, orbital_period=533.0, mass=6.1, distance=7.01, year=2010), Row(method='Radial Velocity', number=1, orbital_period=1183.0, mass=4.9, distance=89.85, year=2002), Row(method='Radial Velocity', number=1, orbital_period=3.4442, mass=0.48, distance=53.71, year=2005), Row(method='Radial Velocity', number=1, orbital_period=311.6, mass=1.6, distance=115.21, year=2013), Row(method='Radial Velocity', number=1, orbital_period=62.218, mass=0.229, distance=11.11, year=2003), Row(method='Radial Velocity', number=1, orbital_period=526.62, mass=1.56, distance=44.05, year=2007), Row(method='Radial Velocity', number=1, orbital_period=829.0, mass=0.8, distance=32.7, year=2001), Row(method='Radial Velocity', number=1, orbital_period=15.609, mass=0.0405, distance=21.85, year=2005), Row(method='Radial Velocity', number=1, orbital_period=431.88, mass=2.07, distance=77.82, year=2001), Row(method='Radial Velocity', number=1, orbital_period=356.0, mass=2.3, distance=131.41, year=2009), Row(method='Radial Velocity', number=2, orbital_period=360.2, mass=2.37, distance=56.5, year=2012), Row(method='Radial Velocity', number=2, orbital_period=2732.0, mass=2.37, distance=56.5, year=2012), Row(method='Radial Velocity', number=1, orbital_period=675.0, mass=1.94, distance=100.0, year=2007), Row(method='Radial Velocity', number=1, orbital_period=777.0, mass=1.96, distance=53.28, year=2009), Row(method='Radial Velocity', number=1, orbital_period=792.6, mass=None, distance=58.17, year=2012), Row(method='Radial Velocity', number=1, orbital_period=177.11, mass=7.6, distance=150.6, year=2011), Row(method='Radial Velocity', number=1, orbital_period=22.09, mass=0.48, distance=40.32, year=2003), Row(method='Radial Velocity', number=1, orbital_period=2496.0, mass=1.65, distance=55.01, year=2009), Row(method='Radial Velocity', number=1, orbital_period=615.0, mass=0.29, distance=35.88, year=2011), Row(method='Radial Velocity', number=2, orbital_period=1275.0, mass=1.11, distance=38.52, year=2011), Row(method='Radial Velocity', number=2, orbital_period=4046.0, mass=2.0, distance=38.52, year=2011), Row(method='Radial Velocity', number=1, orbital_period=5.3978, mass=0.029, distance=16.82, year=2008), Row(method='Radial Velocity', number=1, orbital_period=1313.0, mass=0.63, distance=56.34, year=2010), Row(method='Radial Velocity', number=1, orbital_period=227.0, mass=1.8, distance=44.15, year=2002), Row(method='Radial Velocity', number=1, orbital_period=1634.0, mass=14.2, distance=38.26, year=2009), Row(method='Radial Velocity', number=2, orbital_period=30.052, mass=0.7, distance=52.85, year=2009), Row(method='Radial Velocity', number=2, orbital_period=192.9, mass=1.82, distance=52.85, year=2009), Row(method='Radial Velocity', number=6, orbital_period=5.75962, mass=0.041, distance=39.39, year=2010), Row(method='Radial Velocity', number=6, orbital_period=16.3567, mass=0.038, distance=39.39, year=2010), Row(method='Radial Velocity', number=6, orbital_period=49.747, mass=0.08, distance=39.39, year=2010), Row(method='Radial Velocity', number=6, orbital_period=122.72, mass=0.074, distance=39.39, year=2010), Row(method='Radial Velocity', number=6, orbital_period=602.0, mass=0.067, distance=39.39, year=2010), Row(method='Radial Velocity', number=6, orbital_period=2248.0, mass=0.205, distance=39.39, year=2010), Row(method='Radial Velocity', number=1, orbital_period=989.2, mass=0.94, distance=17.35, year=2006), Row(method='Radial Velocity', number=1, orbital_period=1075.2, mass=6.21, distance=32.56, year=1999), Row(method='Radial Velocity', number=2, orbital_period=1270.2, mass=3.44, distance=53.82, year=2007), Row(method='Radial Velocity', number=2, orbital_period=170.455, mass=0.82, distance=53.82, year=2008), Row(method='Radial Velocity', number=1, orbital_period=711.0, mass=6.54, distance=66.49, year=2005), Row(method='Radial Velocity', number=2, orbital_period=1945.0, mass=0.622, distance=33.98, year=2005), Row(method='Radial Velocity', number=2, orbital_period=37.91, mass=0.0788, distance=33.98, year=2008), Row(method='Radial Velocity', number=2, orbital_period=262.709, mass=2.3, distance=37.16, year=2000), Row(method='Radial Velocity', number=2, orbital_period=1708.0, mass=1.92, distance=37.16, year=2002), Row(method='Radial Velocity', number=1, orbital_period=471.6, mass=14.0, distance=300.3, year=2005), Row(method='Radial Velocity', number=2, orbital_period=14.182, mass=0.0325, distance=28.6, year=2011), Row(method='Radial Velocity', number=2, orbital_period=53.832, mass=0.036, distance=28.6, year=2011), Row(method='Radial Velocity', number=2, orbital_period=19.382, mass=0.865, distance=66.89, year=2013), Row(method='Radial Velocity', number=2, orbital_period=931.0, mass=5.13, distance=66.89, year=2013), Row(method='Radial Velocity', number=1, orbital_period=4218.0, mass=1.88, distance=45.52, year=2009), Row(method='Radial Velocity', number=1, orbital_period=75.523, mass=0.26, distance=35.91, year=2000), Row(method='Radial Velocity', number=1, orbital_period=17.24, mass=0.0696, distance=25.54, year=2008), Row(method='Radial Velocity', number=1, orbital_period=990.0, mass=4.4, distance=59.84, year=2009), Row(method='Radial Velocity', number=1, orbital_period=465.1, mass=14.3, distance=50.18, year=2009), Row(method='Radial Velocity', number=1, orbital_period=359.9, mass=4.6, distance=None, year=2007), Row(method='Radial Velocity', number=1, orbital_period=21.21663, mass=None, distance=78.25, year=2007), Row(method='Radial Velocity', number=1, orbital_period=772.0, mass=2.7, distance=127.88, year=2011), Row(method='Radial Velocity', number=1, orbital_period=466.2, mass=1.37, distance=22.38, year=2003), Row(method='Radial Velocity', number=2, orbital_period=11.849, mass=0.0378, distance=43.08, year=2011), Row(method='Radial Velocity', number=2, orbital_period=33.823, mass=0.0422, distance=43.08, year=2011), Row(method='Radial Velocity', number=1, orbital_period=500.0, mass=1.07, distance=27.13, year=2002), Row(method='Radial Velocity', number=3, orbital_period=18.315, mass=0.0085, distance=6.06, year=2011), Row(method='Radial Velocity', number=3, orbital_period=40.114, mass=0.00755, distance=6.06, year=2011), Row(method='Radial Velocity', number=3, orbital_period=90.309, mass=0.0151, distance=6.06, year=2011), Row(method='Radial Velocity', number=2, orbital_period=29.15, mass=0.0379, distance=35.89, year=2011), Row(method='Radial Velocity', number=2, orbital_period=85.131, mass=0.0496, distance=35.89, year=2011), Row(method='Radial Velocity', number=1, orbital_period=591.9, mass=1.9, distance=36.02, year=2006), Row(method='Radial Velocity', number=1, orbital_period=380.85, mass=1.99, distance=44.5, year=2008), Row(method='Radial Velocity', number=2, orbital_period=22.656, mass=0.0322, distance=32.31, year=2011), Row(method='Radial Velocity', number=2, orbital_period=53.881, mass=0.06472, distance=32.31, year=2011), Row(method='Radial Velocity', number=1, orbital_period=1214.0, mass=1.5, distance=89.13, year=2006), Row(method='Radial Velocity', number=1, orbital_period=738.459, mass=2.61, distance=34.6, year=2001), Row(method='Radial Velocity', number=1, orbital_period=528.07, mass=13.65, distance=31.79, year=2011), Row(method='Radial Velocity', number=1, orbital_period=1561.0, mass=7.71, distance=51.97, year=2003), Row(method='Radial Velocity', number=1, orbital_period=3668.0, mass=4.01, distance=46.51, year=2006), Row(method='Radial Velocity', number=1, orbital_period=1845.0, mass=0.95, distance=56.05, year=2010), Row(method='Radial Velocity', number=1, orbital_period=423.841, mass=1.28, distance=18.24, year=2000), Row(method='Radial Velocity', number=1, orbital_period=2208.0, mass=1.45, distance=44.54, year=2012), Row(method='Radial Velocity', number=1, orbital_period=17.991, mass=0.62, distance=42.37, year=2005), Row(method='Radial Velocity', number=1, orbital_period=1117.0, mass=1.16, distance=56.18, year=2010), Row(method='Radial Velocity', number=1, orbital_period=385.9, mass=5.59, distance=39.56, year=2001), Row(method='Radial Velocity', number=1, orbital_period=387.1, mass=1.7, distance=168.92, year=2011), Row(method='Radial Velocity', number=1, orbital_period=2819.654, mass=9.17, distance=54.71, year=2002), Row(method='Radial Velocity', number=1, orbital_period=1159.2, mass=1.373, distance=26.5, year=2009), Row(method='Radial Velocity', number=1, orbital_period=912.0, mass=1.8, distance=121.07, year=2011), Row(method='Radial Velocity', number=1, orbital_period=466.0, mass=0.5, distance=53.82, year=2010), Row(method='Radial Velocity', number=3, orbital_period=16.546, mass=0.0363, distance=38.01, year=2011), Row(method='Radial Velocity', number=3, orbital_period=51.284, mass=0.0498, distance=38.01, year=2011), Row(method='Radial Velocity', number=3, orbital_period=274.49, mass=0.0519, distance=38.01, year=2011), Row(method='Radial Velocity', number=1, orbital_period=326.6, mass=1.3, distance=136.8, year=2011), Row(method='Radial Velocity', number=1, orbital_period=18.179, mass=0.33, distance=86.88, year=2006), Row(method='Radial Velocity', number=1, orbital_period=157.54, mass=3.04, distance=117.37, year=2009), Row(method='Radial Velocity', number=1, orbital_period=1049.0, mass=0.79, distance=45.01, year=2009), Row(method='Radial Velocity', number=1, orbital_period=388.0, mass=9.1, distance=20.98, year=2005), Row(method='Radial Velocity', number=1, orbital_period=363.2, mass=None, distance=37.78, year=2010), Row(method='Radial Velocity', number=3, orbital_period=154.46, mass=0.61, distance=33.24, year=2002), Row(method='Radial Velocity', number=3, orbital_period=2295.0, mass=0.683, distance=33.24, year=2002), Row(method='Radial Velocity', number=3, orbital_period=843.6, mass=0.624, distance=33.24, year=2005), Row(method='Radial Velocity', number=1, orbital_period=2063.818, mass=10.35, distance=18.21, year=2001), Row(method='Radial Velocity', number=2, orbital_period=55.0, mass=2.3, distance=42.88, year=2004), Row(method='Radial Velocity', number=2, orbital_period=2720.0, mass=3.366, distance=42.88, year=2012), Row(method='Radial Velocity', number=3, orbital_period=5.6363, mass=0.0117, distance=25.59, year=2011), Row(method='Radial Velocity', number=3, orbital_period=14.025, mass=0.0187, distance=25.59, year=2011), Row(method='Radial Velocity', number=3, orbital_period=33.941, mass=0.0162, distance=25.59, year=2011), Row(method='Radial Velocity', number=2, orbital_period=14.3098, mass=0.839, distance=42.43, year=2000), Row(method='Radial Velocity', number=2, orbital_period=2140.2, mass=13.38, distance=42.43, year=2000), Row(method='Radial Velocity', number=1, orbital_period=696.3, mass=10.7, distance=99.4, year=2009), Row(method='Radial Velocity', number=1, orbital_period=407.15, mass=0.0961, distance=15.56, year=2011), Row(method='Radial Velocity', number=6, orbital_period=4.3123, mass=0.0126, distance=12.83, year=2008), Row(method='Radial Velocity', number=6, orbital_period=9.6184, mass=0.0208, distance=12.83, year=2008), Row(method='Radial Velocity', number=6, orbital_period=20.432, mass=0.0299, distance=12.83, year=2008), Row(method='Radial Velocity', number=6, orbital_period=34.62, mass=0.011, distance=12.83, year=2012), Row(method='Radial Velocity', number=6, orbital_period=51.76, mass=0.0164, distance=12.83, year=2012), Row(method='Radial Velocity', number=6, orbital_period=197.8, mass=0.0223, distance=12.83, year=2012), Row(method='Radial Velocity', number=1, orbital_period=264.15, mass=4.01, distance=33.33, year=2002), Row(method='Radial Velocity', number=1, orbital_period=963.0, mass=2.54, distance=43.03, year=2004), Row(method='Radial Velocity', number=1, orbital_period=1.3283, mass=18.37, distance=43.03, year=2003), Row(method='Radial Velocity', number=2, orbital_period=18.357, mass=0.039, distance=52.03, year=2013), Row(method='Radial Velocity', number=2, orbital_period=25.648, mass=0.027, distance=52.03, year=2013), Row(method='Radial Velocity', number=1, orbital_period=327.8, mass=0.6, distance=54.94, year=2010), Row(method='Radial Velocity', number=1, orbital_period=2371.0, mass=25.0, distance=37.05, year=2008), Row(method='Radial Velocity', number=1, orbital_period=36.96, mass=2.49, distance=93.2, year=2007), Row(method='Radial Velocity', number=1, orbital_period=472.0, mass=0.58, distance=50.43, year=2010), Row(method='Radial Velocity', number=1, orbital_period=5.8872, mass=0.04, distance=22.04, year=2011), Row(method='Radial Velocity', number=2, orbital_period=226.93, mass=0.1872, distance=32.58, year=2008), Row(method='Radial Velocity', number=2, orbital_period=342.85, mass=0.6579, distance=32.58, year=2008), Row(method='Radial Velocity', number=1, orbital_period=890.76, mass=1.79, distance=48.95, year=2004), Row(method='Radial Velocity', number=1, orbital_period=43.6, mass=0.47, distance=36.14, year=2008), Row(method='Radial Velocity', number=1, orbital_period=3.024, mass=0.249, distance=33.41, year=2000), Row(method='Radial Velocity', number=2, orbital_period=4.0845, mass=0.07167000000000001, distance=37.84, year=2008), Row(method='Radial Velocity', number=2, orbital_period=1353.6, mass=0.35061, distance=37.84, year=2008), Row(method='Radial Velocity', number=2, orbital_period=430.0, mass=5.0, distance=121.36, year=2002), Row(method='Radial Velocity', number=2, orbital_period=2500.0, mass=7.0, distance=121.36, year=2008), Row(method='Radial Velocity', number=1, orbital_period=700.0, mass=1.16, distance=87.41, year=2008), Row(method='Radial Velocity', number=1, orbital_period=4.9437, mass=0.115, distance=40.73, year=2002), Row(method='Radial Velocity', number=1, orbital_period=2582.7, mass=1.71, distance=47.26, year=2005), Row(method='Radial Velocity', number=1, orbital_period=1279.0, mass=4.9, distance=31.03, year=2002), Row(method='Radial Velocity', number=2, orbital_period=14.07, mass=0.0413, distance=34.07, year=2011), Row(method='Radial Velocity', number=2, orbital_period=95.415, mass=0.0565, distance=34.07, year=2011), Row(method='Radial Velocity', number=1, orbital_period=118.96, mass=1.13, distance=28.07, year=2000), Row(method='Radial Velocity', number=1, orbital_period=303.0, mass=5.25, distance=92.51, year=2003), Row(method='Radial Velocity', number=2, orbital_period=201.83, mass=3.1548, distance=25.7, year=2008), Row(method='Radial Velocity', number=2, orbital_period=607.06, mass=7.4634, distance=25.7, year=2008), Row(method='Radial Velocity', number=1, orbital_period=2.817822, mass=0.38, distance=35.8, year=2005), Row(method='Radial Velocity', number=1, orbital_period=589.64, mass=2.9, distance=10.34, year=2006), Row(method='Radial Velocity', number=1, orbital_period=358.0, mass=0.64, distance=32.62, year=2009), Row(method='Radial Velocity', number=2, orbital_period=572.4, mass=1.26, distance=35.59, year=2003), Row(method='Radial Velocity', number=2, orbital_period=152.6, mass=0.17, distance=35.59, year=2011), Row(method='Radial Velocity', number=1, orbital_period=480.5, mass=6.0, distance=80.06, year=2012), Row(method='Radial Velocity', number=1, orbital_period=1973.0, mass=2.82, distance=55.04, year=2005), Row(method='Radial Velocity', number=1, orbital_period=6.276, mass=1.9, distance=58.82, year=2001), Row(method='Radial Velocity', number=3, orbital_period=8.667, mass=0.033, distance=12.58, year=2006), Row(method='Radial Velocity', number=3, orbital_period=31.56, mass=0.038, distance=12.58, year=2006), Row(method='Radial Velocity', number=3, orbital_period=197.0, mass=0.058, distance=12.58, year=2006), Row(method='Radial Velocity', number=1, orbital_period=851.8, mass=6.1, distance=None, year=2007), Row(method='Radial Velocity', number=1, orbital_period=2231.0, mass=2.0, distance=28.76, year=2003), Row(method='Radial Velocity', number=1, orbital_period=3383.0, mass=3.15, distance=51.36, year=2002), Row(method='Radial Velocity', number=1, orbital_period=1260.0, mass=3.06, distance=53.05, year=2008), Row(method='Radial Velocity', number=1, orbital_period=2.54858, mass=1.87, distance=36.52, year=2003), Row(method='Radial Velocity', number=2, orbital_period=188.9, mass=2.25, distance=94.61, year=2002), Row(method='Radial Velocity', number=2, orbital_period=379.1, mass=2.25, distance=94.61, year=2005), Row(method='Radial Velocity', number=1, orbital_period=1800.0, mass=1.15, distance=96.99, year=2008), Row(method='Radial Velocity', number=3, orbital_period=51.645, mass=1.8, distance=64.56, year=2003), Row(method='Radial Velocity', number=3, orbital_period=2473.0, mass=8.06, distance=64.56, year=2003), Row(method='Radial Velocity', number=3, orbital_period=346.6, mass=0.396, distance=64.56, year=2007), Row(method='Radial Velocity', number=1, orbital_period=3.51, mass=0.42, distance=28.94, year=1999), Row(method='Radial Velocity', number=1, orbital_period=418.2, mass=2.51, distance=80.58, year=2007), Row(method='Radial Velocity', number=1, orbital_period=3.971, mass=0.197, distance=59.7, year=2002), Row(method='Radial Velocity', number=1, orbital_period=5.7361, mass=None, distance=41.27, year=2012), Row(method='Radial Velocity', number=1, orbital_period=1966.1, mass=1.34, distance=48.64, year=2011), Row(method='Radial Velocity', number=1, orbital_period=111.4357, mass=None, distance=29.04, year=2001), Row(method='Radial Velocity', number=1, orbital_period=1001.7, mass=6.86, distance=32.56, year=2005), Row(method='Radial Velocity', number=1, orbital_period=184.02, mass=2.7, distance=88.26, year=2007), Row(method='Radial Velocity', number=2, orbital_period=441.47, mass=None, distance=27.46, year=2003), Row(method='Radial Velocity', number=2, orbital_period=220.078, mass=None, distance=27.46, year=2003), Row(method='Radial Velocity', number=1, orbital_period=705.0, mass=1.3, distance=112.23, year=2011), Row(method='Radial Velocity', number=1, orbital_period=2.985625, mass=0.4, distance=43.53, year=2002), Row(method='Radial Velocity', number=1, orbital_period=788.0, mass=0.132, distance=33.96, year=2009), Row(method='Radial Velocity', number=1, orbital_period=58.43, mass=0.01133, distance=11.15, year=2011), Row(method='Radial Velocity', number=1, orbital_period=2.1375, mass=1.5, distance=91.16, year=2006), Row(method='Radial Velocity', number=1, orbital_period=1695.0, mass=0.92, distance=42.48, year=2009), Row(method='Radial Velocity', number=1, orbital_period=1475.0, mass=7.0, distance=72.57, year=2009), Row(method='Radial Velocity', number=1, orbital_period=2754.0, mass=1.78, distance=18.06, year=2009), Row(method='Radial Velocity', number=1, orbital_period=3.416, mass=0.22, distance=74.46, year=2004), Row(method='Radial Velocity', number=1, orbital_period=2157.0, mass=1.78, distance=30.88, year=2009), Row(method='Radial Velocity', number=1, orbital_period=256.78, mass=8.44, distance=38.99, year=1999), Row(method='Radial Velocity', number=1, orbital_period=49.77, mass=0.057, distance=22.09, year=2009), Row(method='Radial Velocity', number=1, orbital_period=325.81, mass=3.86, distance=32.32, year=2000), Row(method='Radial Velocity', number=1, orbital_period=143.58, mass=0.37, distance=28.9, year=2005), Row(method='Radial Velocity', number=2, orbital_period=13.186, mass=0.0263, distance=42.52, year=2011), Row(method='Radial Velocity', number=2, orbital_period=46.025, mass=0.0318, distance=42.52, year=2011), Row(method='Imaging', number=1, orbital_period=None, mass=None, distance=91.57, year=2013), Row(method='Radial Velocity', number=1, orbital_period=507.0, mass=1.2, distance=149.03, year=2009), Row(method='Radial Velocity', number=1, orbital_period=361.1, mass=0.9, distance=132.8, year=2011), Row(method='Radial Velocity', number=1, orbital_period=498.9, mass=0.68, distance=84.03, year=2009), Row(method='Radial Velocity', number=1, orbital_period=647.3, mass=4.0, distance=221.24, year=2011), Row(method='Radial Velocity', number=2, orbital_period=8.1256, mass=0.0284, distance=26.21, year=2011), Row(method='Radial Velocity', number=2, orbital_period=103.49, mass=0.04, distance=26.21, year=2011), Row(method='Radial Velocity', number=1, orbital_period=9.494, mass=0.026, distance=21.3, year=2010), Row(method='Radial Velocity', number=1, orbital_period=436.9, mass=1.8, distance=150.38, year=2011), Row(method='Radial Velocity', number=1, orbital_period=4951.0, mass=6.8, distance=42.77, year=2012), Row(method='Radial Velocity', number=1, orbital_period=439.3, mass=0.502, distance=60.46, year=2005), Row(method='Radial Velocity', number=2, orbital_period=17.054, mass=0.087, distance=17.99, year=2004), Row(method='Radial Velocity', number=2, orbital_period=4970.0, mass=0.36, distance=17.99, year=2010), Row(method='Radial Velocity', number=1, orbital_period=868.0, mass=1.4, distance=130.89, year=2011), Row(method='Radial Velocity', number=1, orbital_period=157.57, mass=1.7, distance=140.85, year=2011), Row(method='Radial Velocity', number=1, orbital_period=383.7, mass=1.16, distance=52.8, year=2007), Row(method='Radial Velocity', number=1, orbital_period=70.46, mass=0.3, distance=30.5, year=2005), Row(method='Radial Velocity', number=1, orbital_period=20.8133, mass=0.172, distance=42.0, year=2005), Row(method='Radial Velocity', number=1, orbital_period=4.113775, mass=0.45, distance=28.98, year=2006), Row(method='Radial Velocity', number=2, orbital_period=127.58, mass=5.9, distance=164.2, year=2008), Row(method='Radial Velocity', number=2, orbital_period=520.0, mass=2.6, distance=164.2, year=2008), Row(method='Radial Velocity', number=1, orbital_period=122.1, mass=0.05, distance=9.24, year=2010), Row(method='Radial Velocity', number=1, orbital_period=778.1, mass=5.9, distance=138.5, year=2011), Row(method='Radial Velocity', number=1, orbital_period=6.495, mass=0.96, distance=121.07, year=2010), Row(method='Radial Velocity', number=1, orbital_period=47.84, mass=0.098, distance=49.33, year=2009), Row(method='Radial Velocity', number=1, orbital_period=5.8881, mass=0.367, distance=53.08, year=2013), Row(method='Radial Velocity', number=1, orbital_period=55.806, mass=0.186, distance=20.82, year=2009), Row(method='Radial Velocity', number=1, orbital_period=199.505, mass=8.3, distance=102.04, year=2003), Row(method='Radial Velocity', number=1, orbital_period=1531.0, mass=6.92, distance=37.44, year=2002), Row(method='Radial Velocity', number=1, orbital_period=2890.0, mass=11.0, distance=87.87, year=2011), Row(method='Radial Velocity', number=1, orbital_period=3630.0, mass=9.61, distance=36.36, year=2012), Row(method='Imaging', number=1, orbital_period=None, mass=None, distance=91.83, year=2013), Row(method='Radial Velocity', number=1, orbital_period=48.056, mass=0.21, distance=51.26, year=2005), Row(method='Radial Velocity', number=1, orbital_period=10.8985, mass=0.261, distance=38.56, year=2002), Row(method='Radial Velocity', number=1, orbital_period=443.4, mass=2.6, distance=138.5, year=2011), Row(method='Radial Velocity', number=2, orbital_period=395.8, mass=1.29, distance=68.54, year=2002), Row(method='Radial Velocity', number=2, orbital_period=1624.0, mass=0.99, distance=68.54, year=2005), Row(method='Radial Velocity', number=1, orbital_period=68.27, mass=0.77, distance=65.62, year=2010), Row(method='Radial Velocity', number=2, orbital_period=7.8543, mass=0.054, distance=56.92, year=2013), Row(method='Radial Velocity', number=2, orbital_period=30.93, mass=0.076, distance=56.92, year=2013), Row(method='Radial Velocity', number=1, orbital_period=5.24, mass=0.28, distance=59.03, year=2005), Row(method='Radial Velocity', number=1, orbital_period=835.477, mass=11.09, distance=97.66, year=2009), Row(method='Radial Velocity', number=1, orbital_period=1143.0, mass=6.8, distance=28.88, year=2003), Row(method='Radial Velocity', number=1, orbital_period=324.0, mass=2.83, distance=37.42, year=2013), Row(method='Radial Velocity', number=2, orbital_period=263.3, mass=0.27, distance=15.71, year=2010), Row(method='Radial Velocity', number=2, orbital_period=1657.0, mass=0.71, distance=15.71, year=2010), Row(method='Radial Velocity', number=2, orbital_period=937.7, mass=1.24, distance=28.04, year=2003), Row(method='Radial Velocity', number=2, orbital_period=1046.0, mass=None, distance=28.04, year=2011), Row(method='Radial Velocity', number=1, orbital_period=3827.0, mass=0.48, distance=20.48, year=2014), Row(method='Radial Velocity', number=1, orbital_period=83.888, mass=11.68, distance=40.57, year=1989), Row(method='Radial Velocity', number=1, orbital_period=493.7, mass=1.1, distance=20.43, year=2001), Row(method='Radial Velocity', number=1, orbital_period=1114.0, mass=0.95, distance=35.0, year=2002), Row(method='Radial Velocity', number=1, orbital_period=670.0, mass=2.1, distance=110.62, year=2011), Row(method='Radial Velocity', number=1, orbital_period=2597.0, mass=1.88, distance=33.01, year=2004), Row(method='Radial Velocity', number=1, orbital_period=25.827, mass=0.178, distance=38.02, year=2004), Row(method='Radial Velocity', number=1, orbital_period=6.1335, mass=2.13, distance=88.57, year=2005), Row(method='Radial Velocity', number=1, orbital_period=2082.0, mass=4.5, distance=97.66, year=2013), Row(method='Radial Velocity', number=1, orbital_period=63.33, mass=1.22, distance=44.37, year=2003), Row(method='Radial Velocity', number=1, orbital_period=344.95, mass=3.71, distance=133.16, year=2003), Row(method='Radial Velocity', number=3, orbital_period=559.4, mass=3.0, distance=52.83, year=2007), Row(method='Radial Velocity', number=3, orbital_period=4.1547, mass=0.058, distance=52.83, year=2009), Row(method='Radial Velocity', number=3, orbital_period=3008.0, mass=7.2, distance=52.83, year=2009), Row(method='Radial Velocity', number=1, orbital_period=9.6737, mass=0.041, distance=27.45, year=2009), Row(method='Radial Velocity', number=1, orbital_period=1244.0, mass=0.38, distance=68.35, year=2009), Row(method='Radial Velocity', number=1, orbital_period=948.12, mass=0.224, distance=38.05, year=2011), Row(method='Radial Velocity', number=2, orbital_period=454.2, mass=1.45, distance=16.57, year=2002), Row(method='Radial Velocity', number=2, orbital_period=923.8, mass=3.24, distance=16.57, year=2005), Row(method='Radial Velocity', number=1, orbital_period=1840.0, mass=1.6, distance=67.61, year=2009), Row(method='Radial Velocity', number=1, orbital_period=10.7085, mass=1.04, distance=29.76, year=1999), Row(method='Radial Velocity', number=1, orbital_period=883.0, mass=2.2, distance=121.36, year=2011), Row(method='Radial Velocity', number=1, orbital_period=1951.0, mass=18.15, distance=57.21, year=2008), Row(method='Radial Velocity', number=1, orbital_period=974.0, mass=5.61, distance=70.97, year=2007), Row(method='Radial Velocity', number=1, orbital_period=1544.0, mass=1.49, distance=98.52, year=2011), Row(method='Radial Velocity', number=2, orbital_period=3.27, mass=0.0351, distance=24.15, year=2011), Row(method='Radial Velocity', number=2, orbital_period=1160.9, mass=0.1507, distance=24.15, year=2011), Row(method='Radial Velocity', number=2, orbital_period=258.19, mass=1.59, distance=25.65, year=1999), Row(method='Radial Velocity', number=2, orbital_period=5000.0, mass=0.82, distance=25.65, year=2009), Row(method='Radial Velocity', number=3, orbital_period=12.083, mass=0.0292, distance=26.91, year=2011), Row(method='Radial Velocity', number=3, orbital_period=59.519, mass=0.0382, distance=26.91, year=2011), Row(method='Radial Velocity', number=3, orbital_period=459.26, mass=0.121, distance=26.91, year=2011), Row(method='Radial Velocity', number=1, orbital_period=464.3, mass=2.0, distance=106.38, year=2009), Row(method='Radial Velocity', number=3, orbital_period=11.577, mass=0.0166, distance=14.56, year=2011), Row(method='Radial Velocity', number=3, orbital_period=27.582, mass=0.0358, distance=14.56, year=2011), Row(method='Radial Velocity', number=3, orbital_period=106.72, mass=0.03, distance=14.56, year=2011), Row(method='Radial Velocity', number=1, orbital_period=330.0, mass=0.223, distance=38.45, year=2011), Row(method='Radial Velocity', number=1, orbital_period=1125.7, mass=9.76, distance=121.36, year=2008), Row(method='Radial Velocity', number=1, orbital_period=653.22, mass=9.7, distance=33.46, year=2002), Row(method='Radial Velocity', number=1, orbital_period=1928.0, mass=5.1, distance=35.87, year=2005), Row(method='Radial Velocity', number=1, orbital_period=1299.0, mass=1.9, distance=106.38, year=2011), Row(method='Radial Velocity', number=1, orbital_period=386.3, mass=1.62, distance=34.57, year=2003), Row(method='Radial Velocity', number=1, orbital_period=1057.0, mass=3.12, distance=59.35, year=2008), Row(method='Radial Velocity', number=1, orbital_period=176.3, mass=2.9, distance=126.1, year=2010), Row(method='Radial Velocity', number=1, orbital_period=103.95, mass=5.76, distance=55.19, year=2008), Row(method='Radial Velocity', number=2, orbital_period=44.236, mass=2.12, distance=42.68, year=2009), Row(method='Radial Velocity', number=2, orbital_period=1008.0, mass=6.56, distance=42.68, year=2009), Row(method='Radial Velocity', number=1, orbital_period=528.4, mass=1.21, distance=12.87, year=2003), Row(method='Radial Velocity', number=1, orbital_period=1027.0, mass=0.85, distance=53.05, year=2009), Row(method='Radial Velocity', number=1, orbital_period=331.5, mass=0.96, distance=59.28, year=2009), Row(method='Radial Velocity', number=1, orbital_period=2.8758911, mass=None, distance=78.86, year=2005), Row(method='Radial Velocity', number=1, orbital_period=4.072, mass=1.33, distance=63.49, year=2005), Row(method='Radial Velocity', number=1, orbital_period=2.391, mass=15.5, distance=76.51, year=2009), Row(method='Radial Velocity', number=1, orbital_period=1096.2, mass=0.168, distance=29.55, year=2011), Row(method='Radial Velocity', number=1, orbital_period=2097.0, mass=3.0, distance=85.18, year=2009), Row(method='Radial Velocity', number=1, orbital_period=689.0, mass=1.5, distance=182.82, year=2011), Row(method='Radial Velocity', number=1, orbital_period=499.4, mass=2.73, distance=51.87, year=2008), Row(method='Radial Velocity', number=1, orbital_period=18.596, mass=0.0193, distance=18.08, year=2011), Row(method='Radial Velocity', number=1, orbital_period=3342.0, mass=0.947, distance=18.06, year=2006), Row(method='Radial Velocity', number=1, orbital_period=163.9, mass=5.02, distance=65.79, year=2008), Row(method='Radial Velocity', number=2, orbital_period=408.6, mass=2.24, distance=68.54, year=2004), Row(method='Radial Velocity', number=2, orbital_period=3452.0, mass=2.58, distance=68.54, year=2014), Row(method='Radial Velocity', number=2, orbital_period=194.3, mass=0.85, distance=43.4, year=2007), Row(method='Radial Velocity', number=2, orbital_period=391.9, mass=0.82, distance=43.4, year=2007), Row(method='Radial Velocity', number=1, orbital_period=131.05, mass=9.71, distance=35.37, year=2011), Row(method='Radial Velocity', number=1, orbital_period=842.0, mass=0.75, distance=55.1, year=2009), Row(method='Radial Velocity', number=1, orbital_period=4.6455, mass=0.013, distance=24.05, year=2010), Row(method='Radial Velocity', number=1, orbital_period=359.5546, mass=10.57, distance=49.0, year=2007), Row(method='Radial Velocity', number=1, orbital_period=104.84, mass=0.12, distance=33.48, year=2011), Row(method='Radial Velocity', number=1, orbital_period=521.0, mass=1.8, distance=114.15, year=2011), Row(method='Radial Velocity', number=2, orbital_period=12.62, mass=1.13, distance=68.59, year=2013), Row(method='Radial Velocity', number=2, orbital_period=248.4, mass=1.9, distance=68.59, year=2013), Row(method='Radial Velocity', number=2, orbital_period=1178.4, mass=2.1, distance=52.72, year=2006), Row(method='Radial Velocity', number=2, orbital_period=352.3, mass=0.73, distance=52.72, year=2012), Row(method='Radial Velocity', number=4, orbital_period=643.25, mass=None, distance=15.28, year=2000), Row(method='Radial Velocity', number=4, orbital_period=4205.8, mass=1.814, distance=15.28, year=2004), Row(method='Radial Velocity', number=4, orbital_period=9.6386, mass=None, distance=15.28, year=2004), Row(method='Radial Velocity', number=4, orbital_period=310.55, mass=None, distance=15.28, year=2006), Row(method='Radial Velocity', number=1, orbital_period=8.428198, mass=14.4, distance=31.26, year=2002), Row(method='Radial Velocity', number=2, orbital_period=75.29, mass=0.77, distance=69.44, year=2010), Row(method='Radial Velocity', number=2, orbital_period=1314.0, mass=2.29, distance=69.44, year=2010), Row(method='Radial Velocity', number=1, orbital_period=282.4, mass=0.48, distance=51.81, year=2010), Row(method='Radial Velocity', number=1, orbital_period=606.4, mass=2.7, distance=37.98, year=2009), Row(method='Radial Velocity', number=1, orbital_period=1155.0, mass=0.36, distance=21.92, year=2005), Row(method='Radial Velocity', number=1, orbital_period=5144.0, mass=3.53, distance=42.99, year=2012), Row(method='Radial Velocity', number=1, orbital_period=420.77, mass=1.7, distance=50.0, year=2007), Row(method='Radial Velocity', number=2, orbital_period=58.11289, mass=8.02, distance=37.88, year=1998), Row(method='Radial Velocity', number=2, orbital_period=1749.5, mass=18.1, distance=37.88, year=2000), Row(method='Radial Velocity', number=1, orbital_period=6.403, mass=0.23, distance=43.12, year=2002), Row(method='Radial Velocity', number=2, orbital_period=225.62, mass=2.88, distance=36.32, year=2000), Row(method='Radial Velocity', number=2, orbital_period=2102.0, mass=4.04, distance=36.32, year=2003), Row(method='Radial Velocity', number=1, orbital_period=1145.0, mass=0.67, distance=64.98, year=2007), Row(method='Radial Velocity', number=1, orbital_period=538.0, mass=1.83, distance=None, year=2007), Row(method='Radial Velocity', number=1, orbital_period=1523.0, mass=2.6, distance=44.05, year=2009), Row(method='Radial Velocity', number=1, orbital_period=323.6, mass=2.7, distance=134.95, year=2008), Row(method='Radial Velocity', number=1, orbital_period=1290.0, mass=7.8, distance=67.02, year=2009), Row(method='Radial Velocity', number=1, orbital_period=297.3, mass=0.61, distance=127.55, year=2007), Row(method='Astrometry', number=1, orbital_period=1016.0, mass=None, distance=14.98, year=2010), Row(method='Radial Velocity', number=2, orbital_period=406.6, mass=1.49, distance=59.03, year=1999), Row(method='Radial Velocity', number=2, orbital_period=110.9, mass=0.15, distance=59.03, year=2010), Row(method='Radial Velocity', number=1, orbital_period=71.484, mass=7.03, distance=46.73, year=2001), Row(method='Radial Velocity', number=1, orbital_period=14.476, mass=0.08, distance=63.69, year=2008), Row(method='Radial Velocity', number=1, orbital_period=3.0925, mass=0.95, distance=27.05, year=2000), Row(method='Radial Velocity', number=1, orbital_period=396.03, mass=None, distance=131.75, year=2010), Row(method='Radial Velocity', number=1, orbital_period=479.0, mass=1.6, distance=114.55, year=2009), Row(method='Radial Velocity', number=1, orbital_period=663.0, mass=3.3, distance=115.47, year=2009), Row(method='Radial Velocity', number=3, orbital_period=9.3743, mass=0.0238, distance=26.15, year=2008), Row(method='Radial Velocity', number=3, orbital_period=962.0, mass=0.64, distance=26.15, year=2008), Row(method='Radial Velocity', number=3, orbital_period=2172.0, mass=0.54, distance=26.15, year=2008), Row(method='Radial Velocity', number=1, orbital_period=956.0, mass=0.37, distance=55.93, year=2009), Row(method='Radial Velocity', number=2, orbital_period=634.23, mass=3.69, distance=52.83, year=2004), Row(method='Radial Velocity', number=2, orbital_period=2950.0, mass=3.82, distance=52.83, year=2008), Row(method='Radial Velocity', number=1, orbital_period=6.838, mass=0.94, distance=47.37, year=2006), Row(method='Radial Velocity', number=1, orbital_period=986.0, mass=0.75, distance=44.98, year=2006), Row(method='Radial Velocity', number=2, orbital_period=3.097, mass=0.52, distance=47.92, year=1998), Row(method='Radial Velocity', number=2, orbital_period=3810.0, mass=1.99, distance=47.92, year=1999), Row(method='Radial Velocity', number=1, orbital_period=456.46, mass=1.26, distance=52.63, year=2004), Row(method='Radial Velocity', number=1, orbital_period=14.275, mass=0.0316, distance=17.72, year=2011), Row(method='Radial Velocity', number=1, orbital_period=2.21857578, mass=None, distance=19.25, year=2005), Row(method='Radial Velocity', number=1, orbital_period=1136.1, mass=5.93, distance=62.11, year=2002), Row(method='Radial Velocity', number=2, orbital_period=2891.0, mass=1.502, distance=15.89, year=2003), Row(method='Radial Velocity', number=2, orbital_period=17.1, mass=0.057, distance=15.89, year=2005), Row(method='Radial Velocity', number=1, orbital_period=1038.1, mass=1.9, distance=54.23, year=2007), Row(method='Radial Velocity', number=1, orbital_period=4885.0, mass=3.1, distance=189.39, year=2009), Row(method='Radial Velocity', number=1, orbital_period=24.348, mass=0.72, distance=19.89, year=1999), Row(method='Radial Velocity', number=2, orbital_period=74.72, mass=0.05318, distance=8.82, year=2011), Row(method='Radial Velocity', number=2, orbital_period=525.8, mass=0.07552, distance=8.82, year=2011), Row(method='Radial Velocity', number=1, orbital_period=351.5, mass=2.5, distance=67.39, year=2007), Row(method='Radial Velocity', number=1, orbital_period=18.20163, mass=3.7, distance=37.35, year=1999), Row(method='Radial Velocity', number=1, orbital_period=1289.0, mass=3.0, distance=46.93, year=2002), Row(method='Radial Velocity', number=1, orbital_period=3638.0, mass=6.9, distance=43.57, year=2012), Row(method='Radial Velocity', number=1, orbital_period=1333.0, mass=2.58, distance=32.99, year=2007), Row(method='Radial Velocity', number=1, orbital_period=1035.7, mass=0.79, distance=32.83, year=2011), Row(method='Radial Velocity', number=2, orbital_period=613.8, mass=1.85, distance=68.35, year=2010), Row(method='Radial Velocity', number=2, orbital_period=825.0, mass=0.895, distance=68.35, year=2010), Row(method='Radial Velocity', number=2, orbital_period=255.87, mass=17.4, distance=46.34, year=2002), Row(method='Radial Velocity', number=2, orbital_period=1383.4, mass=2.44, distance=46.34, year=2004), Row(method='Imaging', number=1, orbital_period=None, mass=None, distance=40.85, year=2006), Row(method='Radial Velocity', number=3, orbital_period=1931.0, mass=4.05, distance=47.3, year=2009), Row(method='Radial Velocity', number=3, orbital_period=34.873, mass=0.054, distance=47.3, year=2011), Row(method='Radial Velocity', number=3, orbital_period=2831.6, mass=1.68, distance=47.3, year=2012), Row(method='Radial Velocity', number=1, orbital_period=1733.0, mass=0.266, distance=26.95, year=2011), Row(method='Radial Velocity', number=1, orbital_period=279.8, mass=1.37, distance=90.33, year=2008), Row(method='Radial Velocity', number=1, orbital_period=610.0, mass=2.2, distance=170.07, year=2009), Row(method='Radial Velocity', number=2, orbital_period=161.97, mass=None, distance=55.31, year=2012), Row(method='Radial Velocity', number=2, orbital_period=1155.7, mass=None, distance=55.31, year=2012), Row(method='Radial Velocity', number=1, orbital_period=123.0, mass=0.45, distance=43.99, year=2004), Row(method='Radial Velocity', number=1, orbital_period=875.5, mass=9.9, distance=352.11, year=2012), Row(method='Radial Velocity', number=1, orbital_period=3.52474859, mass=None, distance=47.08, year=1999), Row(method='Radial Velocity', number=1, orbital_period=442.1, mass=1.23, distance=21.29, year=1998), Row(method='Radial Velocity', number=1, orbital_period=354.8, mass=None, distance=55.93, year=2007), Row(method='Radial Velocity', number=1, orbital_period=2.245715, mass=0.45, distance=52.72, year=2005), Row(method='Radial Velocity', number=1, orbital_period=373.3, mass=2.3, distance=121.8, year=2009), Row(method='Radial Velocity', number=1, orbital_period=951.0, mass=4.5, distance=40.75, year=2001), Row(method='Radial Velocity', number=2, orbital_period=7.2825, mass=0.0087, distance=21.52, year=2011), Row(method='Radial Velocity', number=2, orbital_period=10.866, mass=0.0097, distance=21.52, year=2011), Row(method='Radial Velocity', number=2, orbital_period=191.99, mass=0.101, distance=38.64, year=2011), Row(method='Radial Velocity', number=2, orbital_period=2277.0, mass=0.246, distance=38.64, year=2011), Row(method='Radial Velocity', number=2, orbital_period=3.93, mass=0.017, distance=43.53, year=2009), Row(method='Radial Velocity', number=2, orbital_period=567.0, mass=0.33, distance=43.53, year=2009), Row(method='Radial Velocity', number=1, orbital_period=1311.0, mass=1.26, distance=33.29, year=2002), Row(method='Radial Velocity', number=1, orbital_period=1294.0, mass=2.1, distance=26.52, year=2002), Row(method='Radial Velocity', number=1, orbital_period=118.45, mass=0.65, distance=37.89, year=2003), Row(method='Radial Velocity', number=2, orbital_period=7.126816, mass=1.39, distance=19.72, year=1998), Row(method='Radial Velocity', number=2, orbital_period=4270.0, mass=2.6, distance=19.72, year=2005), Row(method='Radial Velocity', number=1, orbital_period=1319.0, mass=13.0, distance=54.92, year=2010), Row(method='Radial Velocity', number=1, orbital_period=225.7, mass=0.21, distance=29.94, year=2010), Row(method='Radial Velocity', number=1, orbital_period=5501.0, mass=10.39, distance=29.2, year=2012), Row(method='Radial Velocity', number=1, orbital_period=2093.3, mass=None, distance=None, year=2012), Row(method='Radial Velocity', number=1, orbital_period=3.8335, mass=0.06, distance=81.1, year=2007), Row(method='Radial Velocity', number=1, orbital_period=672.1, mass=11.1, distance=289.02, year=2012), Row(method='Radial Velocity', number=1, orbital_period=2209.0, mass=1.06, distance=45.23, year=2012), Row(method='Radial Velocity', number=1, orbital_period=3724.7, mass=1.45, distance=48.43, year=2011), Row(method='Radial Velocity', number=1, orbital_period=456.1, mass=3.09, distance=52.88, year=2007), Row(method='Radial Velocity', number=1, orbital_period=3999.0, mass=1.9, distance=50.45, year=2011), Row(method='Radial Velocity', number=1, orbital_period=572.38, mass=7.75, distance=41.95, year=1999), Row(method='Radial Velocity', number=1, orbital_period=26.73, mass=0.71, distance=94.07, year=2006), Row(method='Radial Velocity', number=1, orbital_period=141.6, mass=1.08, distance=108.46, year=2007), Row(method='Radial Velocity', number=1, orbital_period=192.0, mass=6.575, distance=None, year=2013), Row(method='Radial Velocity', number=1, orbital_period=501.75, mass=6.9, distance=None, year=2009), Row(method='Radial Velocity', number=1, orbital_period=745.7, mass=5.3, distance=307.69, year=2011), Row(method='Radial Velocity', number=1, orbital_period=2443.0, mass=2.54, distance=54.92, year=2009), Row(method='Radial Velocity', number=1, orbital_period=8.7836, mass=0.0265, distance=9.42, year=2008), Row(method='Radial Velocity', number=1, orbital_period=3.369, mass=0.76, distance=50.2, year=2004), Row(method='Radial Velocity', number=2, orbital_period=345.72, mass=1.42, distance=44.8, year=2009), Row(method='Radial Velocity', number=2, orbital_period=9017.8, mass=None, distance=44.8, year=2011), Row(method='Radial Velocity', number=1, orbital_period=57.0, mass=0.47, distance=23.8, year=2010), Row(method='Radial Velocity', number=1, orbital_period=16.2, mass=1.25, distance=223.21, year=2010), Row(method='Radial Velocity', number=3, orbital_period=6.673855, mass=3.88, distance=52.88, year=2005), Row(method='Radial Velocity', number=3, orbital_period=147.73, mass=1.28, distance=52.88, year=2006), Row(method='Radial Velocity', number=3, orbital_period=952.0, mass=0.57, distance=52.88, year=2009), Row(method='Radial Velocity', number=1, orbital_period=41.397, mass=0.298, distance=11.03, year=2010), Row(method='Radial Velocity', number=3, orbital_period=8.1352, mass=0.036, distance=25.87, year=2011), Row(method='Radial Velocity', number=3, orbital_period=32.03, mass=0.41, distance=25.87, year=2011), Row(method='Radial Velocity', number=3, orbital_period=431.7, mass=0.527, distance=25.87, year=2011), Row(method='Imaging', number=1, orbital_period=None, mass=None, distance=11.43, year=2010), Row(method='Radial Velocity', number=1, orbital_period=124.6, mass=9.18, distance=149.25, year=2013), Row(method='Radial Velocity', number=1, orbital_period=17337.5, mass=9.0, distance=23.98, year=2009), Row(method='Radial Velocity', number=1, orbital_period=511.098, mass=8.82, distance=31.33, year=2002), Row(method='Imaging', number=1, orbital_period=None, mass=None, distance=131.93, year=2010), Row(method='Radial Velocity', number=1, orbital_period=111.7, mass=2.1, distance=14.9, year=2009), Row(method='Radial Velocity', number=1, orbital_period=5.0505, mass=1.068, distance=44.46, year=2013), Row(method='Radial Velocity', number=1, orbital_period=311.288, mass=1.94, distance=17.24, year=1999), Row(method='Imaging', number=4, orbital_period=170000.0, mass=None, distance=39.94, year=2008), Row(method='Imaging', number=4, orbital_period=69000.0, mass=None, distance=39.94, year=2008), Row(method='Imaging', number=4, orbital_period=37000.0, mass=None, distance=39.94, year=2008), Row(method='Imaging', number=4, orbital_period=18000.0, mass=None, distance=39.94, year=2010), Row(method='Transit', number=1, orbital_period=1.217514, mass=None, distance=262.0, year=2012), Row(method='Transit', number=1, orbital_period=4.1137912, mass=None, distance=124.22, year=2012), Row(method='Transit', number=1, orbital_period=2.7033904, mass=1.47, distance=178.0, year=2013), Row(method='Transit', number=1, orbital_period=7.8457, mass=None, distance=222.0, year=2014), Row(method='Transit', number=1, orbital_period=2.47063, mass=None, distance=213.0, year=2006), Row(method='Transit', number=1, orbital_period=2.204737, mass=None, distance=320.0, year=2008), Row(method='Transit', number=1, orbital_period=4.8878162, mass=None, distance=38.0, year=2008), Row(method='Transit', number=1, orbital_period=3.21346, mass=None, distance=550.0, year=2009), Row(method='Transit', number=1, orbital_period=3.54846, mass=None, distance=None, year=2009), Row(method='Transit', number=1, orbital_period=3.234723, mass=None, distance=None, year=2009), Row(method='Transit', number=1, orbital_period=4.885525, mass=None, distance=None, year=2009), Row(method='Transit', number=1, orbital_period=3.52254, mass=None, distance=1330.0, year=2010), Row(method='Transit', number=3, orbital_period=19.24, mass=None, distance=650.0, year=2010), Row(method='Transit', number=3, orbital_period=38.91, mass=None, distance=650.0, year=2010), Row(method='Transit', number=3, orbital_period=1.592851, mass=None, distance=650.0, year=2010), Row(method='Transit', number=2, orbital_period=0.837495, mass=None, distance=173.0, year=2011), Row(method='Transit', number=2, orbital_period=45.29485, mass=None, distance=173.0, year=2011), Row(method='Transit', number=6, orbital_period=10.3039, mass=None, distance=613.0, year=2010), Row(method='Transit', number=6, orbital_period=13.0241, mass=None, distance=613.0, year=2010), Row(method='Transit', number=6, orbital_period=22.6845, mass=None, distance=613.0, year=2010), Row(method='Transit', number=6, orbital_period=31.9996, mass=None, distance=613.0, year=2010), Row(method='Transit', number=6, orbital_period=46.6888, mass=None, distance=613.0, year=2010), Row(method='Transit', number=6, orbital_period=118.3807, mass=None, distance=613.0, year=2010), Row(method='Transit', number=1, orbital_period=4.4379637, mass=None, distance=600.0, year=2011), Row(method='Transit', number=1, orbital_period=1.7635892, mass=None, distance=None, year=2011), Row(method='Transit', number=1, orbital_period=6.790123, mass=None, distance=980.0, year=2011), Row(method='Transit', number=1, orbital_period=4.942782, mass=None, distance=None, year=2011), Row(method='Transit', number=1, orbital_period=228.776, mass=None, distance=61.0, year=2011), Row(method='Transit', number=1, orbital_period=1.4857108, mass=None, distance=800.0, year=2011), Row(method='Transit', number=3, orbital_period=3.504725, mass=None, distance=None, year=2011), Row(method='Transit', number=3, orbital_period=7.64159, mass=None, distance=None, year=2011), Row(method='Transit', number=3, orbital_period=14.85888, mass=None, distance=None, year=2011), Row(method='Transit', number=2, orbital_period=9.2869944, mass=None, distance=2119.0, year=2011), Row(method='Transit Timing Variations', number=2, orbital_period=160.0, mass=None, distance=2119.0, year=2011), Row(method='Transit', number=5, orbital_period=3.6961219, mass=None, distance=290.0, year=2011), Row(method='Transit', number=5, orbital_period=10.854092, mass=None, distance=290.0, year=2011), Row(method='Transit', number=5, orbital_period=77.61184, mass=None, distance=290.0, year=2011), Row(method='Transit', number=5, orbital_period=6.098493, mass=None, distance=290.0, year=2011), Row(method='Transit', number=5, orbital_period=19.57706, mass=None, distance=290.0, year=2011), Row(method='Transit', number=1, orbital_period=2.785755, mass=None, distance=108.0, year=2011), Row(method='Transit', number=1, orbital_period=289.8623, mass=None, distance=190.0, year=2011), Row(method='Transit', number=2, orbital_period=7.1073, mass=None, distance=800.0, year=2011), Row(method='Transit', number=2, orbital_period=10.7421, mass=None, distance=800.0, year=2011), Row(method='Transit', number=2, orbital_period=8.1453, mass=None, distance=1200.0, year=2011), Row(method='Transit', number=2, orbital_period=12.3335, mass=None, distance=1200.0, year=2011), Row(method='Transit', number=3, orbital_period=6.2385, mass=None, distance=None, year=2011), Row(method='Transit', number=3, orbital_period=12.7204, mass=None, distance=None, year=2011), Row(method='Radial Velocity', number=3, orbital_period=123.0, mass=None, distance=None, year=2014), Row(method='Transit', number=2, orbital_period=12.2829, mass=None, distance=None, year=2011), Row(method='Transit', number=2, orbital_period=17.2513, mass=None, distance=None, year=2011), Row(method='Transit', number=2, orbital_period=15.3348, mass=None, distance=None, year=2011), Row(method='Transit', number=2, orbital_period=31.3309, mass=None, distance=None, year=2011), Row(method='Transit', number=2, orbital_period=5.9123, mass=None, distance=None, year=2011), Row(method='Transit', number=2, orbital_period=8.9858, mass=None, distance=None, year=2011), Row(method='Transit', number=2, orbital_period=10.3376, mass=None, distance=1400.0, year=2011), Row(method='Transit', number=2, orbital_period=13.2907, mass=None, distance=1400.0, year=2011), Row(method='Transit', number=3, orbital_period=29.33434, mass=None, distance=1400.0, year=2012), Row(method='Transit', number=3, orbital_period=60.323105, mass=None, distance=1400.0, year=2012), Row(method='Transit', number=3, orbital_period=143.34394, mass=None, distance=1400.0, year=2012), Row(method='Transit', number=2, orbital_period=20.8613, mass=None, distance=2100.0, year=2011), Row(method='Transit', number=2, orbital_period=42.6318, mass=None, distance=2100.0, year=2011), Row(method='Transit', number=5, orbital_period=5.90124, mass=None, distance=303.0, year=2011), Row(method='Transit', number=5, orbital_period=8.7522, mass=None, distance=303.0, year=2011), Row(method='Transit', number=5, orbital_period=22.7802, mass=None, distance=303.0, year=2012), Row(method='Transit', number=5, orbital_period=2.896, mass=None, distance=303.0, year=2012), Row(method='Transit', number=5, orbital_period=0.74296, mass=None, distance=303.0, year=2012), Row(method='Transit', number=5, orbital_period=5.66793, mass=None, distance=None, year=2011), Row(method='Transit', number=5, orbital_period=13.17562, mass=None, distance=None, year=2011), Row(method='Transit', number=5, orbital_period=21.77596, mass=None, distance=None, year=2011), Row(method='Transit', number=5, orbital_period=31.7844, mass=None, distance=None, year=2011), Row(method='Transit', number=5, orbital_period=41.02902, mass=None, distance=None, year=2011), Row(method='Transit', number=1, orbital_period=288.822, mass=None, distance=1499.0, year=2011), Row(method='Transit', number=1, orbital_period=131.458, mass=None, distance=1645.0, year=2011), Row(method='Transit', number=2, orbital_period=13.83989, mass=None, distance=470.0, year=2012), Row(method='Transit', number=2, orbital_period=16.23855, mass=None, distance=470.0, year=2012), Row(method='Transit', number=3, orbital_period=13.367308, mass=None, distance=66.0, year=2013), Row(method='Transit', number=3, orbital_period=21.301886, mass=None, distance=66.0, year=2013), Row(method='Transit', number=3, orbital_period=39.792187, mass=None, distance=66.0, year=2013), Row(method='Transit', number=1, orbital_period=105.599, mass=None, distance=600.0, year=2012), Row(method='Transit', number=1, orbital_period=21.0874, mass=None, distance=1200.0, year=2011), Row(method='Transit', number=1, orbital_period=6.87349, mass=None, distance=2700.0, year=2010), Row(method='Transit', number=1, orbital_period=1.855558, mass=None, distance=770.0, year=2011), Row(method='Transit', number=3, orbital_period=1.2137672, mass=None, distance=38.7, year=2011), Row(method='Transit', number=3, orbital_period=0.45328509, mass=None, distance=38.7, year=2011), Row(method='Transit', number=3, orbital_period=1.865169, mass=None, distance=38.7, year=2011), Row(method='Transit', number=1, orbital_period=3.024095, mass=None, distance=1950.0, year=2011), Row(method='Transit', number=1, orbital_period=3.24674, mass=None, distance=2250.0, year=2011), Row(method='Transit', number=1, orbital_period=2.455239, mass=None, distance=333.0, year=2011), Row(method='Transit', number=2, orbital_period=33.60134, mass=None, distance=855.0, year=2012), Row(method='Transit Timing Variations', number=2, orbital_period=57.011, mass=None, distance=855.0, year=2012), Row(method='Transit', number=2, orbital_period=49.532, mass=None, distance=1500.0, year=2012), Row(method='Transit', number=2, orbital_period=303.137, mass=None, distance=1500.0, year=2012), Row(method='Transit', number=4, orbital_period=4.7779803, mass=None, distance=None, year=2012), Row(method='Transit', number=4, orbital_period=9.6739283, mass=None, distance=None, year=2012), Row(method='Transit', number=4, orbital_period=42.8961, mass=None, distance=None, year=2014), Row(method='Radial Velocity', number=4, orbital_period=982.0, mass=None, distance=None, year=2014), Row(method='Transit', number=2, orbital_period=7.2037945, mass=None, distance=None, year=2012), Row(method='Transit', number=2, orbital_period=10.9129343, mass=None, distance=None, year=2012), Row(method='Transit', number=2, orbital_period=7.81254, mass=None, distance=None, year=2012), Row(method='Transit', number=2, orbital_period=9.37647, mass=None, distance=None, year=2012), Row(method='Transit', number=3, orbital_period=45.154, mass=None, distance=None, year=2012), Row(method='Transit', number=3, orbital_period=85.312, mass=None, distance=None, year=2012), Row(method='Transit Timing Variations', number=3, orbital_period=None, mass=None, distance=None, year=2014), Row(method='Transit', number=2, orbital_period=7.8773565, mass=None, distance=None, year=2012), Row(method='Transit', number=2, orbital_period=16.3850021, mass=None, distance=None, year=2012), Row(method='Transit', number=2, orbital_period=18.6489525, mass=None, distance=None, year=2012), Row(method='Transit', number=2, orbital_period=38.5583038, mass=None, distance=None, year=2012), Row(method='Transit', number=2, orbital_period=8.0109434, mass=None, distance=None, year=2012), Row(method='Transit', number=2, orbital_period=12.0717249, mass=None, distance=None, year=2012), Row(method='Transit', number=2, orbital_period=27.9481449, mass=None, distance=None, year=2012), Row(method='Transit', number=2, orbital_period=42.1516418, mass=None, distance=None, year=2012), Row(method='Transit', number=2, orbital_period=10.5016, mass=None, distance=None, year=2012), Row(method='Transit', number=2, orbital_period=21.40239, mass=None, distance=None, year=2012), Row(method='Transit', number=2, orbital_period=5.7293196, mass=None, distance=None, year=2012), Row(method='Transit', number=2, orbital_period=11.6092567, mass=None, distance=None, year=2012), Row(method='Transit', number=2, orbital_period=10.2184954, mass=None, distance=None, year=2012), Row(method='Transit', number=2, orbital_period=15.5741568, mass=None, distance=None, year=2012), Row(method='Transit', number=2, orbital_period=11.8681707, mass=None, distance=None, year=2012), Row(method='Transit', number=2, orbital_period=17.9801235, mass=None, distance=None, year=2012), Row(method='Transit', number=3, orbital_period=7.1316185, mass=None, distance=None, year=2012), Row(method='Transit', number=3, orbital_period=8.9193459, mass=None, distance=None, year=2012), Row(method='Transit', number=3, orbital_period=11.9016171, mass=None, distance=None, year=2012), Row(method='Transit', number=1, orbital_period=59.87756, mass=None, distance=None, year=2013), Row(method='Transit', number=5, orbital_period=5.714932, mass=None, distance=368.0, year=2013), Row(method='Transit', number=5, orbital_period=12.4417, mass=None, distance=368.0, year=2013), Row(method='Transit', number=5, orbital_period=18.16406, mass=None, distance=368.0, year=2013), Row(method='Transit', number=5, orbital_period=122.3874, mass=None, distance=368.0, year=2013), Row(method='Transit', number=5, orbital_period=267.291, mass=None, distance=368.0, year=2013), Row(method='Transit', number=1, orbital_period=9.4341505, mass=None, distance=200.0, year=2013), Row(method='Transit', number=1, orbital_period=138.317, mass=None, distance=1000.0, year=2012), Row(method='Transit', number=3, orbital_period=2.15491, mass=None, distance=None, year=2012), Row(method='Transit', number=3, orbital_period=5.859944, mass=None, distance=None, year=2012), Row(method='Transit', number=3, orbital_period=8.13123, mass=None, distance=None, year=2012), Row(method='Transit', number=1, orbital_period=17.815815, mass=None, distance=1107.0, year=2013), Row(method='Transit', number=1, orbital_period=15.7259, mass=None, distance=1107.0, year=2013), Row(method='Transit', number=3, orbital_period=5.398763, mass=None, distance=135.0, year=2012), Row(method='Transit', number=3, orbital_period=9.605085, mass=None, distance=135.0, year=2012), Row(method='Radial Velocity', number=3, orbital_period=580.0, mass=0.947, distance=135.0, year=2012), Row(method='Transit', number=2, orbital_period=13.722341, mass=None, distance=None, year=2013), Row(method='Transit', number=2, orbital_period=242.4613, mass=None, distance=None, year=2013), Row(method='Orbital Brightness Modulation', number=2, orbital_period=0.240104, mass=None, distance=1180.0, year=2011), Row(method='Orbital Brightness Modulation', number=2, orbital_period=0.342887, mass=None, distance=1180.0, year=2011), Row(method='Transit', number=1, orbital_period=3.90512, mass=None, distance=800.0, year=2010), Row(method='Transit', number=1, orbital_period=7.340718, mass=None, distance=1330.0, year=2013), Row(method='Transit', number=1, orbital_period=8.884924, mass=None, distance=1140.0, year=2013), Row(method='Orbital Brightness Modulation', number=1, orbital_period=1.54492875, mass=None, distance=None, year=2013), Row(method='Transit', number=1, orbital_period=3.57878087, mass=None, distance=570.0, year=2013), Row(method='Transit', number=1, orbital_period=0.355, mass=None, distance=None, year=2013), Row(method='Transit', number=2, orbital_period=13.485, mass=None, distance=None, year=2012), Row(method='Transit', number=2, orbital_period=27.402, mass=None, distance=None, year=2012), Row(method='Transit', number=2, orbital_period=7.053, mass=None, distance=None, year=2012), Row(method='Transit', number=2, orbital_period=9.522, mass=None, distance=None, year=2012), Row(method='Transit', number=2, orbital_period=5.955, mass=None, distance=None, year=2012), Row(method='Transit', number=2, orbital_period=12.04, mass=None, distance=None, year=2012), Row(method='Transit', number=2, orbital_period=26.444, mass=None, distance=None, year=2012), Row(method='Transit', number=2, orbital_period=51.538, mass=None, distance=None, year=2012), Row(method='Transit', number=2, orbital_period=9.77, mass=None, distance=None, year=2012), Row(method='Transit', number=2, orbital_period=20.09, mass=None, distance=None, year=2012), Row(method='Transit', number=2, orbital_period=8.726, mass=None, distance=None, year=2012), Row(method='Transit', number=2, orbital_period=12.883, mass=None, distance=None, year=2012), Row(method='Transit', number=2, orbital_period=8.306, mass=None, distance=None, year=2012), Row(method='Transit', number=2, orbital_period=12.513, mass=None, distance=None, year=2012), Row(method='Transit', number=1, orbital_period=282.5255, mass=None, distance=None, year=2013), Row(method='Transit', number=2, orbital_period=114.73635, mass=None, distance=None, year=2013), Row(method='Transit', number=2, orbital_period=191.2318, mass=None, distance=None, year=2013), Row(method='Transit', number=2, orbital_period=10.95416, mass=None, distance=339.0, year=2013), Row(method='Transit Timing Variations', number=2, orbital_period=22.3395, mass=None, distance=339.0, year=2013), Row(method='Transit', number=4, orbital_period=3.743208, mass=None, distance=None, year=2013), Row(method='Transit', number=4, orbital_period=10.423648, mass=None, distance=None, year=2013), Row(method='Transit', number=4, orbital_period=22.342989, mass=None, distance=None, year=2013), Row(method='Transit', number=4, orbital_period=54.32031, mass=None, distance=None, year=2013), Row(method='Transit', number=7, orbital_period=7.008151, mass=None, distance=780.0, year=2013), Row(method='Transit', number=7, orbital_period=8.719375, mass=None, distance=780.0, year=2013), Row(method='Transit', number=7, orbital_period=59.73667, mass=None, distance=780.0, year=2013), Row(method='Transit', number=7, orbital_period=91.93913, mass=None, distance=780.0, year=2013), Row(method='Transit', number=7, orbital_period=124.9144, mass=None, distance=780.0, year=2013), Row(method='Transit', number=7, orbital_period=210.60697, mass=None, distance=780.0, year=2013), Row(method='Transit', number=7, orbital_period=331.60059, mass=None, distance=780.0, year=2013), Row(method='Transit', number=1, orbital_period=6.24658, mass=None, distance=1030.0, year=2013), Row(method='Transit', number=2, orbital_period=13.749, mass=None, distance=None, year=2013), Row(method='Transit', number=2, orbital_period=26.723, mass=None, distance=None, year=2013), Row(method='Transit', number=2, orbital_period=4.72674, mass=None, distance=None, year=2014), Row(method='Radial Velocity', number=2, orbital_period=1460.0, mass=None, distance=None, year=2014), Row(method='Transit', number=2, orbital_period=2.50806, mass=None, distance=None, year=2014), Row(method='Radial Velocity', number=2, orbital_period=820.3, mass=None, distance=None, year=2014), Row(method='Transit', number=1, orbital_period=11.5231, mass=None, distance=None, year=2014), Row(method='Transit', number=1, orbital_period=16.2385, mass=None, distance=None, year=2014), Row(method='Transit', number=2, orbital_period=2.58664, mass=None, distance=None, year=2014), Row(method='Radial Velocity', number=2, orbital_period=789.0, mass=None, distance=None, year=2014), Row(method='Transit', number=1, orbital_period=1.54168, mass=None, distance=None, year=2014), Row(method='Transit', number=1, orbital_period=4.60358, mass=None, distance=None, year=2014), Row(method='Transit', number=3, orbital_period=6.88705, mass=None, distance=None, year=2014), Row(method='Transit', number=3, orbital_period=12.8159, mass=None, distance=None, year=2014), Row(method='Transit', number=3, orbital_period=35.3331, mass=None, distance=None, year=2014), Row(method='Transit', number=5, orbital_period=5.28696, mass=None, distance=None, year=2014), Row(method='Transit', number=5, orbital_period=7.07142, mass=None, distance=None, year=2014), Row(method='Transit', number=5, orbital_period=10.3117, mass=None, distance=None, year=2014), Row(method='Transit', number=5, orbital_period=16.1457, mass=None, distance=None, year=2013), Row(method='Transit', number=5, orbital_period=27.4536, mass=None, distance=None, year=2014), Row(method='Transit', number=2, orbital_period=15.9654, mass=None, distance=None, year=2014), Row(method='Transit', number=2, orbital_period=179.612, mass=None, distance=None, year=2014), Row(method='Transit', number=2, orbital_period=5.4122, mass=None, distance=None, year=2013), Row(method='Transit', number=4, orbital_period=6.16486, mass=None, distance=None, year=2014), Row(method='Transit', number=4, orbital_period=13.5708, mass=None, distance=None, year=2014), Row(method='Transit', number=4, orbital_period=23.9802, mass=None, distance=None, year=2014), Row(method='Transit', number=4, orbital_period=43.8445, mass=None, distance=None, year=2014), Row(method='Transit', number=2, orbital_period=6.48163, mass=None, distance=None, year=2014), Row(method='Transit', number=2, orbital_period=21.2227, mass=None, distance=None, year=2014), Row(method='Transit', number=2, orbital_period=4.754, mass=None, distance=None, year=2014), Row(method='Transit', number=2, orbital_period=8.92507, mass=None, distance=None, year=2014), Row(method='Transit', number=2, orbital_period=8.041, mass=None, distance=None, year=2013), Row(method='Transit', number=2, orbital_period=11.776, mass=None, distance=None, year=2013), Row(method='Transit', number=2, orbital_period=15.09, mass=None, distance=None, year=2013), Row(method='Transit', number=2, orbital_period=22.804, mass=None, distance=None, year=2013), Row(method='Transit', number=3, orbital_period=27.50868, mass=None, distance=None, year=2013), Row(method='Transit', number=2, orbital_period=16.092, mass=None, distance=None, year=2014), Row(method='Transit', number=2, orbital_period=25.5169, mass=None, distance=None, year=2014), Row(method='Transit', number=2, orbital_period=13.78164, mass=None, distance=None, year=2014), Row(method='Transit', number=2, orbital_period=23.08933, mass=None, distance=None, year=2014), Row(method='Transit', number=2, orbital_period=22.951, mass=None, distance=None, year=2013), Row(method='Transit', number=2, orbital_period=42.882, mass=None, distance=None, year=2013), Row(method='Transit', number=2, orbital_period=36.855, mass=None, distance=None, year=2013), Row(method='Transit', number=2, orbital_period=49.412, mass=None, distance=None, year=2013), Row(method='Transit', number=2, orbital_period=23.654, mass=None, distance=None, year=2013), Row(method='Transit', number=2, orbital_period=50.447, mass=None, distance=None, year=2013), Row(method='Transit', number=2, orbital_period=31.884, mass=None, distance=None, year=2013), Row(method='Transit', number=2, orbital_period=48.648, mass=None, distance=None, year=2013), Row(method='Transit', number=2, orbital_period=17.324, mass=None, distance=None, year=2013), Row(method='Transit', number=2, orbital_period=33.006, mass=None, distance=None, year=2013), Row(method='Transit', number=2, orbital_period=35.736, mass=None, distance=None, year=2013), Row(method='Transit', number=2, orbital_period=54.414, mass=None, distance=None, year=2013), Row(method='Transit', number=2, orbital_period=24.806, mass=None, distance=None, year=2013), Row(method='Transit', number=2, orbital_period=44.347, mass=None, distance=None, year=2013), Row(method='Transit', number=2, orbital_period=5.487, mass=None, distance=None, year=2013), Row(method='Transit', number=2, orbital_period=8.291, mass=None, distance=None, year=2013), Row(method='Transit', number=2, orbital_period=10.416, mass=None, distance=None, year=2013), Row(method='Transit', number=2, orbital_period=13.084, mass=None, distance=None, year=2013), Row(method='Transit', number=2, orbital_period=34.921, mass=None, distance=None, year=2013), Row(method='Transit', number=2, orbital_period=71.312, mass=None, distance=None, year=2013), Row(method='Transit', number=2, orbital_period=17.849, mass=None, distance=None, year=2013), Row(method='Transit', number=2, orbital_period=26.136, mass=None, distance=None, year=2013), Row(method='Transit', number=2, orbital_period=42.994, mass=None, distance=None, year=2013), Row(method='Transit', number=2, orbital_period=88.505, mass=None, distance=None, year=2013), Row(method='Transit', number=2, orbital_period=2.42629, mass=None, distance=None, year=2014), Row(method='Transit', number=2, orbital_period=4.62332, mass=None, distance=None, year=2014), Row(method='Transit', number=2, orbital_period=0.66931, mass=None, distance=None, year=2014), Row(method='Radial Velocity', number=2, orbital_period=3000.0, mass=None, distance=None, year=2014), Row(method='Transit', number=1, orbital_period=2.46502, mass=None, distance=None, year=2014), Row(method='Transit', number=1, orbital_period=68.9584, mass=None, distance=None, year=2014), Row(method='Transit', number=1, orbital_period=17.833648, mass=None, distance=132.0, year=2013), Row(method='Transit', number=1, orbital_period=3.00516, mass=None, distance=None, year=2013), Row(method='Transit', number=1, orbital_period=1.72086123, mass=None, distance=1056.0, year=2014), Row(method='Transit', number=1, orbital_period=66.262, mass=None, distance=None, year=2014), Row(method='Imaging', number=1, orbital_period=40000.0, mass=None, distance=None, year=2011), Row(method='Transit', number=1, orbital_period=3.91405, mass=None, distance=2000.0, year=2007), Row(method='Microlensing', number=1, orbital_period=None, mass=None, distance=None, year=2008), Row(method='Microlensing', number=1, orbital_period=None, mass=None, distance=None, year=2008), Row(method='Microlensing', number=1, orbital_period=None, mass=None, distance=None, year=2009), Row(method='Microlensing', number=1, orbital_period=None, mass=None, distance=3600.0, year=2013), Row(method='Microlensing', number=1, orbital_period=2780.0, mass=None, distance=None, year=2011), Row(method='Microlensing', number=1, orbital_period=None, mass=None, distance=None, year=2010), Row(method='Microlensing', number=1, orbital_period=1970.0, mass=None, distance=None, year=2010), Row(method='Microlensing', number=1, orbital_period=None, mass=None, distance=2300.0, year=2012), Row(method='Microlensing', number=1, orbital_period=None, mass=None, distance=2800.0, year=2012), Row(method='Microlensing', number=1, orbital_period=None, mass=None, distance=7720.0, year=2012), Row(method='Microlensing', number=1, orbital_period=None, mass=None, distance=7560.0, year=2013), Row(method='Radial Velocity', number=1, orbital_period=677.8, mass=19.8, distance=None, year=2007), Row(method='Radial Velocity', number=1, orbital_period=6.958, mass=0.34, distance=None, year=2014), Row(method='Radial Velocity', number=1, orbital_period=5.118, mass=0.4, distance=None, year=2014), Row(method='Radial Velocity', number=1, orbital_period=121.71, mass=1.54, distance=None, year=2014), Row(method='Microlensing', number=1, orbital_period=None, mass=None, distance=None, year=2004), Row(method='Microlensing', number=1, orbital_period=3600.0, mass=None, distance=None, year=2005), Row(method='Microlensing', number=1, orbital_period=3300.0, mass=None, distance=None, year=2006), Row(method='Microlensing', number=1, orbital_period=3500.0, mass=None, distance=None, year=2005), Row(method='Microlensing', number=2, orbital_period=1825.0, mass=None, distance=None, year=2008), Row(method='Microlensing', number=2, orbital_period=5100.0, mass=None, distance=None, year=2008), Row(method='Microlensing', number=1, orbital_period=None, mass=None, distance=None, year=2009), Row(method='Microlensing', number=1, orbital_period=None, mass=None, distance=2570.0, year=2012), Row(method='Microlensing', number=2, orbital_period=None, mass=None, distance=4080.0, year=2012), Row(method='Microlensing', number=2, orbital_period=None, mass=None, distance=4080.0, year=2012), Row(method='Microlensing', number=1, orbital_period=None, mass=None, distance=1760.0, year=2013), Row(method='Microlensing', number=1, orbital_period=None, mass=None, distance=4970.0, year=2013), Row(method='Transit', number=1, orbital_period=2.4855335, mass=None, distance=None, year=2008), Row(method='Transit', number=1, orbital_period=3.101278, mass=None, distance=None, year=2004), Row(method='Transit', number=1, orbital_period=1.2119189, mass=None, distance=None, year=2002), Row(method='Transit', number=1, orbital_period=4.0161, mass=None, distance=None, year=2004), Row(method='Transit', number=1, orbital_period=1.4324752, mass=None, distance=600.0, year=2004), Row(method='Transit', number=1, orbital_period=1.689868, mass=None, distance=2500.0, year=2004), Row(method='Transit', number=1, orbital_period=3.9791, mass=None, distance=None, year=2007), Row(method='Transit', number=1, orbital_period=3.67724, mass=None, distance=None, year=2007), Row(method='Imaging', number=1, orbital_period=730000.0, mass=None, distance=None, year=2006), Row(method='Transit', number=1, orbital_period=3.1606296, mass=None, distance=1200.0, year=2013), Row(method='Radial Velocity', number=1, orbital_period=4.4264, mass=None, distance=None, year=2012), Row(method='Radial Velocity', number=1, orbital_period=2.1451, mass=None, distance=None, year=2012), Row(method='Pulsar Timing', number=3, orbital_period=25.262, mass=None, distance=None, year=1992), Row(method='Pulsar Timing', number=3, orbital_period=66.5419, mass=None, distance=None, year=1992), Row(method='Pulsar Timing', number=3, orbital_period=98.2114, mass=None, distance=None, year=1994), Row(method='Pulsar Timing', number=1, orbital_period=36525.0, mass=None, distance=None, year=2003), Row(method='Pulsar Timing', number=1, orbital_period=0.09070629, mass=None, distance=1200.0, year=2011), Row(method='Transit', number=1, orbital_period=1.420033, mass=None, distance=None, year=2010), Row(method='Transit', number=1, orbital_period=1.3371182, mass=None, distance=None, year=2011), Row(method='Imaging', number=1, orbital_period=None, mass=None, distance=135.0, year=2013), Row(method='Imaging', number=1, orbital_period=None, mass=None, distance=120.0, year=2013), Row(method='Imaging', number=1, orbital_period=None, mass=None, distance=None, year=2010), Row(method='Transit', number=1, orbital_period=4.2, mass=None, distance=8500.0, year=2006), Row(method='Transit', number=1, orbital_period=1.796, mass=None, distance=8500.0, year=2006), Row(method='Transit', number=1, orbital_period=3.030065, mass=None, distance=152.3, year=2004), Row(method='Transit', number=1, orbital_period=1.30618581, mass=None, distance=228.0, year=2007), Row(method='Transit', number=1, orbital_period=3.553945, mass=None, distance=492.0, year=2007), Row(method='Transit', number=1, orbital_period=1.4822446, mass=None, distance=360.0, year=2011), Row(method='Imaging', number=1, orbital_period=None, mass=None, distance=None, year=2008), Row(method='Pulsation Timing Variations', number=1, orbital_period=1170.0, mass=None, distance=None, year=2007), Row(method='Transit', number=1, orbital_period=2.5199449, mass=None, distance=408.0, year=2007), Row(method='Transit', number=1, orbital_period=2.152226, mass=None, distance=147.0, year=2007), Row(method='Transit', number=1, orbital_period=1.846835, mass=None, distance=220.0, year=2007), Row(method='Transit', number=1, orbital_period=1.33823187, mass=None, distance=300.0, year=2007), Row(method='Transit', number=1, orbital_period=1.62843142, mass=None, distance=300.0, year=2008), Row(method='Transit', number=1, orbital_period=3.361006, mass=None, distance=None, year=2009), Row(method='Transit', number=1, orbital_period=4.954658, mass=None, distance=140.0, year=2008), Row(method='Transit', number=1, orbital_period=8.158715, mass=None, distance=87.0, year=2010), Row(method='Transit', number=1, orbital_period=3.0927616, mass=None, distance=90.0, year=2008), Row(method='Transit', number=1, orbital_period=3.7224747, mass=None, distance=121.7, year=2008), Row(method='Transit', number=1, orbital_period=1.091423, mass=None, distance=None, year=2008), Row(method='Transit', number=1, orbital_period=4.353011, mass=None, distance=155.0, year=2009), Row(method='Transit', number=1, orbital_period=2.243752, mass=None, distance=160.0, year=2008), Row(method='Transit', number=1, orbital_period=3.7520656, mass=None, distance=None, year=2009), Row(method='Transit', number=1, orbital_period=3.1186009, mass=None, distance=None, year=2009), Row(method='Transit', number=1, orbital_period=3.7354417, mass=None, distance=400.0, year=2009), Row(method='Transit', number=1, orbital_period=0.94145299, mass=None, distance=105.49, year=2009), Row(method='Transit', number=1, orbital_period=0.78884, mass=None, distance=250.0, year=2009), Row(method='Transit', number=1, orbital_period=4.322482, mass=None, distance=242.0, year=2010), Row(method='Transit', number=1, orbital_period=3.5327313, mass=None, distance=300.0, year=2010), Row(method='Transit', number=1, orbital_period=2.9444256, mass=None, distance=None, year=2010), Row(method='Transit', number=1, orbital_period=2.34121242, mass=None, distance=None, year=2010), Row(method='Transit', number=1, orbital_period=3.764825, mass=None, distance=None, year=2010), Row(method='Transit', number=1, orbital_period=2.7566004, mass=None, distance=250.0, year=2010), Row(method='Transit', number=1, orbital_period=3.408821, mass=None, distance=None, year=2010), Row(method='Transit', number=1, orbital_period=3.922727, mass=None, distance=70.0, year=2010), Row(method='Transit', number=1, orbital_period=3.4059096, mass=None, distance=360.0, year=2010), Row(method='Transit', number=1, orbital_period=2.718659, mass=None, distance=None, year=2010), Row(method='Transit', number=1, orbital_period=1.2198669, mass=None, distance=116.14, year=2010), Row(method='Transit', number=1, orbital_period=4.3176782, mass=None, distance=120.0, year=2010), Row(method='Transit', number=1, orbital_period=3.161575, mass=None, distance=None, year=2011), Row(method='Transit', number=1, orbital_period=1.5373653, mass=None, distance=450.0, year=2011), Row(method='Transit', number=1, orbital_period=3.577469, mass=None, distance=343.0, year=2010), Row(method='Transit', number=1, orbital_period=6.871815, mass=None, distance=110.0, year=2010), Row(method='Transit', number=1, orbital_period=4.055259, mass=None, distance=230.0, year=2011), Row(method='Transit', number=1, orbital_period=3.052401, mass=None, distance=180.0, year=2010), Row(method='Transit', number=1, orbital_period=4.9816872, mass=None, distance=160.0, year=2012), Row(method='Transit', number=1, orbital_period=0.813475, mass=None, distance=80.0, year=2011), Row(method='Transit', number=1, orbital_period=2.4238039, mass=None, distance=None, year=2011), Row(method='Transit', number=1, orbital_period=3.1260876, mass=None, distance=None, year=2011), Row(method='Transit', number=1, orbital_period=1.43037, mass=None, distance=None, year=2011), Row(method='Transit', number=1, orbital_period=4.1591399, mass=None, distance=200.0, year=2012), Row(method='Transit', number=1, orbital_period=2.143634, mass=None, distance=None, year=2011), Row(method='Transit', number=1, orbital_period=2.7817387, mass=None, distance=170.0, year=2012), Row(method='Transit', number=1, orbital_period=1.9550959, mass=None, distance=230.0, year=2011), Row(method='Transit', number=1, orbital_period=1.7497798, mass=None, distance=140.0, year=2012), Row(method='Transit', number=1, orbital_period=3.6936411, mass=None, distance=200.0, year=2012), Row(method='Transit', number=1, orbital_period=4.465633, mass=None, distance=330.0, year=2012), Row(method='Transit', number=1, orbital_period=4.617101, mass=None, distance=255.0, year=2012), Row(method='Transit', number=1, orbital_period=2.838971, mass=None, distance=455.0, year=2012), Row(method='Transit', number=1, orbital_period=5.01718, mass=None, distance=300.0, year=2012), Row(method='Transit', number=1, orbital_period=7.919585, mass=None, distance=125.0, year=2012), Row(method='Transit', number=1, orbital_period=4.3050011, mass=None, distance=400.0, year=2012), Row(method='Transit', number=1, orbital_period=3.8559, mass=None, distance=480.0, year=2012), Row(method='Transit', number=1, orbital_period=4.411953, mass=None, distance=160.0, year=2012), Row(method='Transit', number=1, orbital_period=4.37809, mass=None, distance=330.0, year=2012), Row(method='Transit', number=1, orbital_period=1.5732918, mass=None, distance=350.0, year=2012), Row(method='Transit', number=1, orbital_period=2.3114243, mass=None, distance=310.0, year=2013), Row(method='Transit', number=1, orbital_period=4.086052, mass=None, distance=380.0, year=2012), Row(method='Transit', number=1, orbital_period=4.61442, mass=None, distance=225.0, year=2012), Row(method='Transit', number=1, orbital_period=2.9036747, mass=None, distance=345.0, year=2012), Row(method='Transit', number=1, orbital_period=2.2167421, mass=None, distance=340.0, year=2012), Row(method='Transit', number=1, orbital_period=2.484193, mass=None, distance=260.0, year=2013), Row(method='Transit', number=1, orbital_period=1.3600309, mass=None, distance=93.0, year=2012), Row(method='Transit', number=1, orbital_period=2.17517632, mass=None, distance=550.0, year=2012), Row(method='Transit', number=1, orbital_period=3.6623866, mass=None, distance=240.0, year=2012), Row(method='Transit', number=1, orbital_period=3.0678504, mass=None, distance=60.0, year=2012), Row(method='Transit', number=1, orbital_period=0.925542, mass=None, distance=470.0, year=2014), Row(method='Imaging', number=1, orbital_period=None, mass=None, distance=19.2, year=2011), Row(method='Transit', number=1, orbital_period=3.352057, mass=None, distance=3200.0, year=2012), Row(method='Imaging', number=1, orbital_period=None, mass=None, distance=10.1, year=2012), Row(method='Transit', number=1, orbital_period=3.94150685, mass=None, distance=172.0, year=2006), Row(method='Transit', number=1, orbital_period=2.615864, mass=None, distance=148.0, year=2007), Row(method='Transit', number=1, orbital_period=3.1915239, mass=None, distance=174.0, year=2007), Row(method='Transit', number=1, orbital_period=4.1250828, mass=None, distance=293.0, year=2008), Row(method='Transit', number=1, orbital_period=4.187757, mass=None, distance=260.0, year=2008)]\n"
     ]
    }
   ],
   "source": [
    "print(results) #tenemos los distintos campos del dataframe. "
   ]
  },
  {
   "cell_type": "code",
   "execution_count": 121,
   "metadata": {},
   "outputs": [
    {
     "name": "stdout",
     "output_type": "stream",
     "text": [
      "+---------------+------+--------------+-----+--------+----+\n",
      "|method         |number|orbital_period|mass |distance|year|\n",
      "+---------------+------+--------------+-----+--------+----+\n",
      "|Radial Velocity|1     |269.3         |7.1  |77.4    |2006|\n",
      "|Radial Velocity|1     |874.774       |2.21 |56.95   |2008|\n",
      "|Radial Velocity|1     |763.0         |2.6  |19.84   |2011|\n",
      "|Radial Velocity|1     |326.03        |19.4 |110.62  |2007|\n",
      "|Radial Velocity|1     |516.22        |10.5 |119.47  |2009|\n",
      "|Radial Velocity|1     |185.84        |4.8  |76.39   |2008|\n",
      "|Radial Velocity|1     |1773.4        |4.64 |18.15   |2002|\n",
      "|Radial Velocity|1     |798.5         |null |21.41   |1996|\n",
      "|Radial Velocity|1     |993.3         |10.3 |73.1    |2008|\n",
      "|Radial Velocity|2     |452.8         |1.99 |74.79   |2010|\n",
      "|Radial Velocity|2     |883.0         |0.86 |74.79   |2010|\n",
      "|Radial Velocity|1     |335.1         |9.88 |39.43   |2009|\n",
      "|Radial Velocity|1     |479.1         |3.88 |97.28   |2008|\n",
      "|Radial Velocity|3     |1078.0        |2.53 |14.08   |1996|\n",
      "|Radial Velocity|3     |2391.0        |0.54 |14.08   |2001|\n",
      "|Radial Velocity|3     |14002.0       |1.64 |14.08   |2009|\n",
      "|Radial Velocity|1     |4.230785      |0.472|15.36   |1995|\n",
      "|Radial Velocity|5     |14.651        |0.8  |12.53   |1996|\n",
      "|Radial Velocity|5     |44.38         |0.165|12.53   |2004|\n",
      "|Radial Velocity|5     |4909.0        |3.53 |12.53   |2002|\n",
      "|Radial Velocity|5     |0.73654       |null |12.53   |2011|\n",
      "|Radial Velocity|5     |261.2         |0.172|12.53   |2007|\n",
      "|Radial Velocity|3     |4.215         |0.016|8.52    |2009|\n",
      "|Radial Velocity|3     |38.021        |0.057|8.52    |2009|\n",
      "|Radial Velocity|3     |123.01        |0.072|8.52    |2009|\n",
      "|Radial Velocity|1     |116.6884      |null |18.11   |1996|\n",
      "|Radial Velocity|1     |691.9         |null |81.5    |2012|\n",
      "|Radial Velocity|1     |952.7         |5.3  |97.18   |2008|\n",
      "|Radial Velocity|1     |181.4         |3.2  |45.52   |2013|\n",
      "|Imaging        |1     |null          |null |45.52   |2005|\n",
      "+---------------+------+--------------+-----+--------+----+\n",
      "only showing top 30 rows\n",
      "\n"
     ]
    }
   ],
   "source": [
    "df.show(30, False)"
   ]
  },
  {
   "cell_type": "markdown",
   "metadata": {},
   "source": [
    "# USO DE COUNT PARA OBTENER EL TOTAL"
   ]
  },
  {
   "cell_type": "code",
   "execution_count": 123,
   "metadata": {},
   "outputs": [
    {
     "data": {
      "text/plain": [
       "1035"
      ]
     },
     "execution_count": 123,
     "metadata": {},
     "output_type": "execute_result"
    }
   ],
   "source": [
    "df.count()"
   ]
  },
  {
   "cell_type": "markdown",
   "metadata": {},
   "source": [
    "# FUNCIONES LAMBDA Y USER DEFINED FUNCTIONS"
   ]
  },
  {
   "cell_type": "code",
   "execution_count": 145,
   "metadata": {},
   "outputs": [],
   "source": [
    "from pyspark.sql.types import BooleanType \n",
    "from pyspark.sql.functions import udf"
   ]
  },
  {
   "cell_type": "code",
   "execution_count": 156,
   "metadata": {},
   "outputs": [],
   "source": [
    "less_ten = udf(lambda s: s < 2010, BooleanType())\n",
    "lamdf = df.filter(less_ten(df.year))\n",
    "lamdf.show()\n",
    "lamdf.count()"
   ]
  },
  {
   "cell_type": "code",
   "execution_count": 163,
   "metadata": {},
   "outputs": [
    {
     "name": "stdout",
     "output_type": "stream",
     "text": [
      "+---------------+------+--------------+-----+--------+----+\n",
      "|         method|number|orbital_period| mass|distance|year|\n",
      "+---------------+------+--------------+-----+--------+----+\n",
      "|Radial Velocity|     2|        5000.0| 0.82|   25.65|2009|\n",
      "|        Transit|     5|       5.90124| null|   303.0|2011|\n",
      "|        Transit|     5|      18.16406| null|   368.0|2013|\n",
      "|  Pulsar Timing|     1|    0.09070629| null|  1200.0|2011|\n",
      "|Radial Velocity|     1|        2502.0| 1.55|    3.22|2000|\n",
      "|Radial Velocity|     1|         829.0|  0.8|    32.7|2001|\n",
      "|Radial Velocity|     1|      2.817822| 0.38|    35.8|2005|\n",
      "|Radial Velocity|     2|         30.93|0.076|   56.92|2013|\n",
      "|Radial Velocity|     3|         123.0| null|    null|2014|\n",
      "|        Transit|     1|       138.317| null|  1000.0|2012|\n",
      "|        Transit|     3|       2.15491| null|    null|2012|\n",
      "|        Transit|     1|     1.4822446| null|   360.0|2011|\n",
      "|Radial Velocity|     1|        1840.0|  1.6|   67.61|2009|\n",
      "|Radial Velocity|     2|         408.6| 2.24|   68.54|2004|\n",
      "|        Transit|     1|      6.790123| null|   980.0|2011|\n",
      "|        Transit|     2|       10.3376| null|  1400.0|2011|\n",
      "|        Transit|     1|      1.420033| null|    null|2010|\n",
      "|Radial Velocity|     1|        1117.0| 1.16|   56.18|2010|\n",
      "|Radial Velocity|     2|         520.0|  2.6|   164.2|2008|\n",
      "|Radial Velocity|     3|         559.4|  3.0|   52.83|2007|\n",
      "+---------------+------+--------------+-----+--------+----+\n",
      "only showing top 20 rows\n",
      "\n"
     ]
    }
   ],
   "source": [
    "df.distinct().show()"
   ]
  },
  {
   "cell_type": "code",
   "execution_count": 165,
   "metadata": {
    "scrolled": true
   },
   "outputs": [
    {
     "name": "stdout",
     "output_type": "stream",
     "text": [
      "+---------------+------+--------------+------+--------+----+\n",
      "|         method|number|orbital_period|  mass|distance|year|\n",
      "+---------------+------+--------------+------+--------+----+\n",
      "|        Imaging|     1|        6000.0|  null|   19.28|2008|\n",
      "|Radial Velocity|     1|         714.3|  10.6|    null|2007|\n",
      "|Radial Velocity|     2|        3.8728| 0.027|    20.1|2013|\n",
      "|        Transit|     1|     1.5089557|  null|    null|2008|\n",
      "|        Transit|     1|       2.99433|  null|   560.0|2010|\n",
      "|        Transit|     1|       1.51214|  null|  1340.0|2010|\n",
      "|        Transit|     1|        3.7681|  null|   920.0|2011|\n",
      "|        Transit|     1|     1.9000693|  null|   870.0|2011|\n",
      "|Radial Velocity|     1|        4.6938| 0.035|    4.54|2007|\n",
      "|Radial Velocity|     4|       61.1166|2.2756|     4.7|1998|\n",
      "|Radial Velocity|     1|        133.71|  3.37|   17.62|2000|\n",
      "|        Transit|     2|     10.338523|  null|    90.0|2010|\n",
      "|        Transit|     1|      4.457243|  null|   501.0|2012|\n",
      "|Radial Velocity|     2|        30.052|   0.7|   52.85|2009|\n",
      "|Radial Velocity|     6|        2248.0| 0.205|   39.39|2010|\n",
      "|Radial Velocity|     1|      2819.654|  9.17|   54.71|2002|\n",
      "|Radial Velocity|     3|        2295.0| 0.683|   33.24|2002|\n",
      "|Radial Velocity|     1|        1.3283| 18.37|   43.03|2003|\n",
      "|Radial Velocity|     2|        25.648| 0.027|   52.03|2013|\n",
      "|Radial Velocity|     2|        4970.0|  0.36|   17.99|2010|\n",
      "+---------------+------+--------------+------+--------+----+\n",
      "only showing top 20 rows\n",
      "\n"
     ]
    }
   ],
   "source": [
    "#muestras con el DF. \n",
    "muestraDF = df.sample(withReplacement = False, fraction = 0.05)\n",
    "muestraDF.show()"
   ]
  },
  {
   "cell_type": "code",
   "execution_count": null,
   "metadata": {},
   "outputs": [],
   "source": []
  },
  {
   "cell_type": "code",
   "execution_count": null,
   "metadata": {},
   "outputs": [],
   "source": []
  },
  {
   "cell_type": "code",
   "execution_count": null,
   "metadata": {},
   "outputs": [],
   "source": []
  },
  {
   "cell_type": "code",
   "execution_count": null,
   "metadata": {},
   "outputs": [],
   "source": []
  },
  {
   "cell_type": "code",
   "execution_count": null,
   "metadata": {},
   "outputs": [],
   "source": []
  },
  {
   "cell_type": "code",
   "execution_count": null,
   "metadata": {},
   "outputs": [],
   "source": []
  },
  {
   "cell_type": "code",
   "execution_count": null,
   "metadata": {},
   "outputs": [],
   "source": []
  },
  {
   "cell_type": "code",
   "execution_count": null,
   "metadata": {},
   "outputs": [],
   "source": []
  },
  {
   "cell_type": "code",
   "execution_count": null,
   "metadata": {},
   "outputs": [],
   "source": []
  },
  {
   "cell_type": "code",
   "execution_count": null,
   "metadata": {},
   "outputs": [],
   "source": []
  },
  {
   "cell_type": "code",
   "execution_count": null,
   "metadata": {},
   "outputs": [],
   "source": []
  },
  {
   "cell_type": "code",
   "execution_count": null,
   "metadata": {},
   "outputs": [],
   "source": []
  },
  {
   "cell_type": "code",
   "execution_count": null,
   "metadata": {},
   "outputs": [],
   "source": []
  },
  {
   "cell_type": "code",
   "execution_count": null,
   "metadata": {},
   "outputs": [],
   "source": []
  },
  {
   "cell_type": "code",
   "execution_count": null,
   "metadata": {},
   "outputs": [],
   "source": []
  },
  {
   "cell_type": "code",
   "execution_count": null,
   "metadata": {},
   "outputs": [],
   "source": []
  },
  {
   "cell_type": "code",
   "execution_count": null,
   "metadata": {},
   "outputs": [],
   "source": []
  },
  {
   "cell_type": "code",
   "execution_count": null,
   "metadata": {},
   "outputs": [],
   "source": []
  },
  {
   "cell_type": "code",
   "execution_count": null,
   "metadata": {},
   "outputs": [],
   "source": []
  },
  {
   "cell_type": "code",
   "execution_count": null,
   "metadata": {},
   "outputs": [],
   "source": []
  },
  {
   "cell_type": "code",
   "execution_count": null,
   "metadata": {},
   "outputs": [],
   "source": []
  },
  {
   "cell_type": "code",
   "execution_count": null,
   "metadata": {},
   "outputs": [],
   "source": []
  },
  {
   "cell_type": "code",
   "execution_count": null,
   "metadata": {},
   "outputs": [],
   "source": []
  },
  {
   "cell_type": "code",
   "execution_count": null,
   "metadata": {},
   "outputs": [],
   "source": []
  },
  {
   "cell_type": "code",
   "execution_count": null,
   "metadata": {},
   "outputs": [],
   "source": []
  },
  {
   "cell_type": "code",
   "execution_count": null,
   "metadata": {},
   "outputs": [],
   "source": []
  },
  {
   "cell_type": "code",
   "execution_count": null,
   "metadata": {},
   "outputs": [],
   "source": []
  },
  {
   "cell_type": "code",
   "execution_count": null,
   "metadata": {},
   "outputs": [],
   "source": []
  },
  {
   "cell_type": "code",
   "execution_count": null,
   "metadata": {},
   "outputs": [],
   "source": []
  },
  {
   "cell_type": "code",
   "execution_count": null,
   "metadata": {},
   "outputs": [],
   "source": []
  },
  {
   "cell_type": "code",
   "execution_count": null,
   "metadata": {},
   "outputs": [],
   "source": []
  },
  {
   "cell_type": "code",
   "execution_count": null,
   "metadata": {},
   "outputs": [],
   "source": []
  },
  {
   "cell_type": "code",
   "execution_count": null,
   "metadata": {},
   "outputs": [],
   "source": []
  },
  {
   "cell_type": "code",
   "execution_count": null,
   "metadata": {},
   "outputs": [],
   "source": []
  },
  {
   "cell_type": "code",
   "execution_count": null,
   "metadata": {},
   "outputs": [],
   "source": []
  },
  {
   "cell_type": "code",
   "execution_count": null,
   "metadata": {},
   "outputs": [],
   "source": []
  },
  {
   "cell_type": "code",
   "execution_count": null,
   "metadata": {},
   "outputs": [],
   "source": []
  },
  {
   "cell_type": "code",
   "execution_count": null,
   "metadata": {},
   "outputs": [],
   "source": []
  },
  {
   "cell_type": "code",
   "execution_count": null,
   "metadata": {},
   "outputs": [],
   "source": []
  },
  {
   "cell_type": "code",
   "execution_count": null,
   "metadata": {},
   "outputs": [],
   "source": []
  },
  {
   "cell_type": "code",
   "execution_count": null,
   "metadata": {},
   "outputs": [],
   "source": []
  },
  {
   "cell_type": "code",
   "execution_count": null,
   "metadata": {},
   "outputs": [],
   "source": []
  },
  {
   "cell_type": "code",
   "execution_count": null,
   "metadata": {},
   "outputs": [],
   "source": []
  },
  {
   "cell_type": "code",
   "execution_count": null,
   "metadata": {},
   "outputs": [],
   "source": []
  },
  {
   "cell_type": "code",
   "execution_count": null,
   "metadata": {},
   "outputs": [],
   "source": []
  },
  {
   "cell_type": "code",
   "execution_count": null,
   "metadata": {},
   "outputs": [],
   "source": []
  },
  {
   "cell_type": "code",
   "execution_count": null,
   "metadata": {},
   "outputs": [],
   "source": []
  },
  {
   "cell_type": "code",
   "execution_count": null,
   "metadata": {},
   "outputs": [],
   "source": []
  },
  {
   "cell_type": "code",
   "execution_count": null,
   "metadata": {},
   "outputs": [],
   "source": []
  },
  {
   "cell_type": "code",
   "execution_count": null,
   "metadata": {},
   "outputs": [],
   "source": []
  }
 ],
 "metadata": {
  "kernelspec": {
   "display_name": "Python 3",
   "language": "python",
   "name": "python3"
  },
  "language_info": {
   "codemirror_mode": {
    "name": "ipython",
    "version": 3
   },
   "file_extension": ".py",
   "mimetype": "text/x-python",
   "name": "python",
   "nbconvert_exporter": "python",
   "pygments_lexer": "ipython3",
   "version": "3.8.3"
  }
 },
 "nbformat": 4,
 "nbformat_minor": 4
}
