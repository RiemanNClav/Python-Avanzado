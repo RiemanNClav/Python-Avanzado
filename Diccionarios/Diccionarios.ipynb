{
 "cells": [
  {
   "cell_type": "markdown",
   "metadata": {},
   "source": [
    "# 86. INTRODUCCION A DICCIONARIOS. \n",
    "\n",
    "## Diccionario \n",
    "\n",
    "La segunda estructura de datos que veremos son los diccionarios. Estos son un conjunto de elementos no ordenados entre llaves {}, que constan de claves y valores. \n",
    "\n",
    "Cada conjunto $\\textbf{clave: valor}$ es separado por comas. Las claves funcionan como identificadores y preceden a:. A continuación van los valores, que son elementos (numericos, booleanos, strings, listas, diccionarios..) asociados a esa clave. \n",
    "\n",
    "Los diccionarios, al igual que las listas son: \n",
    "\n",
    "- heterogeneos: los elementos pueden ser de distinto tipo en un mismo diccionario. \n",
    "- mutables: los elementos pueden ser modificados. \n",
    "\n",
    "Un ejemplo de diccionario seria: \n"
   ]
  },
  {
   "cell_type": "code",
   "execution_count": 2,
   "metadata": {},
   "outputs": [
    {
     "name": "stdout",
     "output_type": "stream",
     "text": [
      "{'Jose': 32, 'Marina': 21}\n"
     ]
    }
   ],
   "source": [
    "dicc =  {\"Jose\":32, \"Marina\":21}\n",
    "print(dicc)"
   ]
  },
  {
   "cell_type": "markdown",
   "metadata": {},
   "source": [
    "Hay que tener cuidado, las claves de un diccionario deben ser únicas. Esto es, no puede haber dos claves que sean exactamente iguales. Si se da que hay dos claves iguales, entonces python se queda con el ultimo valor asociado a dicha clave. "
   ]
  },
  {
   "cell_type": "code",
   "execution_count": 3,
   "metadata": {},
   "outputs": [
    {
     "name": "stdout",
     "output_type": "stream",
     "text": [
      "{'Jose': 23, 'Marina': 21}\n"
     ]
    }
   ],
   "source": [
    "dicc = {\"Jose\": 32, \n",
    "       \"Marina\": 21, \n",
    "       \"Jose\": 23}\n",
    "print(dicc)"
   ]
  },
  {
   "cell_type": "markdown",
   "metadata": {},
   "source": [
    "Observacion.  Al decir que los diccionarios no tienen orden, lo que ocurre es que python no mantendrá el que hemos introducido, tal y como hacia con las listas, sino que reordenará todos los elementos por orden primero numérico (yendo antes los positivos que los negativos) y luego alfabético de las claves. Esto no ocurre si usamos la función $\\textbf{print()}$."
   ]
  },
  {
   "cell_type": "code",
   "execution_count": 4,
   "metadata": {},
   "outputs": [
    {
     "data": {
      "text/plain": [
       "{'Elena', 'Jose', 'Marina'}"
      ]
     },
     "execution_count": 4,
     "metadata": {},
     "output_type": "execute_result"
    }
   ],
   "source": [
    "l = {\"Jose\", \"Marina\", \"Elena\"}\n",
    "l"
   ]
  },
  {
   "cell_type": "code",
   "execution_count": 5,
   "metadata": {},
   "outputs": [
    {
     "data": {
      "text/plain": [
       "{'Jose': 32, 'Marina': 21, 'Elena': 10}"
      ]
     },
     "execution_count": 5,
     "metadata": {},
     "output_type": "execute_result"
    }
   ],
   "source": [
    "dicc = {\"Jose\": 32, \n",
    "       \"Marina\": 21, \n",
    "       \"Elena\": 10}\n",
    "dicc"
   ]
  },
  {
   "cell_type": "code",
   "execution_count": 6,
   "metadata": {},
   "outputs": [
    {
     "name": "stdout",
     "output_type": "stream",
     "text": [
      "{'Jose': 32, 'Marina': 21, 'Elena': 10}\n"
     ]
    }
   ],
   "source": [
    "print(dicc)"
   ]
  },
  {
   "cell_type": "code",
   "execution_count": 7,
   "metadata": {},
   "outputs": [
    {
     "data": {
      "text/plain": [
       "{'Alba': 2, 7: 'a', -5: 'b', 'Javi': 28}"
      ]
     },
     "execution_count": 7,
     "metadata": {},
     "output_type": "execute_result"
    }
   ],
   "source": [
    "dicc = {\"Alba\": 2, 7: \"a\", -5: \"b\", \"Javi\": 28}\n",
    "dicc"
   ]
  },
  {
   "cell_type": "markdown",
   "metadata": {},
   "source": [
    "# 87. ELEMENTOS DE UN DICCIONARIO \n",
    "\n",
    "De modo que a sus elementos no se accede por posición, sino debemos hacerlo mediante sus claves. "
   ]
  },
  {
   "cell_type": "code",
   "execution_count": 10,
   "metadata": {},
   "outputs": [],
   "source": [
    "dicc = {\"names\": [\"Ana\", \"Borja\", \"Carmen\"], \n",
    "       \"ages: \": [31, 25, 16]}"
   ]
  },
  {
   "cell_type": "code",
   "execution_count": 11,
   "metadata": {},
   "outputs": [
    {
     "data": {
      "text/plain": [
       "['Ana', 'Borja', 'Carmen']"
      ]
     },
     "execution_count": 11,
     "metadata": {},
     "output_type": "execute_result"
    }
   ],
   "source": [
    "dicc[\"names\"]"
   ]
  },
  {
   "cell_type": "markdown",
   "metadata": {},
   "source": [
    "Podemos acceder a todos los claves de un diccionario con el método $\\textbf{.keys()}$"
   ]
  },
  {
   "cell_type": "code",
   "execution_count": 13,
   "metadata": {},
   "outputs": [
    {
     "data": {
      "text/plain": [
       "dict_keys(['names', 'ages: '])"
      ]
     },
     "execution_count": 13,
     "metadata": {},
     "output_type": "execute_result"
    }
   ],
   "source": [
    "dicc.keys()"
   ]
  },
  {
   "cell_type": "markdown",
   "metadata": {},
   "source": [
    "Podemos acceder a todos los valores de un diccionario con el método $\\textbf{.values()}$"
   ]
  },
  {
   "cell_type": "code",
   "execution_count": 15,
   "metadata": {},
   "outputs": [
    {
     "data": {
      "text/plain": [
       "dict_values([['Ana', 'Borja', 'Carmen'], [31, 25, 16]])"
      ]
     },
     "execution_count": 15,
     "metadata": {},
     "output_type": "execute_result"
    }
   ],
   "source": [
    "dicc.values()"
   ]
  },
  {
   "cell_type": "markdown",
   "metadata": {},
   "source": [
    "Al ser una estructura mutable, podemos modificar los valores de los diccionarios. "
   ]
  },
  {
   "cell_type": "code",
   "execution_count": 13,
   "metadata": {},
   "outputs": [
    {
     "name": "stdout",
     "output_type": "stream",
     "text": [
      "{'names': ['David', 'Emilia', 'Fernando'], 'ages': [44, 22, 11]}\n"
     ]
    }
   ],
   "source": [
    "dicc = {\"names\": [\"Ana\", \"Raul\", \"Roman\"], \n",
    "       \"ages\": [31,23,23]}\n",
    "dicc[\"names\"] = [\"David\", \"Emilia\", \"Fernando\"]\n",
    "dicc[\"ages\"] = [44,22,11]\n",
    "print(dicc)"
   ]
  },
  {
   "cell_type": "code",
   "execution_count": 20,
   "metadata": {},
   "outputs": [
    {
     "data": {
      "text/plain": [
       "[['David', 'Emilia', 'Fernando'], [44, 22, 11]]"
      ]
     },
     "execution_count": 20,
     "metadata": {},
     "output_type": "execute_result"
    }
   ],
   "source": [
    "list(dicc.values())"
   ]
  },
  {
   "cell_type": "markdown",
   "metadata": {},
   "source": [
    "Tambien podemos partir de un diccionario vacio e ir introduciendole valores asociados a claves. De hecho, podemos hasta pedirle a un usuario que introduzca el los datos. "
   ]
  },
  {
   "cell_type": "code",
   "execution_count": 2,
   "metadata": {},
   "outputs": [
    {
     "name": "stdout",
     "output_type": "stream",
     "text": [
      "Introduzca su nombre: \n",
      "Angel\n",
      "Introduzca su edad: \n",
      "22\n",
      "¿Es usted una mujer? Responda f en caso afirmativo y m en caso contrario.\n",
      "m\n",
      "{'name': 'Angel', 'age': 22, 'gender': 'male'}\n"
     ]
    }
   ],
   "source": [
    "ficha_usuario = {}\n",
    "print(\"Introduzca su nombre: \")\n",
    "ficha_usuario[\"name\"] = str(input())\n",
    "print(\"Introduzca su edad: \")\n",
    "ficha_usuario[\"age\"] = int(input())\n",
    "print(\"¿Es usted una mujer? Responda f en caso afirmativo y m en caso contrario.\")\n",
    "ficha_usuario[\"gender\"] = \"female\" if input() == \"f\" else \"male\"\n",
    "print(ficha_usuario)"
   ]
  },
  {
   "cell_type": "markdown",
   "metadata": {},
   "source": [
    "Oservacion. La función $\\textbf{str()}$ impone que lo que sea que introduzcamos sea un dato de tipo string. Funciona exactamente del mismo modo que lo hacen las funciones $\\textbf{int()}$ y $\\textbf{float()}$ introducidas y utilizadas anteriores. "
   ]
  },
  {
   "cell_type": "markdown",
   "metadata": {},
   "source": [
    "# EJERCICIO: CREAR UN DICCIONARIO POR TECLADO \n",
    "\n",
    "Vamos a hacer que el usuario rellene una ficha del cliente y vamos a guardar toda la información en un diccionario, para ello, vamos a pedir el nombre, los apellidos, la edad, el dni y el dinero total que va a pagar el cliente. "
   ]
  },
  {
   "cell_type": "code",
   "execution_count": 1,
   "metadata": {},
   "outputs": [
    {
     "name": "stdout",
     "output_type": "stream",
     "text": [
      "Introduzca el nombre del cliente: \n",
      "Angel\n",
      "Introduzca los apellidos del cliente: \n",
      "Chavez\n",
      "Introduzca la edad del cliente: \n",
      "22\n",
      "Introduzca el DNI del cliente: \n",
      "12345678K\n",
      "Introduzca el total a pagar del cliente: \n",
      "557.99\n",
      "{'name': 'Angel', 'surname': 'Chavez', 'age': 22, 'dni': '12345678K', 'total': 557.99}\n"
     ]
    }
   ],
   "source": [
    "client = {}\n",
    "\n",
    "print(\"Introduzca el nombre del cliente: \")\n",
    "client[\"name\"] = str(input())\n",
    "print(\"Introduzca los apellidos del cliente: \")\n",
    "client[\"surname\"] = str(input())\n",
    "print(\"Introduzca la edad del cliente: \")\n",
    "client[\"age\"] = int(input())\n",
    "print(\"Introduzca el DNI del cliente: \")\n",
    "client[\"dni\"] = str(input())\n",
    "print(\"Introduzca el total a pagar del cliente: \")\n",
    "client[\"total\"] = float(input())\n",
    "\n",
    "print(client)"
   ]
  },
  {
   "cell_type": "markdown",
   "metadata": {},
   "source": [
    "# 89. TAMAÑO DE UN DICCIONARIO\n",
    "\n",
    "Para saber cuantos elementos contiene un diccionario, podemos usar la funcion $\\textbf{len()}$ del siguiente modo:\n"
   ]
  },
  {
   "cell_type": "code",
   "execution_count": 2,
   "metadata": {},
   "outputs": [
    {
     "name": "stdout",
     "output_type": "stream",
     "text": [
      "3\n"
     ]
    }
   ],
   "source": [
    "dicc = {\"fruit\": [\"Manzana\", \"Pera\", \"Naranja\"], \n",
    "       \"price\": [2, 1.5, 1], \n",
    "       \"color\": [\"roja\", \"verde\", \"azul\"]}\n",
    "\n",
    "print(len(dicc)) #cuantos objetos tiene el diccionario, estos son las parejitas clave - valor. "
   ]
  },
  {
   "cell_type": "markdown",
   "metadata": {},
   "source": [
    "# 90. BUCLES CON DICCIONARIOS"
   ]
  },
  {
   "cell_type": "code",
   "execution_count": 5,
   "metadata": {},
   "outputs": [
    {
     "name": "stdout",
     "output_type": "stream",
     "text": [
      "fruit : ['Manzana', 'Pera', 'Naranja']\n",
      "price : [2, 1.5, 1]\n",
      "color : ['roja', 'verde', 'azul']\n"
     ]
    }
   ],
   "source": [
    "for key in dicc: #se itera sobre las claves\n",
    "    print(key, \":\", dicc[key])"
   ]
  },
  {
   "cell_type": "markdown",
   "metadata": {},
   "source": [
    "Otra forma de recorrerlo es obteniendo una lista de tuplas de la forma (clave, valor) para cada elemento de un diccionario, que construimos con el metodo $\\textbf{.items()}$. Al ser una lista, sabemos que es iterable y podemos mostrar todas sus entradas haciendo uso del bucle for. "
   ]
  },
  {
   "cell_type": "code",
   "execution_count": 6,
   "metadata": {},
   "outputs": [
    {
     "data": {
      "text/plain": [
       "dict_items([('fruit', ['Manzana', 'Pera', 'Naranja']), ('price', [2, 1.5, 1]), ('color', ['roja', 'verde', 'azul'])])"
      ]
     },
     "execution_count": 6,
     "metadata": {},
     "output_type": "execute_result"
    }
   ],
   "source": [
    "dicc.items()"
   ]
  },
  {
   "cell_type": "code",
   "execution_count": 9,
   "metadata": {},
   "outputs": [
    {
     "name": "stdout",
     "output_type": "stream",
     "text": [
      "('fruit', ['Manzana', 'Pera', 'Naranja'])\n",
      "('price', [2, 1.5, 1])\n",
      "('color', ['roja', 'verde', 'azul'])\n"
     ]
    }
   ],
   "source": [
    "for item in dicc.items():\n",
    "    print(item)"
   ]
  },
  {
   "cell_type": "markdown",
   "metadata": {},
   "source": [
    "Oservacion. Veremos las tuplas, que son otro tipo de Estructuras de datos en python, en futuras secciones. \n",
    "para tener clave y valor por separado, podemos hacerlo del siguiente modo:"
   ]
  },
  {
   "cell_type": "code",
   "execution_count": 10,
   "metadata": {},
   "outputs": [
    {
     "name": "stdout",
     "output_type": "stream",
     "text": [
      "fruit : ['Manzana', 'Pera', 'Naranja']\n",
      "price : [2, 1.5, 1]\n",
      "color : ['roja', 'verde', 'azul']\n"
     ]
    }
   ],
   "source": [
    "for key, value in dicc.items():\n",
    "    print(key, \":\", value)"
   ]
  },
  {
   "cell_type": "markdown",
   "metadata": {},
   "source": [
    "# 91. DICCIONARIOS Y LISTAS \n",
    "\n",
    "Como se ha mencionado antes, un diccionario puede contener listas u otros diccionarios. Por su parte, una lista tambien puede contener diccionarios: "
   ]
  },
  {
   "cell_type": "code",
   "execution_count": 17,
   "metadata": {},
   "outputs": [
    {
     "name": "stdout",
     "output_type": "stream",
     "text": [
      "{'name': 'Elisa', 'age': 30, 'gender': 'female', 'ID': [4, 4, 2, 1, 5, 6, 7, 2, 'L'], 'user&password': {'username': 'eli88', 'password': '123catsareawesome'}}\n",
      "{'name': 'Henry', 'age': 27, 'gender': 'male', 'ID': [4, 4, 2, 1, 5, 6, 7, 2, 'A'], 'user&password': {'username': 'superhenry', 'password': '1243superme'}}\n"
     ]
    }
   ],
   "source": [
    "dicc_1 = {\"name\": \"Elisa\", \n",
    "         \"age\": 30, \n",
    "         \"gender\": \"female\", \n",
    "         \"ID\": [4,4,2,1,5,6,7,2,\"L\"], \n",
    "         \"user&password\": {\n",
    "             \"username\": \"eli88\", \n",
    "             \"password\":  \"123catsareawesome\"}}\n",
    "\n",
    "dicc_2 = {\"name\": \"Henry\", \n",
    "         \"age\": 27, \n",
    "         \"gender\": \"male\", \n",
    "         \"ID\": [4,4,2,1,5,6,7,2,\"A\"], \n",
    "         \"user&password\": {\n",
    "             \"username\": \"superhenry\", \n",
    "            \"password\": \"1243superme\"}}\n",
    "\n",
    "lista = [dicc_1, dicc_2] # con esto creamos una lista de diccionarios. \n",
    "\n",
    "for item in lista:\n",
    "    print(item)"
   ]
  },
  {
   "cell_type": "markdown",
   "metadata": {},
   "source": [
    "# 92. EJERCICIO: DICCIONARIO DE LISTAS \n",
    "\n",
    "Tenemos un diccionario con 5 claves: Math, English, History, Science, IT. Cada clave contiene una lista de tamaño 3, donde cada una de esas entradas se correponde con una nota de 0 a 10. El usuario va a ser quien introduzca esas notas por teclado. Finalmente, para cada clave, mostraremos la media de las 3 notas. \n",
    "\n",
    "PISTA: Necesitarás la función sum(). "
   ]
  },
  {
   "cell_type": "code",
   "execution_count": 19,
   "metadata": {},
   "outputs": [
    {
     "name": "stdout",
     "output_type": "stream",
     "text": [
      "=== Math ===\n",
      "Nota trimestre 1: 9\n",
      "Nota trimestre 2: 10\n",
      "Nota trimestre 3: 10\n",
      "=== English ===\n",
      "Nota trimestre 1: 8\n",
      "Nota trimestre 2: 9\n",
      "Nota trimestre 3: 7\n",
      "=== History ===\n",
      "Nota trimestre 1: 6\n",
      "Nota trimestre 2: 6\n",
      "Nota trimestre 3: 7\n",
      "=== Science ===\n",
      "Nota trimestre 1: 7\n",
      "Nota trimestre 2: 7\n",
      "Nota trimestre 3: 9\n",
      "=== IT ===\n",
      "Nota trimestre 1: 8\n",
      "Nota trimestre 2: 9\n",
      "Nota trimestre 3: 10\n",
      "\n",
      " Medias por asignatura: \n",
      "Math : 9.666666666666666\n",
      "English : 8.0\n",
      "History : 6.333333333333333\n",
      "Science : 7.666666666666667\n",
      "IT : 9.0\n"
     ]
    }
   ],
   "source": [
    "subjects = {\"Math\": [], \n",
    "           \"English\": [], \n",
    "           \"History\": [], \n",
    "           \"Science\": [], \n",
    "           \"IT\": []}\n",
    "\n",
    "for key in subjects:\n",
    "    print(\"===\", key, \"===\")\n",
    "    for i in range(1, 4):\n",
    "        subjects[key].append(int(input(\"Nota trimestre {}: \".format(i))))\n",
    "        \n",
    "print(\"\\n Medias por asignatura: \")\n",
    "for key, val in subjects.items():\n",
    "    print(key, \":\", sum(val)/len(val))"
   ]
  },
  {
   "cell_type": "markdown",
   "metadata": {},
   "source": [
    "# 93. MAS METODOS DE DICCIONARIOS. "
   ]
  },
  {
   "cell_type": "markdown",
   "metadata": {},
   "source": [
    "El metodo $\\textbf{.clear()}$ elimina todos los elementos del diccionario dejándolo vacío. "
   ]
  },
  {
   "cell_type": "code",
   "execution_count": 20,
   "metadata": {},
   "outputs": [
    {
     "name": "stdout",
     "output_type": "stream",
     "text": [
      "{'a': 4, 'b': 3, 'c': 2, 'd': 1}\n",
      "{}\n"
     ]
    }
   ],
   "source": [
    "dicc = {\"a\": 4, \n",
    "       \"b\": 3, \n",
    "       \"c\": 2, \n",
    "       \"d\":1}\n",
    "\n",
    "print(dicc)\n",
    "dicc.clear()\n",
    "print(dicc)"
   ]
  },
  {
   "cell_type": "markdown",
   "metadata": {},
   "source": [
    "El metodo $\\textbf{.copy()}$ devuelve una copia del diccionario vacío. "
   ]
  },
  {
   "cell_type": "code",
   "execution_count": 22,
   "metadata": {},
   "outputs": [
    {
     "name": "stdout",
     "output_type": "stream",
     "text": [
      "{}\n"
     ]
    }
   ],
   "source": [
    "dicc_copy = dicc.copy()\n",
    "\n",
    "print(dicc_copy)"
   ]
  },
  {
   "cell_type": "markdown",
   "metadata": {},
   "source": [
    "El metodo $\\textbf{.fromkeys()}$ recibe como parametros un iterable y un valor y devuelve un diccionario que contiene como claves los elementos del iterable con el mismo valor ingresado. "
   ]
  },
  {
   "cell_type": "code",
   "execution_count": 24,
   "metadata": {},
   "outputs": [
    {
     "name": "stdout",
     "output_type": "stream",
     "text": [
      "{'a': [1, 2, 3, 4], 'b': [1, 2, 3, 4], 'c': [1, 2, 3, 4], 'd': [1, 2, 3, 4], 'e': [1, 2, 3, 4]}\n"
     ]
    }
   ],
   "source": [
    "dicc = dict.fromkeys([\"a\",\"b\",\"c\",\"d\",\"e\"],[1,2,3,4])\n",
    "print(dicc)"
   ]
  },
  {
   "cell_type": "markdown",
   "metadata": {},
   "source": [
    "El metodo $\\textbf{.get()}$ recibe como parámetro una clave y devuelve el valor de dicha clave. "
   ]
  },
  {
   "cell_type": "code",
   "execution_count": 26,
   "metadata": {},
   "outputs": [
    {
     "name": "stdout",
     "output_type": "stream",
     "text": [
      "1\n"
     ]
    }
   ],
   "source": [
    "dicc = {\"a\":1, \"e\":2, \"i\":3, \"o\":4, \"u\":5}\n",
    "print(dicc.get(\"a\"))"
   ]
  },
  {
   "cell_type": "markdown",
   "metadata": {},
   "source": [
    "El metodo $\\textbf{.pop()}$ recibe como parámetro una clave, la elimina y devuelve su valor. "
   ]
  },
  {
   "cell_type": "code",
   "execution_count": 27,
   "metadata": {},
   "outputs": [
    {
     "name": "stdout",
     "output_type": "stream",
     "text": [
      "{'a': 1, 'e': 2, 'i': 3}\n",
      "{'a': 1, 'e': 2}\n"
     ]
    }
   ],
   "source": [
    "dicc = {\"a\": 1, \n",
    "       \"e\":2, \n",
    "       \"i\":3}\n",
    "print(dicc)\n",
    "\n",
    "dicc.pop(\"i\")\n",
    "print(dicc)"
   ]
  },
  {
   "cell_type": "markdown",
   "metadata": {},
   "source": [
    "Observación. Si la clave indicada por parametro no se encuentra en el diccionario, el metodo devuelve error. \n",
    "\n",
    "El metodo $\\textbf{.setdefault()}$ puede funcionar de dos formas:\n",
    "\n",
    "* Como el metodo $\\textbf{.get()}$.\n",
    "* Para agregar un nuevo metodo al diccionario. "
   ]
  },
  {
   "cell_type": "code",
   "execution_count": 1,
   "metadata": {},
   "outputs": [
    {
     "name": "stdout",
     "output_type": "stream",
     "text": [
      "3\n",
      "6\n",
      "{'a': 1, 'e': 2, 'i': 3, 'o': 4, 'u': 5, 'ü': 6}\n"
     ]
    }
   ],
   "source": [
    "# Como .get()\n",
    "dicc = {\"a\": 1, \"e\": 2, \"i\": 3, \"o\": 4, \"u\": 5}\n",
    "print(dicc.setdefault(\"i\"))\n",
    "\n",
    "# Para agregar nuevo elemento\n",
    "print(dicc.setdefault(\"ü\", 6))\n",
    "print(dicc)"
   ]
  },
  {
   "cell_type": "markdown",
   "metadata": {},
   "source": [
    "El método $\\textbf{.update()}$ recibe como parámetro otro diccionario. En caso de tener claves iguales, actualiza el valor de la clave repetida. En caso de no haber claves iguales, el par clave: valor es agregado al diccionario al que es aplicado el método."
   ]
  },
  {
   "cell_type": "code",
   "execution_count": 2,
   "metadata": {},
   "outputs": [
    {
     "name": "stdout",
     "output_type": "stream",
     "text": [
      "{'a': 1, 'e': 5, 'i': 3, 'o': 4, 'u': 5, 'b': 2, 'c': 3, 'd': 4}\n"
     ]
    }
   ],
   "source": [
    "dicc1 = {\"a\": 1, \"e\": 2, \"i\": 3, \"o\": 4, \"u\": 5}\n",
    "dicc2 = {\"a\": 1, \"b\": 2, \"c\": 3, \"d\": 4, \"e\": 5}\n",
    "dicc1.update(dicc2)\n",
    "\n",
    "print(dicc1)"
   ]
  },
  {
   "cell_type": "markdown",
   "metadata": {},
   "source": [
    "# EJERCICIO: "
   ]
  },
  {
   "cell_type": "markdown",
   "metadata": {},
   "source": [
    "Dado un diccionario, vamos a solicitar al usuario una clave que quiera eliminar y vamos a eliminarla. Al final, le mostraremos el diccionario actualizado."
   ]
  },
  {
   "cell_type": "code",
   "execution_count": 4,
   "metadata": {},
   "outputs": [
    {
     "name": "stdout",
     "output_type": "stream",
     "text": [
      "Este es el diccionario original: {'a': 1, 'e': 2, 'i': 3, 'o': 4, 'u': 5}\n",
      "\n",
      "Introduce la clave que quieras eliminar del diccionario: u\n",
      "\n",
      "Este es el diccionario actualizado {'a': 1, 'e': 2, 'i': 3, 'o': 4}\n"
     ]
    }
   ],
   "source": [
    "dicc = {\"a\": 1, \"e\": 2, \"i\": 3, \"o\": 4, \"u\": 5}\n",
    "print(\"Este es el diccionario original:\", dicc)\n",
    "\n",
    "key = input(\"\\nIntroduce la clave que quieras eliminar del diccionario: \")\n",
    "\n",
    "dicc.pop(key)\n",
    "print(\"\\nEste es el diccionario actualizado\", dicc)"
   ]
  },
  {
   "cell_type": "markdown",
   "metadata": {},
   "source": [
    "# 95. CONSTRUYENDO DICCIONARIOS CON dict()\n",
    "\n",
    "Para convertir un objeto iterable de Python a diccionario, hay que usar la funcion $\\textbf{dict()}$. "
   ]
  },
  {
   "cell_type": "code",
   "execution_count": 6,
   "metadata": {},
   "outputs": [
    {
     "data": {
      "text/plain": [
       "{'l': 4, 'x': 10}"
      ]
     },
     "execution_count": 6,
     "metadata": {},
     "output_type": "execute_result"
    }
   ],
   "source": [
    "l = [[\"l\",4], [\"x\", 10]]\n",
    "dict(l)"
   ]
  },
  {
   "cell_type": "markdown",
   "metadata": {},
   "source": [
    "Aunque tambien sirve para definir funciones directamente. "
   ]
  },
  {
   "cell_type": "code",
   "execution_count": 1,
   "metadata": {},
   "outputs": [
    {
     "name": "stdout",
     "output_type": "stream",
     "text": [
      "{'x': 0, 'y': 1, 'z': -1}\n"
     ]
    }
   ],
   "source": [
    "dicc1 = dict(x = 0, y = 1, z = -1)\n",
    "print(dicc1)"
   ]
  },
  {
   "cell_type": "code",
   "execution_count": 2,
   "metadata": {},
   "outputs": [
    {
     "name": "stdout",
     "output_type": "stream",
     "text": [
      "{'x': 0, 'y': 1, 'z': -1}\n"
     ]
    }
   ],
   "source": [
    "dicc2 = dict({\"x\": 0, \"y\": 1, \"z\": -1})\n",
    "print(dicc2)"
   ]
  },
  {
   "cell_type": "code",
   "execution_count": 3,
   "metadata": {},
   "outputs": [
    {
     "name": "stdout",
     "output_type": "stream",
     "text": [
      "{'x': 0, 'y': 1, 'z': -1}\n"
     ]
    }
   ],
   "source": [
    "dicc3 = dict({\"x\": 0}, y = 1, z = -1)\n",
    "print(dicc3)"
   ]
  },
  {
   "cell_type": "markdown",
   "metadata": {},
   "source": [
    "# 96. EJERCICIO: DICCIONARIO Y DNI"
   ]
  },
  {
   "cell_type": "markdown",
   "metadata": {},
   "source": [
    "Vamos a solicitar al usuario 8 números enteros del 0 al 9. Se supone que son los números de su DNI, que guardaremos cada uno en una entrada de una lista. A continuación, con esos números calcularemos la letra correspondiente y la guardaremos en una variable. Finalmente, crearemos un diccionario con dos claves, cada una guardará, respectivamente, los números y la letra del DNI. Finalmente, mostraremos el diccionario resultante."
   ]
  },
  {
   "cell_type": "code",
   "execution_count": 4,
   "metadata": {},
   "outputs": [
    {
     "name": "stdout",
     "output_type": "stream",
     "text": [
      "Introduce los números del DNI uno por uno:\n",
      "1\n",
      "2\n",
      "3\n",
      "4\n",
      "5\n",
      "6\n",
      "7\n",
      "8\n",
      "{'numbers': [1, 2, 3, 4, 5, 6, 7, 8], 'letter': 'Z'}\n"
     ]
    }
   ],
   "source": [
    "print(\"Introduce los números del DNI uno por uno:\")\n",
    "nums = []\n",
    "for _ in range(8):\n",
    "  nums.append(int(input()))\n",
    "\n",
    "dni = 0\n",
    "for i in range(len(nums)):\n",
    "  dni += 10 ** (len(nums) - i - 1) * nums[i]\n",
    "\n",
    "letters = {0: \"T\", 1: \"R\", 2: \"W\", 3: \"A\", 4: \"G\", 5: \"M\", 6: \"Y\",\n",
    "           7: \"F\", 8: \"P\", 9: \"D\", 10: \"X\", 11: \"B\", 12: \"N\", 13: \"J\",\n",
    "           14: \"Z\", 15: \"S\", 16: \"Q\", 17: \"V\", 18: \"H\", 19: \"L\", 20: \"C\",\n",
    "           21: \"K\", 22: \"E\"}\n",
    "\n",
    "letter = letters[dni % 23]\n",
    "\n",
    "DNI = {\"numbers\": nums, \"letter\": letter}\n",
    "print(DNI)"
   ]
  },
  {
   "cell_type": "markdown",
   "metadata": {},
   "source": [
    "# Ejercicio\n",
    "\n",
    "Vamos a leer un string por teclado y vamos a devolver un diccionario con la cantidad de apariciones de cada caracter en el string proporcionado por el usuario."
   ]
  },
  {
   "cell_type": "code",
   "execution_count": 5,
   "metadata": {},
   "outputs": [
    {
     "name": "stdout",
     "output_type": "stream",
     "text": [
      "Introduce una frase: hola como estas\n",
      "{'H': 1, 'O': 3, 'L': 1, 'A': 2, 'C': 1, 'M': 1, 'E': 1, 'S': 2, 'T': 1}\n"
     ]
    }
   ],
   "source": [
    "s = input(\"Introduce una frase: \")\n",
    "counted = []\n",
    "letters = {}\n",
    "\n",
    "s = s.lower()\n",
    "for c in s:\n",
    "  if c not in counted and c != \" \":\n",
    "    counted.append(c)\n",
    "    letters[c.upper()] = s.count(c)\n",
    "\n",
    "print(letters)"
   ]
  },
  {
   "cell_type": "markdown",
   "metadata": {},
   "source": [
    "# TAREA 6. "
   ]
  },
  {
   "cell_type": "code",
   "execution_count": 6,
   "metadata": {},
   "outputs": [
    {
     "name": "stdout",
     "output_type": "stream",
     "text": [
      "Introduce un numero entero positivo: 10\n",
      "{0: 0, 1: 1, 2: 8, 3: 27, 4: 64, 5: 125, 6: 216, 7: 343, 8: 512, 9: 729, 10: 1000}\n"
     ]
    }
   ],
   "source": [
    "#Ejercicio 1\n",
    "#Crea un programa que pida un número entero positivo por teclado y que cree un diccionario cuyas claves\n",
    "#sean desde el número 1 hasta el número indicado. Los valores de cada clave serán las propias claves elevadas\n",
    "#al cubo.\n",
    "n = int(input(\"Introduce un numero entero positivo: \"))\n",
    "\n",
    "l = []\n",
    "dicc = {}\n",
    "for i in range(n+1):\n",
    "    l.append(i)\n",
    "    dicc[i] = i ** 3\n",
    "    \n",
    "print(dicc)"
   ]
  },
  {
   "cell_type": "code",
   "execution_count": 24,
   "metadata": {},
   "outputs": [
    {
     "name": "stdout",
     "output_type": "stream",
     "text": [
      "Introduzca su nombre: Angel\n",
      "Introduzca su edad: 22\n",
      "Introduzca su numero de telefono: 5532352552\n",
      "Angel tiene 22 años y su número de teléfono es 5532352552\n"
     ]
    }
   ],
   "source": [
    "#Ejercicio 2\n",
    "#Escribe un programa que pregunte al usuario su nombre, edad y teléfono y lo guarde en un diccionario.\n",
    "#Después, debe mostrar por pantalla el mensaje ‘{nombre} tiene {edad} años y su número de teléfono es\n",
    "#{teléfono}.\n",
    "\n",
    "dicc = {}\n",
    "nombre = input(\"Introduzca su nombre: \")\n",
    "dicc[\"Nombre\"] = str(nombre)\n",
    "edad = int(input(\"Introduzca su edad: \"))\n",
    "dicc[\"Edad\"] = int(edad)\n",
    "telefono = int(input(\"Introduzca su numero de telefono: \"))\n",
    "dicc[\"Telefono\"] = int(telefono)\n",
    "l = list(dicc.values())\n",
    "\n",
    "\n",
    "print(\"{} tiene {} años y su número de teléfono es {}\".format(l[0],l[1],l[2]))"
   ]
  },
  {
   "cell_type": "code",
   "execution_count": 26,
   "metadata": {},
   "outputs": [
    {
     "name": "stdout",
     "output_type": "stream",
     "text": [
      "Introduzca su nombre: Angel\n",
      "Introduzca su edad: 22\n",
      "Introduzca su numero de telefono: 5532352552\n",
      "Angel tiene 22 años y su número de teléfono es 5532352552\n"
     ]
    }
   ],
   "source": [
    "dicc2 = {}\n",
    "nombre = input(\"Introduzca su nombre: \")\n",
    "dicc2[\"Nombre\"] = str(nombre)\n",
    "edad = int(input(\"Introduzca su edad: \"))\n",
    "dicc2[\"Edad\"] = int(edad)\n",
    "telefono = int(input(\"Introduzca su numero de telefono: \"))\n",
    "dicc2[\"Telefono\"] = int(telefono)\n",
    "\n",
    "\n",
    "\n",
    "print(\"{} tiene {} años y su número de teléfono es {}\".format(dicc2[\"Nombre\"],dicc2[\"Edad\"],dicc2[\"Telefono\"]))"
   ]
  },
  {
   "cell_type": "code",
   "execution_count": 40,
   "metadata": {},
   "outputs": [
    {
     "name": "stdout",
     "output_type": "stream",
     "text": [
      "Introduce la cantidad de Articulos: 5\n",
      "Introduce el nómbre de un artículo: Coca Cola\n",
      "Introduce el précio del artículo: 22\n",
      "Introduce el nómbre de un artículo: Pepsi\n",
      "Introduce el précio del artículo: 25\n",
      "Introduce el nómbre de un artículo: Fanta\n",
      "Introduce el précio del artículo: 28\n",
      "Introduce el nómbre de un artículo: Spray\n",
      "Introduce el précio del artículo: 30\n",
      "Introduce el nómbre de un artículo: Mirinda\n",
      "Introduce el précio del artículo: 35\n",
      "___________________________\n",
      "Coca Cola  22\n",
      "\n",
      "Pepsi  25\n",
      "\n",
      "Fanta  28\n",
      "\n",
      "Spray  30\n",
      "\n",
      "Mirinda  35\n",
      "\n",
      "Total  140\n",
      "\n",
      "___________________________\n"
     ]
    }
   ],
   "source": [
    "#Ejercicio 3\n",
    "#Escribe un programa que cree un diccionario simulando una cesta de la compra. El programa debe preguntar\n",
    "#el artículo y su precio por unidad. El artículo será la clave y el valor el precio, hasta que el usuario decida\n",
    "#terminar. Después se debe mostrar por pantalla la lista de la compra y el coste total, con el siguiente formato\n",
    "\n",
    "#Artículo 1    Precio\n",
    "#Artículo 2   Precio\n",
    "#Artículo 3    Precio\n",
    "#. . . . . .\n",
    "#Total Precio   Total\n",
    "\n",
    "\n",
    "dicc = {}\n",
    "total = 0\n",
    "n = int(input(\"Introduce la cantidad de Articulos: \"))\n",
    "\n",
    "for _ in range(n):\n",
    "    articulo = input(\"Introduce el nómbre de un artículo: \")\n",
    "    precio = int(input(\"Introduce el précio del artículo: \"))\n",
    "    dicc[str(articulo)] =  precio\n",
    "    total = total + precio\n",
    "    \n",
    "dicc[\"Total\"] = int(total)\n",
    "\n",
    "print(\"___________________________\")\n",
    "for key, value in dicc.items():\n",
    "    print(key,\"\", value)\n",
    "    print(\"\")\n",
    "print(\"___________________________\")\n",
    "\n"
   ]
  },
  {
   "cell_type": "code",
   "execution_count": 22,
   "metadata": {},
   "outputs": [
    {
     "name": "stdout",
     "output_type": "stream",
     "text": [
      "Introduce un número: 1\n",
      "Introduce un número: 2\n",
      "Introduce un número: 3\n",
      "Introduce un número: 4\n",
      "Introduce un número: 5\n",
      "Introduce un número: 6\n",
      "Introduce un número: 7\n",
      "Introduce un número: 8\n",
      "Introduce un número: 9\n",
      "Introduce un número: 1\n",
      "Introduce un número: 1\n",
      "Introduce un número: 1\n",
      "Introduce un número: 1\n",
      "Introduce un número: 2\n",
      "Introduce un número: 3\n",
      "Introduce un número: 4\n",
      "Introduce un número: -1\n",
      "Introduce un número: -2\n",
      "Introduce un número: -3\n",
      "Introduce un número: 0\n",
      "La cantidad de 1's es 5\n",
      "La cantidad de 2's es 2\n",
      "La cantidad de 3's es 2\n",
      "La cantidad de 4's es 2\n",
      "Solo hay un 5\n",
      "Solo hay un 6\n",
      "Solo hay un 7\n",
      "Solo hay un 8\n",
      "Solo hay un 9\n",
      "Solo hay un -1\n",
      "Solo hay un -2\n",
      "Solo hay un -3\n",
      "Solo hay un 0\n",
      "El numero de enteros positivos introducidos es 16\n",
      "El número de enteros negativos introducidos es 3\n",
      "Nuestro diccionario es {1: 5, 2: 2, 3: 2, 4: 2, 5: 1, 6: 1, 7: 1, 8: 1, 9: 1, -1: 1, -2: 1, -3: 1, 0: 1}\n"
     ]
    }
   ],
   "source": [
    "#Ejercicio 4\n",
    "#Crea un programa que lea números enteros hasta que introduzca el 0 y devuelva un diccionario con la\n",
    "#cantidad de números positivos y negativos introducidos.\n",
    "\n",
    "dicc = {}\n",
    "l = []\n",
    "l2 = []\n",
    "j = 0\n",
    "idx = 0\n",
    "\n",
    "while True:\n",
    "    n = int(input(\"Introduce un número: \"))\n",
    "    l.append(n)\n",
    "    if n == 0:\n",
    "        break\n",
    "        \n",
    "for i in range(len(l)):\n",
    "    if l[i] not in l2:\n",
    "        l2.append(l[i])\n",
    "        \n",
    "for i in range(len(l2)):\n",
    "    dicc[l2[i]] = l.count(l2[i])\n",
    "    if dicc[l2[i]]>1:\n",
    "        print(\"La cantidad de {}'s es {}\".format(l2[i],dicc[l2[i]]))\n",
    "    elif dicc[l2[i]]==1:\n",
    "        print(\"Solo hay un {}\".format(l2[i]))\n",
    "        \n",
    "for i in range(len(l)):\n",
    "    if l[i] > 0:\n",
    "        j = j+1\n",
    "    elif l[i]<0:\n",
    "        idx = idx+1\n",
    "        \n",
    "print(\"El numero de enteros positivos introducidos es {}\".format(j))\n",
    "print(\"El número de enteros negativos introducidos es {}\".format(idx))\n",
    "        \n",
    "print(\"Nuestro diccionario es {}\".format(dicc))\n",
    "        \n",
    "\n",
    "              \n",
    "\n",
    "\n"
   ]
  },
  {
   "cell_type": "code",
   "execution_count": 23,
   "metadata": {},
   "outputs": [
    {
     "name": "stdout",
     "output_type": "stream",
     "text": [
      "Introduce un número: 1\n",
      "Introduce un número: 2\n",
      "Introduce un número: 3\n",
      "Introduce un número: 4\n",
      "Introduce un número: 5\n",
      "Introduce un número: 6\n",
      "Introduce un número: 7\n",
      "Introduce un número: 8\n",
      "Introduce un número: 9\n",
      "Introduce un número: 10\n",
      "Introduce un número: 11\n",
      "Introduce un número: -1\n",
      "Introduce un número: -3\n",
      "Introduce un número: 5\n",
      "Introduce un número: 7\n",
      "Introduce un número: 6\n",
      "Introduce un número: 5\n",
      "Introduce un número: 0\n",
      "La cantidad de numeros pares introducidos es 7\n",
      "La cantidad de numeros impares introducidos es 11\n",
      "Nuestro diccionario es {'Impares': 11, 'Pares': 7}\n"
     ]
    }
   ],
   "source": [
    "#Ejercicio 5\n",
    "#Crea un programa que lea números enteros hasta que introduzca el 0 y devuelva un diccionario con la\n",
    "#cantidad números pares e impares introducidos.\n",
    "\n",
    "dicc = {}\n",
    "l = []\n",
    "j = 0\n",
    "idx = 0\n",
    "\n",
    "while True:\n",
    "    n = int(input(\"Introduce un número: \"))\n",
    "    l.append(n)\n",
    "    if n == 0:\n",
    "        break\n",
    "        \n",
    "for i in range(len(l)):\n",
    "    if l[i]%2 == 0:\n",
    "        j = j+1\n",
    "        dicc[\"Pares\"] = j\n",
    "    else:\n",
    "        idx = idx+1\n",
    "        dicc[\"Impares\"] = idx\n",
    "        \n",
    "        \n",
    "        \n",
    "print(\"La cantidad de numeros pares introducidos es {}\".format(j))\n",
    "print(\"La cantidad de numeros impares introducidos es {}\".format(idx))\n",
    "print(\"Nuestro diccionario es {}\".format(dicc))\n",
    "        \n",
    "\n",
    "        \n"
   ]
  },
  {
   "cell_type": "code",
   "execution_count": 1,
   "metadata": {},
   "outputs": [
    {
     "name": "stdout",
     "output_type": "stream",
     "text": [
      "Introduce la cantidad de alumnos de los que quieres saber sus calificaciones: 4\n",
      "Introduce un nombre: Angel\n",
      "1. Introduce un nota: 9.8\n",
      "2. Introduce un nota: 9.7\n",
      "3. Introduce un nota: 6\n",
      "4. Introduce un nota: 8.7\n",
      "5. Introduce un nota: 4\n",
      "6. Introduce un nota: 0\n",
      "El alumno Angel tiene una media en sus calificaciones de 7.640000000000001\n",
      "Introduce un nombre: Roberto\n",
      "1. Introduce un nota: 10\n",
      "2. Introduce un nota: 10\n",
      "3. Introduce un nota: 0\n",
      "El alumno Roberto tiene una media en sus calificaciones de 10.0\n",
      "Introduce un nombre: Sofia\n",
      "1. Introduce un nota: 10\n",
      "2. Introduce un nota: 10\n",
      "3. Introduce un nota: 9.8\n",
      "4. Introduce un nota: 7.5\n",
      "5. Introduce un nota: 0\n",
      "El alumno Sofia tiene una media en sus calificaciones de 9.325\n",
      "Introduce un nombre: Juan\n",
      "1. Introduce un nota: 3\n",
      "2. Introduce un nota: 10\n",
      "3. Introduce un nota: 9.7\n",
      "4. Introduce un nota: 8\n",
      "5. Introduce un nota: 8\n",
      "6. Introduce un nota: 0\n",
      "El alumno Juan tiene una media en sus calificaciones de 7.74\n",
      "Diccionario 1 {'Angel': [9.8, 9.7, 6.0, 8.7, 4.0], 'Roberto': [10.0, 10.0], 'Sofia': [10.0, 10.0, 9.8, 7.5], 'Juan': [3.0, 10.0, 9.7, 8.0, 8.0]}\n",
      "Diccionario 2 {'Notal 1': 7.640000000000001, 'Notal 2': 10.0, 'Notal 3': 9.325, 'Notal 4': 7.74}\n"
     ]
    }
   ],
   "source": [
    "#Ejercicio 6\n",
    "#Crea un programa que permita al usuario introducir los nombres de los alumnos de una clase y las notas que\n",
    "#han obtenido. Cada alumno puede tener distinta cantidad de notas. Guarda la información en un diccionario\n",
    "#cuyas claves serán los nombres de los alumnos y los valores serán listas con las notas de cada alumno.\n",
    "\n",
    "#El programa va a pedir el nombre de un estudiante e irá pidiendo sus notas (del 1 al 10) hasta que introduzcamos un 0.\n",
    "#Al final, cuando el nombre que introduzcamos sea un string vacío, el programa nos mostrará la\n",
    "#lista de alumnos y la nota media obtenida por cada uno de ellos.\n",
    "#PISTA: Vas a necesitar la función sum().\n",
    "\n",
    "n = int(input(\"Introduce la cantidad de alumnos de los que quieres saber sus calificaciones: \"))\n",
    "dicc = {}\n",
    "dicc2 = {}\n",
    "l = []\n",
    "l2 = []\n",
    "\n",
    "for i in range(n):\n",
    "    alumno = input(\"Introduce un nombre: \")\n",
    "    l.append(alumno)\n",
    "    l2.append([])\n",
    "    idx = 1\n",
    "    while True:\n",
    "        m = float(input(\"{}. Introduce una nota: \".format(idx)))\n",
    "        if m == 0:\n",
    "            break\n",
    "        else:\n",
    "            l2[i].append(m)\n",
    "            idx = idx+1\n",
    "    dicc[alumno] = l2[i]\n",
    "    dicc2[\"Notal {}\".format(i+1)] = sum(l2[i])/len(l2[i])\n",
    "    print(\"El alumno {} tiene una media en sus calificaciones de {}\".format(alumno,dicc2[\"Notal {}\".format(i+1)]))\n",
    "    idx = 0\n",
    "    \n",
    "print(\"Diccionario 1 {}\".format(dicc))\n",
    "print(\"Diccionario 2 {}\".format(dicc2))\n",
    "    "
   ]
  },
  {
   "cell_type": "code",
   "execution_count": 17,
   "metadata": {},
   "outputs": [
    {
     "name": "stdout",
     "output_type": "stream",
     "text": [
      "Introduzca un numero entero positivo: 10\n",
      "{1: '*', 2: '**', 3: '***', 4: '****', 5: '*****', 6: '******', 7: '*******', 8: '********', 9: '*********', 10: '**********'}\n"
     ]
    }
   ],
   "source": [
    "#Ejercicio 7\n",
    "#Crea un programa que pida un número entero positivo por teclado y que cree un diccionario cuyas claves\n",
    "#sean desde el número 1 hasta el número indicado. Los valores de cada clave serán tantos símbolos \"*\" como\n",
    "#indique la clave.\n",
    "\n",
    "n = int(input(\"Introduzca un numero entero positivo: \"))\n",
    "\n",
    "dicc = {}\n",
    "for i in range(n):\n",
    "    dicc[i+1] = \"*\"*(i+1)\n",
    "\n",
    "print(dicc)"
   ]
  },
  {
   "cell_type": "code",
   "execution_count": 31,
   "metadata": {},
   "outputs": [
    {
     "name": "stdout",
     "output_type": "stream",
     "text": [
      "Introduce la cantidad de palabras que quieras tener en tu diccionario: 3\n",
      "Introduce una palabra: Rio de Janeiro\n",
      "Introduce una palabra: Sao Paulo\n",
      "Introduce una palabra: Mexico\n",
      "{'Rio de Janeiro': 12, 'Sao Paulo': 8, 'Mexico': 6}\n"
     ]
    }
   ],
   "source": [
    "#Ejercicio 8\n",
    "#Crea un programa que pida el número de palabras a introducir. Crear un diccionario de clave la palabra y\n",
    "#de valor la longitud de dicha palabra.\n",
    "\n",
    "n = int(input(\"Introduce la cantidad de palabras que quieras tener en tu diccionario: \"))\n",
    "dicc = {}\n",
    "for _ in range(n):\n",
    "    palabra = input(\"Introduce una palabra: \")\n",
    "    long  = len(palabra)\n",
    "    for i in palabra:\n",
    "        if i == \" \":\n",
    "            long = long - 1\n",
    "    dicc[palabra] = long\n",
    "    \n",
    "print(dicc)"
   ]
  },
  {
   "cell_type": "code",
   "execution_count": 22,
   "metadata": {},
   "outputs": [
    {
     "name": "stdout",
     "output_type": "stream",
     "text": [
      "Introduce el numero de palabras que quieres tener en tu diccionario: 4\n",
      "Introduce una palabra: Ferrocarril\n",
      "Introduce una palabra: Automovil\n",
      "Introduce una palabra: Alcohol Etilico\n",
      "Introduce una palabra: Desconocimiento\n",
      "{'ferrocarril': ['e', 'o', 'a', 'i'], 'automovil': ['a', 'u', 'o', 'i'], 'alcohol etilico': ['a', 'o', 'e', 'i'], 'desconocimiento': ['e', 'o', 'i']}\n",
      "{'ferrocarril': 4, 'automovil': 5, 'alcohol etilico': 7, 'desconocimiento': 7}\n",
      "\n",
      "ferrocarril tiene 4 vocales en total.\n",
      "automovil tiene 5 vocales en total.\n",
      "alcohol etilico tiene 7 vocales en total.\n",
      "desconocimiento tiene 7 vocales en total.\n"
     ]
    }
   ],
   "source": [
    "#Ejercicio 9\n",
    "#Crea un programa que pida el número de palabras a introducir. Crear un diccionario de clave la palabra y\n",
    "#de valor el número de vocales de la palabra.\n",
    "n = int(input(\"Introduce el numero de palabras que quieres tener en tu diccionario: \"))\n",
    "dicc = {}\n",
    "dicc2 = {}\n",
    "l = []\n",
    "l2 = []\n",
    "idx = 0\n",
    "for i in range(n):\n",
    "    l.append([])\n",
    "    palabra = input(\"Introduce una palabra: \")\n",
    "    palabra = palabra.lower()\n",
    "    for j in palabra:\n",
    "        if j == \"a\" or j ==\"e\" or j ==\"i\" or j ==\"o\" or j ==\"u\":\n",
    "            l[i].append(j)\n",
    "            idx = idx+1\n",
    "            if j not in l2:\n",
    "                l2.append(j)\n",
    "    \n",
    "    dicc2[palabra] = idx \n",
    "    idx = 0\n",
    "                \n",
    "    dicc[palabra] = l2\n",
    "    l2 = []\n",
    "\n",
    "print(dicc)\n",
    "print(dicc2)\n",
    "print(\"\")\n",
    "for key, value in dicc2.items():\n",
    "    print(key, \"tiene\", value, \"vocales en total.\")\n"
   ]
  },
  {
   "cell_type": "code",
   "execution_count": 30,
   "metadata": {},
   "outputs": [
    {
     "name": "stdout",
     "output_type": "stream",
     "text": [
      "Introduce el numero de filas: 3\n",
      "Introduce el numero de columnas: 4\n",
      "Introduce el elemento (0,0): 1\n",
      "Introduce el elemento (0,1): 2\n",
      "Introduce el elemento (0,2): 3\n",
      "Introduce el elemento (0,3): 4\n",
      "Introduce el elemento (1,0): 5\n",
      "Introduce el elemento (1,1): 6\n",
      "Introduce el elemento (1,2): 7\n",
      "Introduce el elemento (1,3): 8\n",
      "Introduce el elemento (2,0): 9\n",
      "Introduce el elemento (2,1): 10\n",
      "Introduce el elemento (2,2): 11\n",
      "Introduce el elemento (2,3): 12\n",
      "1.0 2.0 3.0 4.0 \n",
      "5.0 6.0 7.0 8.0 \n",
      "9.0 10.0 11.0 12.0 \n",
      "El diccionario es {'Numero_Filas': 3, 'Fila 1': [1.0, 2.0, 3.0, 4.0], 'Fila 2': [5.0, 6.0, 7.0, 8.0], 'Fila 3': [9.0, 10.0, 11.0, 12.0], 'Numero_Columnas': 4}\n"
     ]
    }
   ],
   "source": [
    "#Ejercicio 10\n",
    "#Dada una matriz, crea un diccionario que guarde el número de filas, el de columnas y cada fila en una entrada\n",
    "#de un diccionario\n",
    "\n",
    "n = int(input(\"Introduce el numero de filas: \"))\n",
    "m = int(input(\"Introduce el numero de columnas: \"))\n",
    "\n",
    "l1 = []\n",
    "dicc = {}\n",
    "nfilas = 0\n",
    "\n",
    "\n",
    "for i in range(n):\n",
    "    l1.append([])\n",
    "    nfilas = nfilas+1\n",
    "    for j in range(m):\n",
    "        l1[i].append(float(input(\"Introduce el elemento ({},{}): \".format(i,j))))\n",
    "        \n",
    "    dicc[\"Numero_Filas\"] = nfilas\n",
    "    dicc[\"Fila {}\".format(i+1)] = l1[i]\n",
    "ncolumnas = len(l1[1])  \n",
    "dicc[\"Numero_Columnas\"] = ncolumnas\n",
    "\n",
    "    \n",
    "for i in range(n):\n",
    "    for j in range(m):\n",
    "        print(l1[i][j], end = \" \")\n",
    "    print(\"\")\n",
    "\n",
    "\n",
    "print(\"El diccionario es {}\".format(dicc))"
   ]
  }
 ],
 "metadata": {
  "kernelspec": {
   "display_name": "Python 3",
   "language": "python",
   "name": "python3"
  },
  "language_info": {
   "codemirror_mode": {
    "name": "ipython",
    "version": 3
   },
   "file_extension": ".py",
   "mimetype": "text/x-python",
   "name": "python",
   "nbconvert_exporter": "python",
   "pygments_lexer": "ipython3",
   "version": "3.8.3"
  }
 },
 "nbformat": 4,
 "nbformat_minor": 4
}
