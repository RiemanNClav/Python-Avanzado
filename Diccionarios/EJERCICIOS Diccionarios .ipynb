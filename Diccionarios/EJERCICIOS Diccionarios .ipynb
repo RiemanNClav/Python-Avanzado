{
 "cells": [
  {
   "cell_type": "markdown",
   "metadata": {},
   "source": [
    "# TAREA 6. "
   ]
  },
  {
   "cell_type": "code",
   "execution_count": 6,
   "metadata": {},
   "outputs": [
    {
     "name": "stdout",
     "output_type": "stream",
     "text": [
      "Introduce un numero entero positivo: 10\n",
      "{0: 0, 1: 1, 2: 8, 3: 27, 4: 64, 5: 125, 6: 216, 7: 343, 8: 512, 9: 729, 10: 1000}\n"
     ]
    }
   ],
   "source": [
    "#Ejercicio 1\n",
    "#Crea un programa que pida un número entero positivo por teclado y que cree un diccionario cuyas claves\n",
    "#sean desde el número 1 hasta el número indicado. Los valores de cada clave serán las propias claves elevadas\n",
    "#al cubo.\n",
    "n = int(input(\"Introduce un numero entero positivo: \"))\n",
    "\n",
    "l = []\n",
    "dicc = {}\n",
    "for i in range(n+1):\n",
    "    l.append(i)\n",
    "    dicc[i] = i ** 3\n",
    "    \n",
    "print(dicc)"
   ]
  },
  {
   "cell_type": "code",
   "execution_count": 24,
   "metadata": {},
   "outputs": [
    {
     "name": "stdout",
     "output_type": "stream",
     "text": [
      "Introduzca su nombre: Angel\n",
      "Introduzca su edad: 22\n",
      "Introduzca su numero de telefono: 5532352552\n",
      "Angel tiene 22 años y su número de teléfono es 5532352552\n"
     ]
    }
   ],
   "source": [
    "#Ejercicio 2\n",
    "#Escribe un programa que pregunte al usuario su nombre, edad y teléfono y lo guarde en un diccionario.\n",
    "#Después, debe mostrar por pantalla el mensaje ‘{nombre} tiene {edad} años y su número de teléfono es\n",
    "#{teléfono}.\n",
    "\n",
    "dicc = {}\n",
    "nombre = input(\"Introduzca su nombre: \")\n",
    "dicc[\"Nombre\"] = str(nombre)\n",
    "edad = int(input(\"Introduzca su edad: \"))\n",
    "dicc[\"Edad\"] = int(edad)\n",
    "telefono = int(input(\"Introduzca su numero de telefono: \"))\n",
    "dicc[\"Telefono\"] = int(telefono)\n",
    "l = list(dicc.values())\n",
    "\n",
    "\n",
    "print(\"{} tiene {} años y su número de teléfono es {}\".format(l[0],l[1],l[2]))"
   ]
  },
  {
   "cell_type": "code",
   "execution_count": 26,
   "metadata": {},
   "outputs": [
    {
     "name": "stdout",
     "output_type": "stream",
     "text": [
      "Introduzca su nombre: Angel\n",
      "Introduzca su edad: 22\n",
      "Introduzca su numero de telefono: 5532352552\n",
      "Angel tiene 22 años y su número de teléfono es 5532352552\n"
     ]
    }
   ],
   "source": [
    "dicc2 = {}\n",
    "nombre = input(\"Introduzca su nombre: \")\n",
    "dicc2[\"Nombre\"] = str(nombre)\n",
    "edad = int(input(\"Introduzca su edad: \"))\n",
    "dicc2[\"Edad\"] = int(edad)\n",
    "telefono = int(input(\"Introduzca su numero de telefono: \"))\n",
    "dicc2[\"Telefono\"] = int(telefono)\n",
    "\n",
    "\n",
    "\n",
    "print(\"{} tiene {} años y su número de teléfono es {}\".format(dicc2[\"Nombre\"],dicc2[\"Edad\"],dicc2[\"Telefono\"]))"
   ]
  },
  {
   "cell_type": "code",
   "execution_count": 40,
   "metadata": {},
   "outputs": [
    {
     "name": "stdout",
     "output_type": "stream",
     "text": [
      "Introduce la cantidad de Articulos: 5\n",
      "Introduce el nómbre de un artículo: Coca Cola\n",
      "Introduce el précio del artículo: 22\n",
      "Introduce el nómbre de un artículo: Pepsi\n",
      "Introduce el précio del artículo: 25\n",
      "Introduce el nómbre de un artículo: Fanta\n",
      "Introduce el précio del artículo: 28\n",
      "Introduce el nómbre de un artículo: Spray\n",
      "Introduce el précio del artículo: 30\n",
      "Introduce el nómbre de un artículo: Mirinda\n",
      "Introduce el précio del artículo: 35\n",
      "___________________________\n",
      "Coca Cola  22\n",
      "\n",
      "Pepsi  25\n",
      "\n",
      "Fanta  28\n",
      "\n",
      "Spray  30\n",
      "\n",
      "Mirinda  35\n",
      "\n",
      "Total  140\n",
      "\n",
      "___________________________\n"
     ]
    }
   ],
   "source": [
    "#Ejercicio 3\n",
    "#Escribe un programa que cree un diccionario simulando una cesta de la compra. El programa debe preguntar\n",
    "#el artículo y su precio por unidad. El artículo será la clave y el valor el precio, hasta que el usuario decida\n",
    "#terminar. Después se debe mostrar por pantalla la lista de la compra y el coste total, con el siguiente formato\n",
    "\n",
    "#Artículo 1    Precio\n",
    "#Artículo 2   Precio\n",
    "#Artículo 3    Precio\n",
    "#. . . . . .\n",
    "#Total Precio   Total\n",
    "\n",
    "\n",
    "dicc = {}\n",
    "total = 0\n",
    "n = int(input(\"Introduce la cantidad de Articulos: \"))\n",
    "\n",
    "for _ in range(n):\n",
    "    articulo = input(\"Introduce el nómbre de un artículo: \")\n",
    "    precio = int(input(\"Introduce el précio del artículo: \"))\n",
    "    dicc[str(articulo)] =  precio\n",
    "    total = total + precio\n",
    "    \n",
    "dicc[\"Total\"] = int(total)\n",
    "\n",
    "print(\"___________________________\")\n",
    "for key, value in dicc.items():\n",
    "    print(key,\"\", value)\n",
    "    print(\"\")\n",
    "print(\"___________________________\")\n",
    "\n"
   ]
  },
  {
   "cell_type": "code",
   "execution_count": 22,
   "metadata": {},
   "outputs": [
    {
     "name": "stdout",
     "output_type": "stream",
     "text": [
      "Introduce un número: 1\n",
      "Introduce un número: 2\n",
      "Introduce un número: 3\n",
      "Introduce un número: 4\n",
      "Introduce un número: 5\n",
      "Introduce un número: 6\n",
      "Introduce un número: 7\n",
      "Introduce un número: 8\n",
      "Introduce un número: 9\n",
      "Introduce un número: 1\n",
      "Introduce un número: 1\n",
      "Introduce un número: 1\n",
      "Introduce un número: 1\n",
      "Introduce un número: 2\n",
      "Introduce un número: 3\n",
      "Introduce un número: 4\n",
      "Introduce un número: -1\n",
      "Introduce un número: -2\n",
      "Introduce un número: -3\n",
      "Introduce un número: 0\n",
      "La cantidad de 1's es 5\n",
      "La cantidad de 2's es 2\n",
      "La cantidad de 3's es 2\n",
      "La cantidad de 4's es 2\n",
      "Solo hay un 5\n",
      "Solo hay un 6\n",
      "Solo hay un 7\n",
      "Solo hay un 8\n",
      "Solo hay un 9\n",
      "Solo hay un -1\n",
      "Solo hay un -2\n",
      "Solo hay un -3\n",
      "Solo hay un 0\n",
      "El numero de enteros positivos introducidos es 16\n",
      "El número de enteros negativos introducidos es 3\n",
      "Nuestro diccionario es {1: 5, 2: 2, 3: 2, 4: 2, 5: 1, 6: 1, 7: 1, 8: 1, 9: 1, -1: 1, -2: 1, -3: 1, 0: 1}\n"
     ]
    }
   ],
   "source": [
    "#Ejercicio 4\n",
    "#Crea un programa que lea números enteros hasta que introduzca el 0 y devuelva un diccionario con la\n",
    "#cantidad de números positivos y negativos introducidos.\n",
    "\n",
    "dicc = {}\n",
    "l = []\n",
    "l2 = []\n",
    "j = 0\n",
    "idx = 0\n",
    "\n",
    "while True:\n",
    "    n = int(input(\"Introduce un número: \"))\n",
    "    l.append(n)\n",
    "    if n == 0:\n",
    "        break\n",
    "        \n",
    "for i in range(len(l)):\n",
    "    if l[i] not in l2:\n",
    "        l2.append(l[i])\n",
    "        \n",
    "for i in range(len(l2)):\n",
    "    dicc[l2[i]] = l.count(l2[i])\n",
    "    if dicc[l2[i]]>1:\n",
    "        print(\"La cantidad de {}'s es {}\".format(l2[i],dicc[l2[i]]))\n",
    "    elif dicc[l2[i]]==1:\n",
    "        print(\"Solo hay un {}\".format(l2[i]))\n",
    "        \n",
    "for i in range(len(l)):\n",
    "    if l[i] > 0:\n",
    "        j = j+1\n",
    "    elif l[i]<0:\n",
    "        idx = idx+1\n",
    "        \n",
    "print(\"El numero de enteros positivos introducidos es {}\".format(j))\n",
    "print(\"El número de enteros negativos introducidos es {}\".format(idx))\n",
    "        \n",
    "print(\"Nuestro diccionario es {}\".format(dicc))\n",
    "        \n",
    "\n",
    "              \n",
    "\n",
    "\n"
   ]
  },
  {
   "cell_type": "code",
   "execution_count": 23,
   "metadata": {},
   "outputs": [
    {
     "name": "stdout",
     "output_type": "stream",
     "text": [
      "Introduce un número: 1\n",
      "Introduce un número: 2\n",
      "Introduce un número: 3\n",
      "Introduce un número: 4\n",
      "Introduce un número: 5\n",
      "Introduce un número: 6\n",
      "Introduce un número: 7\n",
      "Introduce un número: 8\n",
      "Introduce un número: 9\n",
      "Introduce un número: 10\n",
      "Introduce un número: 11\n",
      "Introduce un número: -1\n",
      "Introduce un número: -3\n",
      "Introduce un número: 5\n",
      "Introduce un número: 7\n",
      "Introduce un número: 6\n",
      "Introduce un número: 5\n",
      "Introduce un número: 0\n",
      "La cantidad de numeros pares introducidos es 7\n",
      "La cantidad de numeros impares introducidos es 11\n",
      "Nuestro diccionario es {'Impares': 11, 'Pares': 7}\n"
     ]
    }
   ],
   "source": [
    "#Ejercicio 5\n",
    "#Crea un programa que lea números enteros hasta que introduzca el 0 y devuelva un diccionario con la\n",
    "#cantidad números pares e impares introducidos.\n",
    "\n",
    "dicc = {}\n",
    "l = []\n",
    "j = 0\n",
    "idx = 0\n",
    "\n",
    "while True:\n",
    "    n = int(input(\"Introduce un número: \"))\n",
    "    l.append(n)\n",
    "    if n == 0:\n",
    "        break\n",
    "        \n",
    "for i in range(len(l)):\n",
    "    if l[i]%2 == 0:\n",
    "        j = j+1\n",
    "        dicc[\"Pares\"] = j\n",
    "    else:\n",
    "        idx = idx+1\n",
    "        dicc[\"Impares\"] = idx\n",
    "        \n",
    "        \n",
    "        \n",
    "print(\"La cantidad de numeros pares introducidos es {}\".format(j))\n",
    "print(\"La cantidad de numeros impares introducidos es {}\".format(idx))\n",
    "print(\"Nuestro diccionario es {}\".format(dicc))\n",
    "        \n",
    "\n",
    "        \n"
   ]
  },
  {
   "cell_type": "code",
   "execution_count": 1,
   "metadata": {},
   "outputs": [
    {
     "name": "stdout",
     "output_type": "stream",
     "text": [
      "Introduce la cantidad de alumnos de los que quieres saber sus calificaciones: 4\n",
      "Introduce un nombre: Angel\n",
      "1. Introduce un nota: 9.8\n",
      "2. Introduce un nota: 9.7\n",
      "3. Introduce un nota: 6\n",
      "4. Introduce un nota: 8.7\n",
      "5. Introduce un nota: 4\n",
      "6. Introduce un nota: 0\n",
      "El alumno Angel tiene una media en sus calificaciones de 7.640000000000001\n",
      "Introduce un nombre: Roberto\n",
      "1. Introduce un nota: 10\n",
      "2. Introduce un nota: 10\n",
      "3. Introduce un nota: 0\n",
      "El alumno Roberto tiene una media en sus calificaciones de 10.0\n",
      "Introduce un nombre: Sofia\n",
      "1. Introduce un nota: 10\n",
      "2. Introduce un nota: 10\n",
      "3. Introduce un nota: 9.8\n",
      "4. Introduce un nota: 7.5\n",
      "5. Introduce un nota: 0\n",
      "El alumno Sofia tiene una media en sus calificaciones de 9.325\n",
      "Introduce un nombre: Juan\n",
      "1. Introduce un nota: 3\n",
      "2. Introduce un nota: 10\n",
      "3. Introduce un nota: 9.7\n",
      "4. Introduce un nota: 8\n",
      "5. Introduce un nota: 8\n",
      "6. Introduce un nota: 0\n",
      "El alumno Juan tiene una media en sus calificaciones de 7.74\n",
      "Diccionario 1 {'Angel': [9.8, 9.7, 6.0, 8.7, 4.0], 'Roberto': [10.0, 10.0], 'Sofia': [10.0, 10.0, 9.8, 7.5], 'Juan': [3.0, 10.0, 9.7, 8.0, 8.0]}\n",
      "Diccionario 2 {'Notal 1': 7.640000000000001, 'Notal 2': 10.0, 'Notal 3': 9.325, 'Notal 4': 7.74}\n"
     ]
    }
   ],
   "source": [
    "#Ejercicio 6\n",
    "#Crea un programa que permita al usuario introducir los nombres de los alumnos de una clase y las notas que\n",
    "#han obtenido. Cada alumno puede tener distinta cantidad de notas. Guarda la información en un diccionario\n",
    "#cuyas claves serán los nombres de los alumnos y los valores serán listas con las notas de cada alumno.\n",
    "\n",
    "#El programa va a pedir el nombre de un estudiante e irá pidiendo sus notas (del 1 al 10) hasta que introduzcamos un 0.\n",
    "#Al final, cuando el nombre que introduzcamos sea un string vacío, el programa nos mostrará la\n",
    "#lista de alumnos y la nota media obtenida por cada uno de ellos.\n",
    "#PISTA: Vas a necesitar la función sum().\n",
    "\n",
    "n = int(input(\"Introduce la cantidad de alumnos de los que quieres saber sus calificaciones: \"))\n",
    "dicc = {}\n",
    "dicc2 = {}\n",
    "l = []\n",
    "l2 = []\n",
    "\n",
    "for i in range(n):\n",
    "    alumno = input(\"Introduce un nombre: \")\n",
    "    l.append(alumno)\n",
    "    l2.append([])\n",
    "    idx = 1\n",
    "    while True:\n",
    "        m = float(input(\"{}. Introduce una nota: \".format(idx)))\n",
    "        if m == 0:\n",
    "            break\n",
    "        else:\n",
    "            l2[i].append(m)\n",
    "            idx = idx+1\n",
    "    dicc[alumno] = l2[i]\n",
    "    dicc2[\"Notal {}\".format(i+1)] = sum(l2[i])/len(l2[i])\n",
    "    print(\"El alumno {} tiene una media en sus calificaciones de {}\".format(alumno,dicc2[\"Notal {}\".format(i+1)]))\n",
    "    idx = 0\n",
    "    \n",
    "print(\"Diccionario 1 {}\".format(dicc))\n",
    "print(\"Diccionario 2 {}\".format(dicc2))\n",
    "    "
   ]
  },
  {
   "cell_type": "code",
   "execution_count": 17,
   "metadata": {},
   "outputs": [
    {
     "name": "stdout",
     "output_type": "stream",
     "text": [
      "Introduzca un numero entero positivo: 10\n",
      "{1: '*', 2: '**', 3: '***', 4: '****', 5: '*****', 6: '******', 7: '*******', 8: '********', 9: '*********', 10: '**********'}\n"
     ]
    }
   ],
   "source": [
    "#Ejercicio 7\n",
    "#Crea un programa que pida un número entero positivo por teclado y que cree un diccionario cuyas claves\n",
    "#sean desde el número 1 hasta el número indicado. Los valores de cada clave serán tantos símbolos \"*\" como\n",
    "#indique la clave.\n",
    "\n",
    "n = int(input(\"Introduzca un numero entero positivo: \"))\n",
    "\n",
    "dicc = {}\n",
    "for i in range(n):\n",
    "    dicc[i+1] = \"*\"*(i+1)\n",
    "\n",
    "print(dicc)"
   ]
  },
  {
   "cell_type": "code",
   "execution_count": 31,
   "metadata": {},
   "outputs": [
    {
     "name": "stdout",
     "output_type": "stream",
     "text": [
      "Introduce la cantidad de palabras que quieras tener en tu diccionario: 3\n",
      "Introduce una palabra: Rio de Janeiro\n",
      "Introduce una palabra: Sao Paulo\n",
      "Introduce una palabra: Mexico\n",
      "{'Rio de Janeiro': 12, 'Sao Paulo': 8, 'Mexico': 6}\n"
     ]
    }
   ],
   "source": [
    "#Ejercicio 8\n",
    "#Crea un programa que pida el número de palabras a introducir. Crear un diccionario de clave la palabra y\n",
    "#de valor la longitud de dicha palabra.\n",
    "\n",
    "n = int(input(\"Introduce la cantidad de palabras que quieras tener en tu diccionario: \"))\n",
    "dicc = {}\n",
    "for _ in range(n):\n",
    "    palabra = input(\"Introduce una palabra: \")\n",
    "    long  = len(palabra)\n",
    "    for i in palabra:\n",
    "        if i == \" \":\n",
    "            long = long - 1\n",
    "    dicc[palabra] = long\n",
    "    \n",
    "print(dicc)"
   ]
  },
  {
   "cell_type": "code",
   "execution_count": 22,
   "metadata": {},
   "outputs": [
    {
     "name": "stdout",
     "output_type": "stream",
     "text": [
      "Introduce el numero de palabras que quieres tener en tu diccionario: 4\n",
      "Introduce una palabra: Ferrocarril\n",
      "Introduce una palabra: Automovil\n",
      "Introduce una palabra: Alcohol Etilico\n",
      "Introduce una palabra: Desconocimiento\n",
      "{'ferrocarril': ['e', 'o', 'a', 'i'], 'automovil': ['a', 'u', 'o', 'i'], 'alcohol etilico': ['a', 'o', 'e', 'i'], 'desconocimiento': ['e', 'o', 'i']}\n",
      "{'ferrocarril': 4, 'automovil': 5, 'alcohol etilico': 7, 'desconocimiento': 7}\n",
      "\n",
      "ferrocarril tiene 4 vocales en total.\n",
      "automovil tiene 5 vocales en total.\n",
      "alcohol etilico tiene 7 vocales en total.\n",
      "desconocimiento tiene 7 vocales en total.\n"
     ]
    }
   ],
   "source": [
    "#Ejercicio 9\n",
    "#Crea un programa que pida el número de palabras a introducir. Crear un diccionario de clave la palabra y\n",
    "#de valor el número de vocales de la palabra.\n",
    "n = int(input(\"Introduce el numero de palabras que quieres tener en tu diccionario: \"))\n",
    "dicc = {}\n",
    "dicc2 = {}\n",
    "l = []\n",
    "l2 = []\n",
    "idx = 0\n",
    "for i in range(n):\n",
    "    l.append([])\n",
    "    palabra = input(\"Introduce una palabra: \")\n",
    "    palabra = palabra.lower()\n",
    "    for j in palabra:\n",
    "        if j == \"a\" or j ==\"e\" or j ==\"i\" or j ==\"o\" or j ==\"u\":\n",
    "            l[i].append(j)\n",
    "            idx = idx+1\n",
    "            if j not in l2:\n",
    "                l2.append(j)\n",
    "    \n",
    "    dicc2[palabra] = idx \n",
    "    idx = 0\n",
    "                \n",
    "    dicc[palabra] = l2\n",
    "    l2 = []\n",
    "\n",
    "print(dicc)\n",
    "print(dicc2)\n",
    "print(\"\")\n",
    "for key, value in dicc2.items():\n",
    "    print(key, \"tiene\", value, \"vocales en total.\")\n"
   ]
  },
  {
   "cell_type": "code",
   "execution_count": 30,
   "metadata": {},
   "outputs": [
    {
     "name": "stdout",
     "output_type": "stream",
     "text": [
      "Introduce el numero de filas: 3\n",
      "Introduce el numero de columnas: 4\n",
      "Introduce el elemento (0,0): 1\n",
      "Introduce el elemento (0,1): 2\n",
      "Introduce el elemento (0,2): 3\n",
      "Introduce el elemento (0,3): 4\n",
      "Introduce el elemento (1,0): 5\n",
      "Introduce el elemento (1,1): 6\n",
      "Introduce el elemento (1,2): 7\n",
      "Introduce el elemento (1,3): 8\n",
      "Introduce el elemento (2,0): 9\n",
      "Introduce el elemento (2,1): 10\n",
      "Introduce el elemento (2,2): 11\n",
      "Introduce el elemento (2,3): 12\n",
      "1.0 2.0 3.0 4.0 \n",
      "5.0 6.0 7.0 8.0 \n",
      "9.0 10.0 11.0 12.0 \n",
      "El diccionario es {'Numero_Filas': 3, 'Fila 1': [1.0, 2.0, 3.0, 4.0], 'Fila 2': [5.0, 6.0, 7.0, 8.0], 'Fila 3': [9.0, 10.0, 11.0, 12.0], 'Numero_Columnas': 4}\n"
     ]
    }
   ],
   "source": [
    "#Ejercicio 10\n",
    "#Dada una matriz, crea un diccionario que guarde el número de filas, el de columnas y cada fila en una entrada\n",
    "#de un diccionario\n",
    "\n",
    "n = int(input(\"Introduce el numero de filas: \"))\n",
    "m = int(input(\"Introduce el numero de columnas: \"))\n",
    "\n",
    "l1 = []\n",
    "dicc = {}\n",
    "nfilas = 0\n",
    "\n",
    "\n",
    "for i in range(n):\n",
    "    l1.append([])\n",
    "    nfilas = nfilas+1\n",
    "    for j in range(m):\n",
    "        l1[i].append(float(input(\"Introduce el elemento ({},{}): \".format(i,j))))\n",
    "        \n",
    "    dicc[\"Numero_Filas\"] = nfilas\n",
    "    dicc[\"Fila {}\".format(i+1)] = l1[i]\n",
    "ncolumnas = len(l1[1])  \n",
    "dicc[\"Numero_Columnas\"] = ncolumnas\n",
    "\n",
    "    \n",
    "for i in range(n):\n",
    "    for j in range(m):\n",
    "        print(l1[i][j], end = \" \")\n",
    "    print(\"\")\n",
    "\n",
    "\n",
    "print(\"El diccionario es {}\".format(dicc))"
   ]
  }
 ],
 "metadata": {
  "kernelspec": {
   "display_name": "Python 3",
   "language": "python",
   "name": "python3"
  },
  "language_info": {
   "codemirror_mode": {
    "name": "ipython",
    "version": 3
   },
   "file_extension": ".py",
   "mimetype": "text/x-python",
   "name": "python",
   "nbconvert_exporter": "python",
   "pygments_lexer": "ipython3",
   "version": "3.8.3"
  }
 },
 "nbformat": 4,
 "nbformat_minor": 4
}
