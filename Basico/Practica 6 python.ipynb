{
 "cells": [
  {
   "cell_type": "code",
   "execution_count": 20,
   "metadata": {},
   "outputs": [
    {
     "name": "stdout",
     "output_type": "stream",
     "text": [
      "Introduce un numero: 79\n",
      "Tu numero es primo\n"
     ]
    }
   ],
   "source": [
    "#1) Escribir un programa que lea un número desde teclado y determine si el mismo es primo o no.\n",
    "\n",
    "numero = int(input(\"Introduce un numero: \"))\n",
    "Primo = 0\n",
    "for i in range(numero):\n",
    "    j = i+1\n",
    "    if numero%j == 0:\n",
    "        Primo = Primo+1\n",
    "    else:\n",
    "        continue\n",
    "           \n",
    "            \n",
    "if Primo == 2:\n",
    "    print(\"Tu numero es primo\")\n",
    "else:\n",
    "    print(\"Tu numero no es primo\")\n",
    "        "
   ]
  },
  {
   "cell_type": "code",
   "execution_count": 24,
   "metadata": {},
   "outputs": [
    {
     "name": "stdout",
     "output_type": "stream",
     "text": [
      "Ingresa la cantidad total de personas: 10\n",
      "Ingresa 0 si es Hombre, 1 si es Mujer: 1\n",
      "Ingresa 0 si es Hombre, 1 si es Mujer: 1\n",
      "Ingresa 0 si es Hombre, 1 si es Mujer: 1\n",
      "Ingresa 0 si es Hombre, 1 si es Mujer: 1\n",
      "Ingresa 0 si es Hombre, 1 si es Mujer: 1\n",
      "Ingresa 0 si es Hombre, 1 si es Mujer: 1\n",
      "Ingresa 0 si es Hombre, 1 si es Mujer: 0\n",
      "Ingresa 0 si es Hombre, 1 si es Mujer: 0\n",
      "Ingresa 0 si es Hombre, 1 si es Mujer: 0\n",
      "Ingresa 0 si es Hombre, 1 si es Mujer: 0\n",
      "La cantidad de Hombres es 4 y el porcentaje respecto a la población total  0.4\n",
      "La cantidad de Mujeres es 6 y el porcentaje respecto a la población total  0.6\n"
     ]
    }
   ],
   "source": [
    "#2) Mostrar por pantalla la cantidad de mujeres y \n",
    "#hombres (M/H) de un total de N valores leídos desde teclado. Mostrar también su porcentaje.\n",
    "idx=0\n",
    "idx1=0\n",
    "N = int(input(\"Ingresa la cantidad total de personas: \"))\n",
    "for i in range(N):\n",
    "    H_M = int(input(\"Ingresa 0 si es Hombre, 1 si es Mujer: \"))\n",
    "    if H_M == 0:\n",
    "        idx = idx+1\n",
    "    else:\n",
    "        idx1 = idx1+1\n",
    "        \n",
    "print(\"La cantidad de Hombres es {} y el porcentaje respecto a la población total  {}\".format(idx,idx/N))\n",
    "print(\"La cantidad de Mujeres es {} y el porcentaje respecto a la población total  {}\".format(idx1,idx1/N))\n",
    "\n",
    "\n"
   ]
  },
  {
   "cell_type": "code",
   "execution_count": 26,
   "metadata": {},
   "outputs": [
    {
     "name": "stdout",
     "output_type": "stream",
     "text": [
      "Ingresa un numero: 10\n",
      "Ingresa un numero: 7\n",
      "Introduce dos numeros pares\n",
      "Ingresa un numero: 10\n",
      "Ingresa un numero: 4\n",
      "El cociente entre los dos numeros es: 2.5\n"
     ]
    }
   ],
   "source": [
    "#3) Diseñar un programa que calcule cuánto es el cociente entre dos números (únicamente dos números pares). \n",
    "#Si el usuario ingresa un número impar, le pide otra vez el número hasta ingresar uno que sea par.\n",
    "\n",
    "while True:\n",
    "    numero1 = int(input(\"Ingresa un numero: \"))\n",
    "    numero2 = int(input(\"Ingresa un numero: \"))\n",
    "    if numero1%2 == 0 and numero2%2 == 0:\n",
    "        break\n",
    "    else:\n",
    "        print(\"Introduce dos numeros pares\")\n",
    "        \n",
    "print(\"El cociente entre los dos numeros es: {}\".format(numero1/numero2))\n",
    "        \n",
    "        "
   ]
  },
  {
   "cell_type": "code",
   "execution_count": 34,
   "metadata": {},
   "outputs": [
    {
     "name": "stdout",
     "output_type": "stream",
     "text": [
      "Ingresa la cantidad de temperaturas: 3\n",
      "Ingresa una temperatura: 1\n",
      "Ingresa una temperatura: 2\n",
      "Ingresa una temperatura: 3\n",
      "\n",
      "\n",
      "La temperatura menor es 999\n",
      "La temperatura mayor es 3\n"
     ]
    }
   ],
   "source": [
    "#4) Ingresar N temperaturas por teclado y mostrar la mayor y la menor.\n",
    "mayor = 0\n",
    "menor = 999\n",
    "temperaturas = int(input(\"Ingresa la cantidad de temperaturas: \"))\n",
    "for _ in range(temperaturas):\n",
    "    temperatura = int(input(\"Ingresa una temperatura: \"))\n",
    "    \n",
    "    if temperatura>=mayor:\n",
    "        mayor = temperatura\n",
    "        \n",
    "    elif menor>temperatura:\n",
    "        menor = temperatura\n",
    "\n",
    "print(\"\\n\")\n",
    "print(\"La temperatura menor es {}\".format(menor))\n",
    "print(\"La temperatura mayor es {}\".format(mayor))"
   ]
  }
 ],
 "metadata": {
  "kernelspec": {
   "display_name": "Python 3",
   "language": "python",
   "name": "python3"
  },
  "language_info": {
   "codemirror_mode": {
    "name": "ipython",
    "version": 3
   },
   "file_extension": ".py",
   "mimetype": "text/x-python",
   "name": "python",
   "nbconvert_exporter": "python",
   "pygments_lexer": "ipython3",
   "version": "3.8.3"
  }
 },
 "nbformat": 4,
 "nbformat_minor": 4
}
