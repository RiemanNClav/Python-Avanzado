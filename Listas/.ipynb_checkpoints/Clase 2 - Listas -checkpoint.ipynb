{
 "cells": [
  {
   "cell_type": "markdown",
   "metadata": {
    "id": "uZGOQzEDIhvP"
   },
   "source": [
    "#DESAFÍO DE LISTAS\n",
    "\n",
    "A partir de **list_1** y **list_2** resolver los numerales del desafío.\n",
    "\n",
    "Para esto tendrás que escribir y ejecutar el código en las celdas corrrespondientes.\n",
    "\n",
    "Recuerda instanciar las variables **list_1** y **list_2** antes de comenzar el ejercicio."
   ]
  },
  {
   "cell_type": "code",
   "execution_count": 1,
   "metadata": {
    "colab": {
     "base_uri": "https://localhost:8080/"
    },
    "id": "iD-Py2C9IevK",
    "outputId": "bd1d3a38-fdfd-4f99-816d-1049a47f6422"
   },
   "outputs": [
    {
     "data": {
      "text/plain": [
       "[1, 12, 123]"
      ]
     },
     "execution_count": 1,
     "metadata": {},
     "output_type": "execute_result"
    }
   ],
   "source": [
    "list_1 = [1, 12, 123]\n",
    "list_2 = [\"Bye\", \"Ciao\", \"Agur\", \"Adieu\"]\n",
    "list_1"
   ]
  },
  {
   "cell_type": "markdown",
   "metadata": {
    "id": "GT2H9edoIRaG"
   },
   "source": [
    "\n",
    "1. Añade a la **list_1** el int `1234` y luego el string `“Hola”`\n"
   ]
  },
  {
   "cell_type": "code",
   "execution_count": 17,
   "metadata": {
    "colab": {
     "base_uri": "https://localhost:8080/"
    },
    "id": "LHujWyqJIfPE",
    "outputId": "b623e435-9827-4d49-bb46-42f203abe798"
   },
   "outputs": [
    {
     "data": {
      "text/plain": [
       "[1, 12, 123, 1234, 'Hola', 1234, 'Hola']"
      ]
     },
     "execution_count": 17,
     "metadata": {},
     "output_type": "execute_result"
    }
   ],
   "source": [
    "# list_1.append(1234)\n",
    "# list_1\n",
    "# list_1.append('Hola')\n",
    "list_1 += [1234, 'Hola']\n",
    "list_1"
   ]
  },
  {
   "cell_type": "code",
   "execution_count": 22,
   "metadata": {},
   "outputs": [],
   "source": [
    "h = list()"
   ]
  },
  {
   "cell_type": "code",
   "execution_count": 25,
   "metadata": {},
   "outputs": [],
   "source": [
    "agregar = [1,2,3,4,5,6]\n",
    "h += agregar"
   ]
  },
  {
   "cell_type": "code",
   "execution_count": 26,
   "metadata": {},
   "outputs": [
    {
     "data": {
      "text/plain": [
       "[9, 1, 2, 3, 4, 5, 6]"
      ]
     },
     "execution_count": 26,
     "metadata": {},
     "output_type": "execute_result"
    }
   ],
   "source": [
    "h"
   ]
  },
  {
   "cell_type": "markdown",
   "metadata": {
    "id": "BXMTesoSIfcu"
   },
   "source": [
    "2. Añade a la **list_2** el string `“Adios”` y luego el int `1234`"
   ]
  },
  {
   "cell_type": "code",
   "execution_count": 3,
   "metadata": {
    "colab": {
     "base_uri": "https://localhost:8080/"
    },
    "id": "EzlqOQxnIfzE",
    "outputId": "fb93ba62-6d33-4014-e128-3f7718887a85"
   },
   "outputs": [
    {
     "data": {
      "text/plain": [
       "['Bye', 'Ciao', 'Agur', 'Adieu', 'Adios', 1234]"
      ]
     },
     "execution_count": 3,
     "metadata": {},
     "output_type": "execute_result"
    }
   ],
   "source": [
    "list_2.append('Adios')\n",
    "list_2.append(1234)\n",
    "list_2"
   ]
  },
  {
   "cell_type": "code",
   "execution_count": 52,
   "metadata": {},
   "outputs": [],
   "source": [
    "list2 = []\n",
    "list2 += ['Adios',1234]\n",
    "list2 += ['jjj']"
   ]
  },
  {
   "cell_type": "code",
   "execution_count": 53,
   "metadata": {},
   "outputs": [
    {
     "name": "stdout",
     "output_type": "stream",
     "text": [
      "['Adios', 1234, 'jjj']\n"
     ]
    }
   ],
   "source": [
    "print(list2)"
   ]
  },
  {
   "cell_type": "markdown",
   "metadata": {
    "id": "izmMJiXfJlVL"
   },
   "source": [
    "3. Instancia **list_3** con todos los elementos de **list_1** menos el último"
   ]
  },
  {
   "cell_type": "code",
   "execution_count": 30,
   "metadata": {
    "colab": {
     "base_uri": "https://localhost:8080/"
    },
    "id": "mD06K4PvJldb",
    "outputId": "285982b8-a573-4fc9-8c5f-2fc2acee719f"
   },
   "outputs": [
    {
     "data": {
      "text/plain": [
       "[1, 12, 123, 1234, 'Hola', 1234]"
      ]
     },
     "execution_count": 30,
     "metadata": {},
     "output_type": "execute_result"
    }
   ],
   "source": [
    "list_3 = list_1[0:len(list_1)-1]\n",
    "list_3 = list_1[0:4]\n",
    "list_3 = list_1[:-1]\n",
    "list_3 = list_1[:-1]\n",
    "list_3"
   ]
  },
  {
   "cell_type": "code",
   "execution_count": 31,
   "metadata": {
    "colab": {
     "base_uri": "https://localhost:8080/"
    },
    "id": "vweqtYRrVueb",
    "outputId": "7c62bfc8-78bc-4cc3-c247-a1644bb8fff2"
   },
   "outputs": [
    {
     "data": {
      "text/plain": [
       "[1, 12, 123, 1234, 'Hola', 1234]"
      ]
     },
     "execution_count": 31,
     "metadata": {},
     "output_type": "execute_result"
    }
   ],
   "source": [
    "list_3"
   ]
  },
  {
   "cell_type": "code",
   "execution_count": 33,
   "metadata": {},
   "outputs": [
    {
     "data": {
      "text/plain": [
       "1234"
      ]
     },
     "execution_count": 33,
     "metadata": {},
     "output_type": "execute_result"
    }
   ],
   "source": [
    "list_3[len(list_3)-1]"
   ]
  },
  {
   "cell_type": "code",
   "execution_count": 67,
   "metadata": {},
   "outputs": [],
   "source": []
  },
  {
   "cell_type": "code",
   "execution_count": 74,
   "metadata": {},
   "outputs": [],
   "source": [
    "list3 = [1,2,3,4,5,6,7,8,9,10]\n",
    "list2 = []\n",
    "chidos = []\n",
    "for i in range(len(list3)-1):\n",
    "    string = \"\"\n",
    "    for j in range(i+2):\n",
    "        if j < len(list3):\n",
    "            z = str(list3[j])\n",
    "            string = string + z\n",
    "    chidos.append(string)\n",
    "    \n",
    "        "
   ]
  },
  {
   "cell_type": "code",
   "execution_count": 75,
   "metadata": {},
   "outputs": [
    {
     "data": {
      "text/plain": [
       "['12',\n",
       " '123',\n",
       " '1234',\n",
       " '12345',\n",
       " '123456',\n",
       " '1234567',\n",
       " '12345678',\n",
       " '123456789',\n",
       " '12345678910']"
      ]
     },
     "execution_count": 75,
     "metadata": {},
     "output_type": "execute_result"
    }
   ],
   "source": [
    "chidos"
   ]
  },
  {
   "cell_type": "markdown",
   "metadata": {
    "id": "WTuaRbpyJllU"
   },
   "source": [
    "4. Instancia **list_4** con todos los elementos de **list_2** menos el primero y el último"
   ]
  },
  {
   "cell_type": "code",
   "execution_count": 6,
   "metadata": {
    "colab": {
     "base_uri": "https://localhost:8080/"
    },
    "id": "rgUo9BETJluw",
    "outputId": "1041020c-0b1d-4bd7-b5e9-a31792e85f53"
   },
   "outputs": [
    {
     "data": {
      "text/plain": [
       "['Ciao', 'Agur', 'Adieu', 'Adios']"
      ]
     },
     "execution_count": 6,
     "metadata": {},
     "output_type": "execute_result"
    }
   ],
   "source": [
    "list_4 = list_2[1:-1]\n",
    "list_4"
   ]
  },
  {
   "cell_type": "markdown",
   "metadata": {
    "id": "y8WCrxpZMyHT"
   },
   "source": [
    "5. Instancia **list_5** con los elementos de **list_4** y de **list_3**\n"
   ]
  },
  {
   "cell_type": "code",
   "execution_count": 7,
   "metadata": {
    "colab": {
     "base_uri": "https://localhost:8080/"
    },
    "id": "4Rz-lSeJMyQ3",
    "outputId": "948d0d8e-a631-4b6b-9ee5-10c0bf63a07b"
   },
   "outputs": [
    {
     "data": {
      "text/plain": [
       "['Ciao', 'Agur', 'Adieu', 'Adios', 1, 12, 123, 1234]"
      ]
     },
     "execution_count": 7,
     "metadata": {},
     "output_type": "execute_result"
    }
   ],
   "source": [
    "list_5 = list_4 + list_3\n",
    "list_5"
   ]
  },
  {
   "cell_type": "markdown",
   "metadata": {
    "id": "rybemaUCD7fr"
   },
   "source": [
    "\n",
    "#DESAFÍO DE TUPLAS\n",
    "\n",
    "A partir de la tupla **my_tuple**, resolver los numerales del desafío."
   ]
  },
  {
   "cell_type": "code",
   "execution_count": 8,
   "metadata": {
    "id": "HmFvuxBADqqx"
   },
   "outputs": [],
   "source": [
    "my_tuple = (5, 12, 7, 37, 8, 86, 19, 7, -783, 87, 188, 7, 9, 12, 7, 3982)"
   ]
  },
  {
   "cell_type": "markdown",
   "metadata": {
    "id": "ydPTkqKJGRHZ"
   },
   "source": [
    "1. El último ítem de **my_tuple**"
   ]
  },
  {
   "cell_type": "code",
   "execution_count": 9,
   "metadata": {
    "colab": {
     "base_uri": "https://localhost:8080/"
    },
    "id": "z5WptvSCGYSq",
    "outputId": "bcc39bc8-a9d2-4082-c6bf-68e11e277fbf"
   },
   "outputs": [
    {
     "data": {
      "text/plain": [
       "3982"
      ]
     },
     "execution_count": 9,
     "metadata": {},
     "output_type": "execute_result"
    }
   ],
   "source": [
    "my_tuple[-1]"
   ]
  },
  {
   "cell_type": "markdown",
   "metadata": {
    "id": "8l8SmM5RGY8c"
   },
   "source": [
    "2. El número de ítems de my_tuple"
   ]
  },
  {
   "cell_type": "code",
   "execution_count": 10,
   "metadata": {
    "colab": {
     "base_uri": "https://localhost:8080/"
    },
    "id": "D8GzhoDcGb6T",
    "outputId": "0af9357d-4bff-48e7-c3b5-7b16edf67315"
   },
   "outputs": [
    {
     "data": {
      "text/plain": [
       "16"
      ]
     },
     "execution_count": 10,
     "metadata": {},
     "output_type": "execute_result"
    }
   ],
   "source": [
    "len(my_tuple)"
   ]
  },
  {
   "cell_type": "markdown",
   "metadata": {
    "id": "j9voBgYdGcGN"
   },
   "source": [
    "3. La posición donde se encuentra el ítem 87 de **my_tuple**"
   ]
  },
  {
   "cell_type": "code",
   "execution_count": 11,
   "metadata": {
    "colab": {
     "base_uri": "https://localhost:8080/"
    },
    "id": "tbe8x-FhGfg7",
    "outputId": "2ebeb4b0-0e64-4cd0-a72f-f869779ce25f"
   },
   "outputs": [
    {
     "data": {
      "text/plain": [
       "9"
      ]
     },
     "execution_count": 11,
     "metadata": {},
     "output_type": "execute_result"
    }
   ],
   "source": [
    "my_tuple.index(87)"
   ]
  },
  {
   "cell_type": "markdown",
   "metadata": {
    "id": "XNO-osY1Gfte"
   },
   "source": [
    "4. Una lista con los últimos tres ítems de my_tuple"
   ]
  },
  {
   "cell_type": "code",
   "execution_count": 12,
   "metadata": {
    "colab": {
     "base_uri": "https://localhost:8080/"
    },
    "id": "acByvffuGirz",
    "outputId": "61e3d0f8-e823-4576-c910-de4d1a123841"
   },
   "outputs": [
    {
     "data": {
      "text/plain": [
       "tuple"
      ]
     },
     "execution_count": 12,
     "metadata": {},
     "output_type": "execute_result"
    }
   ],
   "source": [
    "# my_sublist = list(my_tuple[-3:])\n",
    "# my_sublist\n",
    "my_listc = my_tuple[len(my_tuple)-3:len(my_tuple)] \n",
    "type(my_listc) "
   ]
  },
  {
   "cell_type": "markdown",
   "metadata": {
    "id": "ZzF6NcxjGi24"
   },
   "source": [
    "5. El ítem que está en la posición 8 de **my_tuple**"
   ]
  },
  {
   "cell_type": "code",
   "execution_count": 13,
   "metadata": {
    "colab": {
     "base_uri": "https://localhost:8080/"
    },
    "id": "qez4R2EgGlCv",
    "outputId": "bc1f6cbc-5232-4072-db15-a474593a5365"
   },
   "outputs": [
    {
     "data": {
      "text/plain": [
       "7"
      ]
     },
     "execution_count": 13,
     "metadata": {},
     "output_type": "execute_result"
    }
   ],
   "source": [
    "my_tuple[7]\n",
    "my_tuple[7]"
   ]
  },
  {
   "cell_type": "markdown",
   "metadata": {
    "id": "VYv3XgfhGlfy"
   },
   "source": [
    "6. El número de veces que se repite `7` en **my_tuple**"
   ]
  },
  {
   "cell_type": "code",
   "execution_count": 14,
   "metadata": {
    "colab": {
     "base_uri": "https://localhost:8080/"
    },
    "id": "t70Cvv-HGoYX",
    "outputId": "ce5e4f98-68f0-4e8f-eb92-80ef164e208d"
   },
   "outputs": [
    {
     "data": {
      "text/plain": [
       "4"
      ]
     },
     "execution_count": 14,
     "metadata": {},
     "output_type": "execute_result"
    }
   ],
   "source": [
    "my_tuple.count(7)"
   ]
  },
  {
   "cell_type": "code",
   "execution_count": 15,
   "metadata": {
    "id": "OeFJ13lJiLC2"
   },
   "outputs": [],
   "source": [
    "a = 5"
   ]
  },
  {
   "cell_type": "code",
   "execution_count": 16,
   "metadata": {
    "colab": {
     "base_uri": "https://localhost:8080/"
    },
    "id": "rw03GgcmjtCX",
    "outputId": "0e24f9c8-3408-429d-c058-4ccae65aaa6f"
   },
   "outputs": [
    {
     "data": {
      "text/plain": [
       "5"
      ]
     },
     "execution_count": 16,
     "metadata": {},
     "output_type": "execute_result"
    }
   ],
   "source": [
    "a"
   ]
  },
  {
   "cell_type": "code",
   "execution_count": null,
   "metadata": {
    "id": "YNQHJMb_jtrX"
   },
   "outputs": [],
   "source": []
  },
  {
   "cell_type": "markdown",
   "metadata": {
    "id": "ds-LcWjik6aA"
   },
   "source": [
    "\n",
    "# New Section\n",
    "1.   List item\n",
    "2.   List item\n",
    "\n"
   ]
  }
 ],
 "metadata": {
  "colab": {
   "collapsed_sections": [],
   "name": "class_notebook.ipynb",
   "provenance": []
  },
  "kernelspec": {
   "display_name": "Python 3",
   "language": "python",
   "name": "python3"
  },
  "language_info": {
   "codemirror_mode": {
    "name": "ipython",
    "version": 3
   },
   "file_extension": ".py",
   "mimetype": "text/x-python",
   "name": "python",
   "nbconvert_exporter": "python",
   "pygments_lexer": "ipython3",
   "version": "3.8.3"
  }
 },
 "nbformat": 4,
 "nbformat_minor": 1
}
