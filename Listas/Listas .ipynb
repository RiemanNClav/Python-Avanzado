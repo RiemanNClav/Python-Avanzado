{
 "cells": [
  {
   "cell_type": "markdown",
   "metadata": {},
   "source": [
    "# 67. INTRODUCCION A LAS LISTAS "
   ]
  },
  {
   "cell_type": "markdown",
   "metadata": {},
   "source": [
    "## Lista \n",
    "\n",
    "La primera estructura de datos que veremos son las listas. Estas son un conjunto de elementos ordenados separados por comas y escritos entre claudator, $\\textbf{[]}$. \n",
    "\n",
    "La listas son: \n",
    "\n",
    "* $\\textbf{Heterogéneas}$: los elementos pueden ser de distinto tipo en una misma lista.\n",
    "* $\\textbf{Mutables}$: los elementos pueden ser modificados.\n",
    "\n",
    "Un ejemplo de lista sería "
   ]
  },
  {
   "cell_type": "code",
   "execution_count": 1,
   "metadata": {},
   "outputs": [
    {
     "name": "stdout",
     "output_type": "stream",
     "text": [
      "['Juan', 31, 172.32, True]\n"
     ]
    }
   ],
   "source": [
    "l = [\"Juan\", 31, 172.32, True]\n",
    "print(l)"
   ]
  },
  {
   "cell_type": "markdown",
   "metadata": {},
   "source": [
    "### Tamaño de una lista \n",
    "\n",
    "Para saber la longitud o el tamaño de una lista, podemos hacer uso de la función $\\textbf{len()}$. \n",
    "\n"
   ]
  },
  {
   "cell_type": "code",
   "execution_count": 2,
   "metadata": {},
   "outputs": [
    {
     "data": {
      "text/plain": [
       "7"
      ]
     },
     "execution_count": 2,
     "metadata": {},
     "output_type": "execute_result"
    }
   ],
   "source": [
    "l = [1,2,3,4,5,6,7]\n",
    "len(l)"
   ]
  },
  {
   "cell_type": "code",
   "execution_count": null,
   "metadata": {},
   "outputs": [],
   "source": [
    "l = [\"Zoe\", \"Miguel\", \"Silvia\", \"Pablo\"] #el primer elemento esta en la posicion 0. \n",
    "len(l)"
   ]
  },
  {
   "cell_type": "markdown",
   "metadata": {},
   "source": [
    "# 68. Elementos de una lista \n",
    "\n",
    "Cada elemento en la lista tiene su propio indice "
   ]
  },
  {
   "cell_type": "code",
   "execution_count": 4,
   "metadata": {},
   "outputs": [],
   "source": [
    "names = [\"Maria\", \"Juan\", \"Claudia\", \"Jorge\", \"Avelina\"]"
   ]
  },
  {
   "cell_type": "markdown",
   "metadata": {},
   "source": [
    "A María le corresponde el índice 0, a Juan el 1, etc. \n",
    "\n",
    "Cuidado. Los indices siempre empiezan en 0. De este modo, al primer elemetno le corresponde el indice 0; l segundo, el indice 1, etc. "
   ]
  },
  {
   "cell_type": "code",
   "execution_count": 5,
   "metadata": {},
   "outputs": [
    {
     "name": "stdout",
     "output_type": "stream",
     "text": [
      "Maria\n"
     ]
    }
   ],
   "source": [
    "print(names[0])"
   ]
  },
  {
   "cell_type": "code",
   "execution_count": 6,
   "metadata": {},
   "outputs": [
    {
     "name": "stdout",
     "output_type": "stream",
     "text": [
      "Claudia\n"
     ]
    }
   ],
   "source": [
    "print(names[2])"
   ]
  },
  {
   "cell_type": "code",
   "execution_count": 7,
   "metadata": {},
   "outputs": [
    {
     "name": "stdout",
     "output_type": "stream",
     "text": [
      "Avelina\n"
     ]
    }
   ],
   "source": [
    "print(names[4])"
   ]
  },
  {
   "cell_type": "code",
   "execution_count": 8,
   "metadata": {},
   "outputs": [
    {
     "name": "stdout",
     "output_type": "stream",
     "text": [
      "Avelina\n"
     ]
    }
   ],
   "source": [
    "print(names[-1]) #Ultimo elemento "
   ]
  },
  {
   "cell_type": "code",
   "execution_count": 9,
   "metadata": {},
   "outputs": [
    {
     "name": "stdout",
     "output_type": "stream",
     "text": [
      "Claudia\n"
     ]
    }
   ],
   "source": [
    "print(names[-3]) #Tercer elemento empezando por el final  \n"
   ]
  },
  {
   "cell_type": "markdown",
   "metadata": {},
   "source": [
    "para acceder a varios elementos a la vez, podemos hacer uso de la función: "
   ]
  },
  {
   "cell_type": "code",
   "execution_count": 10,
   "metadata": {},
   "outputs": [
    {
     "name": "stdout",
     "output_type": "stream",
     "text": [
      "['Claudia', 'Jorge']\n"
     ]
    }
   ],
   "source": [
    "print(names[2:4])"
   ]
  },
  {
   "cell_type": "code",
   "execution_count": 11,
   "metadata": {},
   "outputs": [
    {
     "name": "stdout",
     "output_type": "stream",
     "text": [
      "['Maria', 'Juan', 'Claudia']\n"
     ]
    }
   ],
   "source": [
    "print(names[:3])"
   ]
  },
  {
   "cell_type": "code",
   "execution_count": 12,
   "metadata": {},
   "outputs": [
    {
     "name": "stdout",
     "output_type": "stream",
     "text": [
      "['Jorge', 'Avelina']\n"
     ]
    }
   ],
   "source": [
    "print(names[3:])"
   ]
  },
  {
   "cell_type": "markdown",
   "metadata": {},
   "source": [
    "Observacion. En cuanto a la función : \n",
    "\n",
    "* El indice indicado a la derecha de los : nunca es incluido \n",
    "* Si no indicamos elemento a la izquierda de los :, por defecto Python intepreta que se trata del 0. \n",
    "* Si no indicamos elemento a la derecha, por defecto python intepreta que debe de mostrar los elementos desde el indice indicando a la izquierda hasta el último. \n",
    "\n",
    "Además de acceder, podemos modificar los elementos de una lista. "
   ]
  },
  {
   "cell_type": "code",
   "execution_count": 13,
   "metadata": {},
   "outputs": [
    {
     "data": {
      "text/plain": [
       "['Marina', 'Juan', 'Claudia', 'Jaime', 'Avelina']"
      ]
     },
     "execution_count": 13,
     "metadata": {},
     "output_type": "execute_result"
    }
   ],
   "source": [
    "names[0] = \"Marina\"\n",
    "names[3] = \"Jaime\"\n",
    "names"
   ]
  },
  {
   "cell_type": "markdown",
   "metadata": {},
   "source": [
    "Podemos añadir nuevos elementos a una lista con el método .append()"
   ]
  },
  {
   "cell_type": "code",
   "execution_count": 14,
   "metadata": {},
   "outputs": [
    {
     "name": "stdout",
     "output_type": "stream",
     "text": [
      "['Maria', 'Cristina', 'Juana']\n",
      "['Maria', 'Cristina', 'Juana', 'Andrea']\n",
      "['Maria', 'Cristina', 'Juana', 'Andrea', 'Ana']\n"
     ]
    }
   ],
   "source": [
    "names = [\"Maria\", \"Cristina\", \"Juana\"]\n",
    "print(names)\n",
    "\n",
    "names.append(\"Andrea\")\n",
    "print(names)\n",
    "names.append(\"Ana\")\n",
    "print(names)"
   ]
  },
  {
   "cell_type": "markdown",
   "metadata": {},
   "source": [
    "Observacion. Los elementos añadidos con append se incluyen al final. \n",
    "\n",
    "Con insert() especificamos la posición donde queremos añadir el elemento, al primero le indicamos el indice donde queremos posicionar el nuevo elemento y en segundo lugar, indicamos dicho nuevo elemento. "
   ]
  },
  {
   "cell_type": "code",
   "execution_count": 15,
   "metadata": {},
   "outputs": [
    {
     "name": "stdout",
     "output_type": "stream",
     "text": [
      "['Mario', 'Cristian', 'Juan']\n",
      "['Mario', 'Andres', 'Cristian', 'Juan']\n",
      "['Mario', 'Andres', 'Cristian', 'Miguel', 'Juan']\n"
     ]
    }
   ],
   "source": [
    "names = [\"Mario\", \"Cristian\", \"Juan\"]\n",
    "print(names)\n",
    "\n",
    "names.insert(1, \"Andres\")\n",
    "print(names)\n",
    "names.insert(3, \"Miguel\")\n",
    "print(names)"
   ]
  },
  {
   "cell_type": "markdown",
   "metadata": {},
   "source": [
    "# 69. EJERCICIO : AÑADIENDO POR TECLADO A UNA LISTA \n",
    "\n",
    "Vamos a pedirle al usuario la longitud de una lista y haremos que introduzca por teclado tanto número enteros como haya indicado, que se guardarán en una lista. Al acabar, imprimiremos la lista. "
   ]
  },
  {
   "cell_type": "code",
   "execution_count": 1,
   "metadata": {},
   "outputs": [
    {
     "name": "stdout",
     "output_type": "stream",
     "text": [
      "Introduce el tamaño de la lista: 9\n",
      "9\n",
      "9\n",
      "9\n",
      "9\n",
      "9\n",
      "9\n",
      "9\n",
      "9\n",
      "9\n",
      "Tu lista es 1\n"
     ]
    }
   ],
   "source": [
    "n = int(input(\"Introduce el tamaño de la lista: \"))\n",
    "l = []\n",
    "\n",
    "for i in range(n): \n",
    "    l.append(int(input()))\n",
    "    \n",
    "print(\"Tu lista es\", l)"
   ]
  },
  {
   "cell_type": "markdown",
   "metadata": {},
   "source": [
    "# 70. BUCLES CON LISTAS \n",
    "\n",
    "Si quisiéramos imprimir por pantalla todos los elementos de una lista, lo podríamos hacer mediante los índices "
   ]
  },
  {
   "cell_type": "code",
   "execution_count": 2,
   "metadata": {},
   "outputs": [
    {
     "name": "stdout",
     "output_type": "stream",
     "text": [
      "Mario\n",
      "Cristian\n",
      "Juan\n"
     ]
    }
   ],
   "source": [
    "names = [\"Mario\", \"Cristian\", \"Juan\"]\n",
    "for i in range(len(names)):\n",
    "    print(names[i])"
   ]
  },
  {
   "cell_type": "markdown",
   "metadata": {},
   "source": [
    "Mas facilmente iterando la lista con un for con la siguiente sintaxis:"
   ]
  },
  {
   "cell_type": "code",
   "execution_count": 3,
   "metadata": {},
   "outputs": [
    {
     "name": "stdout",
     "output_type": "stream",
     "text": [
      "Mario\n",
      "Cristian\n",
      "Juan\n"
     ]
    }
   ],
   "source": [
    "\n",
    "for i in names:\n",
    "    print(i)"
   ]
  },
  {
   "cell_type": "markdown",
   "metadata": {},
   "source": [
    "# 71. CONCATENACIÓN  Y REPETICIÓN DE LISTAS "
   ]
  },
  {
   "cell_type": "markdown",
   "metadata": {},
   "source": [
    "Dadas dos o más listas, podemos concetenarlas haciendo uso de la función + "
   ]
  },
  {
   "cell_type": "code",
   "execution_count": 4,
   "metadata": {},
   "outputs": [
    {
     "name": "stdout",
     "output_type": "stream",
     "text": [
      "[True, 21, 'Marta', 22.5, False, 22, 'Rafa']\n"
     ]
    }
   ],
   "source": [
    "l1 = [True, 21, \"Marta\"]\n",
    "l2 = [22.5, False, 22, \"Rafa\"]\n",
    "print(l1 + l2)"
   ]
  },
  {
   "cell_type": "markdown",
   "metadata": {},
   "source": [
    "## Repetición de listas \n",
    "\n",
    "Podemos repetir una misma lista tantas veces como queramos con la función * "
   ]
  },
  {
   "cell_type": "code",
   "execution_count": 6,
   "metadata": {},
   "outputs": [
    {
     "name": "stdout",
     "output_type": "stream",
     "text": [
      "['A', 'B', 'C', 'A', 'B', 'C', 'A', 'B', 'C', 'A', 'B', 'C', 'A', 'B', 'C']\n"
     ]
    }
   ],
   "source": [
    "abc = [\"A\", \"B\", \"C\"]\n",
    "print(abc * 5)"
   ]
  },
  {
   "cell_type": "markdown",
   "metadata": {},
   "source": [
    "## Mas métodos de listas \n",
    "\n",
    "El metodo $\\textbf{count()}$ recibe un elemento como argumento y cuenta la cantidad de veces que aparece en la lista "
   ]
  },
  {
   "cell_type": "markdown",
   "metadata": {},
   "source": [
    "# 72. LISTAS ANIDADAS\n",
    "\n",
    "Las listas anidadas son listas dentro de listas. Es decir, las listas no solo pueden contener números, strings o datos booleanos, sino que también pueden contener otras listas. "
   ]
  },
  {
   "cell_type": "markdown",
   "metadata": {},
   "source": [
    "Ejemplo 1 \n",
    "\n",
    "A continuación mostramos una lista anidada, pues consta de 3 elementos: \n",
    "\n",
    "* 1 lista de 3 strings \n",
    "* 1 lista heterogénea de 3 elementos que a su vez contiene una lista con 5 números \n",
    "* 1 número "
   ]
  },
  {
   "cell_type": "code",
   "execution_count": 7,
   "metadata": {},
   "outputs": [],
   "source": [
    "l = [[\"María\", \"Santos\", \"Fernández\"], \n",
    "     [\"Juan\", [1,2,3,4,5], 32],\n",
    "     2]"
   ]
  },
  {
   "cell_type": "markdown",
   "metadata": {},
   "source": [
    "Para acceder a un elemento, necesitamos su índice. Si un elemento está en una lista dentro de una lista dentro de una lista, en primer lugar indicamos el índice de la lista exterior dentro de []; después, el índice de la siguiente lista mas exterior tambien entre []; y por ultimo, el índice de la lista mas interna, claramente tambien entre []. \n",
    "\n",
    "Accedemos al string Fernández y luego al número 5. "
   ]
  },
  {
   "cell_type": "code",
   "execution_count": 10,
   "metadata": {},
   "outputs": [
    {
     "name": "stdout",
     "output_type": "stream",
     "text": [
      "Fernández\n",
      "5\n"
     ]
    }
   ],
   "source": [
    "print(l[0][2]) #Fernandez\n",
    "print(l[1][1][4])"
   ]
  },
  {
   "cell_type": "markdown",
   "metadata": {},
   "source": [
    "# 73. MAS METODOS DE LISTAS \n",
    "\n",
    "El metodo $\\textbf{.count()}$ recibe un elemento como argumento y cuenta la cantidad de veces que aparece en la lista. \n"
   ]
  },
  {
   "cell_type": "code",
   "execution_count": 14,
   "metadata": {},
   "outputs": [
    {
     "name": "stdout",
     "output_type": "stream",
     "text": [
      "El elemento 0 aparece 1 veces\n",
      "El elemento 1 aparece 2 veces\n",
      "El elemento 2 aparece 3 veces\n",
      "El elemento 3 aparece 4 veces\n"
     ]
    }
   ],
   "source": [
    "numbers = [0, 1, 1, 2, 2, 2, 3, 3, 3, 3]\n",
    "\n",
    "counted = []\n",
    "\n",
    "for element in numbers:\n",
    "    if element not in counted: \n",
    "        counted.append(element)\n",
    "        print(\"El elemento {} aparece {} veces\". format(element, numbers.count(element)))"
   ]
  },
  {
   "cell_type": "code",
   "execution_count": 15,
   "metadata": {},
   "outputs": [
    {
     "data": {
      "text/plain": [
       "[0, 1, 2, 3]"
      ]
     },
     "execution_count": 15,
     "metadata": {},
     "output_type": "execute_result"
    }
   ],
   "source": [
    "counted"
   ]
  },
  {
   "cell_type": "code",
   "execution_count": 17,
   "metadata": {},
   "outputs": [
    {
     "data": {
      "text/plain": [
       "3"
      ]
     },
     "execution_count": 17,
     "metadata": {},
     "output_type": "execute_result"
    }
   ],
   "source": [
    "numbers.count(2)"
   ]
  },
  {
   "cell_type": "markdown",
   "metadata": {},
   "source": [
    "El metodo $\\textbf{.extend()}$ extiende la lista agregando al final el iterable indicando el parámetro. "
   ]
  },
  {
   "cell_type": "code",
   "execution_count": 18,
   "metadata": {},
   "outputs": [
    {
     "name": "stdout",
     "output_type": "stream",
     "text": [
      "[1, 2, 3, 4, 5]\n",
      "[1, 2, 3, 4, 5, 6]\n",
      "[1, 2, 3, 4, 5, 6, 7, 8]\n",
      "[1, 2, 3, 4, 5, 6, 7, 8, 9, 10, 11, 12, 13, 14, 15]\n"
     ]
    }
   ],
   "source": [
    "numbers = [1, 2, 3, 4, 5]\n",
    "print(numbers)\n",
    "numbers.extend([6])\n",
    "print(numbers)\n",
    "numbers.extend([7, 8])\n",
    "print(numbers)\n",
    "numbers.extend(range(9, 16))\n",
    "print(numbers)"
   ]
  },
  {
   "cell_type": "markdown",
   "metadata": {},
   "source": [
    "Observacion. Un iterable es un objeto de python capaz de devolver sus elemento uno por uno, permitiendo ser iterado en un bucle for. De momento solo conocemos las listas y el resultado de range(), pero en secciones futuras veremos los diccionarios, las tuplas y los connjuntos que tambien son objetos iterables. \n",
    "\n",
    "El metodo $\\textbf{index()}$ recibe un elemento como argumento y devuelve el indice de la primera aparición en la lista. "
   ]
  },
  {
   "cell_type": "code",
   "execution_count": 1,
   "metadata": {},
   "outputs": [
    {
     "name": "stdout",
     "output_type": "stream",
     "text": [
      "3\n",
      "6\n"
     ]
    }
   ],
   "source": [
    "numbers = [0, 1, 1, 2, 2, 3, 4, 3, 4]\n",
    "print(numbers.index(2))\n",
    "print(numbers.index(4))"
   ]
  },
  {
   "cell_type": "markdown",
   "metadata": {},
   "source": [
    "El metodo $\\textbf{.pop()}$ devuelve el ultimo elemento de la lista y lo borra de la misma. "
   ]
  },
  {
   "cell_type": "code",
   "execution_count": 3,
   "metadata": {},
   "outputs": [
    {
     "name": "stdout",
     "output_type": "stream",
     "text": [
      "[0, 1, 1, 2, 2, 3, 4, 3, 4]\n",
      "4\n",
      "[0, 1, 1, 2, 2, 3, 4, 3]\n"
     ]
    }
   ],
   "source": [
    "print(numbers)\n",
    "print(numbers.pop())\n",
    "print(numbers)"
   ]
  },
  {
   "cell_type": "markdown",
   "metadata": {},
   "source": [
    "El metodo $\\textbf{.remove()}$ recibe como argumento un elemento y borra su primera aparición de la lista. "
   ]
  },
  {
   "cell_type": "code",
   "execution_count": 21,
   "metadata": {},
   "outputs": [
    {
     "name": "stdout",
     "output_type": "stream",
     "text": [
      "[0, 1, 2, 3, 4, 5, 6, 7]\n"
     ]
    }
   ],
   "source": [
    "numbers = [0, 1, 2, 4, 3, 4, 5, 6, 7]\n",
    "numbers.remove(4)\n",
    "print(numbers)"
   ]
  },
  {
   "cell_type": "markdown",
   "metadata": {},
   "source": [
    "El metodo $\\textbf{.reverse()}$ devuelve la lista en orden inverso. \n"
   ]
  },
  {
   "cell_type": "code",
   "execution_count": 22,
   "metadata": {},
   "outputs": [
    {
     "name": "stdout",
     "output_type": "stream",
     "text": [
      "[-3, 3, -2, 2, -1, 1]\n"
     ]
    }
   ],
   "source": [
    "numbers = [1, -1, 2, -2, 3, -3]\n",
    "numbers.reverse()\n",
    "print(numbers)"
   ]
  },
  {
   "cell_type": "markdown",
   "metadata": {},
   "source": [
    "El metodo $\\textbf{.sort()}$ devuelve la lista en orden. "
   ]
  },
  {
   "cell_type": "code",
   "execution_count": 23,
   "metadata": {},
   "outputs": [
    {
     "name": "stdout",
     "output_type": "stream",
     "text": [
      "[1, 2, 3, 4, 5]\n"
     ]
    }
   ],
   "source": [
    "numbers = [1, 3, 5, 2, 4]\n",
    "numbers.sort()\n",
    "print(numbers)"
   ]
  },
  {
   "cell_type": "markdown",
   "metadata": {},
   "source": [
    "Si quisieramos ordenar los elementos en orden decreciente, podríamos hacer uso del parámetro reverse del metodo .sort(): "
   ]
  },
  {
   "cell_type": "code",
   "execution_count": 24,
   "metadata": {},
   "outputs": [
    {
     "name": "stdout",
     "output_type": "stream",
     "text": [
      "[5, 4, 3, 2, 1]\n"
     ]
    }
   ],
   "source": [
    "numbers = [1, 3, 5, 2, 4]\n",
    "numbers.sort(reverse = True)\n",
    "print(numbers)"
   ]
  },
  {
   "cell_type": "markdown",
   "metadata": {},
   "source": [
    "Observacion. De momento solo conocemos las listas y el resultado de range(), pero en secicones furura veremos los diccionarios, las tuplas y los conjuntos, que también son objetos iterables. "
   ]
  },
  {
   "cell_type": "markdown",
   "metadata": {},
   "source": [
    "# 76. CONVERSION A LISTAS "
   ]
  },
  {
   "cell_type": "markdown",
   "metadata": {},
   "source": [
    "Para convertir un objeto itareble de python a lista, hay que usar la función list() "
   ]
  },
  {
   "cell_type": "code",
   "execution_count": 27,
   "metadata": {},
   "outputs": [
    {
     "data": {
      "text/plain": [
       "range(0, 100, 10)"
      ]
     },
     "execution_count": 27,
     "metadata": {},
     "output_type": "execute_result"
    }
   ],
   "source": [
    " range(0, 100, 10) #tipo especial de dato, es una colección de valores"
   ]
  },
  {
   "cell_type": "code",
   "execution_count": 29,
   "metadata": {},
   "outputs": [
    {
     "data": {
      "text/plain": [
       "range"
      ]
     },
     "execution_count": 29,
     "metadata": {},
     "output_type": "execute_result"
    }
   ],
   "source": [
    "type(range(0, 100, 10))"
   ]
  },
  {
   "cell_type": "code",
   "execution_count": 25,
   "metadata": {},
   "outputs": [
    {
     "name": "stdout",
     "output_type": "stream",
     "text": [
      "[0, 10, 20, 30, 40, 50, 60, 70, 80, 90]\n"
     ]
    }
   ],
   "source": [
    "print(list(range(0, 100, 10)))"
   ]
  },
  {
   "cell_type": "code",
   "execution_count": 34,
   "metadata": {},
   "outputs": [
    {
     "name": "stdout",
     "output_type": "stream",
     "text": [
      "<class 'list'>\n"
     ]
    }
   ],
   "source": [
    "print(type(list(range(0, 100, 10))))"
   ]
  },
  {
   "cell_type": "markdown",
   "metadata": {},
   "source": [
    "# EJERCICIO : ELIMINANDO UN ELEMENTO DE INDICADO POR EL USUARIO. \n",
    "\n",
    "Dada una lista de caracteres, le pediremos al usuario que elemento quiere eliminar y lo eliminaremos de la lista. "
   ]
  },
  {
   "cell_type": "code",
   "execution_count": 6,
   "metadata": {},
   "outputs": [
    {
     "name": "stdout",
     "output_type": "stream",
     "text": [
      "Esta es la lista original: ['m', 'a', 'r', 'j', 'b', 'g', 'i', 's', 'f', 'g']\n",
      "Introduce el elemento que quieres eliminar: g\n",
      "Esta es la lista actualizada ['m', 'a', 'r', 'j', 'b', 'i', 's', 'f']\n"
     ]
    }
   ],
   "source": [
    "l = [\"m\",\"a\",\"r\",\"j\",\"b\",\"g\",\"i\",\"s\",\"f\",\"g\"]\n",
    "print(\"Esta es la lista original: {}\".format(l))\n",
    "c = input(\"Introduce el elemento que quieres eliminar: \")\n",
    "for e in l:\n",
    "    if e == c:\n",
    "        l.remove(e)\n",
    "    \n",
    "print(\"Esta es la lista actualizada {}\".format(l))"
   ]
  },
  {
   "cell_type": "markdown",
   "metadata": {},
   "source": [
    "# EJERCICIO: ORDENANDO ELEMENTOS DE UNA LISTA CREADA POR EL USUARIO. \n",
    "\n",
    "Vamos a pedir al usuario que ingrese 10 numero, los guardaremos en un alista y mostraremos la lista ordenada, siendo el usuario quien indique el orden: ascendente o descendente. "
   ]
  },
  {
   "cell_type": "code",
   "execution_count": 7,
   "metadata": {},
   "outputs": [
    {
     "name": "stdout",
     "output_type": "stream",
     "text": [
      "Si quieres orden descendente, escribe True. De lo contrario, dale a la tecla Enter: True\n",
      "9\n",
      "7\n",
      "8\n",
      "-2\n",
      "-5\n",
      "-9\n",
      "1\n",
      "3\n",
      "4\n",
      "5\n",
      "[9.0, 8.0, 7.0, 5.0, 4.0, 3.0, 1.0, -2.0, -5.0, -9.0]\n"
     ]
    }
   ],
   "source": [
    "reversed = bool(input(\"Si quieres orden descendente, escribe True. De lo contrario, dale a la tecla Enter: \"))\n",
    "l = []\n",
    "for _ in range(10):\n",
    "    l.append(float(input()))\n",
    "    \n",
    "l.sort(reverse = reversed)\n",
    "print(l)"
   ]
  },
  {
   "cell_type": "markdown",
   "metadata": {},
   "source": [
    "# 77. EJERCICIO : CONVIRTIENDO LOS NÚMEROS IMPARES DEL 0 AL 30 A LISTA \n",
    "\n",
    "Ejercicio \n",
    "\n",
    "Vamos a convertir los números impares del 0 al 30 a una lista y mostrar los elemento con el formato \"El valor {} ocupa el índice {}"
   ]
  },
  {
   "cell_type": "code",
   "execution_count": 35,
   "metadata": {},
   "outputs": [
    {
     "name": "stdout",
     "output_type": "stream",
     "text": [
      "El valor 1 ocupa el índice 0\n",
      "El valor 3 ocupa el índice 1\n",
      "El valor 5 ocupa el índice 2\n",
      "El valor 7 ocupa el índice 3\n",
      "El valor 9 ocupa el índice 4\n",
      "El valor 11 ocupa el índice 5\n",
      "El valor 13 ocupa el índice 6\n",
      "El valor 15 ocupa el índice 7\n",
      "El valor 17 ocupa el índice 8\n",
      "El valor 19 ocupa el índice 9\n",
      "El valor 21 ocupa el índice 10\n",
      "El valor 23 ocupa el índice 11\n",
      "El valor 25 ocupa el índice 12\n",
      "El valor 27 ocupa el índice 13\n",
      "El valor 29 ocupa el índice 14\n"
     ]
    }
   ],
   "source": [
    "odd = list(range(1, 30, 2))\n",
    "\n",
    "for i in range(len(odd)):\n",
    "    print(\"El valor {} ocupa el índice {}\".format(odd[i], i))"
   ]
  },
  {
   "cell_type": "markdown",
   "metadata": {},
   "source": [
    "# 78. MATRICES CON LISTAS \n",
    "\n",
    "Hay un tipo muy utilizado de listas anidadas, Se caracteriza por ser una lista de m listas, donde cada una de la slistas tiene el mismo numero de elementos, n. A este tipo de listas se les conoce como matrices. "
   ]
  },
  {
   "cell_type": "code",
   "execution_count": 11,
   "metadata": {},
   "outputs": [],
   "source": [
    "matrix = [[1,2,3], [4,5,6], [7,8,9]]"
   ]
  },
  {
   "cell_type": "markdown",
   "metadata": {},
   "source": [
    "Matriz. Una matriz de dimensiones m x n es una tabla formada por elementos dispuestos en m filas y n columnas. \n",
    "\n",
    "Los elementos de la matriz se representan con un doble subindice, aij, donde el primero indica la fila a la que pertenece y, el segundo, la columna. "
   ]
  },
  {
   "cell_type": "code",
   "execution_count": 38,
   "metadata": {},
   "outputs": [
    {
     "data": {
      "text/plain": [
       "[[1, 2, 3], [4, 5, 6], [7, 8, 9]]"
      ]
     },
     "execution_count": 38,
     "metadata": {},
     "output_type": "execute_result"
    }
   ],
   "source": [
    "matrix"
   ]
  },
  {
   "cell_type": "markdown",
   "metadata": {},
   "source": [
    "Para acceder a los elementos de una matriz en python, utilizamos la sintaxis [][], donde primero indicamos la fila y , a continuación, la columna. "
   ]
  },
  {
   "cell_type": "code",
   "execution_count": 40,
   "metadata": {},
   "outputs": [
    {
     "data": {
      "text/plain": [
       "3"
      ]
     },
     "execution_count": 40,
     "metadata": {},
     "output_type": "execute_result"
    }
   ],
   "source": [
    "matrix[0][2]"
   ]
  },
  {
   "cell_type": "code",
   "execution_count": 41,
   "metadata": {},
   "outputs": [
    {
     "data": {
      "text/plain": [
       "5"
      ]
     },
     "execution_count": 41,
     "metadata": {},
     "output_type": "execute_result"
    }
   ],
   "source": [
    "matrix[1][1]"
   ]
  },
  {
   "cell_type": "code",
   "execution_count": 42,
   "metadata": {},
   "outputs": [
    {
     "data": {
      "text/plain": [
       "7"
      ]
     },
     "execution_count": 42,
     "metadata": {},
     "output_type": "execute_result"
    }
   ],
   "source": [
    "matrix[2][0]"
   ]
  },
  {
   "cell_type": "markdown",
   "metadata": {},
   "source": [
    "mostrar una matriz en python en forma de tabla con un bucle for, del siguiente modo"
   ]
  },
  {
   "cell_type": "code",
   "execution_count": 46,
   "metadata": {},
   "outputs": [
    {
     "name": "stdout",
     "output_type": "stream",
     "text": [
      "[1, 2, 3]\n",
      "[4, 5, 6]\n",
      "[7, 8, 9]\n"
     ]
    }
   ],
   "source": [
    "for row in matrix:\n",
    "    print(row)"
   ]
  },
  {
   "cell_type": "code",
   "execution_count": 45,
   "metadata": {},
   "outputs": [
    {
     "name": "stdout",
     "output_type": "stream",
     "text": [
      "1\n",
      "2\n",
      "3\n",
      "4\n",
      "5\n",
      "6\n",
      "7\n",
      "8\n",
      "9\n"
     ]
    }
   ],
   "source": [
    "for row in matrix: # Accedemos a las filas \n",
    "    for element in row:\n",
    "        print(element)"
   ]
  },
  {
   "cell_type": "markdown",
   "metadata": {},
   "source": [
    "Si lo que queremos es mostrar la matriz en forma de tabla, sin comas ni claudators por en medio, lo podemos hacer de dos formas_ \n",
    "* Haciendo uso de las dimensiones de la matriz y por tanto, de la función range()\n",
    "* Sin hacer uso de las dimensiones \n",
    "\n",
    "la primera forma seria:"
   ]
  },
  {
   "cell_type": "code",
   "execution_count": 48,
   "metadata": {},
   "outputs": [
    {
     "name": "stdout",
     "output_type": "stream",
     "text": [
      "1 2 3 \n",
      "4 5 6 \n",
      "7 8 9 \n"
     ]
    }
   ],
   "source": [
    "#m es el numero de filas que tiene la matriz.\n",
    "#n el numero de columnas. \n",
    "m = len(matrix)\n",
    "n = len(matrix[0])\n",
    "\n",
    "for i in range(m):\n",
    "    for j in range(n):\n",
    "        print(matrix[i][j], end = \" \")\n",
    "    print(\"\")"
   ]
  },
  {
   "cell_type": "code",
   "execution_count": 13,
   "metadata": {},
   "outputs": [
    {
     "name": "stdout",
     "output_type": "stream",
     "text": [
      "[1, 2, 3]\n",
      "[[1, 2, 3], [4, 5, 6], [7, 8, 9]]\n"
     ]
    }
   ],
   "source": [
    "print(matrix[0])\n",
    "print(matrix)"
   ]
  },
  {
   "cell_type": "markdown",
   "metadata": {},
   "source": [
    "2da forma"
   ]
  },
  {
   "cell_type": "code",
   "execution_count": 15,
   "metadata": {},
   "outputs": [
    {
     "name": "stdout",
     "output_type": "stream",
     "text": [
      "1 2 3 \n",
      "\n",
      "4 5 6 \n",
      "\n",
      "7 8 9 \n",
      "\n"
     ]
    }
   ],
   "source": [
    "\n",
    "for row in matrix: \n",
    "    for element in row: \n",
    "        print(element, end = \" \")\n",
    "    print(\"\\n\")\n",
    "    "
   ]
  },
  {
   "cell_type": "markdown",
   "metadata": {},
   "source": [
    "## Suma de matrices \n",
    "\n",
    "Para poder sumasr dos matrices, necesitamos que tengan la misma dimensión. Entonces. dadas A y B dos matrices con dimension m x n, su suma será una matriz de dimensión m x n. "
   ]
  },
  {
   "cell_type": "code",
   "execution_count": 58,
   "metadata": {},
   "outputs": [
    {
     "name": "stdout",
     "output_type": "stream",
     "text": [
      "[[0, -2, -3], [0, 3, 1], [-1, -1, -3]]\n"
     ]
    }
   ],
   "source": [
    "A = [[1, 0, -3], [2, 0, 1], [-1, -1, 0]]\n",
    "B = [[-1, -2, 0], [-2, 3, 0], [0, 0, -3]]\n",
    "\n",
    "m = len(A) #numero de filas\n",
    "n = len(A[0]) #numero de columnas\n",
    "\n",
    "if len(A) == len(B) and len(A[0]) == len(B[0]):\n",
    "    c = []\n",
    "    \n",
    "    for i in range(m):\n",
    "        c.append([])\n",
    "        for j in range(n): \n",
    "            c[i].append(A[i][j] + B[i][j])\n",
    "    print(c)\n",
    "        \n",
    "else:\n",
    "    print(\"No se puede realizar la suma, pues las dimensiones de las matrices no coinciden\")"
   ]
  },
  {
   "cell_type": "code",
   "execution_count": 16,
   "metadata": {},
   "outputs": [
    {
     "name": "stdout",
     "output_type": "stream",
     "text": [
      "[[], [], []]\n"
     ]
    }
   ],
   "source": [
    "A = [[1, 0, -3], [2, 0, 1], [-1, -1, 0]]\n",
    "B = [[-1, -2, 0], [-2, 3, 0], [0, 0, -3]]\n",
    "\n",
    "m = len(A) #numero de filas\n",
    "n = len(A[0]) #numero de columnas\n",
    "\n",
    "if len(A) == len(B) and len(A[0]) == len(B[0]):\n",
    "    c = []\n",
    "    \n",
    "    for i in range(m):\n",
    "        c.append([])\n",
    "print(c)"
   ]
  },
  {
   "cell_type": "markdown",
   "metadata": {},
   "source": [
    "## Producto de matrices \n",
    "\n",
    "Para poder multplicar matrices, necesitamos que la matriz de la izquierda tenga el mismo numero de columnas que numero de filas que tiene la matriz de la derecha. Entonces, dada las matrices A y B de dimensiones m x n y n x p respectivamente, su producto será una matriz de dimensión m x p y se obtiene del siguiente modo: "
   ]
  },
  {
   "cell_type": "code",
   "execution_count": 26,
   "metadata": {},
   "outputs": [],
   "source": [
    "A = [[1, 0, -3, 2], [2, 0, 1, 1], [-1, 0, -1, 0]]\n",
    "B = [[-1, -2, 0], [-2, 3, 0], [0, 0, -3], [1, 1, -1]]\n",
    "\n",
    "m, n, p = len(A), len(B), len(B[0])\n",
    "C = []\n",
    "\n",
    "\n",
    "for i in range(m):\n",
    "    C.append([])\n",
    "    for j in range(p):\n",
    "        elemento = 0\n",
    "        for k in range(n):\n",
    "            elemento = elemento + A[i][k] * B[k][j]\n",
    "        C[i].append(elemento)\n"
   ]
  },
  {
   "cell_type": "code",
   "execution_count": 27,
   "metadata": {},
   "outputs": [
    {
     "name": "stdout",
     "output_type": "stream",
     "text": [
      "[1, 0, 7]\n",
      "[-1, -3, -4]\n",
      "[1, 2, 3]\n"
     ]
    }
   ],
   "source": [
    "for row in C:\n",
    "    print(row)"
   ]
  },
  {
   "cell_type": "markdown",
   "metadata": {},
   "source": [
    "# 79.  EJERCICIO: CREANDO MANUALMENTE UNA MATRIZ DE 4X4 "
   ]
  },
  {
   "cell_type": "markdown",
   "metadata": {},
   "source": [
    "Ejercicio \n",
    "\n",
    "Vamos a crear manualmente una matriz de tamaño 4x4 y guardalar en una lista. "
   ]
  },
  {
   "cell_type": "code",
   "execution_count": 61,
   "metadata": {},
   "outputs": [
    {
     "name": "stdout",
     "output_type": "stream",
     "text": [
      "Introduce el elemento (0,0): 1\n",
      "Introduce el elemento (0,1): 2\n",
      "Introduce el elemento (0,2): 3\n",
      "Introduce el elemento (0,3): 4\n",
      "Introduce el elemento (1,0): 5\n",
      "Introduce el elemento (1,1): 6\n",
      "Introduce el elemento (1,2): 7\n",
      "Introduce el elemento (1,3): 8\n",
      "Introduce el elemento (2,0): 9\n",
      "Introduce el elemento (2,1): 0\n",
      "Introduce el elemento (2,2): 10\n",
      "Introduce el elemento (2,3): 13\n",
      "Introduce el elemento (3,0): 24\n",
      "Introduce el elemento (3,1): 5\n",
      "Introduce el elemento (3,2): 6\n",
      "Introduce el elemento (3,3): 77\n",
      "1.0  2.0  3.0  4.0  \n",
      "5.0  6.0  7.0  8.0  \n",
      "9.0  0.0  10.0  13.0  \n",
      "24.0  5.0  6.0  77.0  \n"
     ]
    }
   ],
   "source": [
    "A = [] \n",
    "for i in range(4): \n",
    "    A.append([])\n",
    "    for j in range(4):\n",
    "        A[i].append(float(input(\"Introduce el elemento ({},{}): \".format(i, j))))\n",
    "        \n",
    "for i in range(4):\n",
    "    for j in range(4):\n",
    "        print(A[i][j], end = \"  \" if A[i][j] >= 0 else \" \")\n",
    "    print(\"\")"
   ]
  },
  {
   "cell_type": "code",
   "execution_count": 62,
   "metadata": {},
   "outputs": [
    {
     "data": {
      "text/plain": [
       "[0, 1, 2, 3]"
      ]
     },
     "execution_count": 62,
     "metadata": {},
     "output_type": "execute_result"
    }
   ],
   "source": [
    "list(range(4))"
   ]
  },
  {
   "cell_type": "markdown",
   "metadata": {},
   "source": [
    "# 80. EJERCICIO: SUMA DE MATRICES DADAS POR EL USUARIO. "
   ]
  },
  {
   "cell_type": "code",
   "execution_count": 3,
   "metadata": {},
   "outputs": [
    {
     "name": "stdout",
     "output_type": "stream",
     "text": [
      "Número de filas de las matrices: 2\n",
      "Número de columnas de las matrices: 2\n",
      "\n",
      "=== Matriz A ===\n",
      "Introduce el elemento (0,0)1\n",
      "Introduce el elemento (0,1)2\n",
      "Introduce el elemento (1,0)3\n",
      "Introduce el elemento (1,1)4\n",
      "\n",
      "=== Matriz B ===\n",
      "Introduce el elemento (0,0)5\n",
      "Introduce el elemento (0,1)6\n",
      "Introduce el elemento (1,0)7\n",
      "Introduce el elemento (1,1)8\n",
      "\n",
      "=== Matriz A + B ===\n",
      "6.0 8.0  \n",
      "10.0 12.0  \n"
     ]
    }
   ],
   "source": [
    "n = int(input(\"Número de filas de las matrices: \"))\n",
    "#Las filas siempre serán la cantidad de corchetes que haya dentro de la variable. \n",
    "m = int(input(\"Número de columnas de las matrices: \"))\n",
    "\n",
    "A = []\n",
    "print(\"\\n=== Matriz A ===\")\n",
    "for i in range(n):\n",
    "    A.append([])\n",
    "    for j in range(m):\n",
    "        A[i].append(float(input(\"Introduce el elemento ({},{}: )\".format(i, j))))\n",
    "        \n",
    "B = []\n",
    "print(\"\\n=== Matriz B ===\")\n",
    "for i in range(n):\n",
    "    B.append([])\n",
    "    for j in range(m):\n",
    "        B[i].append(float(input(\"Introduce el elemento ({},{}: )\".format(i, j))))\n",
    "        \n",
    "C = []\n",
    "for i in range(n):\n",
    "    C.append([])\n",
    "    for j in range(m):\n",
    "        C[i].append(A[i][j] + B[i][j])\n",
    "        \n",
    "print(\"\\n=== Matriz A + B ===\")\n",
    "for i in range(n):\n",
    "    for j in range(m):\n",
    "        print(C[i][j], end = \" \" if C[i][j] >= 0 else \" \")\n",
    "    print(\" \")"
   ]
  },
  {
   "cell_type": "code",
   "execution_count": 4,
   "metadata": {},
   "outputs": [
    {
     "data": {
      "text/plain": [
       "[[1.0, 2.0], [3.0, 4.0]]"
      ]
     },
     "execution_count": 4,
     "metadata": {},
     "output_type": "execute_result"
    }
   ],
   "source": [
    "A"
   ]
  },
  {
   "cell_type": "markdown",
   "metadata": {},
   "source": [
    "# 81. PRODUCTO DE MATRICES. \n",
    "\n",
    "Vamos a calcular el producto de dos matrices con listas. Ambas matrices serán dadas por el usuario asi como las dimensiones de ambas. "
   ]
  },
  {
   "cell_type": "code",
   "execution_count": 10,
   "metadata": {},
   "outputs": [
    {
     "name": "stdout",
     "output_type": "stream",
     "text": [
      "Número de filas de la matriz A: 2\n",
      "Número de columnas de la matriz A: 3\n",
      "Número de columnas de la matriz B: 2\n",
      "\n",
      "=== Matriz A ===\n",
      "Introduce el elemento (0,0): 1\n",
      "Introduce el elemento (0,1): 0\n",
      "Introduce el elemento (0,2): 0\n",
      "Introduce el elemento (1,0): 0\n",
      "Introduce el elemento (1,1): 1\n",
      "Introduce el elemento (1,2): 0\n",
      "\n",
      "=== Matriz B ===\n",
      "Introduce el elemento (0,0): 3\n",
      "Introduce el elemento (0,1): 2\n",
      "Introduce el elemento (1,0): 0\n",
      "Introduce el elemento (1,1): 1\n",
      "Introduce el elemento (2,0): -1\n",
      "Introduce el elemento (2,1): 0\n",
      "\n",
      "=== Matriz A * B ===\n",
      "3.0  2.0  \n",
      "0.0  1.0  \n"
     ]
    }
   ],
   "source": [
    "n = int(input(\"Número de filas de la matriz A: \"))\n",
    "m = int(input(\"Número de columnas de la matriz A: \"))\n",
    "p = (int(input(\"Número de columnas de la matriz B: \")))\n",
    "\n",
    "A = []\n",
    "print(\"\\n=== Matriz A ===\")\n",
    "for i in range(n):\n",
    "    A.append([])\n",
    "    for j in range(m):\n",
    "        A[i].append(float(input(\"Introduce el elemento ({},{}): \".format(i,j))))\n",
    "   \n",
    "B = []\n",
    "print(\"\\n=== Matriz B ===\")\n",
    "for i in range(m):\n",
    "    B.append([])\n",
    "    for j in range(p):\n",
    "        B[i].append(float(input(\"Introduce el elemento ({},{}): \".format(i,j))))\n",
    "        \n",
    "C = []\n",
    "for i in range(n):\n",
    "    C.append([])\n",
    "    for j in range(p):\n",
    "        elemento = 0\n",
    "        for k in range(m):\n",
    "            elemento += A[i][k] * B[k][j]\n",
    "        C[i].append(elemento)\n",
    "        \n",
    "print(\"\\n=== Matriz A * B ===\")\n",
    "for i in range(n):\n",
    "    for j in range(p):\n",
    "        print(C[i][j], end = \"  \" if C[i][j] >= 0 else \" \")\n",
    "    print(\"\")\n",
    "        "
   ]
  },
  {
   "cell_type": "code",
   "execution_count": 19,
   "metadata": {},
   "outputs": [
    {
     "name": "stdout",
     "output_type": "stream",
     "text": [
      "3.0  2.0  \n",
      "0.0  1.0  \n"
     ]
    }
   ],
   "source": [
    "for i in range(n):\n",
    "    for j in range(p):\n",
    "        print(C[i][j], end= \"  \" if C[i][j] >= 0 else \" \")\n",
    "    print(\"\")"
   ]
  },
  {
   "cell_type": "markdown",
   "metadata": {},
   "source": [
    "# 82. MATRICES CON NUMPY \n",
    "\n",
    "Existe una forma mas sencilla de trabajar con matrices y es gracias a numpy. "
   ]
  },
  {
   "cell_type": "code",
   "execution_count": 20,
   "metadata": {},
   "outputs": [],
   "source": [
    "import numpy as np "
   ]
  },
  {
   "cell_type": "markdown",
   "metadata": {},
   "source": [
    "Para crear una matriz vacía, usamos el método $\\textbf{.empty()}$, al que indicamos por parametro las dimensiones. "
   ]
  },
  {
   "cell_type": "code",
   "execution_count": 25,
   "metadata": {},
   "outputs": [
    {
     "data": {
      "text/plain": [
       "array([[0., 0., 0.],\n",
       "       [0., 0., 0.]])"
      ]
     },
     "execution_count": 25,
     "metadata": {},
     "output_type": "execute_result"
    }
   ],
   "source": [
    "A = np.empty([2,3]) #2 filas y 3 columnas. \n",
    "A"
   ]
  },
  {
   "cell_type": "markdown",
   "metadata": {},
   "source": [
    "Para crear una matriz vacia con las mismas dimensiones de otra matriz definida anteriomente, usamos el metodo $\\textbf{.empty_like()}$, al que le indicamos por parametro la matriz existente. "
   ]
  },
  {
   "cell_type": "code",
   "execution_count": 23,
   "metadata": {},
   "outputs": [],
   "source": [
    "B = np.empty_like(A)"
   ]
  },
  {
   "cell_type": "markdown",
   "metadata": {},
   "source": [
    "Para crear una matriz nula, usamos el metodo $\\textbf{.zeros()}$ al que le indicamos por parametro las dimensiones "
   ]
  },
  {
   "cell_type": "code",
   "execution_count": 22,
   "metadata": {},
   "outputs": [],
   "source": [
    "C = np.zeros([2,3]) #Matriz nula de dimensiones 3 y 5. "
   ]
  },
  {
   "cell_type": "markdown",
   "metadata": {},
   "source": [
    "Para crear una matriz de ceros con las dimensiones de otra matriz definida anteriormente, usamos el metodo $\\textbf{.zeros_like()}$, al que le indicamos por parametro la matriz existente. "
   ]
  },
  {
   "cell_type": "code",
   "execution_count": 26,
   "metadata": {},
   "outputs": [
    {
     "data": {
      "text/plain": [
       "array([[0., 0., 0.],\n",
       "       [0., 0., 0.]])"
      ]
     },
     "execution_count": 26,
     "metadata": {},
     "output_type": "execute_result"
    }
   ],
   "source": [
    "D = np.zeros_like(A) #tendra 2 filas y 3 columnas y todos sus elementos valdran 0. \n",
    "D"
   ]
  },
  {
   "cell_type": "markdown",
   "metadata": {},
   "source": [
    "Para crear una matriz de unos, usamos el metodo $\\textbf{.ones()}$ al que le indicamos por parametro las dimensiones. "
   ]
  },
  {
   "cell_type": "code",
   "execution_count": 28,
   "metadata": {},
   "outputs": [
    {
     "data": {
      "text/plain": [
       "array([[1., 1., 1., 1.]])"
      ]
     },
     "execution_count": 28,
     "metadata": {},
     "output_type": "execute_result"
    }
   ],
   "source": [
    "E = np.ones((1, 4)) #matriz de unos de dimensiones 1 x 4 \n",
    "E"
   ]
  },
  {
   "cell_type": "markdown",
   "metadata": {},
   "source": [
    "Para crear una matriz de unos con las mismas dimensiones de otra matriz defininda anteriormente, usamos el metodo \n",
    "$\\textbf{.ones_like()}$ al que le indicamos por parametro la matriz existente. "
   ]
  },
  {
   "cell_type": "code",
   "execution_count": 31,
   "metadata": {},
   "outputs": [
    {
     "data": {
      "text/plain": [
       "array([[1., 1., 1.],\n",
       "       [1., 1., 1.]])"
      ]
     },
     "execution_count": 31,
     "metadata": {},
     "output_type": "execute_result"
    }
   ],
   "source": [
    "F = np.ones_like(C)\n",
    "F"
   ]
  },
  {
   "cell_type": "markdown",
   "metadata": {},
   "source": [
    "Podemos crear matrices de numpy a partir de listas con el metodo $\\textbf{.matrix()}$"
   ]
  },
  {
   "cell_type": "code",
   "execution_count": 34,
   "metadata": {},
   "outputs": [
    {
     "data": {
      "text/plain": [
       "matrix([[ 1,  0, -3,  2],\n",
       "        [ 2,  0,  1,  1],\n",
       "        [-1,  0, -1,  0]])"
      ]
     },
     "execution_count": 34,
     "metadata": {},
     "output_type": "execute_result"
    }
   ],
   "source": [
    "M = np.matrix([[1, 0, -3, 2], [2, 0, 1, 1], [-1, 0, -1, 0]])\n",
    "M"
   ]
  },
  {
   "cell_type": "markdown",
   "metadata": {},
   "source": [
    "Para saber las dimensiones de una matriz, podemos utilizar el metodo $\\textbf{.shape()}$"
   ]
  },
  {
   "cell_type": "code",
   "execution_count": 35,
   "metadata": {},
   "outputs": [
    {
     "data": {
      "text/plain": [
       "(3, 4)"
      ]
     },
     "execution_count": 35,
     "metadata": {},
     "output_type": "execute_result"
    }
   ],
   "source": [
    "M.shape"
   ]
  },
  {
   "cell_type": "code",
   "execution_count": 39,
   "metadata": {},
   "outputs": [
    {
     "data": {
      "text/plain": [
       "matrix([[ 2,  0, -6,  4],\n",
       "        [ 4,  0,  2,  2],\n",
       "        [-2,  0, -2,  0]])"
      ]
     },
     "execution_count": 39,
     "metadata": {},
     "output_type": "execute_result"
    }
   ],
   "source": [
    "A = np.matrix([[1, 0, -3, 2], [2, 0, 1, 1], [-1, 0, -1, 0]])\n",
    "B = np.matrix([[1, 0, -3, 2], [2, 0, 1, 1], [-1, 0, -1, 0]])\n",
    "matrixSum = A + B\n",
    "matrixSum"
   ]
  },
  {
   "cell_type": "code",
   "execution_count": 40,
   "metadata": {},
   "outputs": [
    {
     "data": {
      "text/plain": [
       "((3, 4), (3, 4))"
      ]
     },
     "execution_count": 40,
     "metadata": {},
     "output_type": "execute_result"
    }
   ],
   "source": [
    "A.shape, B.shape"
   ]
  },
  {
   "cell_type": "code",
   "execution_count": 41,
   "metadata": {},
   "outputs": [
    {
     "data": {
      "text/plain": [
       "matrix([[ 6,  4,  6],\n",
       "        [ 2,  2, -4],\n",
       "        [ 0,  0,  4]])"
      ]
     },
     "execution_count": 41,
     "metadata": {},
     "output_type": "execute_result"
    }
   ],
   "source": [
    "#para hacer el producto matricial \n",
    "A = np.matrix([[1, 0, -3, 2], [2, 0, 1, 1], [-1, 0, -1, 0]])\n",
    "B = np.matrix([[1, 0, -3], [2, 0, 1], [-1, 0, -1], [1,2,3]])\n",
    "\n",
    "matrixProd = A.dot(B)\n",
    "matrixProd"
   ]
  },
  {
   "cell_type": "markdown",
   "metadata": {},
   "source": [
    "Es mucho mas sencillo mostras una matriz en forma de tabla, pues nos basta con hacer uso de la funcion print(): "
   ]
  },
  {
   "cell_type": "code",
   "execution_count": 42,
   "metadata": {},
   "outputs": [
    {
     "name": "stdout",
     "output_type": "stream",
     "text": [
      "[[ 2  0 -6  4]\n",
      " [ 4  0  2  2]\n",
      " [-2  0 -2  0]]\n",
      "[[ 6  4  6]\n",
      " [ 2  2 -4]\n",
      " [ 0  0  4]]\n"
     ]
    }
   ],
   "source": [
    "print(matrixSum)\n",
    "print(matrixProd)"
   ]
  },
  {
   "cell_type": "markdown",
   "metadata": {},
   "source": [
    "# EJERCICIO: INTRODUCIENDO MATRIZ NxN MANUALMENTE CON NUMPY "
   ]
  },
  {
   "cell_type": "code",
   "execution_count": 43,
   "metadata": {},
   "outputs": [],
   "source": [
    "import numpy as np "
   ]
  },
  {
   "cell_type": "code",
   "execution_count": 45,
   "metadata": {},
   "outputs": [
    {
     "name": "stdout",
     "output_type": "stream",
     "text": [
      "Numero de filas: 2\n",
      "Numero de columnas: 3\n",
      "Introduce el elemento (0,0)1\n",
      "Introduce el elemento (0,1)2\n",
      "Introduce el elemento (0,2)3\n",
      "Introduce el elemento (1,0)4\n",
      "Introduce el elemento (1,1)5\n",
      "Introduce el elemento (1,2)3\n",
      "\n",
      "=== Matriz A ===\n",
      "[[1. 2. 3.]\n",
      " [4. 5. 3.]]\n"
     ]
    }
   ],
   "source": [
    "n = int(input(\"Numero de filas: \"))\n",
    "m = int(input(\"Numero de columnas: \"))\n",
    "\n",
    "A = np.empty((n,m))\n",
    "\n",
    "for i in range(n):\n",
    "    for j in range(m):\n",
    "        A[i, j] = float(input(\"Introduce el elemento ({},{})\".format(i, j)))\n",
    "        \n",
    "print(\"\\n=== Matriz A ===\")\n",
    "print(A)"
   ]
  },
  {
   "cell_type": "markdown",
   "metadata": {},
   "source": [
    "# Suma de matrices .\n"
   ]
  },
  {
   "cell_type": "code",
   "execution_count": 46,
   "metadata": {},
   "outputs": [
    {
     "name": "stdout",
     "output_type": "stream",
     "text": [
      "Numero de fila: 2\n",
      "Numero de columnas: 3\n",
      "\n",
      "MATRIZ A\n",
      "Introduce el elemento (0,0)1\n",
      "Introduce el elemento (0,1)2\n",
      "Introduce el elemento (0,2)3\n",
      "Introduce el elemento (1,0)4\n",
      "Introduce el elemento (1,1)5\n",
      "Introduce el elemento (1,2)6\n",
      "\n",
      "MATRIZ b\n",
      "Introduce el elemento (0,0)1\n",
      "Introduce el elemento (0,1)2\n",
      "Introduce el elemento (0,2)3\n",
      "Introduce el elemento (1,0)4\n",
      "Introduce el elemento (1,1)5\n",
      "Introduce el elemento (1,2)6\n",
      "\n",
      "MATRIZ A + B\n",
      "[[ 2.  4.  6.]\n",
      " [ 8. 10. 12.]]\n"
     ]
    }
   ],
   "source": [
    "\n",
    "n = int(input(\"Numero de fila: \"))\n",
    "m = int(input(\"Numero de columnas: \"))\n",
    "\n",
    "A = np.empty((n, m))\n",
    "print(\"\\nMATRIZ A\")\n",
    "\n",
    "for i in range(n): \n",
    "    for j in range(m):\n",
    "        A[i,j] = float(input(\"Introduce el elemento ({},{})\".format(i,j)))\n",
    "        \n",
    "B = np.empty((n, m))\n",
    "print(\"\\nMATRIZ b\")\n",
    "\n",
    "for i in range(n): \n",
    "    for j in range(m):\n",
    "        B[i,j] = float(input(\"Introduce el elemento ({},{})\".format(i,j)))\n",
    "        \n",
    "print(\"\\nMATRIZ A + B\")\n",
    "print(A+B)\n",
    "        \n"
   ]
  },
  {
   "cell_type": "markdown",
   "metadata": {},
   "source": [
    "# Multiplicacion de matrices. "
   ]
  },
  {
   "cell_type": "code",
   "execution_count": 48,
   "metadata": {},
   "outputs": [
    {
     "name": "stdout",
     "output_type": "stream",
     "text": [
      "Numero de filas de A: 3\n",
      "Numero de columnas de A: 2\n",
      "Numero de columnas de B: 3\n",
      "\n",
      "=== Matriz A ===\n",
      "Introduce el elemento (0,0)1\n",
      "Introduce el elemento (0,1)0\n",
      "Introduce el elemento (1,0)0\n",
      "Introduce el elemento (1,1)1\n",
      "Introduce el elemento (2,0)0\n",
      "Introduce el elemento (2,1)1\n",
      "\n",
      "=== Matriz B ===\n",
      "Introduce el elemento (0,0)3\n",
      "Introduce el elemento (0,1)2\n",
      "Introduce el elemento (0,2)0\n",
      "Introduce el elemento (1,0)1\n",
      "Introduce el elemento (1,1)1\n",
      "Introduce el elemento (1,2)-1\n",
      "\n",
      "=== Matriz A * B ===\n",
      "[[ 3.  2.  0.]\n",
      " [ 1.  1. -1.]\n",
      " [ 1.  1. -1.]]\n"
     ]
    }
   ],
   "source": [
    "n = int(input(\"Numero de filas de A: \"))\n",
    "m = int(input(\"Numero de columnas de A: \"))\n",
    "p = int(input(\"Numero de columnas de B: \"))\n",
    "\n",
    "\n",
    "A = np.empty((n, m))\n",
    "print(\"\\n=== Matriz A ===\")\n",
    "for i in range(n):\n",
    "    for j in range(m):\n",
    "        A[i,j] = float(input(\"Introduce el elemento ({},{})\".format(i,j)))\n",
    "        \n",
    "\n",
    "B = np.empty((m,p))\n",
    "print(\"\\n=== Matriz B ===\")\n",
    "for i in range(m):\n",
    "    for j in range(p):\n",
    "        B[i,j] = float(input(\"Introduce el elemento ({},{})\".format(i,j)))\n",
    "        \n",
    "print(\"\\n=== Matriz A * B ===\")\n",
    "print(A.dot(B))"
   ]
  },
  {
   "cell_type": "markdown",
   "metadata": {},
   "source": [
    "# EJERCICIOS "
   ]
  },
  {
   "cell_type": "code",
   "execution_count": 15,
   "metadata": {},
   "outputs": [
    {
     "name": "stdout",
     "output_type": "stream",
     "text": [
      "Introduce la cantidad de caracteres que quieres en la cadena: 4\n",
      "Introduce una letra: a\n",
      "Introduce una letra: b\n",
      "Introduce una letra: c\n",
      "Introduce una letra: d\n",
      "['a', 'b', 'c', 'd']\n",
      "['d', 'c', 'b', 'a']\n"
     ]
    }
   ],
   "source": [
    "#Ejercicio 1\n",
    "#Crea un programa que lea una secuencia de caracteres, guarde cada caracter en una posición de una lista y\n",
    "#finalmente muestre la secuencia invertida.\n",
    "\n",
    "n = int(input(\"Introduce la cantidad de caracteres que quieres en la cadena: \"))\n",
    "\n",
    "l = []\n",
    "for i in range(n):\n",
    "    l.append(input(\"Introduce una letra: \"))\n",
    "print(l)\n",
    "\n",
    "idx = len(l) - 1\n",
    "l2 = []\n",
    "\n",
    "while(idx>=0):\n",
    "    l2.append(l[idx])\n",
    "    idx = idx - 1\n",
    "    \n",
    "print(l2)\n",
    "\n",
    "    "
   ]
  },
  {
   "cell_type": "code",
   "execution_count": 1,
   "metadata": {},
   "outputs": [
    {
     "name": "stdout",
     "output_type": "stream",
     "text": [
      "Introduce una frase: Hola\n",
      "Introduce una segunda frase: Casasola\n",
      "Introduce una frase: Hola\n",
      "Introduce una segunda frase: Flor\n",
      "Hola\n",
      "Flor\n",
      "\n",
      "\n",
      " HFolloar\n"
     ]
    }
   ],
   "source": [
    "#Ejercicio 2\n",
    "#Crea un programa que lea dos strings de la misma longitud, los guarde intercalados en una lista. Por último,\n",
    "#mostrar el contenido de la lista. Por ejemplo, si introducimos hola caracola y adios marieta, debería mostrarse haodleao sc\n",
    "#amraarcioeltaa.\n",
    "\n",
    "while True:\n",
    "    string1 = input(\"Introduce una frase: \")\n",
    "    string2 = input(\"Introduce una segunda frase: \")\n",
    "    if len(string1) == len(string2):\n",
    "        break\n",
    "        \n",
    "print(string1)\n",
    "print(string2)\n",
    "print(\"\\n\")\n",
    "\n",
    "string3 = \" \"\n",
    "\n",
    "for i in range(len(string1)):\n",
    "    string3 =string3 + (string1[i]+string2[i])\n",
    "    \n",
    "print(string3)\n",
    "\n",
    "        \n",
    "\n"
   ]
  },
  {
   "cell_type": "code",
   "execution_count": 3,
   "metadata": {},
   "outputs": [
    {
     "name": "stdout",
     "output_type": "stream",
     "text": [
      "Introduce una frase: COmO yO tE Ame, jamas NADIE lO podrA imaginar U\n",
      "Tu frase tiene estas consonantes: ['o', 'o', 'o', 'e', 'a', 'e', 'a', 'a', 'a', 'i', 'e', 'o', 'o', 'a', 'i', 'a', 'i', 'a', 'u']\n",
      "Hay 5 letras o \n",
      "Hay 3 letras e \n",
      "Hay 7 letras a \n",
      "Hay 3 letras i \n",
      "Hay 1 letra u\n"
     ]
    }
   ],
   "source": [
    "#Ejercicio 3\n",
    "#Crea un programa que lea un string y guarde en una lista todas las consonantes\n",
    "\n",
    "string = input(\"Introduce una frase: \")\n",
    "string = string.lower()\n",
    "\n",
    "l = []\n",
    "l2 = []\n",
    "\n",
    "for i in range(len(string)):\n",
    "    if string[i] == \"a\"or string[i] == \"e\" or string[i] == \"i\" or string[i] == \"o\" or string[i] == \"u\":\n",
    "        l.append(string[i])\n",
    "print(\"Tu frase tiene estas consonantes: {}\".format(l))\n",
    "\n",
    "for i in range(len(l)):\n",
    "    if l[i] not in l2:\n",
    "        l2.append(l[i])\n",
    "\n",
    "for i in range(len(l2)):\n",
    "    if l.count(l2[i]) > 1:\n",
    "        print(\"Hay {} letras {} \".format(l.count(l2[i]),l2[i]))\n",
    "    else: \n",
    "        print(\"Hay {} letra {}\".format(l.count(l2[i]), l2[i]))"
   ]
  },
  {
   "cell_type": "code",
   "execution_count": 2,
   "metadata": {},
   "outputs": [
    {
     "name": "stdout",
     "output_type": "stream",
     "text": [
      "Introduce una palabra: ferrocarril\n",
      "['f', 'e', 'r', 'r', 'o', 'c', 'a', 'r', 'r', 'i', 'l']\n",
      "Si volteamos la palabra dice: lirracorref\n",
      "['l', 'i', 'r', 'r', 'a', 'c', 'o', 'r', 'r', 'e', 'f']\n",
      "por lo tanto, tu palabra no es palíndroma.\n"
     ]
    }
   ],
   "source": [
    "#Ejercicio 4\n",
    "#Crea un programa que lea una palabra, la guarde en una lista y compruebe si se trata de un palíndromo.\n",
    "frase  = input(\"Introduce una palabra: \")\n",
    "frase = frase.lower()\n",
    "s_inv = \"\"\n",
    "l = []\n",
    "l2 = []\n",
    "l3 = []\n",
    "\n",
    "for i in range(len(frase)):\n",
    "    l.append(frase[i])\n",
    "    s_inv = frase[i] + s_inv\n",
    "    \n",
    "for i in range(len(s_inv)):\n",
    "    l2.append(s_inv[i])\n",
    "    \n",
    "    if l[i] == l2[i]:\n",
    "        l3.append(l[i])\n",
    "    else:\n",
    "        continue\n",
    "\n",
    "print(l)\n",
    "print(\"Si volteamos la palabra dice: \", end = \"\")\n",
    "print(s_inv)\n",
    "print(l2)\n",
    "print(\"por lo tanto,\", end = \" \")\n",
    "\n",
    "if l == l3 and l2 == l3:\n",
    "    print(\"tu palabra se puede leer de adelante hacia atrás y de atrás hacia adelante.\")\n",
    "else:\n",
    "    print(\"tu palabra no es palíndroma.\")\n",
    "    \n",
    "    \n",
    "\n",
    "    "
   ]
  },
  {
   "cell_type": "code",
   "execution_count": 100,
   "metadata": {},
   "outputs": [
    {
     "name": "stdout",
     "output_type": "stream",
     "text": [
      "Introduce el número de filas: 3\n",
      "Introduce el número de columnas: 5\n",
      "\n",
      "\n",
      "Introduce el número de filas: 3\n",
      "Introduce el número de columnas: 3\n",
      "\n",
      "\n",
      "\n",
      "MATRIZ A\n",
      "Introduce el elemento (0,0): 1\n",
      "Introduce el elemento (0,1): 6\n",
      "Introduce el elemento (0,2): 5\n",
      "Introduce el elemento (1,0): 5\n",
      "Introduce el elemento (1,1): 5\n",
      "Introduce el elemento (1,2): 8\n",
      "Introduce el elemento (2,0): 9\n",
      "Introduce el elemento (2,1): 7\n",
      "Introduce el elemento (2,2): 2\n",
      "1.0 6.0 5.0 \n",
      "5.0 5.0 8.0 \n",
      "9.0 7.0 2.0 \n",
      "El numero mayor de la fila 1 es 6.0\n",
      "El numero mayor de la fila 2 es 8.0\n",
      "El numero mayor de la fila 3 es 9.0\n"
     ]
    }
   ],
   "source": [
    "#Ejercicio 5\n",
    "#Crea un programa que lea una matriz 3 x 3 y devuelva el máximo de cada fila.\n",
    "while True:\n",
    "    n = int(input(\"Introduce el número de filas: \"))\n",
    "    m = int(input(\"Introduce el número de columnas: \"))\n",
    "    print(\"\\n\")\n",
    "    if n ==3 and m == 3:\n",
    "        break\n",
    "\n",
    "A = []\n",
    "print(\"\\nMATRIZ A\")\n",
    "for i in range(n):\n",
    "    A.append([])\n",
    "    for j in range(m):\n",
    "        A[i].append(float(input(\"Introduce el elemento ({},{}): \".format(i, j))))\n",
    "    \n",
    "for i in range(n):\n",
    "    for j in range(m):\n",
    "        print((A[i][j]), end = \" \")\n",
    "    print(\"\")\n",
    "\n",
    "l = []\n",
    "menor = 999\n",
    "mayor = 0\n",
    "for i in range(n):\n",
    "    for j in range(m):\n",
    "        if A[i][j] > mayor:\n",
    "            mayor = A[i][j]\n",
    "        elif A[i][j] < menor:\n",
    "            menor = A[i][j]\n",
    "    l.append(mayor)\n",
    "    j = i + 1\n",
    "    print(\"El numero mayor de la fila {} es {}\".format(j,l[i]))\n",
    "    mayor = 0"
   ]
  },
  {
   "cell_type": "code",
   "execution_count": 12,
   "metadata": {},
   "outputs": [
    {
     "name": "stdout",
     "output_type": "stream",
     "text": [
      "Introduza un número: 2\n",
      "Introduzca el elemento (0,0): 1\n",
      "Introduzca el elemento (0,1): 2\n",
      "Introduzca el elemento (1,0): 3\n",
      "Introduzca el elemento (1,1): 4\n",
      "[1.0, 2.0]\n",
      "[3.0, 4.0]\n"
     ]
    }
   ],
   "source": [
    "#Ejercicio 6\n",
    "#Crea un programa que lea un entero, n, de teclado y construya una matriz de tamaño n × n. Cada posición\n",
    "#debe contener su orden en la matriz (desde 0 hasta n\n",
    "#2 − 1. Por ejemplo, si n es 3, deberá crearse la matriz\n",
    "#[0, 1, 2]\n",
    "#[3, 4, 5]\n",
    "#[6, 7, 8]\n",
    "\n",
    "n = int(input(\"Introduza un número: \" ))\n",
    "\n",
    "l = []\n",
    "\n",
    "for i in range(n):\n",
    "    l.append([])\n",
    "    for j in range(n):\n",
    "        l[i].append(float(input(\"Introduzca el elemento ({},{}): \".format(i,j))))\n",
    "        \n",
    "for i in range(n):\n",
    "    print(l[i])"
   ]
  },
  {
   "cell_type": "code",
   "execution_count": 33,
   "metadata": {},
   "outputs": [
    {
     "name": "stdout",
     "output_type": "stream",
     "text": [
      "Introduce el número de filas: 4\n",
      "Introduce el número de columnas: 5\n",
      " \n",
      "Introduce el elemento (0,0): 1\n",
      "Introduce el elemento (0,1): 2\n",
      "Introduce el elemento (0,2): 3\n",
      "Introduce el elemento (0,3): 4\n",
      "Introduce el elemento (0,4): 5\n",
      "Introduce el elemento (1,0): 6\n",
      "Introduce el elemento (1,1): 7\n",
      "Introduce el elemento (1,2): 8\n",
      "Introduce el elemento (1,3): 9\n",
      "Introduce el elemento (1,4): 10\n",
      "Introduce el elemento (2,0): 11\n",
      "Introduce el elemento (2,1): 12\n",
      "Introduce el elemento (2,2): 13\n",
      "Introduce el elemento (2,3): 14\n",
      "Introduce el elemento (2,4): 15\n",
      "Introduce el elemento (3,0): 16\n",
      "Introduce el elemento (3,1): 17\n",
      "Introduce el elemento (3,2): 18\n",
      "Introduce el elemento (3,3): 19\n",
      "Introduce el elemento (3,4): 20\n",
      "\n",
      "MATRIZ A\n",
      "1.0 2.0 3.0 4.0 5.0 \n",
      "6.0 7.0 8.0 9.0 10.0 \n",
      "11.0 12.0 13.0 14.0 15.0 \n",
      "16.0 17.0 18.0 19.0 20.0 \n",
      "La suma de al menos una columna es diferente a las demás o todas son distintas.\n",
      "La suma de la columna 1 vale 34.0\n",
      "La suma de la columna 2 vale 38.0\n",
      "La suma de la columna 3 vale 42.0\n",
      "La suma de la columna 4 vale 46.0\n",
      "La suma de la columna 5 vale 50.0\n"
     ]
    }
   ],
   "source": [
    "#Ejercicio 7\n",
    "#Crea una matriz de n × m y asigna los valores manualmente. El programa debe indicar si la suma de cada\n",
    "#columna es el mismo valor.\n",
    "n = int(input(\"Introduce el número de filas: \"))\n",
    "m = int(input(\"Introduce el número de columnas: \"))\n",
    "print(\" \")\n",
    "l = []\n",
    "l2 = []\n",
    "for i in range(n):\n",
    "    l.append([])\n",
    "    for j in range(m):\n",
    "        l[i].append(float(input(\"Introduce el elemento ({},{}): \".format(i,j))))\n",
    "\n",
    "print(\"\\nMATRIZ A\")\n",
    "for i in range(n):\n",
    "    for j in range(m):\n",
    "        print(l[i][j], end  = \" \")\n",
    "    print(\"\")\n",
    "    \n",
    "suma = 0 \n",
    "l3 = []\n",
    "l4 = []\n",
    "\n",
    "for i in range(m):\n",
    "    for j in range(n):\n",
    "         suma = suma + l[j][i] \n",
    "    l2.append(suma)\n",
    "    suma = 0\n",
    "    \n",
    "idx = 0 \n",
    "idx1 = 0\n",
    "for i in range(m):\n",
    "    for j in range(m):\n",
    "        if l2[i] == l2[j]:\n",
    "            idx = idx + 1\n",
    "            \n",
    "             \n",
    "        else:\n",
    "            idx1 = idx1 + 1\n",
    "            l3.append(l2[j])\n",
    "            l4.append(j+1)\n",
    "            \n",
    "    \n",
    "    if idx1 > 0:\n",
    "        print(\"La suma de al menos una columna es diferente a las demás o todas son distintas.\")\n",
    "        print(\"La suma de la columna 1 vale {}\".format(l2[0]))\n",
    "        break\n",
    "\n",
    "for i in range(len(l4)):\n",
    "    if len(l4) > 1:\n",
    "        print(\"La suma de la columna {} vale {}\".format(l4[i], l3[i]))\n",
    "    elif len(l4) == 1:\n",
    "        print(\"La suma de la columna {} es la unica distinta a las demas y vale {}\".format(l4[i],l3[i]))\n",
    "        break\n",
    "\n",
    "if idx == m * m:\n",
    "    print(\"La suma de cada columna es el mismo valor.\")\n",
    "\n",
    "\n",
    "     "
   ]
  },
  {
   "cell_type": "code",
   "execution_count": 99,
   "metadata": {},
   "outputs": [
    {
     "name": "stdout",
     "output_type": "stream",
     "text": [
      "Introduce el número de filas: 4\n",
      "Introduce el número de columnas: 4\n",
      " \n",
      "Introduce el elemento (0,0): 1\n",
      "Introduce el elemento (0,1): 0\n",
      "Introduce el elemento (0,2): 0\n",
      "Introduce el elemento (0,3): 0\n",
      "Introduce el elemento (1,0): 0\n",
      "Introduce el elemento (1,1): 1\n",
      "Introduce el elemento (1,2): 0\n",
      "Introduce el elemento (1,3): 0\n",
      "Introduce el elemento (2,0): 0\n",
      "Introduce el elemento (2,1): 0\n",
      "Introduce el elemento (2,2): 1\n",
      "Introduce el elemento (2,3): 0\n",
      "Introduce el elemento (3,0): 0\n",
      "Introduce el elemento (3,1): 0\n",
      "Introduce el elemento (3,2): 0\n",
      "Introduce el elemento (3,3): 1\n",
      "\n",
      "Tu matriz es la identidad: \n",
      "1.0 0.0 0.0 0.0 \n",
      "0.0 1.0 0.0 0.0 \n",
      "0.0 0.0 1.0 0.0 \n",
      "0.0 0.0 0.0 1.0 \n"
     ]
    }
   ],
   "source": [
    "# Ejercicio 8\n",
    "#Crear un programa determina si la matriz introducida manualmente (tanto sus dimensiones como los ele\u0002mentos) \n",
    "#se trata de la matriz identidad. Recuerda que la matriz identidad debe ser una matriz cuadrada.\n",
    "\n",
    "n = int(input(\"Introduce el número de filas: \"))\n",
    "m = int(input(\"Introduce el número de columnas: \"))\n",
    "print(\" \")\n",
    "\n",
    "l = []\n",
    "l2 = []\n",
    "lst = []\n",
    "l3 = []\n",
    "idx = 0\n",
    "\n",
    "for i in range(n):\n",
    "    l.append([])\n",
    "    for j in range(m):\n",
    "        l[i].append(float(input(\"Introduce el elemento ({},{}): \".format(i,j))))\n",
    "        \n",
    "for i in range(n):\n",
    "    lst.append([])\n",
    "    for j in range(m-1):\n",
    "        lst[i].append(0)\n",
    "        \n",
    "if n == m:\n",
    "    for i in range(n):\n",
    "        l3.append([])\n",
    "        if l[i][i] == 1:\n",
    "            for j in range(n):\n",
    "                \n",
    "                if l[i][j] == 0:\n",
    "                    l3[i].append(l[i][j])\n",
    "                else:\n",
    "                    if l[i][j] == 1:\n",
    "                        continue\n",
    "                    else:\n",
    "                        idx = idx + 1\n",
    "            if idx > 0: \n",
    "                \n",
    "                break\n",
    "\n",
    "                \n",
    "\n",
    "                \n",
    "if l3 == lst:\n",
    "    print(\"\\nTu matriz es la identidad: \")\n",
    "    for i in range(n):\n",
    "        for j in range(m):\n",
    "            print(l[i][j], end  = \" \")\n",
    "        print(\"\")\n",
    "    \n",
    "else:\n",
    "    print(\"Tu matriz no es la identidad\")\n",
    "    for i in range(n):\n",
    "        for j in range(m):\n",
    "            print(l[i][j], end  = \" \")\n",
    "        print(\"\")\n",
    "\n",
    "        \n",
    "                \n",
    "\n",
    "                    \n",
    "                \n",
    "                \n",
    "                \n"
   ]
  },
  {
   "cell_type": "code",
   "execution_count": 48,
   "metadata": {},
   "outputs": [
    {
     "name": "stdout",
     "output_type": "stream",
     "text": [
      "Introduce el número de filas: 3\n",
      "Introduce el número de columnas: 4\n",
      " \n",
      "Introduce el elemento (0,0): 1\n",
      "Introduce el elemento (0,1): 2\n",
      "Introduce el elemento (0,2): 3\n",
      "Introduce el elemento (0,3): 4\n",
      "Introduce el elemento (1,0): 5\n",
      "Introduce el elemento (1,1): 6\n",
      "Introduce el elemento (1,2): 7\n",
      "Introduce el elemento (1,3): 8\n",
      "Introduce el elemento (2,0): 9\n",
      "Introduce el elemento (2,1): 10\n",
      "Introduce el elemento (2,2): 11\n",
      "Introduce el elemento (2,3): 12\n",
      "\n",
      "MATRIZ A\n",
      "1.0 2.0 3.0 4.0 \n",
      "5.0 6.0 7.0 8.0 \n",
      "9.0 10.0 11.0 12.0 \n",
      "\n",
      "\n",
      "\n",
      "MATRIZ A TRANSPUESTA\n",
      "1.0 5.0 9.0 \n",
      "2.0 6.0 10.0 \n",
      "3.0 7.0 11.0 \n",
      "4.0 8.0 12.0 \n"
     ]
    }
   ],
   "source": [
    "###### Ejercicio 9\n",
    "#Realiza un programa que calcule la matriz transpuesta.\n",
    "n = int(input(\"Introduce el número de filas: \"))\n",
    "m = int(input(\"Introduce el número de columnas: \"))\n",
    "print(\" \")\n",
    "l = []\n",
    "l2 = []\n",
    "\n",
    "for i in range(n):\n",
    "    l.append([])\n",
    "    for j in range(m):\n",
    "        l[i].append(float(input(\"Introduce el elemento ({},{}): \".format(i,j))))\n",
    "        \n",
    "for i in range(m):\n",
    "    l2.append([])\n",
    "    for j in range(n):\n",
    "        l2[i].append(l[j][i])\n",
    "\n",
    "print(\"\\nMATRIZ A\")\n",
    "for i in range(n):\n",
    "    for j in range(m):\n",
    "        print(l[i][j], end  = \" \")\n",
    "    print(\"\")\n",
    "\n",
    "print(\"\\n\")\n",
    "    \n",
    "print(\"\\nMATRIZ A TRANSPUESTA\")\n",
    "for i in range(m):\n",
    "    for j in range(n):\n",
    "        print(l[j][i], end  = \" \")\n",
    "    print(\"\")\n",
    "    \n",
    "\n"
   ]
  },
  {
   "cell_type": "code",
   "execution_count": 8,
   "metadata": {},
   "outputs": [
    {
     "name": "stdout",
     "output_type": "stream",
     "text": [
      "Introduce el número de filas: 4\n",
      "Introduce el número de columnas: 4\n",
      " \n",
      "Introduce el elemento (0,0): 1\n",
      "Introduce el elemento (0,1): 2\n",
      "Introduce el elemento (0,2): 3\n",
      "Introduce el elemento (0,3): 4\n",
      "Introduce el elemento (1,0): 5\n",
      "Introduce el elemento (1,1): 6\n",
      "Introduce el elemento (1,2): 7\n",
      "Introduce el elemento (1,3): 8\n",
      "Introduce el elemento (2,0): 9\n",
      "Introduce el elemento (2,1): 10\n",
      "Introduce el elemento (2,2): 11\n",
      "Introduce el elemento (2,3): 12\n",
      "Introduce el elemento (3,0): 13\n",
      "Introduce el elemento (3,1): 14\n",
      "Introduce el elemento (3,2): 15\n",
      "Introduce el elemento (3,3): 16\n",
      "\n",
      "Matriz  \n",
      "1.0 2.0 3.0 4.0 \n",
      "5.0 6.0 7.0 8.0 \n",
      "9.0 10.0 11.0 12.0 \n",
      "13.0 14.0 15.0 16.0 \n",
      "\n",
      "Matriz identidad de orden 4\n",
      "1 0 0 0 \n",
      "0 1 0 0 \n",
      "0 0 1 0 \n",
      "0 0 0 1 \n"
     ]
    }
   ],
   "source": [
    "# Ejercicio 10\n",
    "#Crea un programa que pida al usuario la dimensión y cree la matriz identidad de orden correspondiente con\n",
    "#numpy.\n",
    "\n",
    "\n",
    "n = int(input(\"Introduce el número de filas: \"))\n",
    "m = int(input(\"Introduce el número de columnas: \"))\n",
    "print(\" \")\n",
    "    \n",
    "        \n",
    "l = []\n",
    "l2 = []\n",
    "\n",
    "for i in range(n):\n",
    "    l.append([])\n",
    "    for j in range(m):\n",
    "        l[i].append(float(input(\"Introduce el elemento ({},{}): \".format(i,j))))\n",
    "        \n",
    "if n == m:\n",
    "    for i in range(n):\n",
    "        l2.append([])\n",
    "        for j in range(n):\n",
    "            l2[i].append(0)\n",
    "        \n",
    "        l2[i][i] = 1\n",
    "    \n",
    "    print(\"\\nMatriz  \")\n",
    "    for i in range(n):\n",
    "        for j in range(n):\n",
    "            print(l[i][j], end  = \" \")\n",
    "        print(\"\")\n",
    "    \n",
    "    print(\"\\nMatriz identidad de orden {}\".format(n))\n",
    "    for i in range(m):\n",
    "        for j in range(n):\n",
    "            print(l2[i][j], end  = \" \")\n",
    "        print(\"\")\n",
    "    \n",
    "else:\n",
    "    print(\"Tu matriz no es cuadrada y no tiene matriz identidad.\")\n",
    "    print(\"MATRIZ  \")\n",
    "    for i in range(n):\n",
    "        for j in range(m):\n",
    "            print(l[i][j], end  = \" \")\n",
    "        print(\"\") \n",
    "\n",
    "\n"
   ]
  },
  {
   "cell_type": "code",
   "execution_count": 13,
   "metadata": {},
   "outputs": [],
   "source": [
    "import pandas as pd \n",
    "\n",
    "regla1 = pd.read_csv(\"C:/Users/URIEL/Documents/DATOS (CSV,XML,JSON,ETC)/prueba.csv\")"
   ]
  },
  {
   "cell_type": "code",
   "execution_count": 218,
   "metadata": {},
   "outputs": [],
   "source": [
    "string = \"\"\n",
    "dicc = {}\n",
    "lista = []\n",
    "for i in range(len(regla1)):\n",
    "    lista.append([])\n",
    "    for j in range(len(regla1.iloc[i][0])):\n",
    "        string = string + regla1.iloc[i][0][j]\n",
    "    string = string.split(\"BR_STORE_TYPE_SIZE_BFOOD\")\n",
    "    lista[i] = string\n",
    "    string = \"\"\n",
    "dicc[\"CEL_RULE\"] = lista\n",
    "   \n"
   ]
  },
  {
   "cell_type": "code",
   "execution_count": 219,
   "metadata": {},
   "outputs": [],
   "source": [
    "regla1 = pd.DataFrame.from_dict(dicc)"
   ]
  },
  {
   "cell_type": "code",
   "execution_count": 220,
   "metadata": {},
   "outputs": [],
   "source": [
    "regla1 = regla1[0:90]"
   ]
  },
  {
   "cell_type": "code",
   "execution_count": 221,
   "metadata": {},
   "outputs": [
    {
     "data": {
      "text/html": [
       "<div>\n",
       "<style scoped>\n",
       "    .dataframe tbody tr th:only-of-type {\n",
       "        vertical-align: middle;\n",
       "    }\n",
       "\n",
       "    .dataframe tbody tr th {\n",
       "        vertical-align: top;\n",
       "    }\n",
       "\n",
       "    .dataframe thead th {\n",
       "        text-align: right;\n",
       "    }\n",
       "</style>\n",
       "<table border=\"1\" class=\"dataframe\">\n",
       "  <thead>\n",
       "    <tr style=\"text-align: right;\">\n",
       "      <th></th>\n",
       "      <th>CEL_RULE</th>\n",
       "    </tr>\n",
       "  </thead>\n",
       "  <tbody>\n",
       "    <tr>\n",
       "      <th>0</th>\n",
       "      <td>[BR_STATE = 'BA' AND BR_CITY IN (35, 160, 780,...</td>\n",
       "    </tr>\n",
       "    <tr>\n",
       "      <th>1</th>\n",
       "      <td>[BR_STATE = 'BA' AND BR_CITY IN (35, 160, 780,...</td>\n",
       "    </tr>\n",
       "    <tr>\n",
       "      <th>2</th>\n",
       "      <td>[BR_STATE = 'BA' AND BR_CITY IN (35, 160, 780,...</td>\n",
       "    </tr>\n",
       "    <tr>\n",
       "      <th>3</th>\n",
       "      <td>[((BR_AREA_NIELSEN IN ('AREA I', 'AREA II', 'A...</td>\n",
       "    </tr>\n",
       "    <tr>\n",
       "      <th>4</th>\n",
       "      <td>[((BR_AREA_NIELSEN IN ('AREA I', 'AREA II', 'A...</td>\n",
       "    </tr>\n",
       "    <tr>\n",
       "      <th>...</th>\n",
       "      <td>...</td>\n",
       "    </tr>\n",
       "    <tr>\n",
       "      <th>85</th>\n",
       "      <td>[(BR_STATE = 'AM' AND BR_CITY = 260)]</td>\n",
       "    </tr>\n",
       "    <tr>\n",
       "      <th>86</th>\n",
       "      <td>[BR_STATE = 'SP' AND BR_AREA_NIELSEN IN ('AREA...</td>\n",
       "    </tr>\n",
       "    <tr>\n",
       "      <th>87</th>\n",
       "      <td>[BR_STATE = 'SP' AND BR_AREA_NIELSEN IN ('AREA...</td>\n",
       "    </tr>\n",
       "    <tr>\n",
       "      <th>88</th>\n",
       "      <td>[BR_STATE = 'SP' AND BR_AREA_NIELSEN IN ('AREA...</td>\n",
       "    </tr>\n",
       "    <tr>\n",
       "      <th>89</th>\n",
       "      <td>[BR_STATE = 'SP' AND BR_AREA_NIELSEN IN ('AREA...</td>\n",
       "    </tr>\n",
       "  </tbody>\n",
       "</table>\n",
       "<p>90 rows × 1 columns</p>\n",
       "</div>"
      ],
      "text/plain": [
       "                                             CEL_RULE\n",
       "0   [BR_STATE = 'BA' AND BR_CITY IN (35, 160, 780,...\n",
       "1   [BR_STATE = 'BA' AND BR_CITY IN (35, 160, 780,...\n",
       "2   [BR_STATE = 'BA' AND BR_CITY IN (35, 160, 780,...\n",
       "3   [((BR_AREA_NIELSEN IN ('AREA I', 'AREA II', 'A...\n",
       "4   [((BR_AREA_NIELSEN IN ('AREA I', 'AREA II', 'A...\n",
       "..                                                ...\n",
       "85              [(BR_STATE = 'AM' AND BR_CITY = 260)]\n",
       "86  [BR_STATE = 'SP' AND BR_AREA_NIELSEN IN ('AREA...\n",
       "87  [BR_STATE = 'SP' AND BR_AREA_NIELSEN IN ('AREA...\n",
       "88  [BR_STATE = 'SP' AND BR_AREA_NIELSEN IN ('AREA...\n",
       "89  [BR_STATE = 'SP' AND BR_AREA_NIELSEN IN ('AREA...\n",
       "\n",
       "[90 rows x 1 columns]"
      ]
     },
     "execution_count": 221,
     "metadata": {},
     "output_type": "execute_result"
    }
   ],
   "source": [
    "regla1"
   ]
  },
  {
   "cell_type": "code",
   "execution_count": 222,
   "metadata": {},
   "outputs": [],
   "source": [
    "regla1.to_excel('regla1.xlsx', index = False)"
   ]
  },
  {
   "cell_type": "code",
   "execution_count": 75,
   "metadata": {},
   "outputs": [],
   "source": [
    "regla1 = pd.read_csv(\"C:/Users/URIEL/Documents/DATOS (CSV,XML,JSON,ETC)/prueba.csv\")"
   ]
  },
  {
   "cell_type": "code",
   "execution_count": 78,
   "metadata": {},
   "outputs": [],
   "source": [
    "string = \"\"\n",
    "\n",
    "\n",
    "\n",
    "\n",
    "for j in range(len(regla1)):\n",
    "    idx = 0\n",
    "    while idx == 0:\n",
    "        for i in range(len(regla1.iloc[j][0])):\n",
    "            start = regla1.iloc[j][0].find(\"BR_STORE_TYPE_SIZE_BFOOD\")\n",
    "            end = regla1.iloc[j][0].find(\")\",start)\n",
    "            if i in range(start-4,end+1):\n",
    "                continue\n",
    "            else:\n",
    "                string = string + regla1.iloc[j][0][i]\n",
    "            \n",
    "        regla1.iloc[j][0] = string\n",
    "        if \"BR_STORE_TYPE_SIZE_BFOOD\" not in regla1.iloc[j][0]:\n",
    "            idx = 1\n",
    "        else:\n",
    "            string = \"\""
   ]
  },
  {
   "cell_type": "code",
   "execution_count": 79,
   "metadata": {},
   "outputs": [
    {
     "data": {
      "text/plain": [
       "\"BR_STATE = 'BA' AND BR_CITY IN (35, 160, 780, 920, 1075, 1140, 1185, 1650, 1790, 1810, 2380, 2400, 2420, 2650, 2660, 2700, 2760, 3076) \""
      ]
     },
     "execution_count": 79,
     "metadata": {},
     "output_type": "execute_result"
    }
   ],
   "source": [
    "regla1.iloc[0][0]"
   ]
  },
  {
   "cell_type": "code",
   "execution_count": 77,
   "metadata": {},
   "outputs": [
    {
     "data": {
      "text/plain": [
       "\"BR_STATE = 'BA' AND BR_CITY IN (35, 160, 780, 920, 1075, 1140, 1185, 1650, 1790, 1810, 2380, 2400, 2420, 2650, 2660, 2700, 2760, 3076) AND BR_STORE_TYPE_SIZE_BFOOD IN ('CONVENIENCE', 'SUPERETTE INDEPENDENT', 'SMALL SUPERMARKET INDEPENDENT', 'TRADITIONAL SMALL WITH CONSUMPTION', 'TRADITIONAL MEDIUM WITH CONSUMPTION', 'TRADITIONAL LARGE WITH CONSUMPTION', 'TRADITIONAL SMALL WITHOUT CONSUMPTION', 'TRADITIONAL MEDIUM WITHOUT CONSUMPTION', 'TRADITIONAL LARGE WITHOUT CONSUMPTION', 'BAKERY SMALL', 'BAKERY MEDIUM', 'BAKERY LARGE') OR BR_STORE_TYPE_SIZE_BFOOD IN ('BAR SMALL', 'BAR LARGE')\""
      ]
     },
     "execution_count": 77,
     "metadata": {},
     "output_type": "execute_result"
    }
   ],
   "source": [
    "regla1.iloc[0][0]"
   ]
  },
  {
   "cell_type": "code",
   "execution_count": 74,
   "metadata": {},
   "outputs": [],
   "source": [
    "regla1.to_excel('regla1.xlsx', index = False)"
   ]
  },
  {
   "cell_type": "code",
   "execution_count": null,
   "metadata": {},
   "outputs": [],
   "source": []
  },
  {
   "cell_type": "code",
   "execution_count": null,
   "metadata": {},
   "outputs": [],
   "source": []
  },
  {
   "cell_type": "code",
   "execution_count": null,
   "metadata": {},
   "outputs": [],
   "source": []
  }
 ],
 "metadata": {
  "kernelspec": {
   "display_name": "Python 3",
   "language": "python",
   "name": "python3"
  },
  "language_info": {
   "codemirror_mode": {
    "name": "ipython",
    "version": 3
   },
   "file_extension": ".py",
   "mimetype": "text/x-python",
   "name": "python",
   "nbconvert_exporter": "python",
   "pygments_lexer": "ipython3",
   "version": "3.8.3"
  }
 },
 "nbformat": 4,
 "nbformat_minor": 4
}
