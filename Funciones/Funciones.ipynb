{
 "cells": [
  {
   "cell_type": "markdown",
   "metadata": {},
   "source": [
    "# Función\n",
    "\n",
    "\n",
    "Función. Una función en Python es una pieza de código reutilizable que solo se ejecuta cuando es llamada.\n",
    "\n",
    "Se define usando la palabra reservada def y estructura general es la siguiente:"
   ]
  },
  {
   "cell_type": "code",
   "execution_count": null,
   "metadata": {},
   "outputs": [],
   "source": [
    "def nombre_funcion(input1, input2, ..., inputn):\n",
    "  cuerpo de la función\n",
    "  return output"
   ]
  },
  {
   "cell_type": "markdown",
   "metadata": {},
   "source": [
    "$\\textbf{Observación}$. La instrucción return finaliza la ejecución de la función y devuelve el resultado que se indica a continuación. Si no se indicase nada, la función finalizaría, pero no retornaría nada.\n",
    "\n",
    "Como hemos visto, en general, las funciones constan de 3 partes:\n",
    "\n",
    "* $\\textbf{Inputs}$ (parámetros o argumentos). Son los valores que le pasamos como entrada a la función.\n",
    "* $\\textbf{Cuerpo}$. Son todas las operaciones que lleva a cabo la función.\n",
    "* $\\textbf{Outputs}$. Es el resultado que devuelve la función.\n",
    "* $\\textbf{Observación}$. Los parámetros son variables internas de la función. Si probásemos a ejecutar una de dichas variables en el entorno global, nos saltaría un error. Este tema lo trataremos más en detalle más adelante.\n",
    "\n",
    "Con lo visto anteriormente, a la hora de construir una función hau que hacerse las siguientes preguntas:\n",
    "\n",
    "¿Qué datos necesita conocer la función? (inputs)\n",
    "¿Qué hace la función? (cuerpo)\n",
    "¿Qué devuelve? (output)\n",
    "\n",
    "* $\\textbf{Observación}$. Los inputs y el output son opcionales: podemos definir una función sin necesidad de proporcionarle inputs y sin que nos devuelva nada.\n",
    "\n",
    "Una vez definida una función, para llamarla utilizamos su nombre seguido de paréntesis:"
   ]
  },
  {
   "cell_type": "code",
   "execution_count": 1,
   "metadata": {},
   "outputs": [],
   "source": [
    "def my_first_function():\n",
    "    print(\"Tu primera función te saluda\")"
   ]
  },
  {
   "cell_type": "code",
   "execution_count": 2,
   "metadata": {},
   "outputs": [
    {
     "name": "stdout",
     "output_type": "stream",
     "text": [
      "Tu primera función te saluda\n"
     ]
    }
   ],
   "source": [
    "my_first_function()\n",
    "\n",
    "#Veamos que tanto los Inputs como los Outputs son opcionales, veamos ahora algunos ejemplos."
   ]
  },
  {
   "cell_type": "markdown",
   "metadata": {},
   "source": [
    "# Ejemplo 1\n",
    "\n",
    "\n",
    "Veamos otro ejemplo que no necesite ningún parámetro y no nos devuelva nada, tal y como ocurría con my_first_function()."
   ]
  },
  {
   "cell_type": "code",
   "execution_count": 1,
   "metadata": {},
   "outputs": [],
   "source": [
    "def hello_world():\n",
    "  print(\"Hola mundo!\")"
   ]
  },
  {
   "cell_type": "code",
   "execution_count": 2,
   "metadata": {},
   "outputs": [
    {
     "name": "stdout",
     "output_type": "stream",
     "text": [
      "Hola mundo!\n"
     ]
    }
   ],
   "source": [
    "hello_world()"
   ]
  },
  {
   "cell_type": "markdown",
   "metadata": {},
   "source": [
    "Nuestra función hello_world(), cuando es llamada, imprime \"Hola mundo!\", pero no devuelve absolutamente nada."
   ]
  },
  {
   "cell_type": "markdown",
   "metadata": {},
   "source": [
    "# Ejemplo 2\n",
    "\n",
    "Veamos un ejemplo de función que no necesita ningún input, pero que devuelve un output. Por ejemplo, una función que nos devuelve \"¡Buenos días!\""
   ]
  },
  {
   "cell_type": "code",
   "execution_count": 3,
   "metadata": {},
   "outputs": [],
   "source": [
    "def good_morning():\n",
    "    return \"Buenos Días\""
   ]
  },
  {
   "cell_type": "code",
   "execution_count": 4,
   "metadata": {},
   "outputs": [
    {
     "data": {
      "text/plain": [
       "'Buenos Días'"
      ]
     },
     "execution_count": 4,
     "metadata": {},
     "output_type": "execute_result"
    }
   ],
   "source": [
    "good_morning()"
   ]
  },
  {
   "cell_type": "markdown",
   "metadata": {},
   "source": [
    "Como nos devuelve el saludo, lo podemos guardar en una variable, que será de tipo string. "
   ]
  },
  {
   "cell_type": "code",
   "execution_count": 6,
   "metadata": {},
   "outputs": [
    {
     "name": "stdout",
     "output_type": "stream",
     "text": [
      "Buenos Días\n",
      "<class 'str'>\n"
     ]
    }
   ],
   "source": [
    "goodMorning = good_morning()\n",
    "print(goodMorning)\n",
    "print(type(goodMorning))"
   ]
  },
  {
   "cell_type": "markdown",
   "metadata": {},
   "source": [
    "# Ejemplo 3\n",
    "\n",
    "Veamos ahora un ejemplo de función que no nos devuelva nada, pero que sí toma algún parámetro."
   ]
  },
  {
   "cell_type": "code",
   "execution_count": 7,
   "metadata": {},
   "outputs": [],
   "source": [
    "def good_morning(name):\n",
    "  print(\"¡Buenos días, {}!\".format(name))"
   ]
  },
  {
   "cell_type": "code",
   "execution_count": 8,
   "metadata": {},
   "outputs": [
    {
     "name": "stdout",
     "output_type": "stream",
     "text": [
      "¡Buenos días, Don Pepito!\n"
     ]
    }
   ],
   "source": [
    "good_morning(name = \"Don Pepito\")"
   ]
  },
  {
   "cell_type": "code",
   "execution_count": 9,
   "metadata": {},
   "outputs": [
    {
     "name": "stdout",
     "output_type": "stream",
     "text": [
      "¡Buenos días, Maria!\n"
     ]
    }
   ],
   "source": [
    "good_morning(\"Maria\")"
   ]
  },
  {
   "cell_type": "markdown",
   "metadata": {},
   "source": [
    "Ahora nuestra función $\\textbf{good_morning()}$ recibe como parámetro un nombre y nos muestra por pantalla un \"¡Buenos días!\" junto con el nombre indicado."
   ]
  },
  {
   "cell_type": "markdown",
   "metadata": {},
   "source": [
    "# Ejemplo 4\n",
    "\n",
    "Por último, vamos a crear una función que nos calcule la división entera de dos números y nos retorne el cociente y el resto.\n",
    "\n"
   ]
  },
  {
   "cell_type": "code",
   "execution_count": 1,
   "metadata": {},
   "outputs": [],
   "source": [
    "def euclidean_division(x, y):\n",
    "  q = x // y\n",
    "  r = x % y\n",
    "  return q, r"
   ]
  },
  {
   "cell_type": "code",
   "execution_count": 2,
   "metadata": {},
   "outputs": [
    {
     "data": {
      "text/plain": [
       "(2, 0)"
      ]
     },
     "execution_count": 2,
     "metadata": {},
     "output_type": "execute_result"
    }
   ],
   "source": [
    "euclidean_division(10,5)"
   ]
  },
  {
   "cell_type": "markdown",
   "metadata": {},
   "source": [
    "También podríamos guardar en variables diferentes los resultados que nos devuelve nuestra función, para poder trabajar con ellos en el entorno global."
   ]
  },
  {
   "cell_type": "code",
   "execution_count": 3,
   "metadata": {},
   "outputs": [
    {
     "name": "stdout",
     "output_type": "stream",
     "text": [
      "5\n",
      "6\n",
      "True\n"
     ]
    }
   ],
   "source": [
    "quotient, remainder = euclidean_division(x = 41, y = 7)\n",
    "print(quotient)\n",
    "print(remainder)\n",
    "print(41 == 7 * quotient + remainder)"
   ]
  },
  {
   "cell_type": "markdown",
   "metadata": {},
   "source": [
    "# Parámetros\n",
    "Por defecto, una función debe ser llamada con el número correcto de argumentos. Esto es, si la función espera 2 argumentos, tenemos que llamar a la función con esos 2 argumentos. Ni más, ni menos."
   ]
  },
  {
   "cell_type": "code",
   "execution_count": 4,
   "metadata": {},
   "outputs": [],
   "source": [
    "def complete_name(name, surname):\n",
    "  print(\"El nombre completo es\", name, surname)"
   ]
  },
  {
   "cell_type": "code",
   "execution_count": 5,
   "metadata": {},
   "outputs": [
    {
     "name": "stdout",
     "output_type": "stream",
     "text": [
      "El nombre completo es Uriel Clavellina\n"
     ]
    }
   ],
   "source": [
    "complete_name(\"Uriel\", \"Clavellina\")"
   ]
  },
  {
   "cell_type": "markdown",
   "metadata": {},
   "source": [
    "# Número arbitrario de argumentos\n",
    "\n",
    "Si no sabemos el número de parámetros que van a ser introducidos, entonces añadimos un asterisco * previo al nombre del parámetro en la definición de la función. Los valores introducidos serán guardados en una tupla."
   ]
  },
  {
   "cell_type": "code",
   "execution_count": 9,
   "metadata": {},
   "outputs": [],
   "source": [
    "def sum_numbers(*numbers):\n",
    "  sum = 0\n",
    "  for n in numbers:\n",
    "    sum += n\n",
    "  \n",
    "  return sum\n"
   ]
  },
  {
   "cell_type": "code",
   "execution_count": 7,
   "metadata": {},
   "outputs": [
    {
     "data": {
      "text/plain": [
       "25"
      ]
     },
     "execution_count": 7,
     "metadata": {},
     "output_type": "execute_result"
    }
   ],
   "source": [
    "sum_numbers(3,4,5,6,7)"
   ]
  },
  {
   "cell_type": "markdown",
   "metadata": {},
   "source": [
    "los nombres completos pueden tener dos o incluso más apellidos, pero no sabemos si el usuario tiene 1 o 2 o más. Entonces, podemos añadir dos asteriscos ** antes del nombre del parámetro para así poder introducir tantos como queramos sin que salte error"
   ]
  },
  {
   "cell_type": "code",
   "execution_count": 11,
   "metadata": {},
   "outputs": [],
   "source": [
    "def complete_name(name, **surname):\n",
    "    print(\"El nombre completo es {}\".format(name), end = \" \")\n",
    "    for i in surname.items():\n",
    "      print(\"{}\".format(i[1]), end = \" \")\n",
    "    "
   ]
  },
  {
   "cell_type": "code",
   "execution_count": 12,
   "metadata": {},
   "outputs": [
    {
     "name": "stdout",
     "output_type": "stream",
     "text": [
      "El nombre completo es María Santos Fernández "
     ]
    }
   ],
   "source": [
    "complete_name(name = \"María\", surname1 = \"Santos\", surname2 = \"Fernández\")"
   ]
  },
  {
   "cell_type": "markdown",
   "metadata": {},
   "source": [
    " # Parámetros por defecto\n",
    "Hemos visto que una función en Python puede tener o no parámetros.\n",
    "\n",
    "En caso de tener, podemos indicar que alguno tenga un valor por defecto.\n",
    "\n",
    "La función diff() calcula la diferencia entre los dos números que introducimos por parámetros. Podemos hacer que el sustraendo por defecto valga 1 del siguiente modo:"
   ]
  },
  {
   "cell_type": "code",
   "execution_count": 17,
   "metadata": {},
   "outputs": [],
   "source": [
    "def diff(x, y = 1):\n",
    "  return x - y"
   ]
  },
  {
   "cell_type": "code",
   "execution_count": 18,
   "metadata": {},
   "outputs": [
    {
     "data": {
      "text/plain": [
       "4"
      ]
     },
     "execution_count": 18,
     "metadata": {},
     "output_type": "execute_result"
    }
   ],
   "source": [
    "diff(5)"
   ]
  },
  {
   "cell_type": "code",
   "execution_count": 19,
   "metadata": {},
   "outputs": [
    {
     "data": {
      "text/plain": [
       "47"
      ]
     },
     "execution_count": 19,
     "metadata": {},
     "output_type": "execute_result"
    }
   ],
   "source": [
    "diff(65,18)"
   ]
  },
  {
   "cell_type": "markdown",
   "metadata": {},
   "source": [
    "# Docstring\n",
    "Docstring. Son comentarios explicativos que ayudan a comprender el funcionamiento de una función.\n",
    "\n",
    "Van entre triple comilla doble\n",
    "Pueden ser multilínea\n",
    "Se sitúan al principio de la definición de la función\n",
    "Retomando el ejemplo de la división entera, podríamos utilizar docstring del siguiente modo:"
   ]
  },
  {
   "cell_type": "code",
   "execution_count": 20,
   "metadata": {},
   "outputs": [],
   "source": [
    "def euclidean_division(x, y):\n",
    "  \"\"\"\n",
    "  Esta función calcula el cociente y el resto de la\n",
    "  división entera de x entre y.\n",
    "\n",
    "  Args:\n",
    "    x (int): dividendo\n",
    "    y (int): divisor (que no puede ser cero)\n",
    "\n",
    "  Returns:\n",
    "    (q, r): tupla con el valor de (cociente, resto)\n",
    "  \"\"\"\n",
    "  q = x // y\n",
    "  r = x % y\n",
    "  return q, r"
   ]
  },
  {
   "cell_type": "markdown",
   "metadata": {},
   "source": [
    "Con la ayuda del método .__doc__ podemos acceder directamente a la información indicada en el docstring de una función."
   ]
  },
  {
   "cell_type": "code",
   "execution_count": 21,
   "metadata": {},
   "outputs": [
    {
     "name": "stdout",
     "output_type": "stream",
     "text": [
      "\n",
      "  Esta función calcula el cociente y el resto de la\n",
      "  división entera de x entre y.\n",
      "\n",
      "  Args:\n",
      "    x (int): dividendo\n",
      "    y (int): divisor (que no puede ser cero)\n",
      "\n",
      "  Returns:\n",
      "    (q, r): tupla con el valor de (cociente, resto)\n",
      "  \n"
     ]
    }
   ],
   "source": [
    "print(euclidean_division.__doc__)"
   ]
  },
  {
   "cell_type": "markdown",
   "metadata": {},
   "source": [
    "# Variables de una función\n",
    "Dentro de una función en Python existen dos tipos de variables:\n",
    "\n",
    "* $\\textbf{Variable local}$. Aquella que es creada y solamente existe dentro de la función.\n",
    "* $\\textbf{Variable global}$. Aquella que es creada en el entorno global.\n",
    "Dada la siguiente función:"
   ]
  },
  {
   "cell_type": "code",
   "execution_count": 22,
   "metadata": {},
   "outputs": [],
   "source": [
    "def arithmetic_operations(x, y):\n",
    "  sum = x + y\n",
    "  diff = x - y\n",
    "  prod = x * y\n",
    "  div = x / y\n",
    "  return {\"sum\": sum,\n",
    "          \"difference\": diff,\n",
    "          \"product\": prod,\n",
    "          \"division\": div}"
   ]
  },
  {
   "cell_type": "code",
   "execution_count": 23,
   "metadata": {},
   "outputs": [
    {
     "data": {
      "text/plain": [
       "{'sum': 10, 'difference': -2, 'product': 24, 'division': 0.6666666666666666}"
      ]
     },
     "execution_count": 23,
     "metadata": {},
     "output_type": "execute_result"
    }
   ],
   "source": [
    "arithmetic_operations(4, 6)"
   ]
  },
  {
   "cell_type": "markdown",
   "metadata": {},
   "source": [
    "Si nosotros queremos imprimir por ejemplo el valor que toma la variable $\\textbf{prod}$ en el entorno global nos saltará un error, pues esta variable no existe a nivel global porque no ha sido declarada en dicho entorno ya que solamente ha sido declarada a nivel local, dentro de la función $\\textbf{arithmetic_operations()}$."
   ]
  },
  {
   "cell_type": "code",
   "execution_count": 24,
   "metadata": {},
   "outputs": [
    {
     "ename": "NameError",
     "evalue": "name 'prod' is not defined",
     "output_type": "error",
     "traceback": [
      "\u001b[1;31m---------------------------------------------------------------------------\u001b[0m",
      "\u001b[1;31mNameError\u001b[0m                                 Traceback (most recent call last)",
      "\u001b[1;32m<ipython-input-24-9e0a762e5f10>\u001b[0m in \u001b[0;36m<module>\u001b[1;34m\u001b[0m\n\u001b[1;32m----> 1\u001b[1;33m \u001b[0mprint\u001b[0m\u001b[1;33m(\u001b[0m\u001b[0mprod\u001b[0m\u001b[1;33m)\u001b[0m\u001b[1;33m\u001b[0m\u001b[1;33m\u001b[0m\u001b[0m\n\u001b[0m",
      "\u001b[1;31mNameError\u001b[0m: name 'prod' is not defined"
     ]
    }
   ],
   "source": [
    "print(prod)"
   ]
  },
  {
   "cell_type": "markdown",
   "metadata": {},
   "source": [
    "Si se diese el caso de que sí hubiese sido definida la variable prod en el entorno global, como lo que ocurre en el siguiente bloque de código, por mucho que la variable local tenga el mimso nombre y por mucho que ejecutemos la función, el valor de la variable global no se ve modificado."
   ]
  },
  {
   "cell_type": "code",
   "execution_count": 25,
   "metadata": {},
   "outputs": [
    {
     "name": "stdout",
     "output_type": "stream",
     "text": [
      "{'sum': 8, 'difference': 2, 'product': 15, 'division': 1.6666666666666667}\n",
      "10\n"
     ]
    }
   ],
   "source": [
    "prod = 10\n",
    "print(arithmetic_operations(x = 5, y = 3))\n",
    "print(prod)"
   ]
  },
  {
   "cell_type": "markdown",
   "metadata": {},
   "source": [
    "Si dentro de una función utilizamos la palabra reservada global a una variable local, ésta automáticamente pasa a ser una variable global previamente definida.\n",
    "\n",
    "Veamos un ejemplo de función que nos devuelve el siguiente número del entero n definido en el entorno global:"
   ]
  },
  {
   "cell_type": "code",
   "execution_count": 26,
   "metadata": {},
   "outputs": [
    {
     "data": {
      "text/plain": [
       "8"
      ]
     },
     "execution_count": 26,
     "metadata": {},
     "output_type": "execute_result"
    }
   ],
   "source": [
    "n = 7\n",
    "\n",
    "def next_n():\n",
    "  global n\n",
    "  return n + 1\n",
    "\n",
    "next_n()"
   ]
  },
  {
   "cell_type": "markdown",
   "metadata": {},
   "source": [
    "# Paso por copia vs. paso por referencia\n",
    "Dependiendo del tipo de dato que pasemos por parámetro a la función, podemos diferenciar entre\n",
    "\n",
    "Paso por copia. Se crea una copia local de la variable dentro de la función.\n",
    "Paso por referencia. Se maneja directamnete la variable y los cambios realizados dentro de la función afectan también a nivel global.\n",
    "En general, los tipos de datos básicos como enteros, en coma flotante, strings o booleanos se pasan por copia, mientras que estructuras de datos como listas, diccionarios, conjuntos o tuplas u otros objetos se pasan por referencia.\n",
    "\n",
    "Un ejemplo de paso por copia sería"
   ]
  },
  {
   "cell_type": "code",
   "execution_count": 1,
   "metadata": {},
   "outputs": [],
   "source": [
    "#paso por valor. \n",
    "def double_value(n):\n",
    "    n = n*2\n",
    "    return n"
   ]
  },
  {
   "cell_type": "code",
   "execution_count": 2,
   "metadata": {},
   "outputs": [
    {
     "data": {
      "text/plain": [
       "6"
      ]
     },
     "execution_count": 2,
     "metadata": {},
     "output_type": "execute_result"
    }
   ],
   "source": [
    "double_value(3)"
   ]
  },
  {
   "cell_type": "code",
   "execution_count": 3,
   "metadata": {},
   "outputs": [
    {
     "name": "stdout",
     "output_type": "stream",
     "text": [
      "10\n",
      "5\n"
     ]
    }
   ],
   "source": [
    "num = 5\n",
    "print(double_value(num))\n",
    "print(num)"
   ]
  },
  {
   "cell_type": "code",
   "execution_count": 8,
   "metadata": {},
   "outputs": [],
   "source": [
    "#paso por referenciade\n",
    "def double_values(ns):\n",
    "  for i, n in enumerate(ns):\n",
    "    ns[i] *= 2\n",
    "\n",
    "  return ns"
   ]
  },
  {
   "cell_type": "code",
   "execution_count": 9,
   "metadata": {},
   "outputs": [
    {
     "name": "stdout",
     "output_type": "stream",
     "text": [
      "[2, 4, 6, 8, 10]\n",
      "[2, 4, 6, 8, 10]\n"
     ]
    }
   ],
   "source": [
    "nums = [1, 2, 3, 4, 5]\n",
    "print(double_values(nums))\n",
    "print(nums)"
   ]
  },
  {
   "cell_type": "markdown",
   "metadata": {},
   "source": [
    "# Funciones más complejas\n",
    "Las funciones pueden ser más completas, pues admiten tanto operadores de decisión como de iteración.\n",
    "\n",
    "Volviendo al ejemplo 4, la función creada claramente es muy sencilla, pues suponemos que el usuario va a introducir por parámetros números enteros.\n",
    "\n",
    "Ejercicio. Mejora la función euclidean_division() para que\n",
    "\n",
    "Compruebe que los números introducidos son enteros. En caso de no ser así, indicar que se ha tomado la parte entera de los valores introducidos.\n",
    "Realice la división entera del mayor parámetro (en valor absoluto) entre el menor parámetro. Esto es, si el usuario introduce x = -2 e y = -10, como 10 > 2, entonces la función debe llevar a cabo la división entera de -10 entre -2.\n",
    "Imprima por pantalla una frase indicando la división realizada y el cociente y el resto obtenidos.\n",
    "Devuelva el cociente y el resto a modo de tupla"
   ]
  },
  {
   "cell_type": "code",
   "execution_count": 10,
   "metadata": {},
   "outputs": [],
   "source": [
    "def euclidean_division(x, y):\n",
    "  ints = (x == int(x)) and (y == int(y))\n",
    "  \n",
    "  if not ints:\n",
    "    x = int(x)\n",
    "    y = int(y)\n",
    "    print(\"Se tomarán como parámetros la parte entera de los valores introducidos.\")\n",
    "  \n",
    "  if abs(x) >= abs(y):\n",
    "    q = x // y\n",
    "    r = x % y\n",
    "    print(\"Se ha realizado la división {} entre {} y se ha obtenido como cociente q = {} y como resto, r = {}\".format(x, y, q, r))\n",
    "\n",
    "  else:\n",
    "    q = y // x\n",
    "    r = y % x\n",
    "    print(\"Se ha realizado la división {} entre {} y se ha obtenido como cociente q = {} y como resto, r = {}\".format(y, x, q, r))\n",
    "\n",
    "\n",
    "  return q, r"
   ]
  },
  {
   "cell_type": "code",
   "execution_count": 11,
   "metadata": {},
   "outputs": [
    {
     "name": "stdout",
     "output_type": "stream",
     "text": [
      "Se tomarán como parámetros la parte entera de los valores introducidos.\n",
      "Se ha realizado la división -10 entre -5 y se ha obtenido como cociente q = 2 y como resto, r = 0\n"
     ]
    }
   ],
   "source": [
    "quotient, remainder = euclidean_division(x = -10.3, y = -5)"
   ]
  },
  {
   "cell_type": "code",
   "execution_count": 12,
   "metadata": {},
   "outputs": [
    {
     "data": {
      "text/plain": [
       "True"
      ]
     },
     "execution_count": 12,
     "metadata": {},
     "output_type": "execute_result"
    }
   ],
   "source": [
    "-10 == -5 * quotient + remainder"
   ]
  },
  {
   "cell_type": "code",
   "execution_count": 13,
   "metadata": {},
   "outputs": [
    {
     "name": "stdout",
     "output_type": "stream",
     "text": [
      "Se ha realizado la división 19 entre -3 y se ha obtenido como cociente q = -7 y como resto, r = -2\n"
     ]
    },
    {
     "data": {
      "text/plain": [
       "(-7, -2)"
      ]
     },
     "execution_count": 13,
     "metadata": {},
     "output_type": "execute_result"
    }
   ],
   "source": [
    "euclidean_division(x = -3, y = 19)"
   ]
  },
  {
   "cell_type": "code",
   "execution_count": 14,
   "metadata": {},
   "outputs": [
    {
     "name": "stdout",
     "output_type": "stream",
     "text": [
      "Se ha realizado la división -67 entre 9 y se ha obtenido como cociente q = -8 y como resto, r = 5\n"
     ]
    },
    {
     "data": {
      "text/plain": [
       "(-8, 5)"
      ]
     },
     "execution_count": 14,
     "metadata": {},
     "output_type": "execute_result"
    }
   ],
   "source": [
    "euclidean_division(9, -67)"
   ]
  },
  {
   "cell_type": "markdown",
   "metadata": {},
   "source": [
    "## Ejemplo 5\n",
    "Veamos una función que dado un número, nos dice si éste es positivo, negativo o vale 0."
   ]
  },
  {
   "cell_type": "code",
   "execution_count": 15,
   "metadata": {},
   "outputs": [],
   "source": [
    "def sign(num):\n",
    "  \"\"\"\n",
    "  Función que dado un número devuelve el signo positivo, \n",
    "  negativo o cero del mismo\n",
    "\n",
    "  Args:\n",
    "    num (int): número del cual queremos hallar su signo\n",
    "\n",
    "  Returns:\n",
    "    signo (string): string positivo, negativo o cero\n",
    "  \"\"\"\n",
    "  if num > 0:\n",
    "    return \"Positivo\"\n",
    "  elif num < 0:\n",
    "    return \"Negativo\"\n",
    "  else:\n",
    "    return \"Cero\""
   ]
  },
  {
   "cell_type": "code",
   "execution_count": 16,
   "metadata": {},
   "outputs": [
    {
     "data": {
      "text/plain": [
       "'Negativo'"
      ]
     },
     "execution_count": 16,
     "metadata": {},
     "output_type": "execute_result"
    }
   ],
   "source": [
    "sign(-5)"
   ]
  },
  {
   "cell_type": "code",
   "execution_count": 17,
   "metadata": {},
   "outputs": [
    {
     "name": "stdout",
     "output_type": "stream",
     "text": [
      "Positivo\n"
     ]
    }
   ],
   "source": [
    "print(sign(9))"
   ]
  },
  {
   "cell_type": "markdown",
   "metadata": {},
   "source": [
    "# Ejemplo 6\n",
    "Veamos ahora una función que contiene un bucle for y que dado un número entero, nos imprime su tabla de multiplicar con sus 10 primeros múltiplos y nos devuelve una lista con todos esos múltiplos:\n",
    "\n"
   ]
  },
  {
   "cell_type": "code",
   "execution_count": 18,
   "metadata": {},
   "outputs": [],
   "source": [
    "def multiplication_table10(num):\n",
    "  \"\"\"\n",
    "  Dado un número entero, imprimimos su tabla de multiplicar con\n",
    "  los 10 primeros múltiplos y devolvemos una lista de los múltiplos. \n",
    "\n",
    "  Args:\n",
    "    num (int): valor del cual vamos a calcular sus tabla de multiplicar\n",
    "\n",
    "  Returns: \n",
    "    multiples (list): lista con los 10 primeros múltiplos de num\n",
    "  \"\"\"\n",
    "  multiples = []\n",
    "  print(\"La tabla de multiplicar del {}:\".format(num))\n",
    "  \n",
    "  for i in range(1, 11):\n",
    "    multiple = num * i\n",
    "    print(\"{} x {} = {}\".format(num, i, multiple))\n",
    "    multiples.append(multiple)\n",
    "  \n",
    "  return multiples"
   ]
  },
  {
   "cell_type": "code",
   "execution_count": 19,
   "metadata": {},
   "outputs": [
    {
     "name": "stdout",
     "output_type": "stream",
     "text": [
      "La tabla de multiplicar del 7:\n",
      "7 x 1 = 7\n",
      "7 x 2 = 14\n",
      "7 x 3 = 21\n",
      "7 x 4 = 28\n",
      "7 x 5 = 35\n",
      "7 x 6 = 42\n",
      "7 x 7 = 49\n",
      "7 x 8 = 56\n",
      "7 x 9 = 63\n",
      "7 x 10 = 70\n",
      "[7, 14, 21, 28, 35, 42, 49, 56, 63, 70]\n"
     ]
    }
   ],
   "source": [
    "multiples7 = multiplication_table10(num = 7)\n",
    "print(multiples7)"
   ]
  },
  {
   "cell_type": "markdown",
   "metadata": {},
   "source": [
    "Vamos ahora a mejorar la función multiplication_table10() para que si el usuario decide introducir un número que no sea entero, nuestra función le avise y le explique el error que está cometiendo:\n",
    "\n"
   ]
  },
  {
   "cell_type": "code",
   "execution_count": 20,
   "metadata": {},
   "outputs": [],
   "source": [
    "def multiplication_table10(num):\n",
    "  \"\"\"\n",
    "  Dado un número entero, primero comprovamos si es entero. \n",
    "  Si no lo es, no devolvemos nada.\n",
    "  Si lo es, imprimimos su tabla de multiplicar con los 10 \n",
    "  primeros múltiplos y devolvemos una lista de los múltiplos. \n",
    "\n",
    "  Args:\n",
    "    num (int): valor del cual vamos a calcular sus 10 primeros múltiplos\n",
    "\n",
    "  Returns: \n",
    "    multiples (list): lista con los 10 primeros múltiplos de num\n",
    "  \"\"\"\n",
    "\n",
    "  if type(num) != type(1):\n",
    "    print(\"El número introducido no es entero\")\n",
    "    return\n",
    "\n",
    "  multiples = []\n",
    "  print(\"La tabla de multiplicar del {}:\".format(num))\n",
    "  \n",
    "  for i in range(1, 11):\n",
    "    multiple = num * i\n",
    "    print(\"{} x {} = {}\".format(num, i, multiple))\n",
    "    multiples.append(multiple)\n",
    "  \n",
    "  return multiples"
   ]
  },
  {
   "cell_type": "code",
   "execution_count": 21,
   "metadata": {},
   "outputs": [
    {
     "name": "stdout",
     "output_type": "stream",
     "text": [
      "La tabla de multiplicar del 3:\n",
      "3 x 1 = 3\n",
      "3 x 2 = 6\n",
      "3 x 3 = 9\n",
      "3 x 4 = 12\n",
      "3 x 5 = 15\n",
      "3 x 6 = 18\n",
      "3 x 7 = 21\n",
      "3 x 8 = 24\n",
      "3 x 9 = 27\n",
      "3 x 10 = 30\n",
      "[3, 6, 9, 12, 15, 18, 21, 24, 27, 30]\n"
     ]
    }
   ],
   "source": [
    "multiples3 = multiplication_table10(num = 3)\n",
    "print(multiples3)"
   ]
  },
  {
   "cell_type": "code",
   "execution_count": 23,
   "metadata": {},
   "outputs": [
    {
     "name": "stdout",
     "output_type": "stream",
     "text": [
      "El número introducido no es entero\n"
     ]
    }
   ],
   "source": [
    "multiplication_table10(5.5)"
   ]
  },
  {
   "cell_type": "markdown",
   "metadata": {},
   "source": [
    "# Ejemplo 7\n",
    "Creemos ahora una función que dada una frase acabada en punto, nos devuelva si contiene o no la letra \"a\" haciendo uso de un bucle while."
   ]
  },
  {
   "cell_type": "code",
   "execution_count": 24,
   "metadata": {},
   "outputs": [],
   "source": [
    "def contains_a(sentence):\n",
    "  i = 0\n",
    "  while sentence[i] != \".\":\n",
    "    if sentence[i] == \"a\":\n",
    "      return True\n",
    "    i += 1\n",
    "  return False"
   ]
  },
  {
   "cell_type": "code",
   "execution_count": 25,
   "metadata": {},
   "outputs": [
    {
     "data": {
      "text/plain": [
       "False"
      ]
     },
     "execution_count": 25,
     "metadata": {},
     "output_type": "execute_result"
    }
   ],
   "source": [
    "contains_a(\"El erizo es bonito.\")"
   ]
  },
  {
   "cell_type": "markdown",
   "metadata": {},
   "source": [
    "Ejercicio. Generalizad la función contains_a() a una función llamada contains_letter() que devuelva si una frase cualquiera (no necesariamente acabada en punto) contiene o no la letra indicada también por el usuario. Tenéis que hacerlo únicamente con operadores de decisión e iteración. No vale usar ningún método existente de string."
   ]
  },
  {
   "cell_type": "code",
   "execution_count": 26,
   "metadata": {},
   "outputs": [
    {
     "data": {
      "text/plain": [
       "True"
      ]
     },
     "execution_count": 26,
     "metadata": {},
     "output_type": "execute_result"
    }
   ],
   "source": [
    "def contains_letter(sentence, letter):\n",
    "  for c in sentence:\n",
    "    if c == letter:\n",
    "      return True\n",
    "  return False\n",
    "\n",
    "contains_letter(\"Mi amigo es muy inteligente, pero un poco pesado\", \"t\")"
   ]
  },
  {
   "cell_type": "markdown",
   "metadata": {},
   "source": [
    "# Funciones recursivas\n",
    "Función recursiva. Es una función que se llama a sí misma.\n",
    "\n",
    "¡Cuidado! Hay que tener mucho cuidado con este tipo de funciones porque podemos caer en un bucle infinito. Es decir, que la función no acabara nunca de ejecutarse.\n",
    "\n",
    "Una función recursiva que entraría en bucle infinito sería la siguiente."
   ]
  },
  {
   "cell_type": "code",
   "execution_count": 27,
   "metadata": {},
   "outputs": [],
   "source": [
    "def powers(x, n):\n",
    "  print(x ** n)\n",
    "  powers(x, n + 1)"
   ]
  },
  {
   "cell_type": "markdown",
   "metadata": {},
   "source": [
    "¿Por qué decimos que entra en bulce infinito? Pues porque solo parará si nosotros interrumpimos la ejecución.\n",
    "\n",
    "Esto se debe a que no le hemos indicado un caso de parada a la función, denominado caso final.\n",
    "\n",
    "Caso final. Es el caso que indica cuándo debe romperse la recursión. Hay que indicarlo siempre para no caer en un bucle infinito.\n",
    "\n",
    "En el caso de la función powers(), podemos indicar como caso final cuando el valor resultante supere 1000000. Lo indicamos con un if"
   ]
  },
  {
   "cell_type": "code",
   "execution_count": 28,
   "metadata": {},
   "outputs": [],
   "source": [
    "def powers(x, n):\n",
    "  if x ** n > 1000000:\n",
    "    return x ** n\n",
    "\n",
    "  print(x ** n)\n",
    "  powers(x, n + 1)"
   ]
  },
  {
   "cell_type": "code",
   "execution_count": 29,
   "metadata": {},
   "outputs": [
    {
     "name": "stdout",
     "output_type": "stream",
     "text": [
      "2\n",
      "4\n",
      "8\n",
      "16\n",
      "32\n",
      "64\n",
      "128\n",
      "256\n",
      "512\n",
      "1024\n",
      "2048\n",
      "4096\n",
      "8192\n",
      "16384\n",
      "32768\n",
      "65536\n",
      "131072\n",
      "262144\n",
      "524288\n"
     ]
    }
   ],
   "source": [
    "powers(2, 1)"
   ]
  },
  {
   "cell_type": "markdown",
   "metadata": {},
   "source": [
    "# Ejemplo 8\n",
    "Veamos ahora un ejemplo clásico de función recursiva que funciona correctamente.\n",
    "\n",
    "Queremos una función que nos imprima el término  i -ésimo de la sucesión de Fibonacci. Es decir, nosotros le indicamos el índice del término y la función nos devuelve el valor de dicho término.\n",
    "\n",
    "La sucesión de Fibonacci es\n",
    "\n",
    "1,1,2,3,5,8,13,… \n",
    "\n",
    "Es decir, cada término se obtiene de la suma de los dos anteriores.\n",
    "\n",
    "F0=F1=1 \n",
    "Fn=Fn−1+Fn−2,n≥2 \n",
    "\n",
    "Con lo cual, la función que queremos y a la que hemos llamado Fibonacci() es:"
   ]
  },
  {
   "cell_type": "code",
   "execution_count": 30,
   "metadata": {},
   "outputs": [],
   "source": [
    "def Fibonacci(index):\n",
    "  if index == 0 or index == 1:\n",
    "    return 1\n",
    "  \n",
    "  return Fibonacci(index - 1) + Fibonacci(index - 2) "
   ]
  },
  {
   "cell_type": "markdown",
   "metadata": {},
   "source": [
    "Como veis, le hemos indicado a la función cuando parar. Esto es, el caso final resulta ser cuando el índice vale 0, pues no existen índices negativos."
   ]
  },
  {
   "cell_type": "code",
   "execution_count": 31,
   "metadata": {},
   "outputs": [
    {
     "data": {
      "text/plain": [
       "21"
      ]
     },
     "execution_count": 31,
     "metadata": {},
     "output_type": "execute_result"
    }
   ],
   "source": [
    "Fibonacci(index = 7)"
   ]
  },
  {
   "cell_type": "markdown",
   "metadata": {},
   "source": [
    "# Funciones helper\n",
    "Al igual que las funciones pueden llamarse a sí mismas, también pueden llamar a otras funciones.\n",
    "\n",
    "Función helper. Es una función cuyo propósito es evitar la repetición de código.\n",
    "\n",
    "Si nos dan la siguiente función."
   ]
  },
  {
   "cell_type": "code",
   "execution_count": 32,
   "metadata": {},
   "outputs": [],
   "source": [
    "def sign_sum(x, y):\n",
    "  if x + y > 0:\n",
    "    print(\"El resultado de sumar {} más {} es positivo\".format(x, y))\n",
    "  elif x + y == 0:\n",
    "    print(\"El resultado de sumar {} más {} es cero\".format(x, y))\n",
    "  else:\n",
    "    print(\"El resultado de sumar {} más {} es negativo\".format(x, y))"
   ]
  },
  {
   "cell_type": "code",
   "execution_count": 33,
   "metadata": {},
   "outputs": [
    {
     "name": "stdout",
     "output_type": "stream",
     "text": [
      "El resultado de sumar 5 más 4 es positivo\n",
      "El resultado de sumar 3 más -3 es cero\n",
      "El resultado de sumar 1 más -8 es negativo\n"
     ]
    }
   ],
   "source": [
    "sign_sum(5, 4)\n",
    "sign_sum(3, -3)\n",
    "sign_sum(1, -8)"
   ]
  },
  {
   "cell_type": "markdown",
   "metadata": {},
   "source": [
    "Vemos que el print se repite salvo por la última palabra.\n",
    "\n",
    "Podríamos pensar en crear la función helper siguiente:"
   ]
  },
  {
   "cell_type": "code",
   "execution_count": 35,
   "metadata": {},
   "outputs": [],
   "source": [
    "def helper_print(x, y, sign):\n",
    "  print(\"El resultado de sumar {} más {} es {}.\".format(x, y, sign))"
   ]
  },
  {
   "cell_type": "markdown",
   "metadata": {},
   "source": [
    "Si utilizamos la función helper, la función sign_sum() quedaría modificada del siguiente modo:"
   ]
  },
  {
   "cell_type": "code",
   "execution_count": 37,
   "metadata": {},
   "outputs": [],
   "source": [
    "def sign_sum(x, y):\n",
    "  if x + y > 0:\n",
    "    helper_print(x, y, \"positivo\")\n",
    "  elif x + y == 0:\n",
    "    helper_print(x, y, \"cero\")\n",
    "  else:\n",
    "    helper_print(x, y, \"negativo\")"
   ]
  },
  {
   "cell_type": "code",
   "execution_count": 38,
   "metadata": {},
   "outputs": [
    {
     "name": "stdout",
     "output_type": "stream",
     "text": [
      "El resultado de sumar 5 más 4 es positivo.\n",
      "El resultado de sumar 3 más -3 es cero.\n",
      "El resultado de sumar 1 más -8 es negativo.\n"
     ]
    }
   ],
   "source": [
    "sign_sum(5, 4)\n",
    "sign_sum(3, -3)\n",
    "sign_sum(1, -8)"
   ]
  },
  {
   "cell_type": "markdown",
   "metadata": {},
   "source": [
    "# Tarea 9. FUNCIONES"
   ]
  },
  {
   "cell_type": "code",
   "execution_count": 1,
   "metadata": {},
   "outputs": [],
   "source": [
    "#Ejercicio 1\n",
    "#Crea una función que busque todos los divisores del número entero positivo dado por parámetro y devuelva\n",
    "#una lista con todos los divisores de dicho número.\n",
    "\n",
    "def divisores(x):\n",
    "    l1 = []\n",
    "    for i in range(9):\n",
    "        j = i+2\n",
    "        while x%j == 0:\n",
    "            l1.append(j)\n",
    "            x = x/j\n",
    "        \n",
    "    num2 = 1\n",
    "    for i in range(len(l1)-1):\n",
    "        num = l1[i] * l1[i+1]\n",
    "        num2 = num2 * l1[i]\n",
    "        num3 = num2 * l1[i+1]\n",
    "        l1.append(num)\n",
    "        \n",
    "    l1.append(num2)\n",
    "    l1.append(num3)\n",
    "    return l1\n",
    "        \n",
    "    \n",
    "        \n",
    "                   "
   ]
  },
  {
   "cell_type": "code",
   "execution_count": 2,
   "metadata": {},
   "outputs": [
    {
     "data": {
      "text/plain": [
       "[2, 3, 3, 5, 6, 9, 15, 18, 90]"
      ]
     },
     "execution_count": 2,
     "metadata": {},
     "output_type": "execute_result"
    }
   ],
   "source": [
    "divisores(90)"
   ]
  },
  {
   "cell_type": "code",
   "execution_count": 3,
   "metadata": {},
   "outputs": [
    {
     "data": {
      "text/plain": [
       "[2, 2, 5, 5, 4, 10, 25, 20, 100]"
      ]
     },
     "execution_count": 3,
     "metadata": {},
     "output_type": "execute_result"
    }
   ],
   "source": [
    "divisores(100)"
   ]
  },
  {
   "cell_type": "code",
   "execution_count": 1,
   "metadata": {},
   "outputs": [],
   "source": [
    "#Ejercicio 2\n",
    "#Crea una función que dados dos números reales por parámetro, devuelve el mayor.\n",
    "\n",
    "def Mayor(x,y):\n",
    "    if x>y:\n",
    "        return print(\"El numero mayor es el {}\".format(x))\n",
    "    else:\n",
    "        return print(\"El número mayor es {}\".format(y))\n",
    "    "
   ]
  },
  {
   "cell_type": "code",
   "execution_count": 2,
   "metadata": {},
   "outputs": [
    {
     "name": "stdout",
     "output_type": "stream",
     "text": [
      "El número mayor es 10\n"
     ]
    }
   ],
   "source": [
    "Mayor(8,10)"
   ]
  },
  {
   "cell_type": "code",
   "execution_count": 12,
   "metadata": {},
   "outputs": [],
   "source": [
    "#Ejercicio 3 \n",
    "#funcion que dado un numero, regrese el valor absoluto. \n",
    "\n",
    "def Absoluto(x):\n",
    "    if x<0:\n",
    "        return print(\"|{}| = {}\".format(x,x * (-1)))\n",
    "    elif x>0:\n",
    "        return print(\"|{}| = {}\".format(x,x))\n",
    "    "
   ]
  },
  {
   "cell_type": "code",
   "execution_count": 15,
   "metadata": {},
   "outputs": [
    {
     "name": "stdout",
     "output_type": "stream",
     "text": [
      "|-100| = 100\n"
     ]
    }
   ],
   "source": [
    "Absoluto(-100)"
   ]
  },
  {
   "cell_type": "code",
   "execution_count": 24,
   "metadata": {},
   "outputs": [],
   "source": [
    "#Ejercicio 4\n",
    "#Crea una función que devuelva True si el caracter introducido por parámetro se trata de una vocal y False\n",
    "#en caso contrario.\n",
    "\n",
    "def Caracter(letra):\n",
    "    \n",
    "    letra = letra.upper()\n",
    "    if letra == \"A\" or letra == \"E\" or letra == \"I\" or letra == \"O\" or letra == \"U\":\n",
    "        return True\n",
    "    else:\n",
    "        return False"
   ]
  },
  {
   "cell_type": "code",
   "execution_count": 25,
   "metadata": {},
   "outputs": [
    {
     "data": {
      "text/plain": [
       "True"
      ]
     },
     "execution_count": 25,
     "metadata": {},
     "output_type": "execute_result"
    }
   ],
   "source": [
    "Caracter(\"u\")"
   ]
  },
  {
   "cell_type": "code",
   "execution_count": 26,
   "metadata": {},
   "outputs": [
    {
     "data": {
      "text/plain": [
       "True"
      ]
     },
     "execution_count": 26,
     "metadata": {},
     "output_type": "execute_result"
    }
   ],
   "source": [
    "Caracter(\"U\")"
   ]
  },
  {
   "cell_type": "code",
   "execution_count": null,
   "metadata": {},
   "outputs": [],
   "source": []
  },
  {
   "cell_type": "code",
   "execution_count": null,
   "metadata": {},
   "outputs": [],
   "source": []
  },
  {
   "cell_type": "code",
   "execution_count": null,
   "metadata": {},
   "outputs": [],
   "source": []
  },
  {
   "cell_type": "code",
   "execution_count": null,
   "metadata": {},
   "outputs": [],
   "source": []
  },
  {
   "cell_type": "code",
   "execution_count": null,
   "metadata": {},
   "outputs": [],
   "source": []
  },
  {
   "cell_type": "code",
   "execution_count": null,
   "metadata": {},
   "outputs": [],
   "source": []
  },
  {
   "cell_type": "code",
   "execution_count": null,
   "metadata": {},
   "outputs": [],
   "source": []
  },
  {
   "cell_type": "code",
   "execution_count": null,
   "metadata": {},
   "outputs": [],
   "source": []
  },
  {
   "cell_type": "code",
   "execution_count": null,
   "metadata": {},
   "outputs": [],
   "source": []
  },
  {
   "cell_type": "code",
   "execution_count": null,
   "metadata": {},
   "outputs": [],
   "source": []
  },
  {
   "cell_type": "code",
   "execution_count": null,
   "metadata": {},
   "outputs": [],
   "source": []
  },
  {
   "cell_type": "code",
   "execution_count": null,
   "metadata": {},
   "outputs": [],
   "source": []
  },
  {
   "cell_type": "code",
   "execution_count": null,
   "metadata": {},
   "outputs": [],
   "source": []
  },
  {
   "cell_type": "code",
   "execution_count": null,
   "metadata": {},
   "outputs": [],
   "source": []
  },
  {
   "cell_type": "code",
   "execution_count": null,
   "metadata": {},
   "outputs": [],
   "source": []
  },
  {
   "cell_type": "code",
   "execution_count": null,
   "metadata": {},
   "outputs": [],
   "source": []
  },
  {
   "cell_type": "code",
   "execution_count": null,
   "metadata": {},
   "outputs": [],
   "source": []
  },
  {
   "cell_type": "code",
   "execution_count": null,
   "metadata": {},
   "outputs": [],
   "source": []
  }
 ],
 "metadata": {
  "kernelspec": {
   "display_name": "Python 3",
   "language": "python",
   "name": "python3"
  },
  "language_info": {
   "codemirror_mode": {
    "name": "ipython",
    "version": 3
   },
   "file_extension": ".py",
   "mimetype": "text/x-python",
   "name": "python",
   "nbconvert_exporter": "python",
   "pygments_lexer": "ipython3",
   "version": "3.8.3"
  }
 },
 "nbformat": 4,
 "nbformat_minor": 4
}
