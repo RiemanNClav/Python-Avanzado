{
 "cells": [
  {
   "cell_type": "markdown",
   "metadata": {},
   "source": [
    "# 21. VARIABLE DE TIPO STRING "
   ]
  },
  {
   "cell_type": "markdown",
   "metadata": {},
   "source": [
    "$\\textbf{String}$. Cadena ordenada de caracteres.\n",
    "\n",
    "Una variable de tipo string es aquella que guarda un string. Cuando queremos que una variable se trate de una variable de tipo string, $\\textbf{str}$ en Python, a la hora de declararla, el contenido de la variable debe ir o bien entre comillas dobles \" \" o bien entre comillas simples ' '."
   ]
  },
  {
   "cell_type": "code",
   "execution_count": 1,
   "metadata": {},
   "outputs": [
    {
     "data": {
      "text/plain": [
       "str"
      ]
     },
     "execution_count": 1,
     "metadata": {},
     "output_type": "execute_result"
    }
   ],
   "source": [
    "s1 = \"Esto es un string entre comillas dobles\"\n",
    "type(s1)"
   ]
  },
  {
   "cell_type": "code",
   "execution_count": 3,
   "metadata": {},
   "outputs": [
    {
     "data": {
      "text/plain": [
       "str"
      ]
     },
     "execution_count": 3,
     "metadata": {},
     "output_type": "execute_result"
    }
   ],
   "source": [
    "s2 = 'Esto es un string entre comillas simples'\n",
    "type(s2)"
   ]
  },
  {
   "cell_type": "markdown",
   "metadata": {},
   "source": [
    "Cuidado, Python no trabaja bien con los acentos. Por tanto, aunque no esté del todo bien escrito, mejor evitarlos, pues nos ahorraremos muchos problemas."
   ]
  },
  {
   "cell_type": "markdown",
   "metadata": {},
   "source": [
    "Resulta que dentro de un string podrían haber comillas simples o dobles, es la razón, por la cual existen dos formas de definir los $\\textbf{String}$"
   ]
  },
  {
   "cell_type": "code",
   "execution_count": 5,
   "metadata": {},
   "outputs": [
    {
     "data": {
      "text/plain": [
       "\"Y Entonces Uriel dijo : 'Cuidado con las comillas'\""
      ]
     },
     "execution_count": 5,
     "metadata": {},
     "output_type": "execute_result"
    }
   ],
   "source": [
    "\"Y Entonces Uriel dijo : 'Cuidado con las comillas'\""
   ]
  },
  {
   "cell_type": "markdown",
   "metadata": {},
   "source": [
    "# 22. LOS STRING LITERALS "
   ]
  },
  {
   "cell_type": "markdown",
   "metadata": {},
   "source": [
    "El hecho de que el contenido de las variables de tipo str vaya entre comillas, ya sean simples o dobles, conlleva a que algunos caracteres deban ser tratados de forma especial. \\\n",
    "Aquí entran en juego los string literals. Algunos de los mas utilizados se muestran a continuación. "
   ]
  },
  {
   "cell_type": "markdown",
   "metadata": {},
   "source": [
    "Ejemplo 1.\\\n",
    "Si queremos guardar en una variable el siguiente texto, \n",
    "$\\textbf{Juan dijo : \"me gusta el chocolate\"}$\\\n",
    "lo tendremos que hacer del siguiente modo. "
   ]
  },
  {
   "cell_type": "code",
   "execution_count": 7,
   "metadata": {},
   "outputs": [
    {
     "data": {
      "text/plain": [
       "' Juan dijo : \"me gusta el chocolate \"'"
      ]
     },
     "execution_count": 7,
     "metadata": {},
     "output_type": "execute_result"
    }
   ],
   "source": [
    "s1 = \" Juan dijo : \\\"me gusta el chocolate \\\"\"\n",
    "s1"
   ]
  },
  {
   "cell_type": "code",
   "execution_count": 8,
   "metadata": {},
   "outputs": [
    {
     "data": {
      "text/plain": [
       "'Juan dijo : \"me gusta el chocolate\"'"
      ]
     },
     "execution_count": 8,
     "metadata": {},
     "output_type": "execute_result"
    }
   ],
   "source": [
    "s2 = 'Juan dijo : \"me gusta el chocolate\"'\n",
    "s2"
   ]
  },
  {
   "cell_type": "markdown",
   "metadata": {},
   "source": [
    "Observación. Si usamos comillas dobles, para guardar la frase de este ejemplo necesitaremos usar string literals. Sin embargo, si usamos comillas simples, para guardar la frase de este ejemplo en una variable tendremos que usar string literals, porque si no nos saltará un error. "
   ]
  },
  {
   "cell_type": "markdown",
   "metadata": {},
   "source": [
    "Ejemplo 2"
   ]
  },
  {
   "cell_type": "markdown",
   "metadata": {},
   "source": [
    "si queremos guardar en una variable el siguiente texto $\\textbf{Ricardo dijo: 'me gusta la playa'}$\\\n",
    "lo tendremos que hacer del siguiente modo "
   ]
  },
  {
   "cell_type": "code",
   "execution_count": 10,
   "metadata": {},
   "outputs": [
    {
     "data": {
      "text/plain": [
       "\"Ricardo dijo : 'Me gusta la playa'\""
      ]
     },
     "execution_count": 10,
     "metadata": {},
     "output_type": "execute_result"
    }
   ],
   "source": [
    "s1 = \"Ricardo dijo : 'Me gusta la playa'\"\n",
    "s1"
   ]
  },
  {
   "cell_type": "code",
   "execution_count": 11,
   "metadata": {},
   "outputs": [
    {
     "data": {
      "text/plain": [
       "\"Ricardo dijo: 'me gusta la playa'\""
      ]
     },
     "execution_count": 11,
     "metadata": {},
     "output_type": "execute_result"
    }
   ],
   "source": [
    "s2 = 'Ricardo dijo: \\'me gusta la playa\\''\n",
    "s2"
   ]
  },
  {
   "cell_type": "markdown",
   "metadata": {},
   "source": [
    "Ejemplo 3. "
   ]
  },
  {
   "cell_type": "markdown",
   "metadata": {},
   "source": [
    "Si queremos guardar en una variable el siguiente texto y que se conserve el salto de línea, lo tendremos de hacer del siguiente modo. "
   ]
  },
  {
   "cell_type": "code",
   "execution_count": 12,
   "metadata": {},
   "outputs": [
    {
     "data": {
      "text/plain": [
       "'Con diez cañones por banda, \\nviento en popa a toda vela'"
      ]
     },
     "execution_count": 12,
     "metadata": {},
     "output_type": "execute_result"
    }
   ],
   "source": [
    "s3 = \"Con diez cañones por banda, \\nviento en popa a toda vela\"\n",
    "s3"
   ]
  },
  {
   "cell_type": "code",
   "execution_count": 13,
   "metadata": {},
   "outputs": [
    {
     "name": "stdout",
     "output_type": "stream",
     "text": [
      "Con diez cañones por banda, \n",
      "viento en popa a toda vela\n"
     ]
    }
   ],
   "source": [
    "print(s3)"
   ]
  },
  {
   "cell_type": "markdown",
   "metadata": {},
   "source": [
    "# 23. CONCATENACION DE STRINGS "
   ]
  },
  {
   "cell_type": "markdown",
   "metadata": {},
   "source": [
    "La concatenacion es una operacion que une dos o mas strings en uno solo. \n",
    "En python, para concatenar dos variables de tipo string usamos la funcion +. "
   ]
  },
  {
   "cell_type": "code",
   "execution_count": 14,
   "metadata": {},
   "outputs": [
    {
     "data": {
      "text/plain": [
       "'Hola, Juan'"
      ]
     },
     "execution_count": 14,
     "metadata": {},
     "output_type": "execute_result"
    }
   ],
   "source": [
    "s1 = \"Hola, \"\n",
    "s2 = \"Juan\"\n",
    "s1 + s2"
   ]
  },
  {
   "cell_type": "markdown",
   "metadata": {},
   "source": [
    "Observación. La concatenación viene a ser como pegar el final del primer string con el principio del segundo. Entonces, conviene poner un espacio al final de la primera variable a concatenar, o bien al principio de la segunda para que así, al realizar la concatenación, exista ese espacio entre las palabras.\\\n",
    "de no añadir espacios adicionales, obtendríamos resultados como el mostrado en el siguiente chunk. "
   ]
  },
  {
   "cell_type": "code",
   "execution_count": 15,
   "metadata": {},
   "outputs": [
    {
     "data": {
      "text/plain": [
       "'Bienvenidoal curso'"
      ]
     },
     "execution_count": 15,
     "metadata": {},
     "output_type": "execute_result"
    }
   ],
   "source": [
    "s1  = \"Bienvenido\"\n",
    "s2 = \"al curso\"\n",
    "s1 + s2"
   ]
  },
  {
   "cell_type": "code",
   "execution_count": 16,
   "metadata": {},
   "outputs": [
    {
     "data": {
      "text/plain": [
       "'Bienvenido al curso'"
      ]
     },
     "execution_count": 16,
     "metadata": {},
     "output_type": "execute_result"
    }
   ],
   "source": [
    "s1  = \"Bienvenido \"\n",
    "s2 = \"al curso\"\n",
    "s1 + s2"
   ]
  },
  {
   "cell_type": "markdown",
   "metadata": {},
   "source": [
    "# 24. REPETICION DE STRINGS "
   ]
  },
  {
   "cell_type": "markdown",
   "metadata": {},
   "source": [
    "La repetición es una operación que repite la variable string tantas veces como indiquemos.\n",
    "\n",
    "En python, para repetir una variable de tipo string usamos la función *. El orden de los factores no altera el producto."
   ]
  },
  {
   "cell_type": "code",
   "execution_count": 19,
   "metadata": {},
   "outputs": [
    {
     "data": {
      "text/plain": [
       "'¿Falta mucho? ¿Falta mucho? ¿Falta mucho? ¿Falta mucho? ¿Falta mucho? '"
      ]
     },
     "execution_count": 19,
     "metadata": {},
     "output_type": "execute_result"
    }
   ],
   "source": [
    "s1 = \"¿Falta mucho? \"\n",
    "s1 * 5"
   ]
  },
  {
   "cell_type": "code",
   "execution_count": 20,
   "metadata": {},
   "outputs": [
    {
     "data": {
      "text/plain": [
       "' ¿Hemos llegado ya? ¿Hemos llegado ya? ¿Hemos llegado ya? ¿Hemos llegado ya? ¿Hemos llegado ya?'"
      ]
     },
     "execution_count": 20,
     "metadata": {},
     "output_type": "execute_result"
    }
   ],
   "source": [
    "s2 = \" ¿Hemos llegado ya?\"\n",
    "5 * s2 "
   ]
  },
  {
   "cell_type": "markdown",
   "metadata": {},
   "source": [
    "# 25. LA FUNCION PRINT()"
   ]
  },
  {
   "cell_type": "markdown",
   "metadata": {},
   "source": [
    "Sirve para formar los string por pantalla. \n"
   ]
  },
  {
   "cell_type": "code",
   "execution_count": 21,
   "metadata": {},
   "outputs": [
    {
     "data": {
      "text/plain": [
       "'Hello World'"
      ]
     },
     "execution_count": 21,
     "metadata": {},
     "output_type": "execute_result"
    }
   ],
   "source": [
    "s1 = \"Hello World\"\n",
    "s1"
   ]
  },
  {
   "cell_type": "code",
   "execution_count": 23,
   "metadata": {},
   "outputs": [
    {
     "name": "stdout",
     "output_type": "stream",
     "text": [
      "Hello World\n"
     ]
    }
   ],
   "source": [
    "print(s1)"
   ]
  },
  {
   "cell_type": "markdown",
   "metadata": {},
   "source": [
    "Observación. Como ves, una de las principales diferencias entre usar la función print() o no usarla es que a la hora de mostrar la cadena de caracteres por pantalla, esta no va entre comillas simples y el formato en que se imprime también es diferente. \n",
    "\n",
    "No solamente podemos imprimir strings, sino que podemos mostrar el resultado de cualquier variable (númerica o de tipo string)"
   ]
  },
  {
   "cell_type": "code",
   "execution_count": 2,
   "metadata": {},
   "outputs": [
    {
     "name": "stdout",
     "output_type": "stream",
     "text": [
      "Vivo en la Isla\n"
     ]
    }
   ],
   "source": [
    "x = \"Vivo en la Isla\"\n",
    "print(x)"
   ]
  },
  {
   "cell_type": "code",
   "execution_count": 3,
   "metadata": {},
   "outputs": [
    {
     "data": {
      "text/plain": [
       "'Vivo en la Isla'"
      ]
     },
     "execution_count": 3,
     "metadata": {},
     "output_type": "execute_result"
    }
   ],
   "source": [
    "x"
   ]
  },
  {
   "cell_type": "code",
   "execution_count": 25,
   "metadata": {},
   "outputs": [
    {
     "name": "stdout",
     "output_type": "stream",
     "text": [
      "2.0\n"
     ]
    }
   ],
   "source": [
    "y = 2.0\n",
    "print(y)"
   ]
  },
  {
   "cell_type": "markdown",
   "metadata": {},
   "source": [
    "Al igual que podíamos concatenar strings con la función +, combinando ésta junto print() podemos concatenar strings con variables que almacenan strings. "
   ]
  },
  {
   "cell_type": "code",
   "execution_count": 8,
   "metadata": {},
   "outputs": [
    {
     "name": "stdout",
     "output_type": "stream",
     "text": [
      "!Buenos días, Don pepito !\n"
     ]
    }
   ],
   "source": [
    "name = \"Don pepito\"\n",
    "print(\"!Buenos días, \"+name+ \" !\")"
   ]
  },
  {
   "cell_type": "markdown",
   "metadata": {},
   "source": [
    "Observación. Siempre introducir un espacio adicional siempre que se vaya a concatenar cualquier cosa(string con strings, strings con variables), para que asi el resultado quede legible.\\\n",
    "Observación. Utilizando la función print(), el uso de acentos o de algunos caracteres especiales como ¡ o ! ya no dan problemas a la hora de mostrarse en pantalla.\\\n",
    "Observación. Podemos obtener el mismo resultado usando comas (,) en vez de la función +,. Eso sí, después de cada coma se nos añades automaticamente un espacio en blanco que no siempre buscamos, como ocurre a continuación después del resultado de la variable name. "
   ]
  },
  {
   "cell_type": "code",
   "execution_count": 28,
   "metadata": {},
   "outputs": [
    {
     "name": "stdout",
     "output_type": "stream",
     "text": [
      "!Buenos días, Don Pepito !\n"
     ]
    }
   ],
   "source": [
    "name = \"Don Pepito\"\n",
    "print(\"!Buenos días,\", name,\"!\")"
   ]
  },
  {
   "cell_type": "markdown",
   "metadata": {},
   "source": [
    "# EJERCICIO \n"
   ]
  },
  {
   "cell_type": "markdown",
   "metadata": {},
   "source": [
    "Vamos a combinar concatenación y repetición de strings para reproducir la canción \"Cumpleaños feliz\""
   ]
  },
  {
   "cell_type": "code",
   "execution_count": 32,
   "metadata": {},
   "outputs": [],
   "source": [
    "s1 = \"¡Cumpleaños feliz!\"\n",
    "s2 = \"Te deseamos todos\""
   ]
  },
  {
   "cell_type": "code",
   "execution_count": 35,
   "metadata": {},
   "outputs": [],
   "source": [
    "song = (s1 + \"\\n\") * 2 + s2 + \",\\n\" + s1 #\\n es un salto de linea"
   ]
  },
  {
   "cell_type": "code",
   "execution_count": 36,
   "metadata": {},
   "outputs": [
    {
     "name": "stdout",
     "output_type": "stream",
     "text": [
      "¡Cumpleaños feliz!\n",
      "¡Cumpleaños feliz!\n",
      "Te deseamos todos,\n",
      "¡Cumpleaños feliz!\n"
     ]
    }
   ],
   "source": [
    "print(song)"
   ]
  },
  {
   "cell_type": "markdown",
   "metadata": {},
   "source": [
    "# 27. LAS FUNCIONES STR, FORMAT Y LOS SALTOS DE LÍNEA Y TABULACIONES"
   ]
  },
  {
   "cell_type": "markdown",
   "metadata": {},
   "source": [
    "### str()\n",
    "Con la función str(), podemos concatenar strings y variables de cualquier tipo dentro de un print(): "
   ]
  },
  {
   "cell_type": "code",
   "execution_count": 47,
   "metadata": {},
   "outputs": [
    {
     "name": "stdout",
     "output_type": "stream",
     "text": [
      "Mi hermana se llama María y su edad es 22\n"
     ]
    }
   ],
   "source": [
    "nombre = \"María\"\n",
    "edad = 22\n",
    "print(\"Mi hermana se llama \" + nombre + \" y su edad es \" + str(edad)) #con edad no se puede hacer directamente por ser entero \n",
    "# por ello usamos str en edad. "
   ]
  },
  {
   "cell_type": "markdown",
   "metadata": {},
   "source": [
    "### El metodo .format()\n",
    "Existe otra forma de concatenar strings y variables de cualquier tipo dentro de un print() y gracias al metodo .format(). Lo que hay que hacer es indicar con llaves, {}, donde queremos situar el resultado de las variables y luego, dentro de los parentesis del método .format(), indicar las variables en su respectivo orden. \n"
   ]
  },
  {
   "cell_type": "code",
   "execution_count": 46,
   "metadata": {},
   "outputs": [
    {
     "name": "stdout",
     "output_type": "stream",
     "text": [
      "Mi abuelo se llama Ricardo y tiene 3 gatos\n"
     ]
    }
   ],
   "source": [
    "nombre = \"Ricardo\"\n",
    "numero_gatos = 3\n",
    "print(\"Mi abuelo se llama {} y tiene {} gatos\".format(nombre, numero_gatos))"
   ]
  },
  {
   "cell_type": "markdown",
   "metadata": {},
   "source": [
    "### Saltos de línea y tabulaciones\n",
    "Si recordamos el ejemplo3, teniamos la variable s3, que contenía un salto de línea. "
   ]
  },
  {
   "cell_type": "code",
   "execution_count": 18,
   "metadata": {},
   "outputs": [],
   "source": [
    "s3 = \"Con diez cañones por banda, \\nviento es popa a toda vela\""
   ]
  },
  {
   "cell_type": "code",
   "execution_count": 19,
   "metadata": {},
   "outputs": [
    {
     "data": {
      "text/plain": [
       "'Con diez cañones por banda, \\nviento es popa a toda vela'"
      ]
     },
     "execution_count": 19,
     "metadata": {},
     "output_type": "execute_result"
    }
   ],
   "source": [
    "s3"
   ]
  },
  {
   "cell_type": "code",
   "execution_count": 20,
   "metadata": {},
   "outputs": [
    {
     "name": "stdout",
     "output_type": "stream",
     "text": [
      "Con diez cañones por banda, \n",
      "viento es popa a toda vela\n"
     ]
    }
   ],
   "source": [
    "print(s3)"
   ]
  },
  {
   "cell_type": "markdown",
   "metadata": {},
   "source": [
    "lo mismo ocurriría con la $\\textbf{tabulación horizontal}$."
   ]
  },
  {
   "cell_type": "markdown",
   "metadata": {},
   "source": [
    "# 28. SUBSTRINGS"
   ]
  },
  {
   "cell_type": "markdown",
   "metadata": {},
   "source": [
    "Para acceder a un caracter que es la unidad mas pequeña de un string, usamos la sintaxis de []"
   ]
  },
  {
   "cell_type": "code",
   "execution_count": 49,
   "metadata": {},
   "outputs": [],
   "source": [
    "s = \"Soy fan de los videojuegos\""
   ]
  },
  {
   "cell_type": "code",
   "execution_count": 50,
   "metadata": {},
   "outputs": [
    {
     "data": {
      "text/plain": [
       "'S'"
      ]
     },
     "execution_count": 50,
     "metadata": {},
     "output_type": "execute_result"
    }
   ],
   "source": [
    "s[0]"
   ]
  },
  {
   "cell_type": "code",
   "execution_count": 51,
   "metadata": {},
   "outputs": [
    {
     "data": {
      "text/plain": [
       "'a'"
      ]
     },
     "execution_count": 51,
     "metadata": {},
     "output_type": "execute_result"
    }
   ],
   "source": [
    "s[5]"
   ]
  },
  {
   "cell_type": "code",
   "execution_count": 52,
   "metadata": {},
   "outputs": [
    {
     "data": {
      "text/plain": [
       "'o'"
      ]
     },
     "execution_count": 52,
     "metadata": {},
     "output_type": "execute_result"
    }
   ],
   "source": [
    "s[1]"
   ]
  },
  {
   "cell_type": "code",
   "execution_count": 53,
   "metadata": {},
   "outputs": [
    {
     "data": {
      "text/plain": [
       "'s'"
      ]
     },
     "execution_count": 53,
     "metadata": {},
     "output_type": "execute_result"
    }
   ],
   "source": [
    "s[-1] #Ultimo elemento"
   ]
  },
  {
   "cell_type": "code",
   "execution_count": 54,
   "metadata": {},
   "outputs": [
    {
     "data": {
      "text/plain": [
       "'o'"
      ]
     },
     "execution_count": 54,
     "metadata": {},
     "output_type": "execute_result"
    }
   ],
   "source": [
    "s[-7] #dame el septimo elemento empezando desde el final."
   ]
  },
  {
   "cell_type": "code",
   "execution_count": 56,
   "metadata": {},
   "outputs": [
    {
     "data": {
      "text/plain": [
       "'fan'"
      ]
     },
     "execution_count": 56,
     "metadata": {},
     "output_type": "execute_result"
    }
   ],
   "source": [
    "s[4:7]#acceder a varios caractéres seguidos."
   ]
  },
  {
   "cell_type": "code",
   "execution_count": 57,
   "metadata": {},
   "outputs": [
    {
     "data": {
      "text/plain": [
       "'Soy fan'"
      ]
     },
     "execution_count": 57,
     "metadata": {},
     "output_type": "execute_result"
    }
   ],
   "source": [
    "s[:7]"
   ]
  },
  {
   "cell_type": "code",
   "execution_count": 58,
   "metadata": {},
   "outputs": [
    {
     "data": {
      "text/plain": [
       "'Soy fan de los v'"
      ]
     },
     "execution_count": 58,
     "metadata": {},
     "output_type": "execute_result"
    }
   ],
   "source": [
    "s[:-10] #Dame todos los caracteres hasta las 10 ultimas posiciones de ese string."
   ]
  },
  {
   "cell_type": "code",
   "execution_count": 59,
   "metadata": {},
   "outputs": [
    {
     "data": {
      "text/plain": [
       "'ideojuegos'"
      ]
     },
     "execution_count": 59,
     "metadata": {},
     "output_type": "execute_result"
    }
   ],
   "source": [
    "s[-10:] #Dies ultimos elementos "
   ]
  },
  {
   "cell_type": "markdown",
   "metadata": {},
   "source": [
    "# 29. METODOS PARA TRABAJAR CON STRINGS"
   ]
  },
  {
   "cell_type": "markdown",
   "metadata": {},
   "source": [
    "El metodo $\\textbf{.lower()}$ nos transforma el string que indiquemos a minúsculas. "
   ]
  },
  {
   "cell_type": "code",
   "execution_count": 22,
   "metadata": {},
   "outputs": [
    {
     "data": {
      "text/plain": [
       "'me encanta el chocolate y las galletas'"
      ]
     },
     "execution_count": 22,
     "metadata": {},
     "output_type": "execute_result"
    }
   ],
   "source": [
    "s = \"Me ENCANTA EL CHOCOLATE Y LAS GALLETAS\"\n",
    "s.lower()"
   ]
  },
  {
   "cell_type": "markdown",
   "metadata": {},
   "source": [
    "El metodo $\\textbf{.upper()}$, por el contrario, lo transforma todo en  mayusuculas. "
   ]
  },
  {
   "cell_type": "code",
   "execution_count": 23,
   "metadata": {},
   "outputs": [
    {
     "data": {
      "text/plain": [
       "'ME ENCANTA EL CHOCOLATE Y LAS GALLETAS'"
      ]
     },
     "execution_count": 23,
     "metadata": {},
     "output_type": "execute_result"
    }
   ],
   "source": [
    "s.upper()"
   ]
  },
  {
   "cell_type": "markdown",
   "metadata": {},
   "source": [
    "El metodo $\\textbf{.count()}$, cuenta cuantas veces aparece una letra o un string dentro del string al cual aplicamos dicho metodo. "
   ]
  },
  {
   "cell_type": "code",
   "execution_count": 30,
   "metadata": {},
   "outputs": [
    {
     "data": {
      "text/plain": [
       "0"
      ]
     },
     "execution_count": 30,
     "metadata": {},
     "output_type": "execute_result"
    }
   ],
   "source": [
    "s.count(\"O\")"
   ]
  },
  {
   "cell_type": "code",
   "execution_count": 29,
   "metadata": {},
   "outputs": [
    {
     "data": {
      "text/plain": [
       "0"
      ]
     },
     "execution_count": 29,
     "metadata": {},
     "output_type": "execute_result"
    }
   ],
   "source": [
    "s.count(\"LA\")"
   ]
  },
  {
   "cell_type": "markdown",
   "metadata": {},
   "source": [
    "El metodo $\\textbf{.capitalize()}$, convierte a mayusculas el primer caracter de un string. "
   ]
  },
  {
   "cell_type": "code",
   "execution_count": 28,
   "metadata": {},
   "outputs": [
    {
     "data": {
      "text/plain": [
       "'Me encanta aprender con udemy'"
      ]
     },
     "execution_count": 28,
     "metadata": {},
     "output_type": "execute_result"
    }
   ],
   "source": [
    "s = \"me encanta aprender con udemy\"\n",
    "s.capitalize()"
   ]
  },
  {
   "cell_type": "markdown",
   "metadata": {},
   "source": [
    "El metodo $\\textbf{.title()}$, convierte a mayusuculas el primer caracter de cada palabra de un string. "
   ]
  },
  {
   "cell_type": "code",
   "execution_count": 32,
   "metadata": {},
   "outputs": [
    {
     "data": {
      "text/plain": [
       "'Me Encanta Aprender Con Udemy'"
      ]
     },
     "execution_count": 32,
     "metadata": {},
     "output_type": "execute_result"
    }
   ],
   "source": [
    "s.title()"
   ]
  },
  {
   "cell_type": "markdown",
   "metadata": {},
   "source": [
    "El metodo $\\textbf{.swapcase()}$,convierte a mayusculas las minusuculas y viceversa. "
   ]
  },
  {
   "cell_type": "markdown",
   "metadata": {},
   "source": [
    "El metodo $\\textbf{.replace()}$, reemplza el caracter (o caracteres) que le indiquemos por el string que queramos. "
   ]
  },
  {
   "cell_type": "code",
   "execution_count": 34,
   "metadata": {},
   "outputs": [
    {
     "data": {
      "text/plain": [
       "'Los tomberis son malos'"
      ]
     },
     "execution_count": 34,
     "metadata": {},
     "output_type": "execute_result"
    }
   ],
   "source": [
    "s = \"Los tomberis son buenos\"\n",
    "s.replace(\"buenos\",\"malos\")"
   ]
  },
  {
   "cell_type": "markdown",
   "metadata": {},
   "source": [
    "El metodo $\\textbf{.split()}$, rompe el string en el caracter que le indiquemos y elimina dicho caracter. "
   ]
  },
  {
   "cell_type": "code",
   "execution_count": 36,
   "metadata": {},
   "outputs": [
    {
     "data": {
      "text/plain": [
       "['El ', 'l', 'fant', ' ti', 'n', ' las or', 'jas muy grand', 's']"
      ]
     },
     "execution_count": 36,
     "metadata": {},
     "output_type": "execute_result"
    }
   ],
   "source": [
    "s = \"El elefante tiene las orejas muy grandes\"\n",
    "s.split(\"e\")"
   ]
  },
  {
   "cell_type": "code",
   "execution_count": 40,
   "metadata": {},
   "outputs": [
    {
     "data": {
      "text/plain": [
       "['     El elefante ', ' las orejas muy grandes                 ']"
      ]
     },
     "execution_count": 40,
     "metadata": {},
     "output_type": "execute_result"
    }
   ],
   "source": [
    "s.split(\"tiene\")"
   ]
  },
  {
   "cell_type": "markdown",
   "metadata": {},
   "source": [
    "El metodo $\\textbf{.strip()}$, elimina los espacios sobrantes a principio y final del string. "
   ]
  },
  {
   "cell_type": "code",
   "execution_count": 38,
   "metadata": {},
   "outputs": [
    {
     "data": {
      "text/plain": [
       "'El elefante tiene las orejas muy grandes'"
      ]
     },
     "execution_count": 38,
     "metadata": {},
     "output_type": "execute_result"
    }
   ],
   "source": [
    "s = \"     El elefante tiene las orejas muy grandes                 \"\n",
    "s.strip()"
   ]
  },
  {
   "cell_type": "markdown",
   "metadata": {},
   "source": [
    "El metodo $\\textbf{.rstrip()}$, elimina los espacios sobrantes al final del string."
   ]
  },
  {
   "cell_type": "code",
   "execution_count": 39,
   "metadata": {},
   "outputs": [
    {
     "data": {
      "text/plain": [
       "'     El elefante tiene las orejas muy grandes'"
      ]
     },
     "execution_count": 39,
     "metadata": {},
     "output_type": "execute_result"
    }
   ],
   "source": [
    "s.rstrip()"
   ]
  },
  {
   "cell_type": "markdown",
   "metadata": {},
   "source": [
    "El metodo $\\textbf{s.rstrip()}$, elimina los espacios sobrantes al final del string. "
   ]
  },
  {
   "cell_type": "code",
   "execution_count": 42,
   "metadata": {},
   "outputs": [
    {
     "data": {
      "text/plain": [
       "'     El elefante tiene las orejas muy grandes'"
      ]
     },
     "execution_count": 42,
     "metadata": {},
     "output_type": "execute_result"
    }
   ],
   "source": [
    "s.rstrip()"
   ]
  },
  {
   "cell_type": "markdown",
   "metadata": {},
   "source": [
    "El metodo $\\textbf{.find()}$, busca el caracter que le indiquemos y nos devuelve la primera posición en la que aparece."
   ]
  },
  {
   "cell_type": "code",
   "execution_count": 44,
   "metadata": {},
   "outputs": [
    {
     "data": {
      "text/plain": [
       "3"
      ]
     },
     "execution_count": 44,
     "metadata": {},
     "output_type": "execute_result"
    }
   ],
   "source": [
    "s = \"Este es un curso de Python para hacer en casa o en cualquier lado\"\n",
    "s.find(\"e\")"
   ]
  },
  {
   "cell_type": "markdown",
   "metadata": {},
   "source": [
    "Si le pedimos buscar un conjunto de caracteres, nos devuelve la posicion del primer caracter de dicho conjunto. "
   ]
  },
  {
   "cell_type": "code",
   "execution_count": 45,
   "metadata": {},
   "outputs": [
    {
     "data": {
      "text/plain": [
       "41"
      ]
     },
     "execution_count": 45,
     "metadata": {},
     "output_type": "execute_result"
    }
   ],
   "source": [
    "s.find(\"casa\")"
   ]
  },
  {
   "cell_type": "markdown",
   "metadata": {},
   "source": [
    "El metodo $\\textbf{.find()}$, tiene otros dos parámetros de uso opcional: start y end, que sirven para indicar donde queremos que empiece la búsqueda y donde queremos que acabe. "
   ]
  },
  {
   "cell_type": "code",
   "execution_count": 46,
   "metadata": {},
   "outputs": [
    {
     "data": {
      "text/plain": [
       "18"
      ]
     },
     "execution_count": 46,
     "metadata": {},
     "output_type": "execute_result"
    }
   ],
   "source": [
    "s.find(\"e\",10)"
   ]
  },
  {
   "cell_type": "code",
   "execution_count": 47,
   "metadata": {},
   "outputs": [
    {
     "data": {
      "text/plain": [
       "35"
      ]
     },
     "execution_count": 47,
     "metadata": {},
     "output_type": "execute_result"
    }
   ],
   "source": [
    "s.find(\"e\",30,40) #indicamos start y end. "
   ]
  },
  {
   "cell_type": "markdown",
   "metadata": {},
   "source": [
    "El metodo $\\textbf{.index()}$, busca el caracter que indiquemos y nos devuelve la primera posición en la que aparece. "
   ]
  },
  {
   "cell_type": "code",
   "execution_count": 48,
   "metadata": {},
   "outputs": [
    {
     "data": {
      "text/plain": [
       "3"
      ]
     },
     "execution_count": 48,
     "metadata": {},
     "output_type": "execute_result"
    }
   ],
   "source": [
    "s = \"Este es un curso de Python para hacer en casa o en cualquier lado\"\n",
    "s.index(\"e\")"
   ]
  },
  {
   "cell_type": "markdown",
   "metadata": {},
   "source": [
    "Como podemos observar el metodo index y find son muy similares, el unico punto en el que difieren es que si el caracter indicado no se encuentra en el string, el metodo .index() arroja error, mientras que el .find() arroja el indice(-1). "
   ]
  },
  {
   "cell_type": "markdown",
   "metadata": {},
   "source": [
    "# 30. MAS FUNCIONES CON LAS QUE TRABAJAR CON STRINGS. "
   ]
  },
  {
   "cell_type": "markdown",
   "metadata": {},
   "source": [
    "La función $\\textbf{len()}$ devuelve el numero de caracteres del string. "
   ]
  },
  {
   "cell_type": "code",
   "execution_count": 51,
   "metadata": {},
   "outputs": [
    {
     "data": {
      "text/plain": [
       "12"
      ]
     },
     "execution_count": 51,
     "metadata": {},
     "output_type": "execute_result"
    }
   ],
   "source": [
    "s = \"Tengo Hambre\"\n",
    "len(s)"
   ]
  },
  {
   "cell_type": "code",
   "execution_count": 52,
   "metadata": {},
   "outputs": [
    {
     "data": {
      "text/plain": [
       "str"
      ]
     },
     "execution_count": 52,
     "metadata": {},
     "output_type": "execute_result"
    }
   ],
   "source": [
    "numero = \"5\"\n",
    "type(numero )"
   ]
  },
  {
   "cell_type": "code",
   "execution_count": 53,
   "metadata": {},
   "outputs": [
    {
     "data": {
      "text/plain": [
       "5"
      ]
     },
     "execution_count": 53,
     "metadata": {},
     "output_type": "execute_result"
    }
   ],
   "source": [
    "numero_int = int(numero)\n",
    "numero_int"
   ]
  },
  {
   "cell_type": "code",
   "execution_count": 54,
   "metadata": {},
   "outputs": [
    {
     "data": {
      "text/plain": [
       "int"
      ]
     },
     "execution_count": 54,
     "metadata": {},
     "output_type": "execute_result"
    }
   ],
   "source": [
    "type(numero_int)"
   ]
  },
  {
   "cell_type": "code",
   "execution_count": 55,
   "metadata": {},
   "outputs": [
    {
     "data": {
      "text/plain": [
       "5.0"
      ]
     },
     "execution_count": 55,
     "metadata": {},
     "output_type": "execute_result"
    }
   ],
   "source": [
    "float(numero_int)"
   ]
  },
  {
   "cell_type": "code",
   "execution_count": 56,
   "metadata": {},
   "outputs": [
    {
     "data": {
      "text/plain": [
       "float"
      ]
     },
     "execution_count": 56,
     "metadata": {},
     "output_type": "execute_result"
    }
   ],
   "source": [
    "type(float(numero_int)) "
   ]
  },
  {
   "cell_type": "markdown",
   "metadata": {},
   "source": [
    "La función $\\textbf{input()}$ sirbe para que el usuario introduzca un string por consola. "
   ]
  },
  {
   "cell_type": "code",
   "execution_count": 57,
   "metadata": {},
   "outputs": [
    {
     "name": "stdout",
     "output_type": "stream",
     "text": [
      "Introduce tu nombre: \n",
      "Angel\n"
     ]
    }
   ],
   "source": [
    "print(\"Introduce tu nombre: \")\n",
    "name = input()"
   ]
  },
  {
   "cell_type": "code",
   "execution_count": 59,
   "metadata": {},
   "outputs": [
    {
     "data": {
      "text/plain": [
       "'Angel'"
      ]
     },
     "execution_count": 59,
     "metadata": {},
     "output_type": "execute_result"
    }
   ],
   "source": [
    "name"
   ]
  },
  {
   "cell_type": "code",
   "execution_count": 60,
   "metadata": {},
   "outputs": [
    {
     "name": "stdout",
     "output_type": "stream",
     "text": [
      "Introduce tu nombre: Angel \n",
      "Angel \n"
     ]
    }
   ],
   "source": [
    "nombre = input(\"Introduce tu nombre: \")\n",
    "print(nombre)"
   ]
  },
  {
   "cell_type": "code",
   "execution_count": 1,
   "metadata": {},
   "outputs": [
    {
     "name": "stdout",
     "output_type": "stream",
     "text": [
      "Introduce tu edad: \n",
      "45\n"
     ]
    }
   ],
   "source": [
    "print(\"Introduce tu edad: \")\n",
    "age = int(input())"
   ]
  },
  {
   "cell_type": "code",
   "execution_count": 2,
   "metadata": {},
   "outputs": [
    {
     "data": {
      "text/plain": [
       "45"
      ]
     },
     "execution_count": 2,
     "metadata": {},
     "output_type": "execute_result"
    }
   ],
   "source": [
    "age"
   ]
  },
  {
   "cell_type": "code",
   "execution_count": 6,
   "metadata": {},
   "outputs": [
    {
     "name": "stdout",
     "output_type": "stream",
     "text": [
      "Introduce tu nombre: \n",
      "Nombre: Angel\n"
     ]
    }
   ],
   "source": [
    "print(\"Introduce tu nombre: \")\n",
    "name = input(\"Nombre: \")"
   ]
  },
  {
   "cell_type": "code",
   "execution_count": 7,
   "metadata": {},
   "outputs": [
    {
     "data": {
      "text/plain": [
       "'Angel'"
      ]
     },
     "execution_count": 7,
     "metadata": {},
     "output_type": "execute_result"
    }
   ],
   "source": [
    "name"
   ]
  },
  {
   "cell_type": "markdown",
   "metadata": {},
   "source": [
    "# 31. EJERCICIO: OBTENER UN SUBSTRING ELIMINANDO PALABRA INTRODUCIDA POR USUARIO"
   ]
  },
  {
   "cell_type": "markdown",
   "metadata": {},
   "source": [
    "Ejercicio. \\\n",
    "Dado un string, vamos a pedir al usuario que introduzca una palabra perteneciente a dicho string y vamos a obtener el substring sin la palabra indicada por el usuario utilizando el metodo $\\textbf{.find()}$ y la función $\\textbf{len()}$."
   ]
  },
  {
   "cell_type": "code",
   "execution_count": 3,
   "metadata": {},
   "outputs": [
    {
     "name": "stdout",
     "output_type": "stream",
     "text": [
      "Este es el string original: El camino esta cerrado pero seguro que podemos encontrar una alternativa\n",
      "Introduce la palabra que quieras eliminar: \n",
      " Palabra: podemos\n"
     ]
    }
   ],
   "source": [
    "string = \"El camino esta cerrado pero seguro que podemos encontrar una alternativa\"\n",
    "print(\"Este es el string original:\", end = \" \")\n",
    "print(string)\n",
    "\n",
    "word = input(\"Introduce la palabra que quieras eliminar: \\n Palabra: \")\n",
    "\n",
    "idx = string.find(word)\n",
    "substring = string[:idx] + string[idx + len(word):]"
   ]
  },
  {
   "cell_type": "code",
   "execution_count": 4,
   "metadata": {},
   "outputs": [
    {
     "name": "stdout",
     "output_type": "stream",
     "text": [
      "El camino esta cerrado pero seguro que  encontrar una alternativa\n"
     ]
    }
   ],
   "source": [
    "print(substring)"
   ]
  },
  {
   "cell_type": "code",
   "execution_count": 6,
   "metadata": {},
   "outputs": [
    {
     "data": {
      "text/plain": [
       "39"
      ]
     },
     "execution_count": 6,
     "metadata": {},
     "output_type": "execute_result"
    }
   ],
   "source": [
    "string.find(word)"
   ]
  },
  {
   "cell_type": "code",
   "execution_count": 7,
   "metadata": {},
   "outputs": [
    {
     "data": {
      "text/plain": [
       "7"
      ]
     },
     "execution_count": 7,
     "metadata": {},
     "output_type": "execute_result"
    }
   ],
   "source": [
    "len(word)"
   ]
  },
  {
   "cell_type": "code",
   "execution_count": 8,
   "metadata": {},
   "outputs": [
    {
     "data": {
      "text/plain": [
       "'podemos'"
      ]
     },
     "execution_count": 8,
     "metadata": {},
     "output_type": "execute_result"
    }
   ],
   "source": [
    "word"
   ]
  },
  {
   "cell_type": "code",
   "execution_count": 11,
   "metadata": {},
   "outputs": [
    {
     "name": "stdout",
     "output_type": "stream",
     "text": [
      "Mi materia favorita en la universidad es Estadistica\n",
      "\n",
      "Introduce la palabra que quieres que cambiemos de la frase de arriba. \n",
      "Palabra: universidad\n",
      "MI MATERIA FAVORITA EN LA TE QUIERO ES ESTADISTICA\n",
      "\n"
     ]
    }
   ],
   "source": [
    "string = \"Mi materia favorita en la universidad es Estadistica\\n\"\n",
    "print(string)\n",
    "palabra = input(\"Introduce la palabra que quieres que cambiemos de la frase de arriba. \\nPalabra: \")\n",
    "\n",
    "frase_nueva = string.replace(palabra, \"te quiero\")\n",
    "frase_nueva = frase_nueva.upper()\n",
    "print(frase_nueva)"
   ]
  },
  {
   "cell_type": "markdown",
   "metadata": {},
   "source": [
    "# EJERCICIO: COMBINANDO INPUT() Y PRINT()\n",
    "\n",
    "Vamos a pedirle al usuario palabras o frases y le vamos a devolver el mismo string modificado con alguno de los metodos aprendidos segun se indique: \n",
    "\n",
    "* Devolver la palabra en mayusculas. \n",
    "* Devolver la frase con todas las palabras empezando en mayusculas. \n",
    "* Devolver la palabra (con 3 o mas letras) con todas las letras en minusculas salvo la tercera letra. \n",
    "* Devolver la palabra con todas las letras en mayusuculas salvo la primera y la ultima. \n",
    "* Devovler la frase donde cada vez que aparezcan las dos primeras letras de la primera palabra, sean substituidas por cualesquiera otras dos letras. "
   ]
  },
  {
   "cell_type": "code",
   "execution_count": 12,
   "metadata": {},
   "outputs": [
    {
     "name": "stdout",
     "output_type": "stream",
     "text": [
      "Introduce una palabra y yo te la devuelvo en mayusculas:te quiero \n",
      "TE QUIERO \n"
     ]
    }
   ],
   "source": [
    "palabra = input(\"Introduce una palabra y yo te la devuelvo en mayusculas:\")\n",
    "print(palabra.upper())"
   ]
  },
  {
   "cell_type": "code",
   "execution_count": 13,
   "metadata": {},
   "outputs": [
    {
     "name": "stdout",
     "output_type": "stream",
     "text": [
      "Introduce una frase y yo te la devuelvo todas las palabras empezando en mayusculas: un dia vi a un vaca vestida de uniforme. \n",
      "Un Dia Vi A Un Vaca Vestida De Uniforme. \n"
     ]
    }
   ],
   "source": [
    "frase = input(\"Introduce una frase y yo te la devuelvo todas las palabras empezando en mayusculas: \")\n",
    "print(frase.title())"
   ]
  },
  {
   "cell_type": "code",
   "execution_count": 16,
   "metadata": {},
   "outputs": [
    {
     "name": "stdout",
     "output_type": "stream",
     "text": [
      "Introduce una palabra con 3 letras o mas y yo te devuelvo todas sus letras en minusuculas, salvo la tercera: sol de mi corazon\n",
      "soL de mi corazon\n"
     ]
    }
   ],
   "source": [
    "palabra = input(\"Introduce una palabra con 3 letras o mas y yo te devuelvo todas sus letras en minusuculas, salvo la tercera: \")\n",
    "palabra = palabra[:2].lower() + palabra[2].upper() + palabra[3:].lower()\n",
    "print(palabra)"
   ]
  },
  {
   "cell_type": "code",
   "execution_count": 3,
   "metadata": {},
   "outputs": [
    {
     "name": "stdout",
     "output_type": "stream",
     "text": [
      "Introduce una frase: te amo, pero lo nuestro no va a poder funcionar\n",
      "Introduce una letra por la que quieras sustituir la primera letra, que es t: x\n",
      "Introduce una segunda letra por la que quieras sustituir la ultima letra, que es r: y\n",
      "xE AMO, PERO LO NUESTRO NO VA A PODER FUNCIONAy\n"
     ]
    }
   ],
   "source": [
    "frase = input(\"Introduce una frase: \")\n",
    "letra1 = input(\"Introduce una letra por la que quieras sustituir la primera letra, que es {}: \".format(frase[0]))\n",
    "letra2 = input(\"Introduce una segunda letra por la que quieras sustituir la ultima letra, que es {}: \".format(frase[len(frase)-1]))\n",
    "\n",
    "frase2 = frase.upper()\n",
    "frase = frase.upper()\n",
    "frase = frase.replace(frase[0],letra1)\n",
    "frase = frase.replace(frase[len(frase)-1],letra2)\n",
    "\n",
    "frase_chida = frase[0] + frase2[1:len(frase)-1] + frase[len(frase)-1]\n",
    "print(frase_chida)"
   ]
  },
  {
   "cell_type": "markdown",
   "metadata": {},
   "source": [
    "Pedirle al usuario su año de nacimiento y el año actual y le vamos a imprimir por pantalla su edad. "
   ]
  },
  {
   "cell_type": "code",
   "execution_count": 9,
   "metadata": {},
   "outputs": [
    {
     "name": "stdout",
     "output_type": "stream",
     "text": [
      "Introduzca su año de nacimiento: 1998\n",
      "Introduzca el año actual: 2021\n",
      "Tu tienes 23 años de edad\n"
     ]
    }
   ],
   "source": [
    "año_nacimiento = int(input(\"Introduzca su año de nacimiento: \"))\n",
    "año_actual = int(input(\"Introduzca el año actual: \"))\n",
    "edad_actual = -(año_nacimiento - año_actual)\n",
    "print(\"Tu tienes {} años de edad\".format(edad_actual))"
   ]
  },
  {
   "cell_type": "markdown",
   "metadata": {},
   "source": [
    "# EJERCICIOS DE LA SECCION "
   ]
  },
  {
   "cell_type": "markdown",
   "metadata": {},
   "source": [
    "Ejercicio 1\n",
    "\n",
    "Utiliza las funciones de concatenar, + y repetir strings, *, junto con la función print() para dados los siguientes strings s1, s2, s3 y s4, conseguir el resultado siguiente: Había una vez, un barquito chiquitito\n",
    "Había una vez, un barquito chiquitito que no podía, que no podía, que no podía navegar.\n",
    "* s1 = \"Había una vez, \"\n",
    "* s2 = \"un barquito chiquitito \"\n",
    "* s3 = \"que no podía, \"\n",
    "* s4 = \"que no podía navegar."
   ]
  },
  {
   "cell_type": "code",
   "execution_count": 11,
   "metadata": {},
   "outputs": [
    {
     "name": "stdout",
     "output_type": "stream",
     "text": [
      "Había una vez, un barquito chiquitito Había una vez, un barquito chiquitito que no podía, que no podía, que no podía navegar.\n"
     ]
    }
   ],
   "source": [
    "s1 = \"Había una vez, \"\n",
    "s2 = \"un barquito chiquitito \"\n",
    "s3 = \"que no podía, \"\n",
    "s4 = \"que no podía navegar.\"\n",
    "\n",
    "s5 = s1 + s2 + s1 + s2 + (s3 * 2) + s4\n",
    "print(s5)"
   ]
  },
  {
   "cell_type": "markdown",
   "metadata": {},
   "source": [
    "Ejercicio 2\n",
    "\n",
    "Utiliza la función print() y el comando de salto de línea, \\n, para reproducir exactamente el siguiente texto:\n",
    "Érase un hombre a una nariz pegado,\n",
    "Érase una nariz superlativa,\n",
    "\n",
    "Érase una alquitara medio viva,\n",
    "\n",
    "Érase un peje espada mal barbado;"
   ]
  },
  {
   "cell_type": "code",
   "execution_count": 12,
   "metadata": {},
   "outputs": [
    {
     "name": "stdout",
     "output_type": "stream",
     "text": [
      "Érase un hombre a una nariz pegado,\n",
      "Érase una nariz superlativa,\n",
      "Érase una alquitara medio viva, \n",
      "Érase un pejé espada mal barbado.\n"
     ]
    }
   ],
   "source": [
    "print(\"Érase un hombre a una nariz pegado,\\nÉrase una nariz superlativa,\\nÉrase una alquitara medio viva, \\nÉrase un pejé espada mal barbado.\")"
   ]
  },
  {
   "cell_type": "markdown",
   "metadata": {},
   "source": [
    "Ejercicio 3\n",
    "\n",
    "Transforma el siguiente string s a mayúsculas y muéstralo por pantalla con la función print():\n",
    "\n",
    "s = \"me encantan las matemáticas\"\n"
   ]
  },
  {
   "cell_type": "code",
   "execution_count": 13,
   "metadata": {},
   "outputs": [
    {
     "name": "stdout",
     "output_type": "stream",
     "text": [
      "ME ENCANTAN LAS MATEMÁTICAS\n"
     ]
    }
   ],
   "source": [
    "s = \"me encantan las matemáticas\"\n",
    "s = s.upper()\n",
    "print(s)"
   ]
  },
  {
   "cell_type": "markdown",
   "metadata": {},
   "source": [
    "Ejercicio 4\n",
    "\n",
    "Calcula la longitud del string s\n",
    "\n",
    "s = \"Mi pasión por el chocolate es superior a mis fuerzas\"\n"
   ]
  },
  {
   "cell_type": "code",
   "execution_count": 15,
   "metadata": {},
   "outputs": [
    {
     "data": {
      "text/plain": [
       "52"
      ]
     },
     "execution_count": 15,
     "metadata": {},
     "output_type": "execute_result"
    }
   ],
   "source": [
    "s = \"Mi pasión por el chocolate es superior a mis fuerzas\"\n",
    "len(s)"
   ]
  },
  {
   "cell_type": "markdown",
   "metadata": {},
   "source": [
    "Ejercicio 5\n",
    "\n",
    "Del string s del ejercicio anterior, obtén el substring chocolate y guárdalo en una variable llamada s_sub.\n",
    "No vale contar, deberás hallar los índices del substring con el método .find() (o el que mejor consideres) y\n",
    "la función len().\n",
    "\n",
    "Finalmente, imprime tu resultado por pantalla"
   ]
  },
  {
   "cell_type": "code",
   "execution_count": 25,
   "metadata": {},
   "outputs": [
    {
     "name": "stdout",
     "output_type": "stream",
     "text": [
      "chocolate\n"
     ]
    }
   ],
   "source": [
    "s1 = s.find(\"chocolate\")\n",
    "s2 = s.find(\"e\",s1,len(s)-1)\n",
    "s_sub = s[s1:s2+1]\n",
    "print(s_sub)"
   ]
  },
  {
   "cell_type": "markdown",
   "metadata": {},
   "source": [
    "Ejercicio 6\n",
    "\n",
    "Con la función input(), indícale al usuario que introduzca su nombre y guárdalo en la variable llamada\n",
    "nombre.\n"
   ]
  },
  {
   "cell_type": "code",
   "execution_count": 26,
   "metadata": {},
   "outputs": [
    {
     "name": "stdout",
     "output_type": "stream",
     "text": [
      "Introduzca su nombre: Angel \n",
      "Angel \n"
     ]
    }
   ],
   "source": [
    "nombre = input(\"Introduzca su nombre: \")\n",
    "print(nombre)"
   ]
  },
  {
   "cell_type": "markdown",
   "metadata": {},
   "source": [
    "Ejercicio 7\n",
    "\n",
    "Con la función input(), indícale al usuario que introduzca su apellido y guárdalo en la variable llamada apellido.\n",
    "\n"
   ]
  },
  {
   "cell_type": "code",
   "execution_count": 28,
   "metadata": {},
   "outputs": [
    {
     "name": "stdout",
     "output_type": "stream",
     "text": [
      "Introduza su apellido: Clavellina\n"
     ]
    }
   ],
   "source": [
    "apellido = input(\"Introduza su apellido: \")"
   ]
  },
  {
   "cell_type": "markdown",
   "metadata": {},
   "source": [
    "Ejercicio 8\n",
    "\n",
    "Con la función input(), indícale al usuario que introduzca su edad y guárdala en la variable llamada edad.\n",
    "¡Ojo con el tipo de dato!"
   ]
  },
  {
   "cell_type": "code",
   "execution_count": 29,
   "metadata": {},
   "outputs": [
    {
     "name": "stdout",
     "output_type": "stream",
     "text": [
      "Introduza su edad: 23\n"
     ]
    }
   ],
   "source": [
    "edad = int(input(\"Introduza su edad: \"))"
   ]
  },
  {
   "cell_type": "markdown",
   "metadata": {},
   "source": [
    "Ejercicio 9\n",
    "\n",
    "Con la función input(), indícale al usuario que introduzca la ciudad en la que vive y guárdala en la variable\n",
    "llamada ciudad."
   ]
  },
  {
   "cell_type": "code",
   "execution_count": 30,
   "metadata": {},
   "outputs": [
    {
     "name": "stdout",
     "output_type": "stream",
     "text": [
      "Introduzca su ciudad: Mexico\n"
     ]
    }
   ],
   "source": [
    "ciudad = input(\"Introduzca su ciudad: \")"
   ]
  },
  {
   "cell_type": "markdown",
   "metadata": {},
   "source": [
    "\n",
    "Ejercicio 10\n",
    "\n",
    "Con lo hecho en los ejercicios 6, 7, 8 y 9, imprime por pantalla todos los datos introducidos por el usuario\n",
    "tal y como se muestra en el siguiente ejemplo, donde el usuario ha indicado que su nombre es María; su\n",
    "apellido, Santos; su edad, 21; y su ciudad, Palma de Mallorca.\n",
    "Su nombre es María Santos, tiene 21 años y actualmente vive en Palma de Mallorca."
   ]
  },
  {
   "cell_type": "code",
   "execution_count": 32,
   "metadata": {},
   "outputs": [
    {
     "name": "stdout",
     "output_type": "stream",
     "text": [
      "Introduzca su nombre: María \n",
      "Introduzca su apellido: Santos\n",
      "Introduza su edad: 21\n",
      "Introduza su ciudad: Palma de Mallorca \n",
      "Su nombre es María  Santos, tiene 21 años y actualmente vive en Palma de Mallorca \n"
     ]
    }
   ],
   "source": [
    "nombre = input(\"Introduzca su nombre: \")\n",
    "apellido = input(\"Introduzca su apellido: \")\n",
    "edad = int(input(\"Introduza su edad: \"))\n",
    "ciudad = input(\"Introduza su ciudad: \")\n",
    "\n",
    "print(\"Su nombre es {} {}, tiene {} años y actualmente vive en {}\".format(nombre,apellido,edad,ciudad))"
   ]
  }
 ],
 "metadata": {
  "kernelspec": {
   "display_name": "Python 3",
   "language": "python",
   "name": "python3"
  },
  "language_info": {
   "codemirror_mode": {
    "name": "ipython",
    "version": 3
   },
   "file_extension": ".py",
   "mimetype": "text/x-python",
   "name": "python",
   "nbconvert_exporter": "python",
   "pygments_lexer": "ipython3",
   "version": "3.8.3"
  }
 },
 "nbformat": 4,
 "nbformat_minor": 4
}
