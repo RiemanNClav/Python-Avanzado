{
 "cells": [
  {
   "cell_type": "markdown",
   "metadata": {},
   "source": [
    "# Tupla\n",
    "\n",
    "La última estructura que veremos son las tuplas. Éstas son un conjunto de elementos, que pueden ser de distintos tipos, separados por comas y escritos entre paréntesis, ().\n",
    "\n",
    "## Las tuplas son:\n",
    "\n",
    "* hetereogéneas: los elementos pueden ser de distinto tipo en una misma tupla\n",
    "* no mutables: los elementos no pueden ser modifcados una vez la tupla ha sido creado\n",
    "Un ejemplo de tupla sería."
   ]
  },
  {
   "cell_type": "code",
   "execution_count": 1,
   "metadata": {},
   "outputs": [
    {
     "name": "stdout",
     "output_type": "stream",
     "text": [
      "('Juan', 32, 'profesor', True)\n"
     ]
    }
   ],
   "source": [
    "t = (\"Juan\", 32, \"profesor\", True)\n",
    "print(t)"
   ]
  },
  {
   "cell_type": "markdown",
   "metadata": {},
   "source": [
    "Podemos declarar una tupla sin necesidad indicar sus elementos entre paréntesis"
   ]
  },
  {
   "cell_type": "code",
   "execution_count": 3,
   "metadata": {},
   "outputs": [],
   "source": [
    "t = \"Juan\", 32, \"profesor\", True"
   ]
  },
  {
   "cell_type": "code",
   "execution_count": 4,
   "metadata": {},
   "outputs": [
    {
     "data": {
      "text/plain": [
       "('Juan', 32, 'profesor', True)"
      ]
     },
     "execution_count": 4,
     "metadata": {},
     "output_type": "execute_result"
    }
   ],
   "source": [
    "t"
   ]
  },
  {
   "cell_type": "code",
   "execution_count": 5,
   "metadata": {},
   "outputs": [
    {
     "data": {
      "text/plain": [
       "tuple"
      ]
     },
     "execution_count": 5,
     "metadata": {},
     "output_type": "execute_result"
    }
   ],
   "source": [
    "type(t)"
   ]
  },
  {
   "cell_type": "code",
   "execution_count": 6,
   "metadata": {},
   "outputs": [
    {
     "data": {
      "text/plain": [
       "(1, 2, 3)"
      ]
     },
     "execution_count": 6,
     "metadata": {},
     "output_type": "execute_result"
    }
   ],
   "source": [
    "tuple([1,2,3])"
   ]
  },
  {
   "cell_type": "markdown",
   "metadata": {},
   "source": [
    "# Elementos de una tupla\n",
    "Podemos acceder a los elementos de una tupla mediante el índice que ocupan con la sintaxis de claudator, []."
   ]
  },
  {
   "cell_type": "code",
   "execution_count": 2,
   "metadata": {},
   "outputs": [
    {
     "name": "stdout",
     "output_type": "stream",
     "text": [
      "1\n",
      "i\n"
     ]
    }
   ],
   "source": [
    "t = 1, \"a\", 2, \"e\", 3, \"i\", 4, \"o\", 5, \"u\"\n",
    "print(t[0])\n",
    "print(t[5])"
   ]
  },
  {
   "cell_type": "markdown",
   "metadata": {},
   "source": [
    "Al igual que con las listas, podemos acceder a los elementos de tuplas mediante el uso de índices negativos"
   ]
  },
  {
   "cell_type": "code",
   "execution_count": 8,
   "metadata": {},
   "outputs": [
    {
     "name": "stdout",
     "output_type": "stream",
     "text": [
      "u\n",
      "4\n"
     ]
    }
   ],
   "source": [
    "print(t[-1])\n",
    "print(t[-4])"
   ]
  },
  {
   "cell_type": "markdown",
   "metadata": {},
   "source": [
    "Para acceder a múltiples entradas de una tupla a la vez, podemos utilizar la función `:` para indicar un intervalo de índices."
   ]
  },
  {
   "cell_type": "code",
   "execution_count": 9,
   "metadata": {},
   "outputs": [
    {
     "name": "stdout",
     "output_type": "stream",
     "text": [
      "(2, 'e', 3, 'i')\n",
      "(1, 'a', 2, 'e', 3)\n",
      "('i', 4, 'o', 5, 'u')\n"
     ]
    }
   ],
   "source": [
    "print(t[2:6])\n",
    "print(t[:5])\n",
    "print(t[5:])"
   ]
  },
  {
   "cell_type": "markdown",
   "metadata": {},
   "source": [
    "Observación. Recordad que\n",
    "\n",
    "* el índice indicado tras los dos puntos, :, nunca es incluido.\n",
    "* si no se indica índice a la izquierda de :, se considera desde el índice 0 hasta el inmediatamente anterior al indicado a la derecha de :\n",
    "* si no se indica índice a la derecha de :, se considera desde el índice indicado a la izquierda de : hasta el último elemento\n",
    "\n",
    "También podemos usar índices negativos con la función :"
   ]
  },
  {
   "cell_type": "code",
   "execution_count": 3,
   "metadata": {},
   "outputs": [
    {
     "name": "stdout",
     "output_type": "stream",
     "text": [
      "('i', 4, 'o', 5)\n"
     ]
    }
   ],
   "source": [
    "print(t[-5:-1])"
   ]
  },
  {
   "cell_type": "markdown",
   "metadata": {},
   "source": [
    "Para saber si un elemento pertenece a una tupla, podemos usar la palabra clave $\\textbf{in}$."
   ]
  },
  {
   "cell_type": "code",
   "execution_count": 4,
   "metadata": {},
   "outputs": [
    {
     "name": "stdout",
     "output_type": "stream",
     "text": [
      "False\n",
      "True\n"
     ]
    }
   ],
   "source": [
    "print(6 in t)\n",
    "print(\"i\" in t)"
   ]
  },
  {
   "cell_type": "markdown",
   "metadata": {},
   "source": [
    "Hemos dicho que las tuplas son inmutables. Esto es, una vez creada la tupla, sus elementos no pueden ser modificados."
   ]
  },
  {
   "cell_type": "code",
   "execution_count": 5,
   "metadata": {},
   "outputs": [
    {
     "ename": "TypeError",
     "evalue": "'tuple' object does not support item assignment",
     "output_type": "error",
     "traceback": [
      "\u001b[1;31m---------------------------------------------------------------------------\u001b[0m",
      "\u001b[1;31mTypeError\u001b[0m                                 Traceback (most recent call last)",
      "\u001b[1;32m<ipython-input-5-2447071d6b37>\u001b[0m in \u001b[0;36m<module>\u001b[1;34m\u001b[0m\n\u001b[0;32m      1\u001b[0m \u001b[0mt\u001b[0m \u001b[1;33m=\u001b[0m \u001b[1;34m\"Cereza\"\u001b[0m\u001b[1;33m,\u001b[0m \u001b[1;34m\"Manzana\"\u001b[0m\u001b[1;33m,\u001b[0m \u001b[1;34m\"Pera\"\u001b[0m\u001b[1;33m\u001b[0m\u001b[1;33m\u001b[0m\u001b[0m\n\u001b[1;32m----> 2\u001b[1;33m \u001b[0mt\u001b[0m\u001b[1;33m[\u001b[0m\u001b[1;36m1\u001b[0m\u001b[1;33m]\u001b[0m \u001b[1;33m=\u001b[0m \u001b[1;34m\"Kiwi\"\u001b[0m\u001b[1;33m\u001b[0m\u001b[1;33m\u001b[0m\u001b[0m\n\u001b[0m",
      "\u001b[1;31mTypeError\u001b[0m: 'tuple' object does not support item assignment"
     ]
    }
   ],
   "source": [
    "t = \"Cereza\", \"Manzana\", \"Pera\"\n",
    "t[1] = \"Kiwi\""
   ]
  },
  {
   "cell_type": "markdown",
   "metadata": {},
   "source": [
    "Una alternativa sería convertir a lista, realizar la modificación y reconvertir a tupla"
   ]
  },
  {
   "cell_type": "code",
   "execution_count": 6,
   "metadata": {},
   "outputs": [],
   "source": [
    "t = \"Cereza\", \"Manzana\", \"Pera\"\n",
    "t = list(t)\n",
    "t[1] = \"Kiwi\"\n",
    "t = tuple(t)"
   ]
  },
  {
   "cell_type": "code",
   "execution_count": 7,
   "metadata": {},
   "outputs": [
    {
     "name": "stdout",
     "output_type": "stream",
     "text": [
      "('Cereza', 'Kiwi', 'Pera')\n",
      "<class 'tuple'>\n"
     ]
    }
   ],
   "source": [
    "print(t)\n",
    "print(type(t))"
   ]
  },
  {
   "cell_type": "markdown",
   "metadata": {},
   "source": [
    "# EL METODO UNPACKING \n",
    "\n",
    "Podemos extraer los valores de una tupla en variables. Este proceso es conocido como $\\textbf{unpacking}$."
   ]
  },
  {
   "cell_type": "code",
   "execution_count": 8,
   "metadata": {},
   "outputs": [
    {
     "name": "stdout",
     "output_type": "stream",
     "text": [
      "<class 'tuple'>\n",
      "Cereza\n",
      "Kiwi\n",
      "Pera\n",
      "Naranja\n"
     ]
    }
   ],
   "source": [
    "fruits = \"Cereza\", \"Kiwi\", \"Pera\", \"Naranja\"\n",
    "print(type(fruits))\n",
    "\n",
    "# Con paréntesis\n",
    "(fruit1, fruit2, fruit3, fruit4) = fruits\n",
    "\n",
    "print(fruit1)\n",
    "print(fruit2)\n",
    "print(fruit3)\n",
    "print(fruit4)"
   ]
  },
  {
   "cell_type": "markdown",
   "metadata": {},
   "source": [
    "Funciona igual si no declaramos las variables entre paréntesis."
   ]
  },
  {
   "cell_type": "code",
   "execution_count": 9,
   "metadata": {},
   "outputs": [
    {
     "name": "stdout",
     "output_type": "stream",
     "text": [
      "<class 'tuple'>\n",
      "Cereza\n",
      "Kiwi\n",
      "Pera\n",
      "Naranja\n"
     ]
    }
   ],
   "source": [
    "fruits = \"Cereza\", \"Kiwi\", \"Pera\", \"Naranja\"\n",
    "print(type(fruits))\n",
    "\n",
    "# Sin paréntesis\n",
    "fruit1, fruit2, fruit3, fruit4 = fruits\n",
    "\n",
    "print(fruit1)\n",
    "print(fruit2)\n",
    "print(fruit3)\n",
    "print(fruit4)"
   ]
  },
  {
   "cell_type": "markdown",
   "metadata": {},
   "source": [
    "¡Cuidado! El número de variables debe coincidir con el número de elementos de la tupla. De lo contrario, debe usarse un asterisco para guardar los elementos restantes en una lista.\n",
    "\n"
   ]
  },
  {
   "cell_type": "code",
   "execution_count": 10,
   "metadata": {},
   "outputs": [
    {
     "name": "stdout",
     "output_type": "stream",
     "text": [
      "Cereza\n",
      "Kiwi\n",
      "['Pera', 'Naranja']\n",
      "<class 'list'>\n"
     ]
    }
   ],
   "source": [
    "fruits = \"Cereza\", \"Kiwi\", \"Pera\", \"Naranja\"\n",
    "\n",
    "(fruit1, fruit2, *restFruits) = fruits\n",
    "\n",
    "print(fruit1)\n",
    "print(fruit2)\n",
    "print(restFruits)\n",
    "print(type(restFruits))"
   ]
  },
  {
   "cell_type": "markdown",
   "metadata": {},
   "source": [
    "Observación. Si el asterisco es añadido en alguna variable que no sea la última, Python almacenará tantos elementos en la lista como sea necesario para que el número de elementos restantes coincida con el número de variables restantes."
   ]
  },
  {
   "cell_type": "code",
   "execution_count": 11,
   "metadata": {},
   "outputs": [
    {
     "name": "stdout",
     "output_type": "stream",
     "text": [
      "Cereza\n",
      "['Kiwi', 'Pera', 'Naranja', 'Melocotón']\n",
      "Sandía\n",
      "Melón\n"
     ]
    }
   ],
   "source": [
    "fruits = \"Cereza\", \"Kiwi\", \"Pera\", \"Naranja\", \"Melocotón\", \"Sandía\", \"Melón\"\n",
    "\n",
    "(fruit1, *restFruits, fruit2, fruit3) = fruits\n",
    "\n",
    "print(fruit1)\n",
    "print(restFruits)\n",
    "print(fruit2)\n",
    "print(fruit3)"
   ]
  },
  {
   "cell_type": "code",
   "execution_count": 12,
   "metadata": {},
   "outputs": [
    {
     "name": "stdout",
     "output_type": "stream",
     "text": [
      "4\n"
     ]
    }
   ],
   "source": [
    "punto = (1, 2, 3)\n",
    "x, _, z = punto\n",
    "print(x + z)"
   ]
  },
  {
   "cell_type": "code",
   "execution_count": 13,
   "metadata": {},
   "outputs": [
    {
     "name": "stdout",
     "output_type": "stream",
     "text": [
      "Cereza\n",
      "Sandía\n",
      "Melón\n"
     ]
    }
   ],
   "source": [
    "fruits = \"Cereza\", \"Kiwi\", \"Pera\", \"Naranja\", \"Melocotón\", \"Sandía\", \"Melón\"\n",
    "\n",
    "(fruit1, *_, fruit2, fruit3) = fruits\n",
    "\n",
    "print(fruit1)\n",
    "print(fruit2)\n",
    "print(fruit3)"
   ]
  },
  {
   "cell_type": "markdown",
   "metadata": {},
   "source": [
    "# Concatenación de tuplas\n",
    "\n",
    "Podemos concatenar tuplas con la función +, aunque el resultado será una nueva tupla, ya que recordemos éstas no pueden ser modificadas"
   ]
  },
  {
   "cell_type": "code",
   "execution_count": 14,
   "metadata": {},
   "outputs": [
    {
     "data": {
      "text/plain": [
       "(1, 3, 2, 4)"
      ]
     },
     "execution_count": 14,
     "metadata": {},
     "output_type": "execute_result"
    }
   ],
   "source": [
    "t1 = 1, 3\n",
    "t2 = 2, 4\n",
    "\n",
    "t1 + t2"
   ]
  },
  {
   "cell_type": "markdown",
   "metadata": {},
   "source": [
    "# Repetición de tuplas\n",
    "\n",
    "Podemos repetir tuplas un número  n  de veces con la función *"
   ]
  },
  {
   "cell_type": "code",
   "execution_count": 15,
   "metadata": {},
   "outputs": [
    {
     "data": {
      "text/plain": [
       "('a', 'b', 'c', 'a', 'b', 'c', 'a', 'b', 'c', 'a', 'b', 'c', 'a', 'b', 'c')"
      ]
     },
     "execution_count": 15,
     "metadata": {},
     "output_type": "execute_result"
    }
   ],
   "source": [
    "t = (\"a\", \"b\", \"c\")\n",
    "t * 5"
   ]
  },
  {
   "cell_type": "markdown",
   "metadata": {},
   "source": [
    "# Tamaño de una tupla\n",
    "\n",
    "Podemos calcular el número de elementos de una tupla con la función len()\n",
    "\n"
   ]
  },
  {
   "cell_type": "code",
   "execution_count": 16,
   "metadata": {},
   "outputs": [
    {
     "data": {
      "text/plain": [
       "4"
      ]
     },
     "execution_count": 16,
     "metadata": {},
     "output_type": "execute_result"
    }
   ],
   "source": [
    "t = \"Juan\", 32, \"profesor\", True\n",
    "len(t)"
   ]
  },
  {
   "cell_type": "markdown",
   "metadata": {},
   "source": [
    "¡Cuidado! Si quisiésemos crear una tupla de un solo elemento, tendríamos que hacer lo siguiente"
   ]
  },
  {
   "cell_type": "code",
   "execution_count": 17,
   "metadata": {},
   "outputs": [
    {
     "name": "stdout",
     "output_type": "stream",
     "text": [
      "<class 'tuple'>\n",
      "<class 'str'>\n"
     ]
    }
   ],
   "source": [
    "t1 = (\"manzana\", )\n",
    "print(type(t1))\n",
    "\n",
    "# Lo siguiente no es una tupla\n",
    "t2 = (\"manzana\")\n",
    "print(type(t2))"
   ]
  },
  {
   "cell_type": "markdown",
   "metadata": {},
   "source": [
    "# Bucles y tuplas \n",
    "\n",
    "Podemos iterar una tupla utilizando un bucle for"
   ]
  },
  {
   "cell_type": "code",
   "execution_count": 18,
   "metadata": {},
   "outputs": [
    {
     "name": "stdout",
     "output_type": "stream",
     "text": [
      "Cereza\n",
      "Kiwi\n",
      "Pera\n",
      "Naranja\n",
      "Melocotón\n",
      "Sandía\n",
      "Melón\n"
     ]
    }
   ],
   "source": [
    "fruits = \"Cereza\", \"Kiwi\", \"Pera\", \"Naranja\", \"Melocotón\", \"Sandía\", \"Melón\"\n",
    "\n",
    "for fruit in fruits:\n",
    "  print(fruit)"
   ]
  },
  {
   "cell_type": "markdown",
   "metadata": {},
   "source": [
    "También podemos usar la técnica de unpacking en los bucles.\n",
    "\n"
   ]
  },
  {
   "cell_type": "code",
   "execution_count": 19,
   "metadata": {},
   "outputs": [
    {
     "name": "stdout",
     "output_type": "stream",
     "text": [
      "La cereza es roja\n",
      "El color del kiwi es amarillo\n",
      "La pera es verde\n",
      "La naranja es naranja\n"
     ]
    }
   ],
   "source": [
    "t = (\"cereza\", \"roja\"), (\"kiwi\", \"amarillo\"), (\"pera\", \"verde\"), (\"naranja\", \"naranja\")\n",
    "\n",
    "for fruit, color in t:\n",
    "  if fruit == \"kiwi\":\n",
    "    print(\"El color del\", fruit, \"es\", color)\n",
    "  else:\n",
    "    print(\"La {} es {}\".format(fruit, color))\n",
    "  "
   ]
  },
  {
   "cell_type": "markdown",
   "metadata": {},
   "source": [
    "# Tuplas y el resto de estructuras de datos\n",
    "\n",
    "Una tupla puede contener listas, diccionarios, conjuntos y tuplas"
   ]
  },
  {
   "cell_type": "code",
   "execution_count": 20,
   "metadata": {},
   "outputs": [
    {
     "data": {
      "text/plain": [
       "tuple"
      ]
     },
     "execution_count": 20,
     "metadata": {},
     "output_type": "execute_result"
    }
   ],
   "source": [
    "t = [4, 5, 6], {\"vowels\": (\"a\", \"e\", \"i\", \"o\", \"u\")}, {1, 2, 3}, (\"x\", \"y\")\n",
    "type(t)"
   ]
  },
  {
   "cell_type": "markdown",
   "metadata": {},
   "source": [
    "Asimismo,\n",
    "\n",
    "* las listas pueden contener diccionarios, conjuntos, tuplas y otras listas\n",
    "* los diccionarios pueden contener listas, conjuntos, tuplas y otros diccionarios\n",
    "* los conjuntos no pueden contener ni listas, ni diccionarios, ni tuplas, ni siquiera otros conjuntos\n"
   ]
  },
  {
   "cell_type": "code",
   "execution_count": 21,
   "metadata": {},
   "outputs": [
    {
     "data": {
      "text/plain": [
       "list"
      ]
     },
     "execution_count": 21,
     "metadata": {},
     "output_type": "execute_result"
    }
   ],
   "source": [
    "l = [{\"vowels\": (\"a\", \"e\", \"i\", \"o\", \"u\")}, {1, 2, 3}, (\"x\", \"y\"), [4, 5, 6]]\n",
    "type(l)"
   ]
  },
  {
   "cell_type": "code",
   "execution_count": 22,
   "metadata": {},
   "outputs": [
    {
     "data": {
      "text/plain": [
       "dict"
      ]
     },
     "execution_count": 22,
     "metadata": {},
     "output_type": "execute_result"
    }
   ],
   "source": [
    "dicc = {\"list\": [4, 5, 6], \"set\": {1, 2, 3}, \"tuple\": (\"x\", \"y\"), \"dict\": {\"vowels\": (\"a\", \"e\", \"i\", \"o\", \"u\")}}\n",
    "type(dicc)"
   ]
  },
  {
   "cell_type": "code",
   "execution_count": 23,
   "metadata": {},
   "outputs": [
    {
     "ename": "TypeError",
     "evalue": "unhashable type: 'list'",
     "output_type": "error",
     "traceback": [
      "\u001b[1;31m---------------------------------------------------------------------------\u001b[0m",
      "\u001b[1;31mTypeError\u001b[0m                                 Traceback (most recent call last)",
      "\u001b[1;32m<ipython-input-23-1f946b14eaa4>\u001b[0m in \u001b[0;36m<module>\u001b[1;34m\u001b[0m\n\u001b[1;32m----> 1\u001b[1;33m \u001b[0mset1\u001b[0m \u001b[1;33m=\u001b[0m \u001b[1;33m{\u001b[0m\u001b[1;33m[\u001b[0m\u001b[1;36m4\u001b[0m\u001b[1;33m,\u001b[0m \u001b[1;36m5\u001b[0m\u001b[1;33m,\u001b[0m \u001b[1;36m6\u001b[0m\u001b[1;33m]\u001b[0m\u001b[1;33m,\u001b[0m \u001b[1;33m{\u001b[0m\u001b[1;34m\"vowels\"\u001b[0m\u001b[1;33m:\u001b[0m \u001b[1;33m(\u001b[0m\u001b[1;34m\"a\"\u001b[0m\u001b[1;33m,\u001b[0m \u001b[1;34m\"e\"\u001b[0m\u001b[1;33m,\u001b[0m \u001b[1;34m\"i\"\u001b[0m\u001b[1;33m,\u001b[0m \u001b[1;34m\"o\"\u001b[0m\u001b[1;33m,\u001b[0m \u001b[1;34m\"u\"\u001b[0m\u001b[1;33m)\u001b[0m\u001b[1;33m}\u001b[0m\u001b[1;33m,\u001b[0m \u001b[1;33m(\u001b[0m\u001b[1;34m\"x\"\u001b[0m\u001b[1;33m,\u001b[0m \u001b[1;34m\"y\"\u001b[0m\u001b[1;33m)\u001b[0m\u001b[1;33m,\u001b[0m \u001b[1;33m{\u001b[0m\u001b[1;36m1\u001b[0m\u001b[1;33m,\u001b[0m \u001b[1;36m2\u001b[0m\u001b[1;33m,\u001b[0m \u001b[1;36m3\u001b[0m\u001b[1;33m}\u001b[0m\u001b[1;33m}\u001b[0m\u001b[1;33m\u001b[0m\u001b[1;33m\u001b[0m\u001b[0m\n\u001b[0m",
      "\u001b[1;31mTypeError\u001b[0m: unhashable type: 'list'"
     ]
    }
   ],
   "source": [
    "set1 = {[4, 5, 6], {\"vowels\": (\"a\", \"e\", \"i\", \"o\", \"u\")}, (\"x\", \"y\"), {1, 2, 3}}"
   ]
  },
  {
   "cell_type": "markdown",
   "metadata": {},
   "source": [
    "Dado cualquier objeto iterable en Python, lo podemos convertir a tupla con la función tuple()\n",
    "\n"
   ]
  },
  {
   "cell_type": "code",
   "execution_count": 24,
   "metadata": {},
   "outputs": [
    {
     "name": "stdout",
     "output_type": "stream",
     "text": [
      "({'vowels': ('a', 'e', 'i', 'o', 'u')}, {1, 2, 3}, ('x', 'y'), [4, 5, 6])\n",
      "<class 'tuple'>\n",
      "('list', 'set', 'tuple', 'dict')\n",
      "<class 'tuple'>\n",
      "(1, 2, 3, 4, 5)\n",
      "<class 'tuple'>\n"
     ]
    }
   ],
   "source": [
    "print(tuple(l)) # A partir de una lista\n",
    "print(type(tuple(l)))\n",
    "\n",
    "print(tuple(dicc)) # A partir de un diccionario solo se guardan las claves en la tupla\n",
    "print(type(tuple(dicc)))\n",
    "\n",
    "print(tuple({1, 2, 3, 4, 5})) # A partir de un conjunto\n",
    "print(type(tuple({1, 2, 3, 4, 5})))"
   ]
  },
  {
   "cell_type": "markdown",
   "metadata": {},
   "source": [
    "# La función zip()\n",
    "\n",
    "La función zip() sirve para juntar listas en tuplas"
   ]
  },
  {
   "cell_type": "code",
   "execution_count": 25,
   "metadata": {},
   "outputs": [
    {
     "name": "stdout",
     "output_type": "stream",
     "text": [
      "<zip object at 0x0000023814F7BBC0>\n"
     ]
    }
   ],
   "source": [
    "objects = [\"libreta\", \"pluma\", \"portaminas\", \"pack_minas\"]\n",
    "price = [5.00, 3.30, 1.29, 0.50]\n",
    "items = zip(objects, price)\n",
    "print(items)"
   ]
  },
  {
   "cell_type": "markdown",
   "metadata": {},
   "source": [
    "Podemos convertir el resultado de una función $\\textbf{zip()}$ a una lista"
   ]
  },
  {
   "cell_type": "code",
   "execution_count": 26,
   "metadata": {},
   "outputs": [
    {
     "data": {
      "text/plain": [
       "[('libreta', 5.0), ('pluma', 3.3), ('portaminas', 1.29), ('pack_minas', 0.5)]"
      ]
     },
     "execution_count": 26,
     "metadata": {},
     "output_type": "execute_result"
    }
   ],
   "source": [
    "items = zip(objects, price)\n",
    "list(items)"
   ]
  },
  {
   "cell_type": "markdown",
   "metadata": {},
   "source": [
    "Podemos convertir el resultado de una función zip() a un diccionario"
   ]
  },
  {
   "cell_type": "code",
   "execution_count": 27,
   "metadata": {},
   "outputs": [
    {
     "data": {
      "text/plain": [
       "{'libreta': 5.0, 'pluma': 3.3, 'portaminas': 1.29, 'pack_minas': 0.5}"
      ]
     },
     "execution_count": 27,
     "metadata": {},
     "output_type": "execute_result"
    }
   ],
   "source": [
    "items = zip(objects, price)\n",
    "dict(items)"
   ]
  },
  {
   "cell_type": "markdown",
   "metadata": {},
   "source": [
    "¡Cuidado! Hay que crear de nuevo el objeto zip(), pues el resultado de esta función es un iterador y, una vez ha sido convertido a lista, diccionario o tupla, se considera una iteración completa y no será capaz de generar más valores.\n",
    "\n",
    "Podemos convertir el resultado de una función zip() a una tupla:"
   ]
  },
  {
   "cell_type": "code",
   "execution_count": 28,
   "metadata": {},
   "outputs": [
    {
     "data": {
      "text/plain": [
       "(('libreta', 5.0), ('pluma', 3.3), ('portaminas', 1.29), ('pack_minas', 0.5))"
      ]
     },
     "execution_count": 28,
     "metadata": {},
     "output_type": "execute_result"
    }
   ],
   "source": [
    "items = zip(objects, price)\n",
    "tuple(items)"
   ]
  },
  {
   "cell_type": "code",
   "execution_count": 29,
   "metadata": {},
   "outputs": [
    {
     "name": "stdout",
     "output_type": "stream",
     "text": [
      "El objeto libreta cuesta 5.0 €.\n",
      "El objeto pluma cuesta 3.3 €.\n",
      "El objeto portaminas cuesta 1.29 €.\n",
      "El objeto pack_minas cuesta 0.5 €.\n"
     ]
    }
   ],
   "source": [
    "for obj, pr in zip(objects, price):\n",
    "    print(\"El objeto {} cuesta {} €.\".format(obj, pr))"
   ]
  },
  {
   "cell_type": "markdown",
   "metadata": {},
   "source": [
    "# EJERCICIO\n",
    "\n",
    "Vamos a pedirle al usuario el número de números enteros que va a introducir por teclado. Para cada uno de esos números, vamos a crear una tupla donde la primera entrada sea el número entero y, la segunda, la palabra \"positivo\", \"negativo\" o \"cero\" según el signo del número entero. Vamos a guardar todas las tuplas en una lista y las vamos a mostrar.\n",
    "\n"
   ]
  },
  {
   "cell_type": "code",
   "execution_count": 30,
   "metadata": {},
   "outputs": [
    {
     "name": "stdout",
     "output_type": "stream",
     "text": [
      "¿Cuántos números enteros vas a introducir? 10\n",
      "1\n",
      "6\n",
      "9\n",
      "-5\n",
      "-10\n",
      "88\n",
      "-555\n",
      "7\n",
      "-8\n",
      "9\n",
      "[(1, 'positivo'), (6, 'positivo'), (9, 'positivo'), (-5, 'negativo'), (-10, 'negativo'), (88, 'positivo'), (-555, 'negativo'), (7, 'positivo'), (-8, 'negativo'), (9, 'positivo')]\n"
     ]
    }
   ],
   "source": [
    "n = int(input(\"¿Cuántos números enteros vas a introducir? \"))\n",
    "nums = []\n",
    "\n",
    "for _ in range(n):\n",
    "  sign = \"\"\n",
    "  num = int(input())\n",
    "  if num > 0:\n",
    "    sign = \"positivo\"\n",
    "  elif num == 0:\n",
    "    sign = \"cero\"\n",
    "  else:\n",
    "    sign = \"negativo\"\n",
    "  nums.append((num, sign))\n",
    "\n",
    "print(nums)"
   ]
  },
  {
   "cell_type": "code",
   "execution_count": 31,
   "metadata": {},
   "outputs": [
    {
     "data": {
      "text/plain": [
       "list"
      ]
     },
     "execution_count": 31,
     "metadata": {},
     "output_type": "execute_result"
    }
   ],
   "source": [
    "type(nums)"
   ]
  },
  {
   "cell_type": "markdown",
   "metadata": {},
   "source": [
    "# EJERCICIO \n",
    "\n",
    "Vamos a pedirle al usuario números enteros del 1 al 10 hasta que introduzca el 0. Para cada uno de esos números, vamos a crear una tupla donde la primera entrada sea el número entero y, la segunda, la palabra \"suspenso\", \"aprobado\", \"notable\" o \"excelente\" según el intervalo al que pertenezca el número entero. Vamos a mostrar la tupla recién creada al usuario.\n",
    "\n",
    "Las diferentes categorías son:\n",
    "\n",
    "* suspenso si la nota pertenece a [1, 5)\n",
    "* aprobado si la nota pertenece a [5, 7)\n",
    "* notable si la nota pertenece a [7, 9)\n",
    "* excelente si la nota pertenece a [9, 10]"
   ]
  },
  {
   "cell_type": "code",
   "execution_count": 32,
   "metadata": {},
   "outputs": [
    {
     "name": "stdout",
     "output_type": "stream",
     "text": [
      "Introduce un número entero del 1 al 10 5\n",
      "(5, 'Aprobado')\n",
      "Introduce un número entero del 1 al 10 8\n",
      "(8, 'Notable')\n",
      "Introduce un número entero del 1 al 10 6\n",
      "(6, 'Aprobado')\n",
      "Introduce un número entero del 1 al 10 9\n",
      "(9, 'Excelente')\n",
      "Introduce un número entero del 1 al 10 4\n",
      "(4, 'Suspenso')\n",
      "Introduce un número entero del 1 al 10 6\n",
      "(6, 'Aprobado')\n",
      "Introduce un número entero del 1 al 10 4\n",
      "(4, 'Suspenso')\n",
      "Introduce un número entero del 1 al 10 6\n",
      "(6, 'Aprobado')\n",
      "Introduce un número entero del 1 al 10 9\n",
      "(9, 'Excelente')\n",
      "Introduce un número entero del 1 al 10 6\n",
      "(6, 'Aprobado')\n",
      "Introduce un número entero del 1 al 10 10\n",
      "(10, 'Excelente')\n",
      "Introduce un número entero del 1 al 10 11\n",
      "Debes introducir un número entero entre 1 y 10\n",
      "Introduce un número entero del 1 al 10 0\n"
     ]
    }
   ],
   "source": [
    "num = int(input(\"Introduce un número entero del 1 al 10 \"))\n",
    "\n",
    "while num != 0:\n",
    "  grade = \"\"\n",
    "  if num < 1:\n",
    "    print(\"Debes introducir un número entero entre 1 y 10\")\n",
    "  elif num < 5:\n",
    "    grade = \"Suspenso\"\n",
    "    print((num, grade))\n",
    "  elif num < 7:\n",
    "    grade = \"Aprobado\"\n",
    "    print((num, grade))\n",
    "  elif num < 9:\n",
    "    grade = \"Notable\"\n",
    "    print((num, grade))\n",
    "  elif num <= 10:\n",
    "    grade = \"Excelente\"\n",
    "    print((num, grade))\n",
    "  else:\n",
    "    print(\"Debes introducir un número entero entre 1 y 10\")\n",
    "\n",
    "  num = int(input(\"Introduce un número entero del 1 al 10 \"))"
   ]
  },
  {
   "cell_type": "markdown",
   "metadata": {},
   "source": [
    "# EJERCICIO \n",
    "\n",
    "Dada una frase introducida por el usuario, vamos a crear una lista con 3 tuplas de 2 entradas. La primera tupla contendrá el número de vocales; la segunda, el número de consonantes; y la última, el número de espacios en blanco. Para cada tupla, la primera entrada será un string explicativo y, la segunda, el valor correspondiente."
   ]
  },
  {
   "cell_type": "code",
   "execution_count": 33,
   "metadata": {},
   "outputs": [
    {
     "name": "stdout",
     "output_type": "stream",
     "text": [
      "hola como te llamas \n",
      "[('Vocales', 7), ('Consonantes', 9), ('Espacios', 4)]\n"
     ]
    }
   ],
   "source": [
    "s = input()\n",
    "s = s.lower()\n",
    "vowels = [\"a\", \"e\", \"i\", \"o\", \"u\"]\n",
    "\n",
    "vowels_count = 0\n",
    "consonants_count = 0\n",
    "blanks_count = 0\n",
    "\n",
    "for c in s:\n",
    "  if c in vowels:\n",
    "    vowels_count += 1\n",
    "  elif c.isalpha():\n",
    "    consonants_count += 1\n",
    "  elif c == \" \":\n",
    "    blanks_count += 1\n",
    "\n",
    "info = [(\"Vocales\", vowels_count), (\"Consonantes\", consonants_count), (\"Espacios\", blanks_count)]\n",
    "print(info)"
   ]
  },
  {
   "cell_type": "markdown",
   "metadata": {},
   "source": [
    "# Ejercicio\n",
    "\n",
    "Vamos a pedirle al usuario una asignatura (\"Mates\", \"Lengua\", \"Historia\", \"Informática\" o \"Música\") y la nota en dicha asignatura hasta que introduzca una asignatura diferente a las indicadas. El usuario puede repetir una asignatura tantas veces como quiera. La nota tendrá que ser del 1 al 10. Guardaremos la información (asignatura, nota) en una tupla. Las tuplas serán guardadas en una lista. Finalmente, para cada asignatura, vamos a mostrar la nota media."
   ]
  },
  {
   "cell_type": "code",
   "execution_count": 42,
   "metadata": {},
   "outputs": [
    {
     "name": "stdout",
     "output_type": "stream",
     "text": [
      "['Mates', 'Lengua', 'Historia', 'Informática', 'Música']\n",
      "Indica la asignatura: Mates\n",
      "Introduce la nota entre 1 y 10: 9\n",
      "Indica la asignatura: Informatica\n",
      "\n",
      "=== NOTAS MEDIAS ===\n",
      "La nota media de Mates es 9.0\n",
      "La nota media de Lengua es desconocida\n",
      "La nota media de Historia es desconocida\n",
      "La nota media de Informática es desconocida\n",
      "La nota media de Música es desconocida\n"
     ]
    }
   ],
   "source": [
    "subjects = [\"Mates\", \"Lengua\", \"Historia\", \"Informática\", \"Música\"]\n",
    "grades = []\n",
    "\n",
    "print(subjects)\n",
    "s = input(\"Indica la asignatura: \")\n",
    "while s in subjects:\n",
    "  grade = int(input(\"Introduce la nota entre 1 y 10: \"))\n",
    "  grades.append((s, grade))\n",
    "  s = input(\"Indica la asignatura: \")\n",
    "\n",
    "means = {\"Mates\": [],\n",
    "         \"Lengua\": [],\n",
    "         \"Historia\": [],\n",
    "         \"Informática\": [],\n",
    "         \"Música\": []}\n",
    "\n",
    "for item in grades:\n",
    "  means[item[0]].append(item[1])\n",
    "\n",
    "print(\"\\n=== NOTAS MEDIAS ===\")\n",
    "for key, val in means.items():\n",
    "  print(\"La nota media de {} es {}\".format(key, \"desconocida\" if len(val) == 0 else sum(val) / len(val)))"
   ]
  },
  {
   "cell_type": "markdown",
   "metadata": {},
   "source": [
    "# Ejercicio\n",
    "\n",
    "Vamos a pedirle al usuario el número de puntos de un plano que quiere introducir. Para cada punto, vamos a solicitarle las coordenadas x e y. Guardaremos las coordenadas (x, y) en tuplas de tamaño 3, donde la última entrada se corresponde con el cuadrante al que pertenece dicho punto. Todas las tuplas de tamaño 3 serán guardadas en una lista. Finalmente, mostraremos todas las tuplas de tamaño 3 creadas, con el formato \"El punto ({x}, {y}) pertenece al cuadrante {cuadrante}\"."
   ]
  },
  {
   "cell_type": "code",
   "execution_count": 3,
   "metadata": {},
   "outputs": [
    {
     "name": "stdout",
     "output_type": "stream",
     "text": [
      "¿Cuántos puntos vas a introducir? 4\n",
      "Indica la coordenada x = 1\n",
      "Indica la coordenada y = 2\n",
      "Indica la coordenada x = -1\n",
      "Indica la coordenada y = 2\n",
      "Indica la coordenada x = -2\n",
      "Indica la coordenada y = -1\n",
      "Indica la coordenada x = 1\n",
      "Indica la coordenada y = -1\n",
      "El punto (1.0, 2.0) pertenece al cuadrante I\n",
      "El punto (-1.0, 2.0) pertenece al cuadrante II\n",
      "El punto (-2.0, -1.0) pertenece al cuadrante III\n",
      "El punto (1.0, -1.0) pertenece al cuadrante IV\n"
     ]
    }
   ],
   "source": [
    "n = int(input(\"¿Cuántos puntos vas a introducir? \"))\n",
    "points = []\n",
    "\n",
    "for i in range(n):\n",
    "  x = float(input(\"Indica la coordenada x = \"))\n",
    "  y = float(input(\"Indica la coordenada y = \"))\n",
    "\n",
    "  if x >= 0 and y >= 0:\n",
    "    quadrant = \"I\"\n",
    "  if x <= 0 and y >= 0:\n",
    "    quadrant = \"II\"\n",
    "  if x <= 0 and y <= 0:\n",
    "    quadrant = \"III\"\n",
    "  if x >= 0 and y <= 0:\n",
    "    quadrant = \"IV\"\n",
    "  if x == 0 and y == 0:\n",
    "    quadrant = \"center\"\n",
    "\n",
    "  points.append((x, y, quadrant))\n",
    "\n",
    "for point in points:\n",
    "  x, y, quadrant = point\n",
    "  print(\"El punto ({}, {}) pertenece al cuadrante {}\".format(x, y, quadrant))"
   ]
  },
  {
   "cell_type": "markdown",
   "metadata": {},
   "source": [
    "# Ejercicio\n",
    "\n",
    "Dada una lista de palabras, vamos a crear otra lista del mismo tamaño que guarde la primera letra de cada palabra en la posición correspondiente. Por último, con la función zip() crearemos una tupla de tuplas con la palabra en la primera entrada y la letra con la que empieza, en la segunda.\n",
    "\n"
   ]
  },
  {
   "cell_type": "code",
   "execution_count": 1,
   "metadata": {},
   "outputs": [
    {
     "name": "stdout",
     "output_type": "stream",
     "text": [
      "(('ola', 'o'), ('caracola', 'c'), ('piña', 'p'), ('playa', 'p'), ('barbacoa', 'b'), ('ventana', 'v'), ('mosca', 'm'))\n"
     ]
    }
   ],
   "source": [
    "words = [\"ola\", \"caracola\", \"piña\", \"playa\", \"barbacoa\", \"ventana\", \"mosca\"]\n",
    "first_letters = []\n",
    "\n",
    "for w in words:\n",
    "  first_letters.append(w[0])\n",
    "\n",
    "print(tuple(zip(words, first_letters)))"
   ]
  },
  {
   "cell_type": "markdown",
   "metadata": {},
   "source": [
    "# TAREA 08"
   ]
  },
  {
   "cell_type": "code",
   "execution_count": 3,
   "metadata": {},
   "outputs": [
    {
     "name": "stdout",
     "output_type": "stream",
     "text": [
      "Introduce la cantidad de numeros que vas a introducir: 10\n",
      "1. Introduce un número: 1\n",
      "(1, 'impar')\n",
      "2. Introduce un número: 3\n",
      "(3, 'impar')\n",
      "3. Introduce un número: 2\n",
      "(2, 'par')\n",
      "4. Introduce un número: 5\n",
      "(5, 'impar')\n",
      "5. Introduce un número: 7\n",
      "(7, 'impar')\n",
      "6. Introduce un número: 9\n",
      "(9, 'impar')\n",
      "7. Introduce un número: 1111\n",
      "(1111, 'impar')\n",
      "8. Introduce un número: 333338\n",
      "(333338, 'par')\n",
      "9. Introduce un número: 33376\n",
      "(33376, 'par')\n",
      "10. Introduce un número: 100003\n",
      "(100003, 'impar')\n",
      "Hay 3  números pares\n",
      "Hay 7  números impares\n"
     ]
    }
   ],
   "source": [
    "#Ejercicio 1\n",
    "#Pide al usuario el número de números enteros que va a introducir por teclado. Para cada uno de esos\n",
    "#números, crea una tupla donde la primera entrada sea el número entero y, la segunda, la palabra “par” o\n",
    "#“impar” según la paridad del número entero. Muestra la tupla recién creada al usuario.\n",
    "n = int(input(\"Introduce la cantidad de numeros que vas a introducir: \"))\n",
    "\n",
    "idx1 = 0\n",
    "idx2 = 0\n",
    "for i in range(n):\n",
    "    m = int(input(\"{}. Introduce un número: \".format(i+1)))\n",
    "    if m % 2 == 0:\n",
    "        palabra = \"par\"\n",
    "        idx1 += 1\n",
    "        print((m, palabra))\n",
    "    else:\n",
    "        palabra = \"impar\"\n",
    "        idx2 += 1\n",
    "        print((m, palabra))\n",
    "print(\"Hay {}  números pares\".format(idx1))\n",
    "print(\"Hay {}  números impares\".format(idx2))\n",
    "    \n"
   ]
  },
  {
   "cell_type": "code",
   "execution_count": 8,
   "metadata": {},
   "outputs": [
    {
     "name": "stdout",
     "output_type": "stream",
     "text": [
      "Horoscopos Chinos\n",
      "Introduce un año por pantalla Ej(1998): 2019\n",
      "(2019, 'Cerdo')\n"
     ]
    }
   ],
   "source": [
    "# Ejercicio 2\n",
    "#Dado un año proporcionado por el usuario, crea una tupla de dos elementos cuya primera entrada sea el año\n",
    "#y, la segunda entrada, el horóscopo chino correspondiente.\n",
    "print(\"Horoscopos Chinos\")\n",
    "n = int(input(\"Introduce un año por pantalla Ej(1998): \"))\n",
    "\n",
    "if n in {1900, 1912, 1924, 1936, 1948, 1960, 1972, 1984, 1996, 2008, 2020}:\n",
    "    horoscopo = \"Rata\"\n",
    "    print(n, horoscopo)\n",
    "if n in {1901, 1913, 1925, 1937, 1949, 1961, 1973, 1985, 1997, 2009, 2021}:\n",
    "    horoscopo = \"Bufalo\"\n",
    "    print(n, horoscopo)\n",
    "if n in {1902, 1914, 1926, 1938, 1950, 1962, 1974, 1986, 1998, 2010, 2022}:\n",
    "    horoscopo = \"Tigre\"\n",
    "    print(n, horoscopo)\n",
    "if n in {1903, 1915, 1927, 1939, 1951, 1963, 1975, 1987, 1999, 2011, 2023}:\n",
    "    horoscopo = \"Conejo\"\n",
    "    print(n, horoscopo)\n",
    "if n in {1904, 1916, 1928, 1940, 1952, 1964, 1976, 1988, 2000, 2012, 2024}:\n",
    "    horoscopo = \"Dragón\"\n",
    "    print(n, horoscopo)\n",
    "if n in {\t1905, 1917, 1929, 1941, 1953, 1965, 1977, 1989, 2001, 2013, 2025}:\n",
    "    horoscopo = \"Serpiente\"\n",
    "    print(n, horoscopo)\n",
    "if n in {\t1906, 1918, 1930, 1942, 1954, 1966, 1978, 1990, 2002, 2014, 2026}:\n",
    "    horoscopo = \"Caballo\"\n",
    "    print(n, horoscopo)\n",
    "if n in {\t1907, 1919, 1931, 1943, 1955, 1967, 1979, 1991, 2003, 2015, 2027}:\n",
    "    horoscopo = \"Cabra\"\n",
    "    print(n, horoscopo)\n",
    "if n in {\t1908, 1920, 1932, 1944, 1956, 1968, 1980, 1992, 2004, 2016, 2028}:\n",
    "    horoscopo = \"Mono\"\n",
    "    print(n, horoscopo)\n",
    "if n in {\t1909, 1921, 1933, 1945, 1957, 1969, 1981, 1993, 2005, 2017, 2029}:\n",
    "    horoscopo = \"Gallo\"\n",
    "    print(n, horoscopo)\n",
    "if n in {\t1910, 1922, 1934, 1946, 1958, 1970, 1982, 1994, 2006, 2018, 2030}:\n",
    "    horoscopo = \"Perro\"\n",
    "    print(n, horoscopo)\n",
    "if n in {1911, 1923, 1935, 1947, 1959, 1971, 1983, 1995, 2007, 2019, 2031}:\n",
    "    horoscopo = \"Cerdo\"\n",
    "    print((n, horoscopo))"
   ]
  },
  {
   "cell_type": "code",
   "execution_count": 2,
   "metadata": {},
   "outputs": [
    {
     "name": "stdout",
     "output_type": "stream",
     "text": [
      "Introduce una frase: Hola Como estas 6uapa tE kier0\n",
      "(' Hola', 4, 'H')\n",
      "(' Como', 4, 'C')\n",
      "(' estas', 5, 'e')\n",
      "(' 6uapa', 5, '6')\n",
      "(' tE', 2, 't')\n",
      "(' kier0', 5, 'k')\n"
     ]
    }
   ],
   "source": [
    "#Ejercicio 3\n",
    "#Dada una frase proporcionada por el usuario, crea una lista de tuplas indicando palabra, longitud de cada\n",
    "#palabra, letra inicial y posición que ocupan dentro de la frase.\n",
    "\n",
    "frase = input(\"Introduce una frase: \")\n",
    "\n",
    "l = []\n",
    "frase2 = \" \"\n",
    "for i in range(len(frase)):\n",
    "    if frase[i] != \" \":\n",
    "        \n",
    "        frase2 = frase2 + frase[i]\n",
    "        l.append(frase[i])\n",
    "        long = len(l)\n",
    "        letra_ini = l[0]\n",
    "    \n",
    "    else:\n",
    "        print((frase2, long, letra_ini))\n",
    "        frase2 = \" \"\n",
    "        l = []\n",
    "print((frase2, long, letra_ini))\n",
    "\n",
    "    \n",
    "        \n",
    "        \n"
   ]
  },
  {
   "cell_type": "code",
   "execution_count": 12,
   "metadata": {},
   "outputs": [
    {
     "name": "stdout",
     "output_type": "stream",
     "text": [
      "Introduce una palabra: Ferrocarril\n",
      "Introduce una palabra: Cienpies\n",
      "Introduce una palabra: Soldado Razo\n",
      "Introduce una palabra: 2 Guerra Mundial\n",
      "Introduce una palabra: \n"
     ]
    },
    {
     "data": {
      "text/plain": [
       "(('Primera_Palabra', 'Ferrocarril'), ('Ultima_Palabra', '2 Guerra Mundial'))"
      ]
     },
     "execution_count": 12,
     "metadata": {},
     "output_type": "execute_result"
    }
   ],
   "source": [
    "#Ejercicio 4\n",
    "#Haz que el usuario introduzca palabras hasta que introduzca una palabra vacía. Guarda todas las palabras\n",
    "#en una tupla y muestra la primera y la última introducidas haciendo uso del método unpacking.\n",
    "#PISTA: Para guardar los elementos de uno en uno vas a tener que utilizar un tipo de dato que no es tupla\n",
    "#y luego transformarlo a tupla. \n",
    "l = []\n",
    "while True:\n",
    "    palabra = input(\"Introduce una palabra: \")\n",
    "    if palabra == \"\" or palabra == \" \":\n",
    "        break;\n",
    "    else:\n",
    "        l.append(palabra)\n",
    "        l1 = tuple(l)\n",
    "        \n",
    "(palabra1, *restpalabra, Ultpalabra) = l1\n",
    "l2 = [palabra1, Ultpalabra]\n",
    "l3 = [\"Primera_Palabra\", \"Ultima_Palabra\"]\n",
    "items = zip(l3,l2)\n",
    "tuple(items)\n",
    "\n"
   ]
  },
  {
   "cell_type": "code",
   "execution_count": 16,
   "metadata": {},
   "outputs": [
    {
     "name": "stdout",
     "output_type": "stream",
     "text": [
      "Introduce la cantidad de palabras que quieres tener : 5\n",
      "1. Introduce una palabra o una frase: Medalla de Oro \n",
      "2. Introduce una palabra o una frase: Medalla de Plata\n",
      "3. Introduce una palabra o una frase: Medalla de Bronce \n",
      "4. Introduce una palabra o una frase: Medalla de Plomo\n",
      "5. Introduce una palabra o una frase: Medalla de Cobalto \n"
     ]
    },
    {
     "data": {
      "text/plain": [
       "{'Medalla de Oro ': 15,\n",
       " 'Medalla de Plata': 16,\n",
       " 'Medalla de Bronce ': 18,\n",
       " 'Medalla de Plomo': 16,\n",
       " 'Medalla de Cobalto ': 19}"
      ]
     },
     "execution_count": 16,
     "metadata": {},
     "output_type": "execute_result"
    }
   ],
   "source": [
    "#Ejercicio 5\n",
    "#Dada una lista de palabras, crea otra lista del mismo tamaño que guarde la longitud de cada palabra. Usa\n",
    "#la función zip() para crear un diccionario con claves las palabras y valores, su longitud.\n",
    "\n",
    "n = int(input(\"Introduce la cantidad de palabras que quieres tener : \"))\n",
    "l = []\n",
    "l2 = []\n",
    "for i in range(n):\n",
    "    palabra = input(\"{}. Introduce una palabra o una frase: \".format(i+1))\n",
    "    l.append(palabra)\n",
    "    long = len(palabra)\n",
    "    l2.append(long)\n",
    "    items = zip(l, l2)\n",
    "    \n",
    "dict(items)\n"
   ]
  },
  {
   "cell_type": "code",
   "execution_count": 17,
   "metadata": {},
   "outputs": [
    {
     "name": "stdout",
     "output_type": "stream",
     "text": [
      "Introduce una palabra: Caballo\n",
      "Introduce una palabra: Avion Galactico\n",
      "Introduce una palabra: Helicoptero \n",
      "Introduce una palabra: Pais en Guerra\n",
      "Introduce una palabra: \n",
      "La tupla que has introducido es ('Caballo', 'Avion Galactico', 'Helicoptero ', 'Pais en Guerra') y tiene un total de 48 caracteres\n"
     ]
    }
   ],
   "source": [
    "#Ejercicio 6\n",
    "#Haz que el usuario introduzca palabras hasta que introduzca una palabra vacía. Guarda todas las palabras\n",
    "#en una tupla y muestra la tupla y el número total de caracteres que ha introducido.\n",
    "#PISTA: Para guardar los elementos de uno en uno vas a tener que utilizar un tipo de dato que no es tupla\n",
    "#y luego transformarlo a tupla.\n",
    "\n",
    "l = []\n",
    "long = 0\n",
    "while True:\n",
    "    palabra = input(\"Introduce una palabra: \")\n",
    "    if palabra == \"\" or palabra == \" \":\n",
    "        break;\n",
    "    else:\n",
    "        long = long + len(palabra)\n",
    "        l.append(palabra)\n",
    "        l1 = tuple(l)\n",
    "        \n",
    "print(\"La tupla que has introducido es {} y tiene un total de {} caracteres\".format(l1,long))\n",
    "        "
   ]
  },
  {
   "cell_type": "code",
   "execution_count": null,
   "metadata": {},
   "outputs": [],
   "source": [
    "#Ejercicio 7\n",
    "#Crea una lista de 20 tuplas de tamaño 2. La primera entrada será un número entero entre 1 y 20 y la segunda\n",
    "#entrada contendrá una lista con los 10 primeros múltiplos del número entero correspondiente. Por último,\n",
    "#muestra las tablas de multiplicar del 1 al 20 con el formato “1 x 1 = 1”.\n",
    "\n"
   ]
  },
  {
   "cell_type": "code",
   "execution_count": 7,
   "metadata": {},
   "outputs": [
    {
     "name": "stdout",
     "output_type": "stream",
     "text": [
      "Introduce un número entero: 10\n",
      "Introduce un segundo número entero: 15\n",
      "El primer número que introduzcas debe de ser mayor que el segundo.\n",
      "Introduce un número entero: 10\n",
      "Introduce un segundo número entero: 5\n"
     ]
    },
    {
     "data": {
      "text/plain": [
       "(10, 5, 2, 0)"
      ]
     },
     "execution_count": 7,
     "metadata": {},
     "output_type": "execute_result"
    }
   ],
   "source": [
    "#Ejercicio 8\n",
    "#Pide al usuario dos números enteros por teclado. Asegúrate de que el primero es mayor o igual al segundo.\n",
    "#Realiza la división entera y guarda en una tupla el dividendo, el divisor, el cociente y el resto de la divisón\n",
    "#entera realizada y muéstrale al usuario el resultado por pantalla.\n",
    "\n",
    "while True:\n",
    "    n = int(input(\"Introduce un número entero: \"))\n",
    "    m = int(input(\"Introduce un segundo número entero: \"))\n",
    "    if n >= m:\n",
    "        dividendo = n\n",
    "        divisor = m \n",
    "        cociente =  n // m\n",
    "        residuo = n % m\n",
    "        break\n",
    "    else:\n",
    "        print(\"El primer número que introduzcas debe de ser mayor que el segundo.\")\n",
    "        continue\n",
    "        \n",
    "tupla = (dividendo, divisor, cociente, residuo)\n",
    "tupla"
   ]
  },
  {
   "cell_type": "code",
   "execution_count": 10,
   "metadata": {},
   "outputs": [
    {
     "name": "stdout",
     "output_type": "stream",
     "text": [
      "Introduce un número entero entre 0 y 360: 360\n"
     ]
    },
    {
     "data": {
      "text/plain": [
       "(360, 565.4866776461628)"
      ]
     },
     "execution_count": 10,
     "metadata": {},
     "output_type": "execute_result"
    }
   ],
   "source": [
    "#Ejercicio 9\n",
    "#Pide al usuario números entre 0 y 360. Para cada número, crea una tupla donde la primera entrada sea\n",
    "#dicho número y, la segunda, la medida angular correspondiente en radianes. Recuerda, 360◦ = 2πrad. En\n",
    "#este caso, utiliza π = 3.141592653589793\n",
    "\n",
    "n = int(input(\"Introduce un número entero entre 0 y 360: \"))\n",
    "rad = n // 2 * 3.141592653589793\n",
    "\n",
    "(n, rad)"
   ]
  },
  {
   "cell_type": "code",
   "execution_count": 21,
   "metadata": {},
   "outputs": [
    {
     "name": "stdout",
     "output_type": "stream",
     "text": [
      "Introduce la parte real de tu número complejo: 9\n",
      "Introduce la parte imaginaria de tu número complejo 7\n"
     ]
    },
    {
     "data": {
      "text/plain": [
       "((9+7j), (-9-7j), (9-7j))"
      ]
     },
     "execution_count": 21,
     "metadata": {},
     "output_type": "execute_result"
    }
   ],
   "source": [
    "#Ejercicio 10\n",
    "#Pide al usuario números complejos. Para cada número, crea una tupla donde la primera entrada sea dicho\n",
    "#número complejo, la segunda, su opuesto y, la tercera, su conjugado.\n",
    "n = int(input(\"Introduce la parte real de tu número complejo: \"))\n",
    "m = int(input(\"Introduce la parte imaginaria de tu número complejo \"))\n",
    "\n",
    "complejo = complex(n, m)\n",
    "opuesto = complex(-n, -m)\n",
    "conjugado = complex(n, -m)\n",
    "\n",
    "tupla = (complejo, opuesto, conjugado)\n",
    "tupla"
   ]
  }
 ],
 "metadata": {
  "kernelspec": {
   "display_name": "Python 3",
   "language": "python",
   "name": "python3"
  },
  "language_info": {
   "codemirror_mode": {
    "name": "ipython",
    "version": 3
   },
   "file_extension": ".py",
   "mimetype": "text/x-python",
   "name": "python",
   "nbconvert_exporter": "python",
   "pygments_lexer": "ipython3",
   "version": "3.8.3"
  }
 },
 "nbformat": 4,
 "nbformat_minor": 4
}
