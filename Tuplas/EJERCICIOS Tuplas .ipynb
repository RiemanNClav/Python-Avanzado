{
 "cells": [
  {
   "cell_type": "markdown",
   "metadata": {},
   "source": [
    "# TAREA 08"
   ]
  },
  {
   "cell_type": "code",
   "execution_count": 3,
   "metadata": {},
   "outputs": [
    {
     "name": "stdout",
     "output_type": "stream",
     "text": [
      "Introduce la cantidad de numeros que vas a introducir: 10\n",
      "1. Introduce un número: 1\n",
      "(1, 'impar')\n",
      "2. Introduce un número: 3\n",
      "(3, 'impar')\n",
      "3. Introduce un número: 2\n",
      "(2, 'par')\n",
      "4. Introduce un número: 5\n",
      "(5, 'impar')\n",
      "5. Introduce un número: 7\n",
      "(7, 'impar')\n",
      "6. Introduce un número: 9\n",
      "(9, 'impar')\n",
      "7. Introduce un número: 1111\n",
      "(1111, 'impar')\n",
      "8. Introduce un número: 333338\n",
      "(333338, 'par')\n",
      "9. Introduce un número: 33376\n",
      "(33376, 'par')\n",
      "10. Introduce un número: 100003\n",
      "(100003, 'impar')\n",
      "Hay 3  números pares\n",
      "Hay 7  números impares\n"
     ]
    }
   ],
   "source": [
    "#Ejercicio 1\n",
    "#Pide al usuario el número de números enteros que va a introducir por teclado. Para cada uno de esos\n",
    "#números, crea una tupla donde la primera entrada sea el número entero y, la segunda, la palabra “par” o\n",
    "#“impar” según la paridad del número entero. Muestra la tupla recién creada al usuario.\n",
    "n = int(input(\"Introduce la cantidad de numeros que vas a introducir: \"))\n",
    "\n",
    "idx1 = 0\n",
    "idx2 = 0\n",
    "for i in range(n):\n",
    "    m = int(input(\"{}. Introduce un número: \".format(i+1)))\n",
    "    if m % 2 == 0:\n",
    "        palabra = \"par\"\n",
    "        idx1 += 1\n",
    "        print((m, palabra))\n",
    "    else:\n",
    "        palabra = \"impar\"\n",
    "        idx2 += 1\n",
    "        print((m, palabra))\n",
    "print(\"Hay {}  números pares\".format(idx1))\n",
    "print(\"Hay {}  números impares\".format(idx2))\n",
    "    \n"
   ]
  },
  {
   "cell_type": "code",
   "execution_count": 8,
   "metadata": {},
   "outputs": [
    {
     "name": "stdout",
     "output_type": "stream",
     "text": [
      "Horoscopos Chinos\n",
      "Introduce un año por pantalla Ej(1998): 2019\n",
      "(2019, 'Cerdo')\n"
     ]
    }
   ],
   "source": [
    "# Ejercicio 2\n",
    "#Dado un año proporcionado por el usuario, crea una tupla de dos elementos cuya primera entrada sea el año\n",
    "#y, la segunda entrada, el horóscopo chino correspondiente.\n",
    "print(\"Horoscopos Chinos\")\n",
    "n = int(input(\"Introduce un año por pantalla Ej(1998): \"))\n",
    "\n",
    "if n in {1900, 1912, 1924, 1936, 1948, 1960, 1972, 1984, 1996, 2008, 2020}:\n",
    "    horoscopo = \"Rata\"\n",
    "    print(n, horoscopo)\n",
    "if n in {1901, 1913, 1925, 1937, 1949, 1961, 1973, 1985, 1997, 2009, 2021}:\n",
    "    horoscopo = \"Bufalo\"\n",
    "    print(n, horoscopo)\n",
    "if n in {1902, 1914, 1926, 1938, 1950, 1962, 1974, 1986, 1998, 2010, 2022}:\n",
    "    horoscopo = \"Tigre\"\n",
    "    print(n, horoscopo)\n",
    "if n in {1903, 1915, 1927, 1939, 1951, 1963, 1975, 1987, 1999, 2011, 2023}:\n",
    "    horoscopo = \"Conejo\"\n",
    "    print(n, horoscopo)\n",
    "if n in {1904, 1916, 1928, 1940, 1952, 1964, 1976, 1988, 2000, 2012, 2024}:\n",
    "    horoscopo = \"Dragón\"\n",
    "    print(n, horoscopo)\n",
    "if n in {\t1905, 1917, 1929, 1941, 1953, 1965, 1977, 1989, 2001, 2013, 2025}:\n",
    "    horoscopo = \"Serpiente\"\n",
    "    print(n, horoscopo)\n",
    "if n in {\t1906, 1918, 1930, 1942, 1954, 1966, 1978, 1990, 2002, 2014, 2026}:\n",
    "    horoscopo = \"Caballo\"\n",
    "    print(n, horoscopo)\n",
    "if n in {\t1907, 1919, 1931, 1943, 1955, 1967, 1979, 1991, 2003, 2015, 2027}:\n",
    "    horoscopo = \"Cabra\"\n",
    "    print(n, horoscopo)\n",
    "if n in {\t1908, 1920, 1932, 1944, 1956, 1968, 1980, 1992, 2004, 2016, 2028}:\n",
    "    horoscopo = \"Mono\"\n",
    "    print(n, horoscopo)\n",
    "if n in {\t1909, 1921, 1933, 1945, 1957, 1969, 1981, 1993, 2005, 2017, 2029}:\n",
    "    horoscopo = \"Gallo\"\n",
    "    print(n, horoscopo)\n",
    "if n in {\t1910, 1922, 1934, 1946, 1958, 1970, 1982, 1994, 2006, 2018, 2030}:\n",
    "    horoscopo = \"Perro\"\n",
    "    print(n, horoscopo)\n",
    "if n in {1911, 1923, 1935, 1947, 1959, 1971, 1983, 1995, 2007, 2019, 2031}:\n",
    "    horoscopo = \"Cerdo\"\n",
    "    print((n, horoscopo))"
   ]
  },
  {
   "cell_type": "code",
   "execution_count": 2,
   "metadata": {},
   "outputs": [
    {
     "name": "stdout",
     "output_type": "stream",
     "text": [
      "Introduce una frase: Hola Como estas 6uapa tE kier0\n",
      "(' Hola', 4, 'H')\n",
      "(' Como', 4, 'C')\n",
      "(' estas', 5, 'e')\n",
      "(' 6uapa', 5, '6')\n",
      "(' tE', 2, 't')\n",
      "(' kier0', 5, 'k')\n"
     ]
    }
   ],
   "source": [
    "#Ejercicio 3\n",
    "#Dada una frase proporcionada por el usuario, crea una lista de tuplas indicando palabra, longitud de cada\n",
    "#palabra, letra inicial y posición que ocupan dentro de la frase.\n",
    "\n",
    "frase = input(\"Introduce una frase: \")\n",
    "\n",
    "l = []\n",
    "frase2 = \" \"\n",
    "for i in range(len(frase)):\n",
    "    if frase[i] != \" \":\n",
    "        \n",
    "        frase2 = frase2 + frase[i]\n",
    "        l.append(frase[i])\n",
    "        long = len(l)\n",
    "        letra_ini = l[0]\n",
    "    \n",
    "    else:\n",
    "        print((frase2, long, letra_ini))\n",
    "        frase2 = \" \"\n",
    "        l = []\n",
    "print((frase2, long, letra_ini))\n",
    "\n",
    "    \n",
    "        \n",
    "        \n"
   ]
  },
  {
   "cell_type": "code",
   "execution_count": 12,
   "metadata": {},
   "outputs": [
    {
     "name": "stdout",
     "output_type": "stream",
     "text": [
      "Introduce una palabra: Ferrocarril\n",
      "Introduce una palabra: Cienpies\n",
      "Introduce una palabra: Soldado Razo\n",
      "Introduce una palabra: 2 Guerra Mundial\n",
      "Introduce una palabra: \n"
     ]
    },
    {
     "data": {
      "text/plain": [
       "(('Primera_Palabra', 'Ferrocarril'), ('Ultima_Palabra', '2 Guerra Mundial'))"
      ]
     },
     "execution_count": 12,
     "metadata": {},
     "output_type": "execute_result"
    }
   ],
   "source": [
    "#Ejercicio 4\n",
    "#Haz que el usuario introduzca palabras hasta que introduzca una palabra vacía. Guarda todas las palabras\n",
    "#en una tupla y muestra la primera y la última introducidas haciendo uso del método unpacking.\n",
    "#PISTA: Para guardar los elementos de uno en uno vas a tener que utilizar un tipo de dato que no es tupla\n",
    "#y luego transformarlo a tupla. \n",
    "l = []\n",
    "while True:\n",
    "    palabra = input(\"Introduce una palabra: \")\n",
    "    if palabra == \"\" or palabra == \" \":\n",
    "        break;\n",
    "    else:\n",
    "        l.append(palabra)\n",
    "        l1 = tuple(l)\n",
    "        \n",
    "(palabra1, *restpalabra, Ultpalabra) = l1\n",
    "l2 = [palabra1, Ultpalabra]\n",
    "l3 = [\"Primera_Palabra\", \"Ultima_Palabra\"]\n",
    "items = zip(l3,l2)\n",
    "tuple(items)\n",
    "\n"
   ]
  },
  {
   "cell_type": "code",
   "execution_count": 16,
   "metadata": {},
   "outputs": [
    {
     "name": "stdout",
     "output_type": "stream",
     "text": [
      "Introduce la cantidad de palabras que quieres tener : 5\n",
      "1. Introduce una palabra o una frase: Medalla de Oro \n",
      "2. Introduce una palabra o una frase: Medalla de Plata\n",
      "3. Introduce una palabra o una frase: Medalla de Bronce \n",
      "4. Introduce una palabra o una frase: Medalla de Plomo\n",
      "5. Introduce una palabra o una frase: Medalla de Cobalto \n"
     ]
    },
    {
     "data": {
      "text/plain": [
       "{'Medalla de Oro ': 15,\n",
       " 'Medalla de Plata': 16,\n",
       " 'Medalla de Bronce ': 18,\n",
       " 'Medalla de Plomo': 16,\n",
       " 'Medalla de Cobalto ': 19}"
      ]
     },
     "execution_count": 16,
     "metadata": {},
     "output_type": "execute_result"
    }
   ],
   "source": [
    "#Ejercicio 5\n",
    "#Dada una lista de palabras, crea otra lista del mismo tamaño que guarde la longitud de cada palabra. Usa\n",
    "#la función zip() para crear un diccionario con claves las palabras y valores, su longitud.\n",
    "\n",
    "n = int(input(\"Introduce la cantidad de palabras que quieres tener : \"))\n",
    "l = []\n",
    "l2 = []\n",
    "for i in range(n):\n",
    "    palabra = input(\"{}. Introduce una palabra o una frase: \".format(i+1))\n",
    "    l.append(palabra)\n",
    "    long = len(palabra)\n",
    "    l2.append(long)\n",
    "    items = zip(l, l2)\n",
    "    \n",
    "dict(items)\n"
   ]
  },
  {
   "cell_type": "code",
   "execution_count": 17,
   "metadata": {},
   "outputs": [
    {
     "name": "stdout",
     "output_type": "stream",
     "text": [
      "Introduce una palabra: Caballo\n",
      "Introduce una palabra: Avion Galactico\n",
      "Introduce una palabra: Helicoptero \n",
      "Introduce una palabra: Pais en Guerra\n",
      "Introduce una palabra: \n",
      "La tupla que has introducido es ('Caballo', 'Avion Galactico', 'Helicoptero ', 'Pais en Guerra') y tiene un total de 48 caracteres\n"
     ]
    }
   ],
   "source": [
    "#Ejercicio 6\n",
    "#Haz que el usuario introduzca palabras hasta que introduzca una palabra vacía. Guarda todas las palabras\n",
    "#en una tupla y muestra la tupla y el número total de caracteres que ha introducido.\n",
    "#PISTA: Para guardar los elementos de uno en uno vas a tener que utilizar un tipo de dato que no es tupla\n",
    "#y luego transformarlo a tupla.\n",
    "\n",
    "l = []\n",
    "long = 0\n",
    "while True:\n",
    "    palabra = input(\"Introduce una palabra: \")\n",
    "    if palabra == \"\" or palabra == \" \":\n",
    "        break;\n",
    "    else:\n",
    "        long = long + len(palabra)\n",
    "        l.append(palabra)\n",
    "        l1 = tuple(l)\n",
    "        \n",
    "print(\"La tupla que has introducido es {} y tiene un total de {} caracteres\".format(l1,long))\n",
    "        "
   ]
  },
  {
   "cell_type": "code",
   "execution_count": null,
   "metadata": {},
   "outputs": [],
   "source": [
    "#Ejercicio 7\n",
    "#Crea una lista de 20 tuplas de tamaño 2. La primera entrada será un número entero entre 1 y 20 y la segunda\n",
    "#entrada contendrá una lista con los 10 primeros múltiplos del número entero correspondiente. Por último,\n",
    "#muestra las tablas de multiplicar del 1 al 20 con el formato “1 x 1 = 1”.\n",
    "\n"
   ]
  },
  {
   "cell_type": "code",
   "execution_count": 7,
   "metadata": {},
   "outputs": [
    {
     "name": "stdout",
     "output_type": "stream",
     "text": [
      "Introduce un número entero: 10\n",
      "Introduce un segundo número entero: 15\n",
      "El primer número que introduzcas debe de ser mayor que el segundo.\n",
      "Introduce un número entero: 10\n",
      "Introduce un segundo número entero: 5\n"
     ]
    },
    {
     "data": {
      "text/plain": [
       "(10, 5, 2, 0)"
      ]
     },
     "execution_count": 7,
     "metadata": {},
     "output_type": "execute_result"
    }
   ],
   "source": [
    "#Ejercicio 8\n",
    "#Pide al usuario dos números enteros por teclado. Asegúrate de que el primero es mayor o igual al segundo.\n",
    "#Realiza la división entera y guarda en una tupla el dividendo, el divisor, el cociente y el resto de la divisón\n",
    "#entera realizada y muéstrale al usuario el resultado por pantalla.\n",
    "\n",
    "while True:\n",
    "    n = int(input(\"Introduce un número entero: \"))\n",
    "    m = int(input(\"Introduce un segundo número entero: \"))\n",
    "    if n >= m:\n",
    "        dividendo = n\n",
    "        divisor = m \n",
    "        cociente =  n // m\n",
    "        residuo = n % m\n",
    "        break\n",
    "    else:\n",
    "        print(\"El primer número que introduzcas debe de ser mayor que el segundo.\")\n",
    "        continue\n",
    "        \n",
    "tupla = (dividendo, divisor, cociente, residuo)\n",
    "tupla"
   ]
  },
  {
   "cell_type": "code",
   "execution_count": 10,
   "metadata": {},
   "outputs": [
    {
     "name": "stdout",
     "output_type": "stream",
     "text": [
      "Introduce un número entero entre 0 y 360: 360\n"
     ]
    },
    {
     "data": {
      "text/plain": [
       "(360, 565.4866776461628)"
      ]
     },
     "execution_count": 10,
     "metadata": {},
     "output_type": "execute_result"
    }
   ],
   "source": [
    "#Ejercicio 9\n",
    "#Pide al usuario números entre 0 y 360. Para cada número, crea una tupla donde la primera entrada sea\n",
    "#dicho número y, la segunda, la medida angular correspondiente en radianes. Recuerda, 360◦ = 2πrad. En\n",
    "#este caso, utiliza π = 3.141592653589793\n",
    "\n",
    "n = int(input(\"Introduce un número entero entre 0 y 360: \"))\n",
    "rad = n // 2 * 3.141592653589793\n",
    "\n",
    "(n, rad)"
   ]
  },
  {
   "cell_type": "code",
   "execution_count": 21,
   "metadata": {},
   "outputs": [
    {
     "name": "stdout",
     "output_type": "stream",
     "text": [
      "Introduce la parte real de tu número complejo: 9\n",
      "Introduce la parte imaginaria de tu número complejo 7\n"
     ]
    },
    {
     "data": {
      "text/plain": [
       "((9+7j), (-9-7j), (9-7j))"
      ]
     },
     "execution_count": 21,
     "metadata": {},
     "output_type": "execute_result"
    }
   ],
   "source": [
    "#Ejercicio 10\n",
    "#Pide al usuario números complejos. Para cada número, crea una tupla donde la primera entrada sea dicho\n",
    "#número complejo, la segunda, su opuesto y, la tercera, su conjugado.\n",
    "n = int(input(\"Introduce la parte real de tu número complejo: \"))\n",
    "m = int(input(\"Introduce la parte imaginaria de tu número complejo \"))\n",
    "\n",
    "complejo = complex(n, m)\n",
    "opuesto = complex(-n, -m)\n",
    "conjugado = complex(n, -m)\n",
    "\n",
    "tupla = (complejo, opuesto, conjugado)\n",
    "tupla"
   ]
  }
 ],
 "metadata": {
  "kernelspec": {
   "display_name": "Python 3",
   "language": "python",
   "name": "python3"
  },
  "language_info": {
   "codemirror_mode": {
    "name": "ipython",
    "version": 3
   },
   "file_extension": ".py",
   "mimetype": "text/x-python",
   "name": "python",
   "nbconvert_exporter": "python",
   "pygments_lexer": "ipython3",
   "version": "3.8.3"
  }
 },
 "nbformat": 4,
 "nbformat_minor": 4
}
