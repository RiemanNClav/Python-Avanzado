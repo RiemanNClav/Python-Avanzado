{
 "cells": [
  {
   "cell_type": "markdown",
   "metadata": {},
   "source": [
    "# 52. EL BUCLE WHILE "
   ]
  },
  {
   "cell_type": "markdown",
   "metadata": {},
   "source": [
    "La idea del bucle While es: mientra la condición sea cierta, seguimos realizando las líneas del interior del bucle. Una vez la condición deja de ser verdadera, salimos del bucle.\\\n",
    "Su estructura es la siguiente"
   ]
  },
  {
   "cell_type": "code",
   "execution_count": null,
   "metadata": {},
   "outputs": [],
   "source": [
    "inicialización de la variable de la condición \n",
    "while condición verdadera: \n",
    "    intrucción 1 \n",
    "    intruccion 2 \n",
    "    .\n",
    "    .\n",
    "    .\n",
    "    intrucción n "
   ]
  },
  {
   "cell_type": "markdown",
   "metadata": {},
   "source": [
    "Cuidado. Hay que tener en cuenta que alguna de las intrucciones que se encuentran dentro del bucle while tiene que modificar a la variable de la condición. De lo contrario, si la variable de la condición nunca es modificada, la condición nunca llegará a ser falsa y el bucle no acabaría nunca, con lo que pasaría a convertirse en lo que se denomina bucle infinito.\n",
    "\n",
    "Una de las utilidades de un bucle while es evitar el copia y pega de algunas funciones, por ejemplo, si queremos imprimir los primeros 10 números naturales, en vez de copiar 10 veces la función print(), una para cada número, lo podemos hacer todo con un bucle while: "
   ]
  },
  {
   "cell_type": "code",
   "execution_count": 1,
   "metadata": {},
   "outputs": [
    {
     "name": "stdout",
     "output_type": "stream",
     "text": [
      "1\n",
      "2\n",
      "3\n",
      "4\n",
      "5\n",
      "6\n",
      "7\n",
      "8\n",
      "9\n",
      "10\n"
     ]
    }
   ],
   "source": [
    "i = 1 #Inicializamos la variable \n",
    "while i <= 10: #Queremos que i como mucho valga 10 \n",
    "    print(i) #Imprimimos los numeros \n",
    "    i += 1 #Incrementamos una unidad en cada iteración. "
   ]
  },
  {
   "cell_type": "markdown",
   "metadata": {},
   "source": [
    "# 53. EJERCICIO. RECORRER UNA FRASE Y CONTAR CUANTAS VOCALES TIENE "
   ]
  },
  {
   "cell_type": "markdown",
   "metadata": {},
   "source": [
    "Con un bucle while, dado un string vamos a recorrer una frase y contar el número total de vocales. "
   ]
  },
  {
   "cell_type": "code",
   "execution_count": 15,
   "metadata": {},
   "outputs": [
    {
     "name": "stdout",
     "output_type": "stream",
     "text": [
      "En total hay  5 vocales\n"
     ]
    }
   ],
   "source": [
    "s = \"El pato  hace quack\"\n",
    "s = s.lower()\n",
    "i = 0 \n",
    "count = 0\n",
    "while i < len(s):\n",
    "    if s[i] == \"a\" or s[i] == \"i\" or s[i] == \"o\" or s[i] == \"u\": \n",
    "        count += 1 #sumaremos uno al contador si lo de arriba se cumple. \n",
    "    i += 1 \n",
    "print(\"En total hay \", count , \"vocales\")"
   ]
  },
  {
   "cell_type": "code",
   "execution_count": 18,
   "metadata": {},
   "outputs": [
    {
     "name": "stdout",
     "output_type": "stream",
     "text": [
      "En total hay  18 vocales\n"
     ]
    }
   ],
   "source": [
    "s = \"El pato hace quack\"\n",
    "s = s.lower()\n",
    "i = 0 \n",
    "count = 0 \n",
    "while i < len(s): \n",
    "    s[i] == \"a\" or s[i] == \"e\" or s[i] == \"i\" or s[i] == \"o\" or s[i] == \"u\"\n",
    "    count += 1 \n",
    "    i += 1\n",
    "print(\"En total hay \", count, \"vocales\")\n",
    "#La importancia de hacer el if arriba es para introducir el \"count\" pues si el if se cumple sucedera lo del count\n",
    "#en cambio si no se lo ponemos, solo lo recorrerá hasta que i < al tamaño de la frase. "
   ]
  },
  {
   "cell_type": "markdown",
   "metadata": {},
   "source": [
    "# 54. EL COMANDO BREAK "
   ]
  },
  {
   "cell_type": "markdown",
   "metadata": {},
   "source": [
    "Break es muy util si dada una condición queremos que salga inmediatamente de un bucle while. Veamoslo con un ejemplo: \n"
   ]
  },
  {
   "cell_type": "markdown",
   "metadata": {},
   "source": [
    "Ejemplo 1 \n",
    "\n",
    "La sucesión de fibonachi es una sucesión infinita que se caracteriza porque cada término es la suma de los dos anteriores. \n",
    "Algunos de sus términos son 1,1,2,3,5,8,13...\n",
    "\n",
    "Supongamos que queremos que se nos impriman los 20 primeros términos de esta series. Por tanto, necesitaremos por un lado los términos de la serie y, por otro, los índices que ocupan. \n",
    "\n",
    "Ejercicio. Pensar en cómo podras resolver este problema en el cual se exige que en algún momento utilices el comando break. "
   ]
  },
  {
   "cell_type": "code",
   "execution_count": 2,
   "metadata": {},
   "outputs": [
    {
     "name": "stdout",
     "output_type": "stream",
     "text": [
      "El termino 1 ocupa la posición 1\n",
      "El termino 1 ocupa la posición 2\n",
      "El termino 2 ocupa la posición 3\n",
      "El termino 3 ocupa la posición 4\n",
      "El termino 5 ocupa la posición 5\n",
      "El termino 8 ocupa la posición 6\n",
      "El termino 13 ocupa la posición 7\n",
      "El termino 21 ocupa la posición 8\n",
      "El termino 34 ocupa la posición 9\n",
      "El termino 55 ocupa la posición 10\n",
      "El termino 89 ocupa la posición 11\n",
      "El termino 144 ocupa la posición 12\n",
      "El termino 233 ocupa la posición 13\n",
      "El termino 377 ocupa la posición 14\n",
      "El termino 610 ocupa la posición 15\n",
      "El termino 987 ocupa la posición 16\n",
      "El termino 1597 ocupa la posición 17\n",
      "El termino 2584 ocupa la posición 18\n",
      "El termino 4181 ocupa la posición 19\n",
      "El termino 6765 ocupa la posición 20\n",
      "Hemos mostrado los primeros 20 numeros de la sucesion de fibonacci\n"
     ]
    }
   ],
   "source": [
    "fibo_ant = 1 #termino anterior \n",
    "fibo = 1 #termino actual \n",
    "idx = 3 #como ya tenemos los dos primeros terminos, empezamos con el indice 3 \n",
    "\n",
    "print(\"El termino {} ocupa la posición {}\".format(fibo_ant, 1))\n",
    "print(\"El termino {} ocupa la posición {}\".format(fibo, 2))\n",
    "while fibo <= 50000:\n",
    "    temp = fibo\n",
    "    fibo = fibo  + fibo_ant #modificamos el valor del término anterior \n",
    "    fibo_ant = temp \n",
    "    print(\"El termino {} ocupa la posición {}\".format(fibo, idx))\n",
    "    \n",
    "    if idx == 20:\n",
    "        break\n",
    "    else:\n",
    "        idx += 1\n",
    "        \n",
    "print(\"Hemos mostrado los primeros {} numeros de la sucesion de fibonacci\".format(idx))\n",
    "    \n",
    "    \n",
    "\n"
   ]
  },
  {
   "cell_type": "code",
   "execution_count": 5,
   "metadata": {},
   "outputs": [
    {
     "name": "stdout",
     "output_type": "stream",
     "text": [
      "El termino 1 ocupa la posición 1\n",
      "El termino 1 ocupa la posición 2\n",
      "El termino 2 ocupa la posición 3\n",
      "El termino 3 ocupa la posición 4\n",
      "El termino 5 ocupa la posición 5\n",
      "El termino 8 ocupa la posición 6\n",
      "El termino 13 ocupa la posición 7\n",
      "El termino 21 ocupa la posición 8\n",
      "El termino 34 ocupa la posición 9\n",
      "El termino 55 ocupa la posición 10\n",
      "El termino 89 ocupa la posición 11\n",
      "El termino 144 ocupa la posición 12\n",
      "El termino 233 ocupa la posición 13\n",
      "El termino 377 ocupa la posición 14\n",
      "El termino 610 ocupa la posición 15\n",
      "El termino 987 ocupa la posición 16\n",
      "El termino 1597 ocupa la posición 17\n",
      "El termino 2584 ocupa la posición 18\n",
      "El termino 4181 ocupa la posición 19\n",
      "El termino 6765 ocupa la posición 20\n"
     ]
    }
   ],
   "source": [
    "fibo_ant = 1 \n",
    "fibo = 1 \n",
    "print(\"El termino {} ocupa la posición {}\".format(fibo_ant, 1))\n",
    "print(\"El termino {} ocupa la posición {}\".format(fibo, 2))\n",
    "\n",
    "idx = 3\n",
    "while idx <= 20: \n",
    "    temp = fibo\n",
    "    fibo = fibo + fibo_ant\n",
    "    fibo_ant = temp \n",
    "    print(\"El termino {} ocupa la posición {}\".format(fibo, idx))\n",
    "    idx += 1\n",
    "\n"
   ]
  },
  {
   "cell_type": "markdown",
   "metadata": {},
   "source": [
    "# 55. EJERCICIO: UTILIZANDO EL COMANDO BREAK "
   ]
  },
  {
   "cell_type": "markdown",
   "metadata": {},
   "source": [
    "Ejercicio \n",
    "\n",
    "Con un bucle while, dados dos numeros enteros proporcionados por el usuario, vamos a encontrar el primer número divisible entre 2,3 y 5, siempre que sea posible, que se encuentre dentro del intervalo formado por los dos números dados por el usuario (ambos extremos también incluidos). \n"
   ]
  },
  {
   "cell_type": "code",
   "execution_count": 19,
   "metadata": {},
   "outputs": [
    {
     "name": "stdout",
     "output_type": "stream",
     "text": [
      "Introduce el extremo izquierdo del intervalo: 9\n",
      "Introduce el extremo derecho del intervalo 17\n",
      "Dentro del intervalo que has proporcionado, no hay números enteros divisibles entre 2, 3 y 5\n"
     ]
    }
   ],
   "source": [
    "a = int(input(\"Introduce el extremo izquierdo del intervalo: \"))\n",
    "b = int(input(\"Introduce el extremo derecho del intervalo \"))\n",
    "\n",
    "n = a \n",
    "while n <= b: \n",
    "    if n % 2 == 0 and n % 3 == 0 and n % 5 == 0: \n",
    "        print(n)\n",
    "        break\n",
    "    n += 1\n",
    "print(\"Dentro del intervalo que has proporcionado, no hay numeros enteros divisibles entre 2,3 y 5\")"
   ]
  },
  {
   "cell_type": "code",
   "execution_count": 11,
   "metadata": {},
   "outputs": [
    {
     "name": "stdout",
     "output_type": "stream",
     "text": [
      "Introduce el extremo izquierdo del intervalo: 2\n",
      "Introduce el extremo derecho del intervalo 24\n",
      "La cantidad de numeros divisibles entre 2 que existen son 12, dentro del intervalo [2,24],\n",
      "siendo estos numeros [2, 4, 6, 8, 10, 12, 14, 16, 18, 20, 22, 24].\n"
     ]
    }
   ],
   "source": [
    "a = int(input(\"Introduce el extremo izquierdo del intervalo: \"))\n",
    "b = int(input(\"Introduce el extremo derecho del intervalo \"))\n",
    "\n",
    "\n",
    "idx = 0\n",
    "c = []\n",
    "n=a \n",
    "while n<=b:\n",
    "    if n % 2 == 0:\n",
    "        c.append(n)\n",
    "        n += 1\n",
    "        idx += 1\n",
    "    else:\n",
    "        n += 1\n",
    "print(\"La cantidad de numeros divisibles entre 2 que existen son {}, dentro del intervalo [{},{}],\".format(idx,a,b))\n",
    "print(\"siendo estos numeros {}.\".format(c))\n",
    "        \n",
    "        "
   ]
  },
  {
   "cell_type": "markdown",
   "metadata": {},
   "source": [
    "# 56. COMBINACION WHILE... ELSE "
   ]
  },
  {
   "cell_type": "markdown",
   "metadata": {},
   "source": [
    "Podemos combinar un bucle while con el operador else para ejecutar un bloque de código una vez la condición del while haya dejado de ser verdadera. "
   ]
  },
  {
   "cell_type": "code",
   "execution_count": 20,
   "metadata": {},
   "outputs": [
    {
     "name": "stdout",
     "output_type": "stream",
     "text": [
      "Preparado para despegue, Empieza la cuenta atrás.\n",
      "10\n",
      "9\n",
      "8\n",
      "7\n",
      "6\n",
      "5\n",
      "4\n",
      "3\n",
      "2\n",
      "1\n",
      "0\n",
      "La cuenta atras ha finalizado\n"
     ]
    }
   ],
   "source": [
    "i = 10 \n",
    "print(\"Preparado para despegue, Empieza la cuenta atrás.\")\n",
    "while i >= 0: \n",
    "    print(i)\n",
    "    i -= 1 \n",
    "else:\n",
    "    print(\"La cuenta atras ha finalizado\")"
   ]
  },
  {
   "cell_type": "markdown",
   "metadata": {},
   "source": [
    "# 57. EJERCICIO: PRACTICANDO LA COMBINACIÓN WHILE ELSE "
   ]
  },
  {
   "cell_type": "markdown",
   "metadata": {},
   "source": [
    "Ejercicio \n",
    "\n",
    "Vamos a hacer que el usuario introduzca números por teclado e ir sumándolos. Cuando el usuario introduzca 0 saldremos del bucle while. Al salir del bucle, con un else mostraremos la suma. "
   ]
  },
  {
   "cell_type": "code",
   "execution_count": 22,
   "metadata": {},
   "outputs": [
    {
     "name": "stdout",
     "output_type": "stream",
     "text": [
      "Introduce un numero: 10\n",
      "Introduce un número: 2\n",
      "Introduce un número: 3\n",
      "Introduce un número: 0\n",
      "La suma total es  15.0\n"
     ]
    }
   ],
   "source": [
    "n = float(input(\"Introduce un numero: \"))\n",
    "sum = 0 \n",
    "\n",
    "while n != 0: \n",
    "    sum += n \n",
    "    n = float(input(\"Introduce un número: \"))\n",
    "\n",
    "else: \n",
    "    print(\"La suma total es \", sum)\n",
    "    "
   ]
  },
  {
   "cell_type": "markdown",
   "metadata": {},
   "source": [
    "# 58. EJERCICIO: RUEDA DE LETRAS "
   ]
  },
  {
   "cell_type": "markdown",
   "metadata": {},
   "source": [
    "# 59. EL BUCLE FOR  "
   ]
  },
  {
   "cell_type": "markdown",
   "metadata": {},
   "source": [
    "El bucle while tiene el problema que si no tiene un contador, puede caer en un bucle infinito, para evitar esto existe un bucle, llamado \"for\", pues este solo recorre los elementos de la clave que se establezca. \n",
    "\n",
    "La idea del bucle for es: para todos los elementos de la clave, seguimos realizando las lineas del bucle. Una vez nos quedemos sin elementos, salimos del bucle. \n",
    "\n",
    "Su estructura es la siguiente. "
   ]
  },
  {
   "cell_type": "code",
   "execution_count": null,
   "metadata": {},
   "outputs": [],
   "source": [
    "for clave: \n",
    "    instrucción 1 \n",
    "    intrucción 2 \n",
    "    .\n",
    "    .\n",
    "    .\n",
    "    instrucción n "
   ]
  },
  {
   "cell_type": "markdown",
   "metadata": {},
   "source": [
    "Observación. Vuelven a aparecer tanto los dos puntos después de la clave como la indentación previa a las intrucciones que se encuentran dentro del bucle. \n",
    "\n",
    "Un ejemplo del uso de un bucle for es el de recorrer todos los caracteres de un string: \n"
   ]
  },
  {
   "cell_type": "code",
   "execution_count": 23,
   "metadata": {},
   "outputs": [
    {
     "name": "stdout",
     "output_type": "stream",
     "text": [
      "M\n",
      "e\n",
      " \n",
      "g\n",
      "u\n",
      "s\n",
      "t\n",
      "a\n",
      "n\n",
      " \n",
      "l\n",
      "a\n",
      "s\n",
      " \n",
      "m\n",
      "a\n",
      "t\n",
      "e\n",
      "m\n",
      "a\n",
      "t\n",
      "i\n",
      "c\n",
      "a\n",
      "s\n"
     ]
    }
   ],
   "source": [
    "s = \"Me gustan las matematicas\"\n",
    "\n",
    "for c in s: \n",
    "    print(c)"
   ]
  },
  {
   "cell_type": "markdown",
   "metadata": {},
   "source": [
    "# 60. EJERCICIO: INVIRTIENDO UN STRING "
   ]
  },
  {
   "cell_type": "markdown",
   "metadata": {},
   "source": [
    "Ejercicio\n",
    "\n",
    "Vamos a recorrer un string con un bucle for y lo vamos a devolver impreso del revés"
   ]
  },
  {
   "cell_type": "code",
   "execution_count": 24,
   "metadata": {},
   "outputs": [
    {
     "name": "stdout",
     "output_type": "stream",
     "text": [
      "ámam im se ase amim em ámam iM\n"
     ]
    }
   ],
   "source": [
    "s = \"Mi mamá me mima esa es mi mamá\"\n",
    "s_inv = \"\"\n",
    "\n",
    "for c in s: \n",
    "    s_inv = c + s_inv #Le concateno por la izquierda\n",
    "print(s_inv)"
   ]
  },
  {
   "cell_type": "markdown",
   "metadata": {},
   "source": [
    "# 61. LA FUNCION RANGE "
   ]
  },
  {
   "cell_type": "markdown",
   "metadata": {},
   "source": [
    "La funcion range() tiene 3 posibles argumentos: \n",
    "\n",
    "- start \n",
    "- stop \n",
    "- step \n",
    "\n",
    "Veremos el uso de la función range() con un ejemplo. Recuperemos el ejemplo en que queríamos imprimir los 10 primeros numeros naturales: \n",
    "\n"
   ]
  },
  {
   "cell_type": "code",
   "execution_count": 26,
   "metadata": {},
   "outputs": [
    {
     "name": "stdout",
     "output_type": "stream",
     "text": [
      "1\n",
      "2\n",
      "3\n",
      "4\n",
      "5\n",
      "6\n",
      "7\n",
      "8\n",
      "9\n",
      "10\n"
     ]
    }
   ],
   "source": [
    "for i in range(1, 11, 1): #el 11 nunca se incluye, mientras que el elemento 1 \"start\", si, el ultimo numero es el salto. \n",
    "    print(i)"
   ]
  },
  {
   "cell_type": "code",
   "execution_count": 27,
   "metadata": {},
   "outputs": [
    {
     "name": "stdout",
     "output_type": "stream",
     "text": [
      "0\n",
      "1\n",
      "2\n",
      "3\n",
      "4\n"
     ]
    }
   ],
   "source": [
    "for x in range(5):\n",
    "    print(x)"
   ]
  },
  {
   "cell_type": "markdown",
   "metadata": {},
   "source": [
    "Observacion. Cosas a tener en cuenta cuando usamos la función range():\n",
    "\n",
    "* El elemento indicado en el argumento stop nunca se incluye. \n",
    "* Si no indicamos ningun elemento en el argumento start, por defecto esté vale 0. \n",
    "* El valor por defecto del argumento step es 1. \n",
    "\n",
    "Por tanto obtendríamos el mismo resultado que en el ejemplo anterior ejecutando las siguiente líneas de código:"
   ]
  },
  {
   "cell_type": "code",
   "execution_count": 28,
   "metadata": {},
   "outputs": [
    {
     "name": "stdout",
     "output_type": "stream",
     "text": [
      "1\n",
      "2\n",
      "3\n",
      "4\n",
      "5\n",
      "6\n",
      "7\n",
      "8\n",
      "9\n",
      "10\n"
     ]
    }
   ],
   "source": [
    "for i in range(1,11): #el step por defecto es 1. \n",
    "    print(i)"
   ]
  },
  {
   "cell_type": "code",
   "execution_count": 30,
   "metadata": {},
   "outputs": [
    {
     "name": "stdout",
     "output_type": "stream",
     "text": [
      "10\n",
      "9\n",
      "8\n",
      "7\n",
      "6\n",
      "5\n",
      "4\n",
      "3\n",
      "2\n",
      "1\n"
     ]
    }
   ],
   "source": [
    "for i in range(10, 0, -1):\n",
    "    print(i)"
   ]
  },
  {
   "cell_type": "markdown",
   "metadata": {},
   "source": [
    "# 62. EJERCICIO: SUMA DE TÉRMINOS DE UNA PROGRESIÓN ARITMÉTICA"
   ]
  },
  {
   "cell_type": "markdown",
   "metadata": {},
   "source": [
    "Ejercicio \n",
    "\n",
    "Con un bucle for, dada una progresión aritmetica de números enteros indicada por el usuario (nos dará el primer término, la diferencia y la cota), vamos a calcular la suma de los elementos incluyendo la cota. \n",
    "\n",
    "Un ejemplo de progresión aritmética es: 0,2,4,6,8,... donde el primer término es 0 y la diferencia entre sus términos es 2. "
   ]
  },
  {
   "cell_type": "code",
   "execution_count": 32,
   "metadata": {},
   "outputs": [
    {
     "name": "stdout",
     "output_type": "stream",
     "text": [
      "Introduce el termino incial de una progresión aritmética: 0\n",
      "Introduce la diferencia de dicha progresión aritmética: 2\n",
      "Indica la cota para finalizar: 8\n",
      "La suma de los términos de la sucesión que has indicado es  20\n"
     ]
    }
   ],
   "source": [
    "a0 = int(input(\"Introduce el termino incial de una progresión aritmética: \"))\n",
    "d = int(input(\"Introduce la diferencia de dicha progresión aritmética: \"))\n",
    "af = int(input(\"Indica la cota para finalizar: \"))\n",
    "sum_an = 0 \n",
    "\n",
    "for an in range(a0, af + 1, d):\n",
    "    sum_an += an \n",
    "    \n",
    "print(\"La suma de los términos de la sucesión que has indicado es \", sum_an)"
   ]
  },
  {
   "cell_type": "markdown",
   "metadata": {},
   "source": [
    "# 63. EL COMANDO CONTINUE "
   ]
  },
  {
   "cell_type": "markdown",
   "metadata": {},
   "source": [
    "El comando continue es similar al break, pero en vez de salir del bucle, lo que hace es interrumpir la iteración en la que se encuentra y empezar la siguiente iteración. "
   ]
  },
  {
   "cell_type": "markdown",
   "metadata": {},
   "source": [
    "Ejemplo \n",
    "\n",
    "Supongamos que queremos que se nos impriman todos los numeros entre 0 y 100 que no son divisbles entre 2 ni entre 5. \n",
    "\n",
    "Ejercicio. Pensar como podrias resolver este problema en el cual se exige que en algun momento utilices el comando continue. "
   ]
  },
  {
   "cell_type": "code",
   "execution_count": 34,
   "metadata": {},
   "outputs": [
    {
     "name": "stdout",
     "output_type": "stream",
     "text": [
      "1\n",
      "3\n",
      "7\n",
      "9\n",
      "11\n",
      "13\n",
      "17\n",
      "19\n",
      "21\n",
      "23\n",
      "27\n",
      "29\n",
      "31\n",
      "33\n",
      "37\n",
      "39\n",
      "41\n",
      "43\n",
      "47\n",
      "49\n",
      "51\n",
      "53\n",
      "57\n",
      "59\n",
      "61\n",
      "63\n",
      "67\n",
      "69\n",
      "71\n",
      "73\n",
      "77\n",
      "79\n",
      "81\n",
      "83\n",
      "87\n",
      "89\n",
      "91\n",
      "93\n",
      "97\n",
      "99\n"
     ]
    }
   ],
   "source": [
    "for i in range(101):\n",
    "    if i % 2 == 0 or i % 5 == 0:\n",
    "        continue  #si caigo en esta condicion continue, no haga nada mas, se sigue adelante. \n",
    "    print(i) #cuando el numero ya no cumple el if de arriba, se sale del if, el continue ya no se ejecuta y por lo tanto se \n",
    "              #imprime el numero. "
   ]
  },
  {
   "cell_type": "markdown",
   "metadata": {},
   "source": [
    "# 64. EJERCICIO: UTILIZANDO EL COMANDO CONTINUE PARA ELIMINAR UNA LETRA DE UN STRING "
   ]
  },
  {
   "cell_type": "markdown",
   "metadata": {},
   "source": [
    "Ejercicio \n",
    "\n",
    "Con un bucle for, vamos a recorrer un string dado y vamos a imprimir todas las letras salvo por la letra indicada por el usuario. "
   ]
  },
  {
   "cell_type": "code",
   "execution_count": 7,
   "metadata": {},
   "outputs": [
    {
     "name": "stdout",
     "output_type": "stream",
     "text": [
      "El string original es:  Predecir el futuro resulta ser un negocio muy dificil en sí\n",
      "Introduce la cantidad de letras que quieras eliminar del string original: 3\n",
      "Introduce la palabra 1 que quieras eliminar de la frase: p\n",
      "Introduce la palabra 2 que quieras eliminar de la frase: r\n",
      "Introduce la palabra 3 que quieras eliminar de la frase: e\n",
      "dci l futuo sulta s un ngocio muy dificil n sí"
     ]
    }
   ],
   "source": [
    "\n",
    "s = \"Predecir el futuro resulta ser un negocio muy dificil en sí\"\n",
    "print(\"El string original es: \", s)\n",
    "n = int(input(\"Introduce la cantidad letras que quieras eliminar del string original: \"))\n",
    "\n",
    "\n",
    "c = []\n",
    "\n",
    "for i in range(1,n+1): \n",
    "    letra = input(\"Introduce la palabra {} que quieras eliminar de la frase: \".format(i))\n",
    "    letra = letra.lower()\n",
    "    c.append(letra)\n",
    "    \n",
    "\n",
    "s = s.lower()\n",
    "\n",
    "for j in s:\n",
    "    if j in c:\n",
    "        continue\n",
    "            \n",
    "    else:\n",
    "        print(j, end = \"\")\n",
    " "
   ]
  },
  {
   "cell_type": "code",
   "execution_count": 3,
   "metadata": {},
   "outputs": [
    {
     "data": {
      "text/plain": [
       "3"
      ]
     },
     "execution_count": 3,
     "metadata": {},
     "output_type": "execute_result"
    }
   ],
   "source": [
    "c\n",
    "len(c)"
   ]
  },
  {
   "cell_type": "markdown",
   "metadata": {},
   "source": [
    "# 65. EJERCICIO : COMBINANDO FOR CON BREAK Y CONTINUE "
   ]
  },
  {
   "cell_type": "markdown",
   "metadata": {},
   "source": [
    "Ejercicio \n",
    "\n",
    "Dado un string con un bucle for vamos a imprimirlo sin vocales y vamos a salir del bucle si la letra que indique el usuario aparece mas de n veces, número que también nos proporcionará el usuario. "
   ]
  },
  {
   "cell_type": "code",
   "execution_count": 1,
   "metadata": {},
   "outputs": [
    {
     "name": "stdout",
     "output_type": "stream",
     "text": [
      "Introduce una letra: e\n",
      "Indica el máximo número de veces que quieres que aparezca la letra anterior: 10\n",
      "pensms demsd y sentms my pc"
     ]
    }
   ],
   "source": [
    "s = \"Pensamos demasiado y sentimos muy poco\"\n",
    "\n",
    "letter = input(\"Introduce una letra: \")\n",
    "n = int(input(\"Indica el máximo número de veces que quieres que aparezca la letra anterior: \"))\n",
    "count = 0 \n",
    "letter = letter.lower()\n",
    "s = s.lower()\n",
    "for c in s: #para cada caracter en el string \n",
    "    if count >= n:\n",
    "        print(\"\\nSe ha superado el número de apariciones\")\n",
    "        break \n",
    "    if c == letter:\n",
    "        count += 1\n",
    "    elif c == \"a\" or c == \"e\" or c ==\"i\" or c ==\"o\" or c == \"u\":\n",
    "        continue\n",
    "        \n",
    "    print(c, end = \"\") #si todas las condiciones pasadas se han superado entonces se imprime el caracter c, con un vacio. "
   ]
  },
  {
   "cell_type": "markdown",
   "metadata": {},
   "source": [
    "# 66. BUCLES ANIDADOS "
   ]
  },
  {
   "cell_type": "markdown",
   "metadata": {},
   "source": [
    "Se trata de bucles dentro de bucles \n",
    "\n",
    "Ejemplo \n",
    "\n",
    "Vamos a calcular las tablas de multiplicar de los números del 1 al 10 anidando dos bucles for: "
   ]
  },
  {
   "cell_type": "code",
   "execution_count": 2,
   "metadata": {},
   "outputs": [
    {
     "name": "stdout",
     "output_type": "stream",
     "text": [
      "\n",
      "Tabla de multiplicar del 1\n",
      "1 x 1 = 1\n",
      "1 x 2 = 2\n",
      "1 x 3 = 3\n",
      "1 x 4 = 4\n",
      "1 x 5 = 5\n",
      "1 x 6 = 6\n",
      "1 x 7 = 7\n",
      "1 x 8 = 8\n",
      "1 x 9 = 9\n",
      "1 x 10 = 10\n",
      "1 x 11 = 11\n",
      "1 x 12 = 12\n",
      "1 x 13 = 13\n",
      "1 x 14 = 14\n",
      "1 x 15 = 15\n",
      "1 x 16 = 16\n",
      "1 x 17 = 17\n",
      "1 x 18 = 18\n",
      "1 x 19 = 19\n",
      "1 x 20 = 20\n",
      "\n",
      "Tabla de multiplicar del 2\n",
      "2 x 1 = 2\n",
      "2 x 2 = 4\n",
      "2 x 3 = 6\n",
      "2 x 4 = 8\n",
      "2 x 5 = 10\n",
      "2 x 6 = 12\n",
      "2 x 7 = 14\n",
      "2 x 8 = 16\n",
      "2 x 9 = 18\n",
      "2 x 10 = 20\n",
      "2 x 11 = 22\n",
      "2 x 12 = 24\n",
      "2 x 13 = 26\n",
      "2 x 14 = 28\n",
      "2 x 15 = 30\n",
      "2 x 16 = 32\n",
      "2 x 17 = 34\n",
      "2 x 18 = 36\n",
      "2 x 19 = 38\n",
      "2 x 20 = 40\n",
      "\n",
      "Tabla de multiplicar del 3\n",
      "3 x 1 = 3\n",
      "3 x 2 = 6\n",
      "3 x 3 = 9\n",
      "3 x 4 = 12\n",
      "3 x 5 = 15\n",
      "3 x 6 = 18\n",
      "3 x 7 = 21\n",
      "3 x 8 = 24\n",
      "3 x 9 = 27\n",
      "3 x 10 = 30\n",
      "3 x 11 = 33\n",
      "3 x 12 = 36\n",
      "3 x 13 = 39\n",
      "3 x 14 = 42\n",
      "3 x 15 = 45\n",
      "3 x 16 = 48\n",
      "3 x 17 = 51\n",
      "3 x 18 = 54\n",
      "3 x 19 = 57\n",
      "3 x 20 = 60\n",
      "\n",
      "Tabla de multiplicar del 4\n",
      "4 x 1 = 4\n",
      "4 x 2 = 8\n",
      "4 x 3 = 12\n",
      "4 x 4 = 16\n",
      "4 x 5 = 20\n",
      "4 x 6 = 24\n",
      "4 x 7 = 28\n",
      "4 x 8 = 32\n",
      "4 x 9 = 36\n",
      "4 x 10 = 40\n",
      "4 x 11 = 44\n",
      "4 x 12 = 48\n",
      "4 x 13 = 52\n",
      "4 x 14 = 56\n",
      "4 x 15 = 60\n",
      "4 x 16 = 64\n",
      "4 x 17 = 68\n",
      "4 x 18 = 72\n",
      "4 x 19 = 76\n",
      "4 x 20 = 80\n",
      "\n",
      "Tabla de multiplicar del 5\n",
      "5 x 1 = 5\n",
      "5 x 2 = 10\n",
      "5 x 3 = 15\n",
      "5 x 4 = 20\n",
      "5 x 5 = 25\n",
      "5 x 6 = 30\n",
      "5 x 7 = 35\n",
      "5 x 8 = 40\n",
      "5 x 9 = 45\n",
      "5 x 10 = 50\n",
      "5 x 11 = 55\n",
      "5 x 12 = 60\n",
      "5 x 13 = 65\n",
      "5 x 14 = 70\n",
      "5 x 15 = 75\n",
      "5 x 16 = 80\n",
      "5 x 17 = 85\n",
      "5 x 18 = 90\n",
      "5 x 19 = 95\n",
      "5 x 20 = 100\n",
      "\n",
      "Tabla de multiplicar del 6\n",
      "6 x 1 = 6\n",
      "6 x 2 = 12\n",
      "6 x 3 = 18\n",
      "6 x 4 = 24\n",
      "6 x 5 = 30\n",
      "6 x 6 = 36\n",
      "6 x 7 = 42\n",
      "6 x 8 = 48\n",
      "6 x 9 = 54\n",
      "6 x 10 = 60\n",
      "6 x 11 = 66\n",
      "6 x 12 = 72\n",
      "6 x 13 = 78\n",
      "6 x 14 = 84\n",
      "6 x 15 = 90\n",
      "6 x 16 = 96\n",
      "6 x 17 = 102\n",
      "6 x 18 = 108\n",
      "6 x 19 = 114\n",
      "6 x 20 = 120\n",
      "\n",
      "Tabla de multiplicar del 7\n",
      "7 x 1 = 7\n",
      "7 x 2 = 14\n",
      "7 x 3 = 21\n",
      "7 x 4 = 28\n",
      "7 x 5 = 35\n",
      "7 x 6 = 42\n",
      "7 x 7 = 49\n",
      "7 x 8 = 56\n",
      "7 x 9 = 63\n",
      "7 x 10 = 70\n",
      "7 x 11 = 77\n",
      "7 x 12 = 84\n",
      "7 x 13 = 91\n",
      "7 x 14 = 98\n",
      "7 x 15 = 105\n",
      "7 x 16 = 112\n",
      "7 x 17 = 119\n",
      "7 x 18 = 126\n",
      "7 x 19 = 133\n",
      "7 x 20 = 140\n",
      "\n",
      "Tabla de multiplicar del 8\n",
      "8 x 1 = 8\n",
      "8 x 2 = 16\n",
      "8 x 3 = 24\n",
      "8 x 4 = 32\n",
      "8 x 5 = 40\n",
      "8 x 6 = 48\n",
      "8 x 7 = 56\n",
      "8 x 8 = 64\n",
      "8 x 9 = 72\n",
      "8 x 10 = 80\n",
      "8 x 11 = 88\n",
      "8 x 12 = 96\n",
      "8 x 13 = 104\n",
      "8 x 14 = 112\n",
      "8 x 15 = 120\n",
      "8 x 16 = 128\n",
      "8 x 17 = 136\n",
      "8 x 18 = 144\n",
      "8 x 19 = 152\n",
      "8 x 20 = 160\n",
      "\n",
      "Tabla de multiplicar del 9\n",
      "9 x 1 = 9\n",
      "9 x 2 = 18\n",
      "9 x 3 = 27\n",
      "9 x 4 = 36\n",
      "9 x 5 = 45\n",
      "9 x 6 = 54\n",
      "9 x 7 = 63\n",
      "9 x 8 = 72\n",
      "9 x 9 = 81\n",
      "9 x 10 = 90\n",
      "9 x 11 = 99\n",
      "9 x 12 = 108\n",
      "9 x 13 = 117\n",
      "9 x 14 = 126\n",
      "9 x 15 = 135\n",
      "9 x 16 = 144\n",
      "9 x 17 = 153\n",
      "9 x 18 = 162\n",
      "9 x 19 = 171\n",
      "9 x 20 = 180\n",
      "\n",
      "Tabla de multiplicar del 10\n",
      "10 x 1 = 10\n",
      "10 x 2 = 20\n",
      "10 x 3 = 30\n",
      "10 x 4 = 40\n",
      "10 x 5 = 50\n",
      "10 x 6 = 60\n",
      "10 x 7 = 70\n",
      "10 x 8 = 80\n",
      "10 x 9 = 90\n",
      "10 x 10 = 100\n",
      "10 x 11 = 110\n",
      "10 x 12 = 120\n",
      "10 x 13 = 130\n",
      "10 x 14 = 140\n",
      "10 x 15 = 150\n",
      "10 x 16 = 160\n",
      "10 x 17 = 170\n",
      "10 x 18 = 180\n",
      "10 x 19 = 190\n",
      "10 x 20 = 200\n"
     ]
    }
   ],
   "source": [
    "for i in range(1, 11): \n",
    "    print(\"\\nTabla de multiplicar del {}\".format(i))\n",
    "    for j in range(1, 21): \n",
    "        print(\"{} x {} = {}\".format(i, j, i * j))"
   ]
  }
 ],
 "metadata": {
  "kernelspec": {
   "display_name": "Python 3",
   "language": "python",
   "name": "python3"
  },
  "language_info": {
   "codemirror_mode": {
    "name": "ipython",
    "version": 3
   },
   "file_extension": ".py",
   "mimetype": "text/x-python",
   "name": "python",
   "nbconvert_exporter": "python",
   "pygments_lexer": "ipython3",
   "version": "3.8.3"
  }
 },
 "nbformat": 4,
 "nbformat_minor": 4
}
