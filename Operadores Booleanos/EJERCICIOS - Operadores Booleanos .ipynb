{
 "cells": [
  {
   "cell_type": "markdown",
   "metadata": {},
   "source": [
    "# EJERCICIOS"
   ]
  },
  {
   "cell_type": "markdown",
   "metadata": {},
   "source": [
    "Escribre un programa que dado, un numero entero, muestre su valor absoluto. "
   ]
  },
  {
   "cell_type": "code",
   "execution_count": 25,
   "metadata": {},
   "outputs": [
    {
     "name": "stdout",
     "output_type": "stream",
     "text": [
      "Escribe un numero: -15\n",
      "El valor absoluto del numero -15 es: |15|\n"
     ]
    }
   ],
   "source": [
    "numero = int(input(\"Escribe un numero: \"))\n",
    "\n",
    "if numero > 0:\n",
    "    print(\"El valor absoluto del numero {} es: |{}|\".format(numero,numero))\n",
    "    \n",
    "else: \n",
    "    numero2 = numero\n",
    "    numero = numero * (-1)\n",
    "    print(\"El valor absoluto del numero {} es: |{}|\".format(numero2,numero))"
   ]
  },
  {
   "cell_type": "markdown",
   "metadata": {},
   "source": [
    "Solicitar al usuario que ingrese los nombres de 2 personas, los cuales almacenarán en dos variables. A continuación imprimir \"coincidencia\"si los nombres de ambas personas comienzan con la misma letra o si terminan con la misma letra. Si no es asi, imprimir \"no hay coincidencia\". "
   ]
  },
  {
   "cell_type": "code",
   "execution_count": 44,
   "metadata": {},
   "outputs": [
    {
     "name": "stdout",
     "output_type": "stream",
     "text": [
      "Introduzca el nombre de una primera persona: Rodrigo\n",
      "Introduzca el nombre de una segunda persona: Octavio\n",
      "Coincidencia\n"
     ]
    }
   ],
   "source": [
    "nombre1 = input(\"Introduzca el nombre de una primera persona: \")\n",
    "nombre2 = input(\"Introduzca el nombre de una segunda persona: \")\n",
    "\n",
    "if (nombre1[0] == nombre2[0]) | (nombre1[len(nombre1)-1] == nombre2[len(nombre2)-1]):\n",
    "    print(\"Coincidencia\")\n",
    "\n",
    "else:\n",
    "    print(\"No hay coicidencia\")\n",
    "                                                        "
   ]
  },
  {
   "cell_type": "code",
   "execution_count": 4,
   "metadata": {},
   "outputs": [
    {
     "name": "stdout",
     "output_type": "stream",
     "text": [
      "Eliga un candidato por el cual votar: \n",
      "Candidato A \n",
      "Candidato B \n",
      "Candidato C \n",
      ": candidato z\n",
      "Usted no ha ingresado un candidato valido, tendrá solo 3 intentos para escoger un cadidato valido\n",
      "Intento 1, escoga nuevamente un candidato: candidato h\n",
      "Intento 2, escoga nuevamente un candidato: candidato a\n",
      "Usted ha votado por el Candidato A.\n"
     ]
    }
   ],
   "source": [
    "print(\"Eliga un candidato por el cual votar: \")\n",
    "print(\"Candidato A \\nCandidato B \\nCandidato C \")\n",
    "candidato = input(\": \")\n",
    "candidato = candidato.upper()\n",
    "\n",
    "if candidato == \"CANDIDATO A\": \n",
    "    print(\"Usted ha votado por el Candidato A.\")\n",
    "    \n",
    "    \n",
    "elif candidato == \"CANDIDATO B\":\n",
    "    print(\"Usted ha votado por el Candidato B.\")\n",
    "    \n",
    "    \n",
    "elif candidato == \"CANDIDATO C\":\n",
    "    print(\"Usted ha votado por el Candidato C.\")\n",
    "    \n",
    "    \n",
    "else: \n",
    "    print(\"Usted no ha ingresado un candidato valido, tendrá solo 3 intentos para escoger un cadidato valido\")\n",
    "    for i in [1,2,3]:\n",
    "        candidato2 = input(\"Intento {}, escoga nuevamente un candidato: \".format(i))\n",
    "        candidato2 = candidato2.upper()\n",
    "        if candidato2 == \"CANDIDATO A\": \n",
    "            print(\"Usted ha votado por el Candidato A.\")\n",
    "            break;\n",
    "        if candidato2 == \"CANDIDATO B\":\n",
    "            print(\"Usted ha votado por el Candidato B.\")\n",
    "            break;\n",
    "        if candidato2 == \"CANDIDATO C\":\n",
    "            print(\"Usted ha votado por el Candidato C.\")\n",
    "            break;\n",
    "            \n",
    "            "
   ]
  },
  {
   "cell_type": "markdown",
   "metadata": {},
   "source": [
    "Escribir un programa que solicite al usuario una letra y si es una vocal, muestre el mensaje \"es una vocal\". Se debe validar que el usuario ingrese solo un carácter. Si ingresa un string de mas de un carácter, informale que no se puede procesar el dato. "
   ]
  },
  {
   "cell_type": "code",
   "execution_count": 9,
   "metadata": {},
   "outputs": [
    {
     "name": "stdout",
     "output_type": "stream",
     "text": [
      "Ingrese una letra: e\n",
      "Es una vocal\n"
     ]
    }
   ],
   "source": [
    "letra = input(\"Ingrese una letra: \")\n",
    "\n",
    "if len(letra) != 1:\n",
    "    print(\"Debe ser solo una letra.\")\n",
    "    \n",
    "else:\n",
    "    if letra in \"aeiou\":\n",
    "        print(\"Es una vocal\")\n",
    "    else:\n",
    "        print(\"Tu letra no es una vocal.\")"
   ]
  },
  {
   "cell_type": "markdown",
   "metadata": {},
   "source": [
    "Pedir por pantalla tres números no consecutivos y mostrar en orden ascendente."
   ]
  },
  {
   "cell_type": "markdown",
   "metadata": {},
   "source": [
    "# EJERCICIO "
   ]
  },
  {
   "cell_type": "markdown",
   "metadata": {},
   "source": [
    "Ejercicio 1\n",
    "\n",
    "Haz que un usuario introduzca un número real y evalúa si dicho número es positivo, negativo o cero. Devuelve\n",
    "por pantalla el resultado en cada caso.\n",
    "\n",
    "Ejercicio 2\n",
    "\n",
    "Haz que un usuario introduzca su nombre y evalúa con operadores if y else si dicho nombre tiene una\n",
    "longitud mayor a 10 caracteres o no. Devuelve por pantalla el resultado en cada caso.\n",
    "\n",
    "Ejercicio 3\n",
    "\n",
    "Realiza el ejercicio anterior con el uso del operador ternario.\n",
    "\n",
    "Ejercicio 4\n",
    "\n",
    "Haz que un usuario introduzca dos números enteros positivos. Comprueba si el primer número introducido\n",
    "por el usuario es mayor o igual que el segundo número introducido por el usuario. Devuelve por pantalla el\n",
    "resultado en cada caso.\n",
    "PISTA: Asegúrate de hacer uso de la función int() donde pertoque.\n",
    "\n",
    "Ejercicio 5\n",
    "\n",
    "Haz que un usuario introduzca dos números enteros positivos. Suponiendo que el primer número introducido\n",
    "por el usuario es mayor o igual al segundo número introducido por el usuario, comprueba que la división del\n",
    "primer número entre el segundo número es entera.\n",
    "En caso de la división ser entera, devuelve el cociente por pantalla e indica que la división en efecto es entera.\n",
    "En caso de la división no ser entera, devuelve el cociente y el resto por pantalla e indica que la división entre\n",
    "los dos números no es entera.\n",
    "1\n",
    "\n",
    "Ejercicio 6\n",
    "\n",
    "Fusiona lo hecho en los ejercicios 4 y 5 para que\n",
    "1. Un usuario introduzca dos números enteros por pantalla.\n",
    "2. Comprobar si el primer número es mayor o igual al segundo número introducido por el usuario. Devolver\n",
    "por pantalla en que caso nos encontramos.\n",
    "3. Hacer la división entera pertinente en cada caso.\n",
    "4. Si la división es entera, entonces devolver por pantalla el cociente e indicar que la división es entera.\n",
    "Si la división no es entera, entonces devolver por pantalla el cociente y el resto e indicar que la división\n",
    "realizada no es entera.\n",
    "\n",
    "Ejercicio 7\n",
    "\n",
    "Haz que un usuario introduzca dos números enteros positivos. Comprueba si el mayor es múltiplo del menor.\n",
    "Devuelve por pantalla el resultado en cada caso.\n",
    "\n",
    "Ejercicio 8\n",
    "\n",
    "Haz que un usuario introduzca una palabra y comprueba si dicha palabra empieza por mayúscula. Devuelve\n",
    "por pantalla el resultado en cada caso.\n",
    "\n",
    "Ejercicio 9\n",
    "\n",
    "Haz un usuario introduza una letra y comprueba si se trata de una vocal. Si el usuario introduce un string\n",
    "de más de un carácter, infórmale de que no se puede procesar el dato, pues debe tener como máximo tamaño\n",
    "1.\n",
    "PISTA: Convierte la letra introducida a minúsculas para tener que realizar menos comprobaciones"
   ]
  },
  {
   "cell_type": "code",
   "execution_count": 2,
   "metadata": {},
   "outputs": [
    {
     "name": "stdout",
     "output_type": "stream",
     "text": [
      "Introduce un numero: 0\n",
      "El numero es 0.\n"
     ]
    }
   ],
   "source": [
    "#ejercicio 1 \n",
    "numero = float(input(\"Introduce un numero: \"))\n",
    "\n",
    "if numero>0:\n",
    "    print(\"El numero {} es positivo\".format(numero))\n",
    "elif numero<0:\n",
    "    print(\"El numero {} es negativo\".format(numero))\n",
    "else:\n",
    "    print(\"El numero es 0.\")"
   ]
  },
  {
   "cell_type": "code",
   "execution_count": 3,
   "metadata": {},
   "outputs": [
    {
     "name": "stdout",
     "output_type": "stream",
     "text": [
      "Introduce tu nombre: Carlos Cadena Moya\n",
      "Tu nombre tiene mas de 10 caracteres.\n"
     ]
    }
   ],
   "source": [
    "#ejercicio 2 \n",
    "nombre = input(\"Introduce tu nombre: \")\n",
    "\n",
    "if len(nombre)>10: \n",
    "    print(\"Tu nombre tiene mas de 10 caracteres.\")\n",
    "elif len(nombre)<10: \n",
    "    print(\"Tu nombre tiene menos de 10 caracteres.\")\n",
    "else:\n",
    "    print(\"Tu nombre tiene exactamente 10 caracteres.\")"
   ]
  },
  {
   "cell_type": "code",
   "execution_count": 5,
   "metadata": {},
   "outputs": [
    {
     "name": "stdout",
     "output_type": "stream",
     "text": [
      "Tu nombre tiene al menos 10 caracteres.\n"
     ]
    }
   ],
   "source": [
    "# ejercicio 3 \n",
    "print(\"Tu nombre tiene al menos 10 caracteres.\") if len(nombre)>= 10 else print(\"Tu nombre tiene menos de 10 caracteres.\")"
   ]
  },
  {
   "cell_type": "code",
   "execution_count": 7,
   "metadata": {},
   "outputs": [
    {
     "name": "stdout",
     "output_type": "stream",
     "text": [
      "Introduce un numero entero: 2\n",
      "Introduce un segundo numero entero: 10\n",
      "El numero 10 es mayor que 2\n"
     ]
    }
   ],
   "source": [
    "#ejercicio 4 \n",
    "a = int(input(\"Introduce un numero entero: \"))\n",
    "b = int(input(\"Introduce un segundo numero entero: \"))\n",
    "\n",
    "if a>b: \n",
    "    print(\"El numero {} es mayor que {}\".format(a,b))\n",
    "else:\n",
    "    print(\"El numero {} es mayor que {}\".format(b,a))"
   ]
  },
  {
   "cell_type": "code",
   "execution_count": 1,
   "metadata": {},
   "outputs": [
    {
     "name": "stdout",
     "output_type": "stream",
     "text": [
      "Introduce un numero: 3\n",
      "Introduce un segundo numero: 10\n",
      "La division no es entera, el cociente es 0.3 y el resto es 1\n"
     ]
    }
   ],
   "source": [
    "#ejercicio 5 \n",
    "#Haz que un usuario introduzca dos números enteros positivos.\n",
    "#Suponiendo que el primer número introducido por el usuario es mayor o igual al segundo número introducido por el usuario,\n",
    "#comprueba que la división del primer número entre el segundo número es entera. En caso de la división ser entera,\n",
    "#devuelve el cociente por pantalla e indica que la división en efecto es entera. En caso de la división no ser entera,\n",
    "#devuelve el cociente y el resto por pantalla e indica que la división entre los dos números no es entera. \n",
    "\n",
    "a = int(input(\"Introduce un numero: \"))\n",
    "b = int(input(\"Introduce un segundo numero: \"))\n",
    "\n",
    "if a >= b: \n",
    "    division = a / b \n",
    "    if division%2==0: \n",
    "        print(\"El cociente de la división es {}, siendo esta entera.\".format(division))\n",
    "    else:\n",
    "        resto = a%b\n",
    "        print(\"La division no es entera, el cociente es {} y el resto es {} \".format(division,resto))\n",
    "elif b>a:\n",
    "    division = a / b\n",
    "    if division%2 == 0:\n",
    "        print(\"El cociente de la division es {}, siendo esta entera.\".format(division))\n",
    "    else:\n",
    "        resto = b%a\n",
    "        print(\"La division no es entera, el cociente es {} y el resto es {}\".format(division,resto))\n",
    "    \n",
    "        \n",
    "        \n",
    "    "
   ]
  },
  {
   "cell_type": "code",
   "execution_count": 6,
   "metadata": {},
   "outputs": [
    {
     "name": "stdout",
     "output_type": "stream",
     "text": [
      "Introduce un numero: 10\n",
      "Introduce un segundo: -5\n",
      "Introduce un numero: 30\n",
      "Introduce un segundo: 15\n",
      "Has introducido numeros enteros positivos.\n",
      "\n",
      "El numero 30 es multiplo del menor 15.\n",
      "El resultado de la division es 2.\n"
     ]
    }
   ],
   "source": [
    "#Ejercicio 7\n",
    "#Haz que un usuario introduzca dos números enteros positivos. Comprueba si el mayor es múltiplo del menor. \n",
    "#Devuelve por pantalla el resultado en cada caso.\n",
    "while True:\n",
    "    a = int(input(\"Introduce un numero: \"))\n",
    "    b = int(input(\"Introduce un segundo: \\n\"))\n",
    "    if (a>0 and b>0):\n",
    "        break\n",
    "print(\"Has introducido numeros enteros positivos.\\n\")\n",
    "\n",
    "if a>b: \n",
    "    if a % b == 0:\n",
    "        division = int(a/b)\n",
    "        print(\"El numero {} es multiplo del menor {}.\".format(a,b))\n",
    "        print(\"El resultado de la division es {}.\".format(division))\n",
    "    else:\n",
    "        print(\"El numero {} no es multiplo del otro.\".format(a))\n",
    "elif b>a: \n",
    "    if b % a == 0:\n",
    "        division = int(b/a)\n",
    "        print(\"El numero {} es multiplo del menor {}.\".format(b,a))\n",
    "        print(\"El resultado de la division es {}.\".format(division))\n",
    "    else:\n",
    "        print(\"El numero {} no es multiplo del otro.\".format(b))\n",
    "    \n",
    "        "
   ]
  },
  {
   "cell_type": "code",
   "execution_count": 4,
   "metadata": {},
   "outputs": [
    {
     "data": {
      "text/plain": [
       "0.75"
      ]
     },
     "execution_count": 4,
     "metadata": {},
     "output_type": "execute_result"
    }
   ],
   "source": [
    "a = 3\n",
    "b = 4\n",
    "a / b"
   ]
  }
 ],
 "metadata": {
  "kernelspec": {
   "display_name": "Python 3",
   "language": "python",
   "name": "python3"
  },
  "language_info": {
   "codemirror_mode": {
    "name": "ipython",
    "version": 3
   },
   "file_extension": ".py",
   "mimetype": "text/x-python",
   "name": "python",
   "nbconvert_exporter": "python",
   "pygments_lexer": "ipython3",
   "version": "3.8.3"
  }
 },
 "nbformat": 4,
 "nbformat_minor": 4
}
