{
 "cells": [
  {
   "cell_type": "markdown",
   "metadata": {},
   "source": [
    "# 35. VARIABLES BOOLEANAS"
   ]
  },
  {
   "cell_type": "markdown",
   "metadata": {},
   "source": [
    "### Booleanos \n",
    "Dato Booleano. Es un tipo de dato que solamente puede tomar 2 valores: True (verdadero) o False (falso). \\\n",
    "Variable Lógica. Variable que almacena datos booleanos. "
   ]
  },
  {
   "cell_type": "code",
   "execution_count": 1,
   "metadata": {},
   "outputs": [
    {
     "data": {
      "text/plain": [
       "bool"
      ]
     },
     "execution_count": 1,
     "metadata": {},
     "output_type": "execute_result"
    }
   ],
   "source": [
    "is_adult = True\n",
    "type(is_adult)"
   ]
  },
  {
   "cell_type": "markdown",
   "metadata": {},
   "source": [
    "Observacion. Observad que tanto True como False únicamente tienen la primera letra mayúscula. Además, a diferencia de otros lenguajes de programación, como por ejemplo R, Python solamente admite los booleanos escritos de esta forma: \n",
    "True o False. "
   ]
  },
  {
   "cell_type": "markdown",
   "metadata": {},
   "source": [
    "# 36. Tablas de verdad \n",
    "Dadas dos variables lógicas, A y B, podemos definir los operadores básicos mediante tablas de verdad, donde el valor verdadero se representa con la letra V o bien con un 1, mientras que el valor falso se representa mediante la letra F o bien con un 0.\\\n",
    "La tabla de verdad para la variable A sería"
   ]
  },
  {
   "cell_type": "markdown",
   "metadata": {},
   "source": [
    "### Negación \n",
    "### Conjunción \n",
    "### Disyunción "
   ]
  },
  {
   "cell_type": "markdown",
   "metadata": {},
   "source": [
    "# 37.  Negación, Conjunción y Disyunción en Python "
   ]
  },
  {
   "cell_type": "markdown",
   "metadata": {},
   "source": [
    "## Operadores lógicos en Python "
   ]
  },
  {
   "cell_type": "markdown",
   "metadata": {},
   "source": [
    "Para hacer la negación, utilizamos el operador not. "
   ]
  },
  {
   "cell_type": "code",
   "execution_count": 2,
   "metadata": {},
   "outputs": [
    {
     "data": {
      "text/plain": [
       "False"
      ]
     },
     "execution_count": 2,
     "metadata": {},
     "output_type": "execute_result"
    }
   ],
   "source": [
    "A = True \n",
    "not A "
   ]
  },
  {
   "cell_type": "code",
   "execution_count": 3,
   "metadata": {},
   "outputs": [
    {
     "data": {
      "text/plain": [
       "True"
      ]
     },
     "execution_count": 3,
     "metadata": {},
     "output_type": "execute_result"
    }
   ],
   "source": [
    "B = False \n",
    "not B "
   ]
  },
  {
   "cell_type": "markdown",
   "metadata": {},
   "source": [
    "Para hacer la conjunción entre dos variables lógicas, utilizamos el operador and.  "
   ]
  },
  {
   "cell_type": "code",
   "execution_count": 4,
   "metadata": {},
   "outputs": [
    {
     "data": {
      "text/plain": [
       "True"
      ]
     },
     "execution_count": 4,
     "metadata": {},
     "output_type": "execute_result"
    }
   ],
   "source": [
    "A, B = True, True \n",
    "A and B"
   ]
  },
  {
   "cell_type": "code",
   "execution_count": 5,
   "metadata": {},
   "outputs": [
    {
     "data": {
      "text/plain": [
       "False"
      ]
     },
     "execution_count": 5,
     "metadata": {},
     "output_type": "execute_result"
    }
   ],
   "source": [
    "A and (not B) #niega primero la variable B, para luego hacer A y el resultado. "
   ]
  },
  {
   "cell_type": "markdown",
   "metadata": {},
   "source": [
    "Para hacer la disyunción entre dos variables lógicas, utilizamos el operador or. "
   ]
  },
  {
   "cell_type": "code",
   "execution_count": 6,
   "metadata": {},
   "outputs": [
    {
     "data": {
      "text/plain": [
       "False"
      ]
     },
     "execution_count": 6,
     "metadata": {},
     "output_type": "execute_result"
    }
   ],
   "source": [
    "A, B = False, False \n",
    "A or B "
   ]
  },
  {
   "cell_type": "code",
   "execution_count": 7,
   "metadata": {},
   "outputs": [
    {
     "data": {
      "text/plain": [
       "True"
      ]
     },
     "execution_count": 7,
     "metadata": {},
     "output_type": "execute_result"
    }
   ],
   "source": [
    "(not A) or B "
   ]
  },
  {
   "cell_type": "markdown",
   "metadata": {},
   "source": [
    "# 38. Operadores de comparación \n",
    "En python podemos comparar datos y obtener un resultado booleano. Los operadores de comparación disponibles son: \n",
    "* > Estrictamente mayor \n",
    "* >= Mayor o igual \n",
    "* > < Estricamente menor \n",
    "* > <= Menor o Igual \n",
    "* > == Igual \n",
    "* > != Diferente \n"
   ]
  },
  {
   "cell_type": "code",
   "execution_count": 9,
   "metadata": {},
   "outputs": [
    {
     "data": {
      "text/plain": [
       "True"
      ]
     },
     "execution_count": 9,
     "metadata": {},
     "output_type": "execute_result"
    }
   ],
   "source": [
    "7 == 7.0 #estos son iguales porque el valor que representa es el mismo. "
   ]
  },
  {
   "cell_type": "code",
   "execution_count": 10,
   "metadata": {},
   "outputs": [
    {
     "data": {
      "text/plain": [
       "False"
      ]
     },
     "execution_count": 10,
     "metadata": {},
     "output_type": "execute_result"
    }
   ],
   "source": [
    "3.14 > 9"
   ]
  },
  {
   "cell_type": "code",
   "execution_count": 13,
   "metadata": {},
   "outputs": [
    {
     "data": {
      "text/plain": [
       "True"
      ]
     },
     "execution_count": 13,
     "metadata": {},
     "output_type": "execute_result"
    }
   ],
   "source": [
    "7 != '7' #esto es diferente, porque el string es un caracter, no sabe que es un número. "
   ]
  },
  {
   "cell_type": "code",
   "execution_count": 12,
   "metadata": {},
   "outputs": [
    {
     "data": {
      "text/plain": [
       "True"
      ]
     },
     "execution_count": 12,
     "metadata": {},
     "output_type": "execute_result"
    }
   ],
   "source": [
    "0.001 <= 1"
   ]
  },
  {
   "cell_type": "markdown",
   "metadata": {},
   "source": [
    "# 39. MULTIPLES COMPARACIONES SIMULTÁNEAS "
   ]
  },
  {
   "cell_type": "markdown",
   "metadata": {},
   "source": [
    "Podemos utilizar múltiples comparaciones a la vez.\\\n",
    "Supongamos que tenemos que tener 16 años o más, pero menos de 40 para poder concertar una entrevista y aspirar a ser miembros de la tripulación del pirata Pyratilla.\\\n",
    "Queremos saber si nos concederá una entrevista si tenemos 17 años. "
   ]
  },
  {
   "cell_type": "code",
   "execution_count": 14,
   "metadata": {},
   "outputs": [
    {
     "data": {
      "text/plain": [
       "True"
      ]
     },
     "execution_count": 14,
     "metadata": {},
     "output_type": "execute_result"
    }
   ],
   "source": [
    "edad = 17 \n",
    "(edad >= 16) and (edad <= 40) #esta es la condición de arriba, como es verdadero se cumple lo de arriba. \n",
    "#comparaciones booleanas. "
   ]
  },
  {
   "cell_type": "markdown",
   "metadata": {},
   "source": [
    "# 40. LAS COMPARACIONES EN STRINGS "
   ]
  },
  {
   "cell_type": "code",
   "execution_count": 15,
   "metadata": {},
   "outputs": [
    {
     "data": {
      "text/plain": [
       "False"
      ]
     },
     "execution_count": 15,
     "metadata": {},
     "output_type": "execute_result"
    }
   ],
   "source": [
    "\"Mallorca\" < \"Dubai\""
   ]
  },
  {
   "cell_type": "markdown",
   "metadata": {},
   "source": [
    "El resultado que obtenemos es que la primera letra de la primera palabra, M, no se encuentra antes en el abecedario que la primera letra de la segunda palabra, D.\\\n",
    "Observacion. En caso de que la primera letra de cada una de las palabras compradas coincidan, se comparan los caracteres que se encuentran en la siguiente posición. En caso de empate, seguiríamos comparando los caracteres de la tercera posición y así sucesivamente. "
   ]
  },
  {
   "cell_type": "code",
   "execution_count": 16,
   "metadata": {},
   "outputs": [
    {
     "data": {
      "text/plain": [
       "True"
      ]
     },
     "execution_count": 16,
     "metadata": {},
     "output_type": "execute_result"
    }
   ],
   "source": [
    " \"Mallorca\" >= \"Madrid\" #la l viene despues de la d, si y justo por eso es el True. "
   ]
  },
  {
   "cell_type": "markdown",
   "metadata": {},
   "source": [
    "# 41. MÉTODOS BOOLEANOS EN STRINGS "
   ]
  },
  {
   "cell_type": "markdown",
   "metadata": {},
   "source": [
    "El metodo $\\textbf{.startswith()}$ nos devuelve verdadero si el string empieza con el caracter o la cadena de caracteres indicado. "
   ]
  },
  {
   "cell_type": "code",
   "execution_count": 18,
   "metadata": {},
   "outputs": [
    {
     "data": {
      "text/plain": [
       "False"
      ]
     },
     "execution_count": 18,
     "metadata": {},
     "output_type": "execute_result"
    }
   ],
   "source": [
    "s = \"Mallorca es una isla preciosa\"\n",
    "s.startswith(\"m\") #nos devuelve False, pues no empieza con m minusucula. "
   ]
  },
  {
   "cell_type": "code",
   "execution_count": 19,
   "metadata": {},
   "outputs": [
    {
     "data": {
      "text/plain": [
       "True"
      ]
     },
     "execution_count": 19,
     "metadata": {},
     "output_type": "execute_result"
    }
   ],
   "source": [
    "s.startswith(\"Mallorca\")"
   ]
  },
  {
   "cell_type": "markdown",
   "metadata": {},
   "source": [
    "El metodo $\\textbf{.endswith()}$ nos devuelve verdadero si el string acaba con el caracter o la cadena de caracteres indicado. "
   ]
  },
  {
   "cell_type": "code",
   "execution_count": 21,
   "metadata": {},
   "outputs": [
    {
     "data": {
      "text/plain": [
       "True"
      ]
     },
     "execution_count": 21,
     "metadata": {},
     "output_type": "execute_result"
    }
   ],
   "source": [
    "s = \"Mallora es una isla preciosa\"\n",
    "s.endswith(\"a\")"
   ]
  },
  {
   "cell_type": "code",
   "execution_count": 22,
   "metadata": {},
   "outputs": [
    {
     "data": {
      "text/plain": [
       "False"
      ]
     },
     "execution_count": 22,
     "metadata": {},
     "output_type": "execute_result"
    }
   ],
   "source": [
    "s.endswith(\"bonita\")"
   ]
  },
  {
   "cell_type": "markdown",
   "metadata": {},
   "source": [
    "El metodo $\\textbf{.isalnum()}$ nos devuelve verdadero si todos los caracteres del string son alfanuméricos. "
   ]
  },
  {
   "cell_type": "code",
   "execution_count": 23,
   "metadata": {},
   "outputs": [
    {
     "data": {
      "text/plain": [
       "True"
      ]
     },
     "execution_count": 23,
     "metadata": {},
     "output_type": "execute_result"
    }
   ],
   "source": [
    "s = \"Python365\"\n",
    "s.isalnum() "
   ]
  },
  {
   "cell_type": "code",
   "execution_count": 18,
   "metadata": {},
   "outputs": [
    {
     "data": {
      "text/plain": [
       "False"
      ]
     },
     "execution_count": 18,
     "metadata": {},
     "output_type": "execute_result"
    }
   ],
   "source": [
    "s = \"Han creado un blog llamado Python365\"\n",
    "s.isalnum()"
   ]
  },
  {
   "cell_type": "markdown",
   "metadata": {},
   "source": [
    "No se consideran alfanúmericos los siguientes: espacio en blanco, !, %, ?, &, etc.\n",
    "\n",
    "El metodo $\\textbf{.isalpha()}$, nos devuelve verdadero si todos los caracteres del string son del alfabeto. "
   ]
  },
  {
   "cell_type": "code",
   "execution_count": 25,
   "metadata": {},
   "outputs": [
    {
     "data": {
      "text/plain": [
       "True"
      ]
     },
     "execution_count": 25,
     "metadata": {},
     "output_type": "execute_result"
    }
   ],
   "source": [
    "s = \"Cachalote\"\n",
    "s.isalpha()"
   ]
  },
  {
   "cell_type": "code",
   "execution_count": 26,
   "metadata": {},
   "outputs": [
    {
     "data": {
      "text/plain": [
       "False"
      ]
     },
     "execution_count": 26,
     "metadata": {},
     "output_type": "execute_result"
    }
   ],
   "source": [
    "s = \"Mi perro se llama Guindilla\" #dio falso porque hay espacios. \n",
    "s.isalpha() "
   ]
  },
  {
   "cell_type": "markdown",
   "metadata": {},
   "source": [
    "El metodo $\\textbf{.isdigit()}$ nos devuelve verdadero si todos los caracteres del string son dígitos. "
   ]
  },
  {
   "cell_type": "code",
   "execution_count": 28,
   "metadata": {},
   "outputs": [
    {
     "data": {
      "text/plain": [
       "True"
      ]
     },
     "execution_count": 28,
     "metadata": {},
     "output_type": "execute_result"
    }
   ],
   "source": [
    "s = \"635\"\n",
    "s.isdigit()"
   ]
  },
  {
   "cell_type": "code",
   "execution_count": 29,
   "metadata": {},
   "outputs": [
    {
     "data": {
      "text/plain": [
       "False"
      ]
     },
     "execution_count": 29,
     "metadata": {},
     "output_type": "execute_result"
    }
   ],
   "source": [
    "s = \"Pyo35\"\n",
    "s.isdigit()"
   ]
  },
  {
   "cell_type": "markdown",
   "metadata": {},
   "source": [
    "El metodo $\\textbf{.isspace()}$ nos devuelve verdadero si todos los caracteres del string son espacios en blanco. "
   ]
  },
  {
   "cell_type": "code",
   "execution_count": 32,
   "metadata": {},
   "outputs": [
    {
     "data": {
      "text/plain": [
       "True"
      ]
     },
     "execution_count": 32,
     "metadata": {},
     "output_type": "execute_result"
    }
   ],
   "source": [
    "s = \"   \"\n",
    "s.isspace()"
   ]
  },
  {
   "cell_type": "markdown",
   "metadata": {},
   "source": [
    "El metodo $\\textbf{.isupper()}$ nos devuelve verdadero si todos los caracteres del string estan en mayuscula. "
   ]
  },
  {
   "cell_type": "code",
   "execution_count": 19,
   "metadata": {},
   "outputs": [
    {
     "data": {
      "text/plain": [
       "False"
      ]
     },
     "execution_count": 19,
     "metadata": {},
     "output_type": "execute_result"
    }
   ],
   "source": [
    "s = \"Mi gato se llama Bigotes\"\n",
    "s.isupper()"
   ]
  },
  {
   "cell_type": "code",
   "execution_count": 20,
   "metadata": {},
   "outputs": [
    {
     "data": {
      "text/plain": [
       "True"
      ]
     },
     "execution_count": 20,
     "metadata": {},
     "output_type": "execute_result"
    }
   ],
   "source": [
    "s = \"ME GUSTA HACER PUZZLES\"\n",
    "s.isupper()"
   ]
  },
  {
   "cell_type": "markdown",
   "metadata": {},
   "source": [
    "El metodo $\\textbf{.istitle()}$ nos devuelve verdadero si todos las palabras del string empiezan en mayusuculas y el resto de las letras de la palabra estan en minusuculas"
   ]
  },
  {
   "cell_type": "code",
   "execution_count": 21,
   "metadata": {},
   "outputs": [
    {
     "data": {
      "text/plain": [
       "False"
      ]
     },
     "execution_count": 21,
     "metadata": {},
     "output_type": "execute_result"
    }
   ],
   "source": [
    "S = \"Platero y yo\"\n",
    "S.istitle()"
   ]
  },
  {
   "cell_type": "code",
   "execution_count": 22,
   "metadata": {},
   "outputs": [
    {
     "data": {
      "text/plain": [
       "True"
      ]
     },
     "execution_count": 22,
     "metadata": {},
     "output_type": "execute_result"
    }
   ],
   "source": [
    "s = \"Platero Y Yo\"\n",
    "s.istitle()"
   ]
  },
  {
   "cell_type": "markdown",
   "metadata": {},
   "source": [
    "# 42. EL OPERADOR DE DESICIÓN IF "
   ]
  },
  {
   "cell_type": "markdown",
   "metadata": {},
   "source": [
    "## IF \n",
    "Cuando queremos comprobar si se cumple alfuna condición, utilizamos el operador de desición if. La sintaxis que debemos seguir es el siguiente: "
   ]
  },
  {
   "cell_type": "code",
   "execution_count": null,
   "metadata": {},
   "outputs": [],
   "source": [
    "if condicion: #si se cumple cierta condición booleano, la consecuencia de que la condición es verdadera. \n",
    "    consecuencia "
   ]
  },
  {
   "cell_type": "markdown",
   "metadata": {},
   "source": [
    "Cuidado. La sintaxis de los dos puntos después de la condición y la identación(equivalente a una tabulación, un total de 4 espacios en blanco) que precede a la consecuencia es muy importante. De hecho, si se omite alguna de las dos cosas o bien nos pasamos la identación, saltará un error. "
   ]
  },
  {
   "cell_type": "code",
   "execution_count": 34,
   "metadata": {},
   "outputs": [
    {
     "name": "stdout",
     "output_type": "stream",
     "text": [
      "Puedes formar parte de la tripulación de Pyratilla\n"
     ]
    }
   ],
   "source": [
    "age = 23 \n",
    "if (age >= 16 and age <= 40): \n",
    "    print(\"Puedes formar parte de la tripulación de Pyratilla\")"
   ]
  },
  {
   "cell_type": "markdown",
   "metadata": {},
   "source": [
    "# EJERCICIO: COMPROBANDO SI UN STRING CONTIENE ESPACIOS EN BLANCO"
   ]
  },
  {
   "cell_type": "markdown",
   "metadata": {},
   "source": [
    "Dado un string, vamos a comprobar si contiene espacios en blanco y , en caso de ser cierto, contaremos cuantos tiene.\\\n",
    "Pista: Investiga el operador In. "
   ]
  },
  {
   "cell_type": "code",
   "execution_count": 37,
   "metadata": {},
   "outputs": [
    {
     "name": "stdout",
     "output_type": "stream",
     "text": [
      "El String tiene 3 espacios en blanco\n"
     ]
    }
   ],
   "source": [
    "s = \"Mi gato mola mucho\"\n",
    "blank = \" \"\n",
    "if blank in s: \n",
    "    print(\"El String tiene {} espacios en blanco\".format(s.count(blank)))"
   ]
  },
  {
   "cell_type": "code",
   "execution_count": null,
   "metadata": {},
   "outputs": [],
   "source": [
    "#si el espacio en blanco se encuentra en el string, si la condicion es cierta, lo que queremos es imprimir,\n",
    "#el numero total de espacios en blanco que contiene el string. \n"
   ]
  },
  {
   "cell_type": "markdown",
   "metadata": {},
   "source": [
    "## 44. OPERADOR DE DESICION ELSE"
   ]
  },
  {
   "cell_type": "markdown",
   "metadata": {},
   "source": [
    "Ahora, nos podríamos preguntar que le podríamos  decir al usuario en el caso en que no satidfaga la condición. Ahí es donde entra en juego el operador de desición else. Esta vez, la sintaxis a seguir es la siguiente: "
   ]
  },
  {
   "cell_type": "code",
   "execution_count": null,
   "metadata": {},
   "outputs": [],
   "source": [
    "if condicion: \n",
    "    consecuencia_si_es_verdad\n",
    "else: \n",
    "    consecuencia_si_es_falsa"
   ]
  },
  {
   "cell_type": "markdown",
   "metadata": {},
   "source": [
    "Siguiendo con el mismo ejemplo anterior. "
   ]
  },
  {
   "cell_type": "code",
   "execution_count": 39,
   "metadata": {},
   "outputs": [
    {
     "name": "stdout",
     "output_type": "stream",
     "text": [
      "No satisfaces una necesidad básica para pertenecer a la tripulación del gran Pyr\n"
     ]
    }
   ],
   "source": [
    "age = 41\n",
    "if (age >= 16 and age <= 40): \n",
    "    print(\"Puedes formar parte de la tripulación de Pyratilla\")\n",
    "else:\n",
    "    print(\"No satisfaces una necesidad básica para pertenecer a la tripulación del gran Pyr\")"
   ]
  },
  {
   "cell_type": "markdown",
   "metadata": {},
   "source": [
    "# 45. EJERCICIO: RESOLVIENDO ECUACIONES DE PRIMER GRADO "
   ]
  },
  {
   "cell_type": "markdown",
   "metadata": {},
   "source": [
    "Vamos a hacer un programa que resuelva ecuaciones de primer grado de la forma Ax + B = 0 proporcionadas por el usuario donde A es distinto de cero. "
   ]
  },
  {
   "cell_type": "code",
   "execution_count": 3,
   "metadata": {},
   "outputs": [
    {
     "name": "stdout",
     "output_type": "stream",
     "text": [
      "Coeficiente A = 0\n",
      "Coeficiente B = 7\n",
      "No hay ecuación que resolver, porque A = 0\n"
     ]
    }
   ],
   "source": [
    "A = float(input(\"Coeficiente A = \"))\n",
    "B = float(input(\"Coeficiente B = \"))\n",
    "if A != 0: \n",
    "    sol = -B / A \n",
    "    print(\"La solución es x = {}\".format(sol))\n",
    "else:\n",
    "    print(\"No hay ecuación que resolver, porque A = 0\")"
   ]
  },
  {
   "cell_type": "markdown",
   "metadata": {},
   "source": [
    "# 46. EL OPERADOR DE DESICIÓN ELIF"
   ]
  },
  {
   "cell_type": "markdown",
   "metadata": {},
   "source": [
    "Ahora en vez de comprobar si se cumple o no una condición, nos podríamos preguntar como haríamos para comprobar mas de una condición. Podriamos hacerlo a lo bruto anidando operadres if, esto es, metiendo un if dentro de otro, o boein, prodríamos hacerlo utilizando el operador de desición elif.\\\n",
    "El operador elif funciona del siguiente modo: se empieza con un operador if, si la condición de este no se cumple, pasamos a la siguiente condicion posible precedeida de un elif, etc. "
   ]
  },
  {
   "cell_type": "code",
   "execution_count": null,
   "metadata": {},
   "outputs": [],
   "source": [
    "if condicion_1:\n",
    "    consecuencia\n",
    "elif condicion_2:\n",
    "    consecuencia\n",
    "elif condicion_3:\n",
    "    consecuencia \n",
    "    \n",
    "    \n",
    "else:\n",
    "    consecuencia"
   ]
  },
  {
   "cell_type": "code",
   "execution_count": 7,
   "metadata": {},
   "outputs": [
    {
     "name": "stdout",
     "output_type": "stream",
     "text": [
      "No puedes pertenecer a la tripulacion, te pasas de la edad limite\n"
     ]
    }
   ],
   "source": [
    "#Ejemplo \n",
    "age = 41\n",
    "\n",
    "if age > 40: \n",
    "    print(\"No puedes pertenecer a la tripulacion, te pasas de la edad limite\")\n",
    "elif age >= 16:\n",
    "    print(\"Podrás optar a pertencer la tripulacion. Aun te queda superar la entrevista\") #esto ya implica que el if de arriba ya es falsa,\n",
    "    #dicha condicion solo se va a cumplor si la edad esta en [16,40)\n",
    "else:\n",
    "    print(\"Eres muy pequeño todavia para la vida pirata!\")"
   ]
  },
  {
   "cell_type": "markdown",
   "metadata": {},
   "source": [
    "El funcionamiento del codigo anterior es el siguiente: \n",
    "* El if comprueba si la edad introducida es mayor a 40. \n",
    "* El Elif comprueba si la edad se encuentra en el intervalo [16,40]\n",
    "* El Else implica que la edad introducida es menor a 16."
   ]
  },
  {
   "cell_type": "markdown",
   "metadata": {},
   "source": [
    "# 47. EL OPERADOR TERNARIO "
   ]
  },
  {
   "cell_type": "markdown",
   "metadata": {},
   "source": [
    "Si queremos hacer un simple if / else en una sola línea de codigo, podemos utilizar el operador ternario, que tiene la siguiente estructura. \n",
    "* consecuencia_cierto if condicion else consecuencia_falsa"
   ]
  },
  {
   "cell_type": "code",
   "execution_count": 8,
   "metadata": {},
   "outputs": [
    {
     "name": "stdout",
     "output_type": "stream",
     "text": [
      "Eres mayor de Edad en España\n"
     ]
    }
   ],
   "source": [
    "#ejemplo \n",
    "age = 20 \n",
    "texto_mayor = \"Eres mayor de Edad en España\"\n",
    "texto_menor = \"Eres menor de Edad en España\"\n",
    "\n",
    "print(texto_mayor) if age >= 18 else print(texto_menor)"
   ]
  },
  {
   "cell_type": "markdown",
   "metadata": {},
   "source": [
    "# 48. EJERCICIO: COMPROBAR SI UN NÚMERO ES PAR O IMPAR "
   ]
  },
  {
   "cell_type": "markdown",
   "metadata": {},
   "source": [
    "Vamos a comprobar si un número es par o impar haciendo uso del operador ternario. "
   ]
  },
  {
   "cell_type": "code",
   "execution_count": 10,
   "metadata": {},
   "outputs": [
    {
     "name": "stdout",
     "output_type": "stream",
     "text": [
      "El numero es par\n"
     ]
    }
   ],
   "source": [
    "n = 10\n",
    "message = \"El numero es par\" if n % 2 == 0 else \"El numero es impar\"\n",
    "print(message)"
   ]
  },
  {
   "cell_type": "code",
   "execution_count": 2,
   "metadata": {},
   "outputs": [
    {
     "name": "stdout",
     "output_type": "stream",
     "text": [
      "Introduce un número11\n",
      "El numero es impar\n"
     ]
    }
   ],
   "source": [
    "numero = int(input(\"Introduce un número\"))\n",
    "condicion = \"El numero es par\" if numero % 2 == 0 else \"El numero es impar\"\n",
    "print(condicion)"
   ]
  },
  {
   "cell_type": "markdown",
   "metadata": {},
   "source": [
    "# 49. EJERCICIO. COMPROBANDO SI UN PUNTO (X,Y) PERTENECE AL CUADRADO UNIDAD "
   ]
  },
  {
   "cell_type": "markdown",
   "metadata": {},
   "source": [
    "Vamos a comprobar si un punto del plano euclideano de la forma (x,y) pertenece o no al cuadrado unidad. "
   ]
  },
  {
   "cell_type": "code",
   "execution_count": 5,
   "metadata": {},
   "outputs": [
    {
     "name": "stdout",
     "output_type": "stream",
     "text": [
      "x = 0.8\n",
      "y = 0.09\n",
      "El punto (0.8,0.09) se encuentra en el cuadrado unidad\n"
     ]
    }
   ],
   "source": [
    "x = float(input(\"x = \"))\n",
    "y = float(input(\"y = \"))\n",
    "\n",
    "if x >= 0 and x <= 1 and y >= 0 and y <= 1:\n",
    "    print(\"El punto ({},{}) se encuentra en el cuadrado unidad\".format(x,y))\n",
    "else:\n",
    "    print(\"El punto ({},{}) no pertenece al cuadrado unidad\".format(x,y))"
   ]
  },
  {
   "cell_type": "markdown",
   "metadata": {},
   "source": [
    "# 50. OPERADORES IF Y ELSE ANIDADOS"
   ]
  },
  {
   "cell_type": "code",
   "execution_count": 8,
   "metadata": {},
   "outputs": [
    {
     "name": "stdout",
     "output_type": "stream",
     "text": [
      "Eres mayor de edad pues tienes 20 años y tu nombre, que es mame, empieza por M\n"
     ]
    }
   ],
   "source": [
    "age = 20 \n",
    "name = \"mame\"\n",
    "\n",
    "if age >= 18:\n",
    "    if name.startswith(\"M\") or name.startswith(\"m\"):\n",
    "        print(\"Eres mayor de edad pues tienes {} años y tu nombre, que es {}, empieza por M\".format(age, name))\n",
    "    else:\n",
    "        print(\"Eres mayor de edad pues tienes {} años\".format(age))\n",
    "else:\n",
    "    print(\"Eres muy joven\")"
   ]
  },
  {
   "cell_type": "markdown",
   "metadata": {},
   "source": [
    "# 51. EJERCICIO: COMPROBAR SI UN AÑO ES BISIESTO"
   ]
  },
  {
   "cell_type": "markdown",
   "metadata": {},
   "source": [
    "Vamos a comprobar si un año es bisiesto o no.\\\n",
    "Un año es bisiesto si es divisible entre cuatro pero no es multiplo de cien a no ser que lo sea de 400. "
   ]
  },
  {
   "cell_type": "code",
   "execution_count": null,
   "metadata": {},
   "outputs": [],
   "source": [
    "year = int(input(\"Año: \"))\n",
    "\n",
    "if year % 4 == 0: \n",
    "    if year % 100: \n",
    "        if year % 400:\n",
    "            print(\"El año {} es bisiesto\".format(year))\n",
    "        else: print(\"El año {} no es bisiesto\".format(year))\n",
    "        \n",
    "    else: print(\"El año {} es bisiesto\".format(year))\n",
    "else: print(\"El año {} no es bisiesto\".format(year))"
   ]
  },
  {
   "cell_type": "markdown",
   "metadata": {},
   "source": [
    "# EJERCICIOS"
   ]
  },
  {
   "cell_type": "markdown",
   "metadata": {},
   "source": [
    "Escribre un programa que dado, un numero entero, muestre su valor absoluto. "
   ]
  },
  {
   "cell_type": "code",
   "execution_count": 25,
   "metadata": {},
   "outputs": [
    {
     "name": "stdout",
     "output_type": "stream",
     "text": [
      "Escribe un numero: -15\n",
      "El valor absoluto del numero -15 es: |15|\n"
     ]
    }
   ],
   "source": [
    "numero = int(input(\"Escribe un numero: \"))\n",
    "\n",
    "if numero > 0:\n",
    "    print(\"El valor absoluto del numero {} es: |{}|\".format(numero,numero))\n",
    "    \n",
    "else: \n",
    "    numero2 = numero\n",
    "    numero = numero * (-1)\n",
    "    print(\"El valor absoluto del numero {} es: |{}|\".format(numero2,numero))"
   ]
  },
  {
   "cell_type": "markdown",
   "metadata": {},
   "source": [
    "Solicitar al usuario que ingrese los nombres de 2 personas, los cuales almacenarán en dos variables. A continuación imprimir \"coincidencia\"si los nombres de ambas personas comienzan con la misma letra o si terminan con la misma letra. Si no es asi, imprimir \"no hay coincidencia\". "
   ]
  },
  {
   "cell_type": "code",
   "execution_count": 44,
   "metadata": {},
   "outputs": [
    {
     "name": "stdout",
     "output_type": "stream",
     "text": [
      "Introduzca el nombre de una primera persona: Rodrigo\n",
      "Introduzca el nombre de una segunda persona: Octavio\n",
      "Coincidencia\n"
     ]
    }
   ],
   "source": [
    "nombre1 = input(\"Introduzca el nombre de una primera persona: \")\n",
    "nombre2 = input(\"Introduzca el nombre de una segunda persona: \")\n",
    "\n",
    "if (nombre1[0] == nombre2[0]) | (nombre1[len(nombre1)-1] == nombre2[len(nombre2)-1]):\n",
    "    print(\"Coincidencia\")\n",
    "\n",
    "else:\n",
    "    print(\"No hay coicidencia\")\n",
    "                                                        "
   ]
  },
  {
   "cell_type": "code",
   "execution_count": 4,
   "metadata": {},
   "outputs": [
    {
     "name": "stdout",
     "output_type": "stream",
     "text": [
      "Eliga un candidato por el cual votar: \n",
      "Candidato A \n",
      "Candidato B \n",
      "Candidato C \n",
      ": candidato z\n",
      "Usted no ha ingresado un candidato valido, tendrá solo 3 intentos para escoger un cadidato valido\n",
      "Intento 1, escoga nuevamente un candidato: candidato h\n",
      "Intento 2, escoga nuevamente un candidato: candidato a\n",
      "Usted ha votado por el Candidato A.\n"
     ]
    }
   ],
   "source": [
    "print(\"Eliga un candidato por el cual votar: \")\n",
    "print(\"Candidato A \\nCandidato B \\nCandidato C \")\n",
    "candidato = input(\": \")\n",
    "candidato = candidato.upper()\n",
    "\n",
    "if candidato == \"CANDIDATO A\": \n",
    "    print(\"Usted ha votado por el Candidato A.\")\n",
    "    \n",
    "    \n",
    "elif candidato == \"CANDIDATO B\":\n",
    "    print(\"Usted ha votado por el Candidato B.\")\n",
    "    \n",
    "    \n",
    "elif candidato == \"CANDIDATO C\":\n",
    "    print(\"Usted ha votado por el Candidato C.\")\n",
    "    \n",
    "    \n",
    "else: \n",
    "    print(\"Usted no ha ingresado un candidato valido, tendrá solo 3 intentos para escoger un cadidato valido\")\n",
    "    for i in [1,2,3]:\n",
    "        candidato2 = input(\"Intento {}, escoga nuevamente un candidato: \".format(i))\n",
    "        candidato2 = candidato2.upper()\n",
    "        if candidato2 == \"CANDIDATO A\": \n",
    "            print(\"Usted ha votado por el Candidato A.\")\n",
    "            break;\n",
    "        if candidato2 == \"CANDIDATO B\":\n",
    "            print(\"Usted ha votado por el Candidato B.\")\n",
    "            break;\n",
    "        if candidato2 == \"CANDIDATO C\":\n",
    "            print(\"Usted ha votado por el Candidato C.\")\n",
    "            break;\n",
    "            \n",
    "            "
   ]
  },
  {
   "cell_type": "markdown",
   "metadata": {},
   "source": [
    "Escribir un programa que solicite al usuario una letra y si es una vocal, muestre el mensaje \"es una vocal\". Se debe validar que el usuario ingrese solo un carácter. Si ingresa un string de mas de un carácter, informale que no se puede procesar el dato. "
   ]
  },
  {
   "cell_type": "code",
   "execution_count": 9,
   "metadata": {},
   "outputs": [
    {
     "name": "stdout",
     "output_type": "stream",
     "text": [
      "Ingrese una letra: e\n",
      "Es una vocal\n"
     ]
    }
   ],
   "source": [
    "letra = input(\"Ingrese una letra: \")\n",
    "\n",
    "if len(letra) != 1:\n",
    "    print(\"Debe ser solo una letra.\")\n",
    "    \n",
    "else:\n",
    "    if letra in \"aeiou\":\n",
    "        print(\"Es una vocal\")\n",
    "    else:\n",
    "        print(\"Tu letra no es una vocal.\")"
   ]
  },
  {
   "cell_type": "markdown",
   "metadata": {},
   "source": [
    "Pedir por pantalla tres números no consecutivos y mostrar en orden ascendente."
   ]
  },
  {
   "cell_type": "markdown",
   "metadata": {},
   "source": [
    "# EJERCICIO "
   ]
  },
  {
   "cell_type": "markdown",
   "metadata": {},
   "source": [
    "Ejercicio 1\n",
    "\n",
    "Haz que un usuario introduzca un número real y evalúa si dicho número es positivo, negativo o cero. Devuelve\n",
    "por pantalla el resultado en cada caso.\n",
    "\n",
    "Ejercicio 2\n",
    "\n",
    "Haz que un usuario introduzca su nombre y evalúa con operadores if y else si dicho nombre tiene una\n",
    "longitud mayor a 10 caracteres o no. Devuelve por pantalla el resultado en cada caso.\n",
    "\n",
    "Ejercicio 3\n",
    "\n",
    "Realiza el ejercicio anterior con el uso del operador ternario.\n",
    "\n",
    "Ejercicio 4\n",
    "\n",
    "Haz que un usuario introduzca dos números enteros positivos. Comprueba si el primer número introducido\n",
    "por el usuario es mayor o igual que el segundo número introducido por el usuario. Devuelve por pantalla el\n",
    "resultado en cada caso.\n",
    "PISTA: Asegúrate de hacer uso de la función int() donde pertoque.\n",
    "\n",
    "Ejercicio 5\n",
    "\n",
    "Haz que un usuario introduzca dos números enteros positivos. Suponiendo que el primer número introducido\n",
    "por el usuario es mayor o igual al segundo número introducido por el usuario, comprueba que la división del\n",
    "primer número entre el segundo número es entera.\n",
    "En caso de la división ser entera, devuelve el cociente por pantalla e indica que la división en efecto es entera.\n",
    "En caso de la división no ser entera, devuelve el cociente y el resto por pantalla e indica que la división entre\n",
    "los dos números no es entera.\n",
    "1\n",
    "\n",
    "Ejercicio 6\n",
    "\n",
    "Fusiona lo hecho en los ejercicios 4 y 5 para que\n",
    "1. Un usuario introduzca dos números enteros por pantalla.\n",
    "2. Comprobar si el primer número es mayor o igual al segundo número introducido por el usuario. Devolver\n",
    "por pantalla en que caso nos encontramos.\n",
    "3. Hacer la división entera pertinente en cada caso.\n",
    "4. Si la división es entera, entonces devolver por pantalla el cociente e indicar que la división es entera.\n",
    "Si la división no es entera, entonces devolver por pantalla el cociente y el resto e indicar que la división\n",
    "realizada no es entera.\n",
    "\n",
    "Ejercicio 7\n",
    "\n",
    "Haz que un usuario introduzca dos números enteros positivos. Comprueba si el mayor es múltiplo del menor.\n",
    "Devuelve por pantalla el resultado en cada caso.\n",
    "\n",
    "Ejercicio 8\n",
    "\n",
    "Haz que un usuario introduzca una palabra y comprueba si dicha palabra empieza por mayúscula. Devuelve\n",
    "por pantalla el resultado en cada caso.\n",
    "\n",
    "Ejercicio 9\n",
    "\n",
    "Haz un usuario introduza una letra y comprueba si se trata de una vocal. Si el usuario introduce un string\n",
    "de más de un carácter, infórmale de que no se puede procesar el dato, pues debe tener como máximo tamaño\n",
    "1.\n",
    "PISTA: Convierte la letra introducida a minúsculas para tener que realizar menos comprobaciones"
   ]
  },
  {
   "cell_type": "code",
   "execution_count": 2,
   "metadata": {},
   "outputs": [
    {
     "name": "stdout",
     "output_type": "stream",
     "text": [
      "Introduce un numero: 0\n",
      "El numero es 0.\n"
     ]
    }
   ],
   "source": [
    "#ejercicio 1 \n",
    "numero = float(input(\"Introduce un numero: \"))\n",
    "\n",
    "if numero>0:\n",
    "    print(\"El numero {} es positivo\".format(numero))\n",
    "elif numero<0:\n",
    "    print(\"El numero {} es negativo\".format(numero))\n",
    "else:\n",
    "    print(\"El numero es 0.\")"
   ]
  },
  {
   "cell_type": "code",
   "execution_count": 3,
   "metadata": {},
   "outputs": [
    {
     "name": "stdout",
     "output_type": "stream",
     "text": [
      "Introduce tu nombre: Carlos Cadena Moya\n",
      "Tu nombre tiene mas de 10 caracteres.\n"
     ]
    }
   ],
   "source": [
    "#ejercicio 2 \n",
    "nombre = input(\"Introduce tu nombre: \")\n",
    "\n",
    "if len(nombre)>10: \n",
    "    print(\"Tu nombre tiene mas de 10 caracteres.\")\n",
    "elif len(nombre)<10: \n",
    "    print(\"Tu nombre tiene menos de 10 caracteres.\")\n",
    "else:\n",
    "    print(\"Tu nombre tiene exactamente 10 caracteres.\")"
   ]
  },
  {
   "cell_type": "code",
   "execution_count": 5,
   "metadata": {},
   "outputs": [
    {
     "name": "stdout",
     "output_type": "stream",
     "text": [
      "Tu nombre tiene al menos 10 caracteres.\n"
     ]
    }
   ],
   "source": [
    "# ejercicio 3 \n",
    "print(\"Tu nombre tiene al menos 10 caracteres.\") if len(nombre)>= 10 else print(\"Tu nombre tiene menos de 10 caracteres.\")"
   ]
  },
  {
   "cell_type": "code",
   "execution_count": 7,
   "metadata": {},
   "outputs": [
    {
     "name": "stdout",
     "output_type": "stream",
     "text": [
      "Introduce un numero entero: 2\n",
      "Introduce un segundo numero entero: 10\n",
      "El numero 10 es mayor que 2\n"
     ]
    }
   ],
   "source": [
    "#ejercicio 4 \n",
    "a = int(input(\"Introduce un numero entero: \"))\n",
    "b = int(input(\"Introduce un segundo numero entero: \"))\n",
    "\n",
    "if a>b: \n",
    "    print(\"El numero {} es mayor que {}\".format(a,b))\n",
    "else:\n",
    "    print(\"El numero {} es mayor que {}\".format(b,a))"
   ]
  },
  {
   "cell_type": "code",
   "execution_count": 1,
   "metadata": {},
   "outputs": [
    {
     "name": "stdout",
     "output_type": "stream",
     "text": [
      "Introduce un numero: 3\n",
      "Introduce un segundo numero: 10\n",
      "La division no es entera, el cociente es 0.3 y el resto es 1\n"
     ]
    }
   ],
   "source": [
    "#ejercicio 5 \n",
    "#Haz que un usuario introduzca dos números enteros positivos.\n",
    "#Suponiendo que el primer número introducido por el usuario es mayor o igual al segundo número introducido por el usuario,\n",
    "#comprueba que la división del primer número entre el segundo número es entera. En caso de la división ser entera,\n",
    "#devuelve el cociente por pantalla e indica que la división en efecto es entera. En caso de la división no ser entera,\n",
    "#devuelve el cociente y el resto por pantalla e indica que la división entre los dos números no es entera. \n",
    "\n",
    "a = int(input(\"Introduce un numero: \"))\n",
    "b = int(input(\"Introduce un segundo numero: \"))\n",
    "\n",
    "if a >= b: \n",
    "    division = a / b \n",
    "    if division%2==0: \n",
    "        print(\"El cociente de la división es {}, siendo esta entera.\".format(division))\n",
    "    else:\n",
    "        resto = a%b\n",
    "        print(\"La division no es entera, el cociente es {} y el resto es {} \".format(division,resto))\n",
    "elif b>a:\n",
    "    division = a / b\n",
    "    if division%2 == 0:\n",
    "        print(\"El cociente de la division es {}, siendo esta entera.\".format(division))\n",
    "    else:\n",
    "        resto = b%a\n",
    "        print(\"La division no es entera, el cociente es {} y el resto es {}\".format(division,resto))\n",
    "    \n",
    "        \n",
    "        \n",
    "    "
   ]
  },
  {
   "cell_type": "code",
   "execution_count": 6,
   "metadata": {},
   "outputs": [
    {
     "name": "stdout",
     "output_type": "stream",
     "text": [
      "Introduce un numero: 10\n",
      "Introduce un segundo: -5\n",
      "Introduce un numero: 30\n",
      "Introduce un segundo: 15\n",
      "Has introducido numeros enteros positivos.\n",
      "\n",
      "El numero 30 es multiplo del menor 15.\n",
      "El resultado de la division es 2.\n"
     ]
    }
   ],
   "source": [
    "#Ejercicio 7\n",
    "#Haz que un usuario introduzca dos números enteros positivos. Comprueba si el mayor es múltiplo del menor. \n",
    "#Devuelve por pantalla el resultado en cada caso.\n",
    "while True:\n",
    "    a = int(input(\"Introduce un numero: \"))\n",
    "    b = int(input(\"Introduce un segundo: \\n\"))\n",
    "    if (a>0 and b>0):\n",
    "        break\n",
    "print(\"Has introducido numeros enteros positivos.\\n\")\n",
    "\n",
    "if a>b: \n",
    "    if a % b == 0:\n",
    "        division = int(a/b)\n",
    "        print(\"El numero {} es multiplo del menor {}.\".format(a,b))\n",
    "        print(\"El resultado de la division es {}.\".format(division))\n",
    "    else:\n",
    "        print(\"El numero {} no es multiplo del otro.\".format(a))\n",
    "elif b>a: \n",
    "    if b % a == 0:\n",
    "        division = int(b/a)\n",
    "        print(\"El numero {} es multiplo del menor {}.\".format(b,a))\n",
    "        print(\"El resultado de la division es {}.\".format(division))\n",
    "    else:\n",
    "        print(\"El numero {} no es multiplo del otro.\".format(b))\n",
    "    \n",
    "        "
   ]
  },
  {
   "cell_type": "code",
   "execution_count": 4,
   "metadata": {},
   "outputs": [
    {
     "data": {
      "text/plain": [
       "0.75"
      ]
     },
     "execution_count": 4,
     "metadata": {},
     "output_type": "execute_result"
    }
   ],
   "source": [
    "a = 3\n",
    "b = 4\n",
    "a / b"
   ]
  }
 ],
 "metadata": {
  "kernelspec": {
   "display_name": "Python 3",
   "language": "python",
   "name": "python3"
  },
  "language_info": {
   "codemirror_mode": {
    "name": "ipython",
    "version": 3
   },
   "file_extension": ".py",
   "mimetype": "text/x-python",
   "name": "python",
   "nbconvert_exporter": "python",
   "pygments_lexer": "ipython3",
   "version": "3.8.3"
  }
 },
 "nbformat": 4,
 "nbformat_minor": 4
}
