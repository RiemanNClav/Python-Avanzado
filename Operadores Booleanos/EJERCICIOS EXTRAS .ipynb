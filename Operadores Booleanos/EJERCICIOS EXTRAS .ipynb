{
 "cells": [
  {
   "cell_type": "code",
   "execution_count": 5,
   "metadata": {},
   "outputs": [
    {
     "name": "stdout",
     "output_type": "stream",
     "text": [
      "Equivalencia de un número decimal en binario.\n",
      "Introduce un numero por pantalla: 22\n",
      "Esta es la equivalencia en numero binario [0, 1, 1, 0, 1, 0]\n"
     ]
    }
   ],
   "source": [
    "print(\"Equivalencia de un número decimal en binario.\")\n",
    "x = int(input(\"Introduce un numero por pantalla: \"))\n",
    "bin = []\n",
    "while x/2:\n",
    "    res = x%2\n",
    "    x = x//2\n",
    "    bin.append(res)\n",
    "bin.append(x)\n",
    "\n",
    "print(\"Esta es la equivalencia en numero binario {}\".format(bin))"
   ]
  },
  {
   "cell_type": "code",
   "execution_count": 3,
   "metadata": {},
   "outputs": [
    {
     "name": "stdout",
     "output_type": "stream",
     "text": [
      "El maximo elemento de una lista\n",
      "9\n"
     ]
    }
   ],
   "source": [
    "import math \n",
    "print(\"El maximo elemento de una lista\")\n",
    "l = [1,2,1,1,1,9]\n",
    "mayor = -math.inf\n",
    "for i in range(len(l)):\n",
    "    if l[i] > mayor:\n",
    "        mayor = l[i]\n",
    "    else:\n",
    "        continue\n",
    "print(mayor)"
   ]
  },
  {
   "cell_type": "code",
   "execution_count": 12,
   "metadata": {},
   "outputs": [
    {
     "name": "stdout",
     "output_type": "stream",
     "text": [
      "Introduce el número de filas de la matriz A: 3\n",
      "Introduce el número de columnas de la matriz A:4\n",
      "Introduce el elemento (0,0): 1\n",
      "Introduce el elemento (0,1): 2\n",
      "Introduce el elemento (0,2): 3\n",
      "Introduce el elemento (0,3): 4\n",
      "Introduce el elemento (1,0): 5\n",
      "Introduce el elemento (1,1): 6\n",
      "Introduce el elemento (1,2): 7\n",
      "Introduce el elemento (1,3): 8\n",
      "Introduce el elemento (2,0): 9\n",
      "Introduce el elemento (2,1): 10\n",
      "Introduce el elemento (2,2): 11\n",
      "Introduce el elemento (2,3): 12\n",
      "\n",
      "=== Matriz Producto ===\n",
      "1  2  3  4  \n",
      "5  6  7  8  \n",
      "9  10  11  12  \n"
     ]
    }
   ],
   "source": [
    "# Ejercicio: la multiplicación de la matriz identidad de orden n, por la Matriz A de orden n*m es la propia matriz A. \n",
    "n = int(input(\"Introduce el número de filas de la matriz A: \"))\n",
    "m = int(input(\"Introduce el número de columnas de la matriz A:\"))\n",
    "\n",
    "#matriz A\n",
    "A = []\n",
    "for i in range(n):\n",
    "    A.append([])\n",
    "    for j in range(m):\n",
    "        A[i].append(int(input(\"Introduce el elemento ({},{}): \".format(i,j))))\n",
    "        \n",
    "#Matriz Identidad\n",
    "Ln = []\n",
    "for i in range(n):\n",
    "    Ln.append([])\n",
    "    for j in range(n):\n",
    "        Ln[i].append(0)\n",
    "        if i == j:\n",
    "            Ln[i][j] = 1\n",
    "        else:\n",
    "            continue\n",
    "            \n",
    "#Matriz producto \n",
    "A1 = []\n",
    "for i in range(n):\n",
    "    A1.append([])\n",
    "    for j in range(m):\n",
    "        elemento = 0\n",
    "        for k in range(n):\n",
    "            elemento += Ln[i][k] * A[k][j]\n",
    "        A1[i].append(elemento)\n",
    "        \n",
    "        \n",
    "print(\"\\n=== Matriz Producto ===\")\n",
    "for i in range(n):\n",
    "    for j in range(m):\n",
    "        print(A1[i][j], end = \"  \")\n",
    "    print(\"\")    \n",
    "            \n",
    "        \n",
    "        "
   ]
  },
  {
   "cell_type": "markdown",
   "metadata": {},
   "source": [
    "Una Matriz Triangular Superior es aquella matriz cuadrada cuyos valores por debajo de la diagonal principal son todos iguales a 0. \n",
    "\n",
    "Las matrices triangulares superiores tienen las siguientes propiedades:\n",
    "* Son matrices cuadradas\n",
    "* Es utilizada para resolver sistemas de ecuaciones lineales, cálculo de matriz inversa, determinantes, etc.\n",
    "\n"
   ]
  },
  {
   "cell_type": "code",
   "execution_count": 19,
   "metadata": {},
   "outputs": [
    {
     "name": "stdout",
     "output_type": "stream",
     "text": [
      "Introduce el número de filas: 5\n",
      "Introduce el número de columnas: 8\n",
      "Debes de crear una matriz cuadrada, vuelve a introducir las dimensiones\n",
      "Introduce el número de filas: 5\n",
      "Introduce el número de columnas: 5\n",
      "Introduce el elemento (0,0): 1\n",
      "Introduce el elemento (0,1): 2\n",
      "Introduce el elemento (0,2): 3\n",
      "Introduce el elemento (0,3): 4\n",
      "Introduce el elemento (0,4): 5\n",
      "Introduce el elemento (1,0): 6\n",
      "Introduce el elemento (1,1): 7\n",
      "Introduce el elemento (1,2): 8\n",
      "Introduce el elemento (1,3): 9\n",
      "Introduce el elemento (1,4): 10\n",
      "Introduce el elemento (2,0): 11\n",
      "Introduce el elemento (2,1): 12\n",
      "Introduce el elemento (2,2): 13\n",
      "Introduce el elemento (2,3): 55\n",
      "Introduce el elemento (2,4): 6\n",
      "Introduce el elemento (3,0): 4\n",
      "Introduce el elemento (3,1): 88\n",
      "Introduce el elemento (3,2): 6\n",
      "Introduce el elemento (3,3): 5\n",
      "Introduce el elemento (3,4): 4\n",
      "Introduce el elemento (4,0): 8\n",
      "Introduce el elemento (4,1): 9\n",
      "Introduce el elemento (4,2): 6\n",
      "Introduce el elemento (4,3): 5\n",
      "Introduce el elemento (4,4): 4\n",
      "\n",
      "Matriz A\n",
      "\n",
      "1 2 3 4 5 \n",
      "6 7 8 9 10 \n",
      "11 12 13 55 6 \n",
      "4 88 6 5 4 \n",
      "8 9 6 5 4 \n",
      "\n",
      "Matriz Triangular Superior\n",
      "\n",
      "1 2 3 4 5 \n",
      "0 7 8 9 10 \n",
      "0 0 13 55 6 \n",
      "0 0 0 5 4 \n",
      "0 0 0 0 4 \n"
     ]
    }
   ],
   "source": [
    "#dada una matriz cuadrada, calcular una matriz triangular superior tal que las entradas distintas de cero, sean las de la matriz \n",
    "#cuadrada.\n",
    "\n",
    "while True:\n",
    "    n = int(input(\"Introduce el número de filas: \"))\n",
    "    m = int(input(\"Introduce el número de columnas: \"))\n",
    "    if n == m:\n",
    "        break\n",
    "    else:\n",
    "        print(\"Debes de crear una matriz cuadrada, vuelve a introducir las dimensiones\")\n",
    "        \n",
    "A=[]\n",
    "for i in range(n):\n",
    "    A.append([])\n",
    "    for j in range(m):\n",
    "        A[i].append(int(input(\"Introduce el elemento ({},{}): \".format(i,j))))\n",
    "        \n",
    "print(\"\\nMatriz A\\n\")\n",
    "for i in range(n):\n",
    "    for j in range(m):\n",
    "        print(A[i][j], end = \" \")\n",
    "    print(\"\")\n",
    "\n",
    "print(\"\\nMatriz Triangular Superior\\n\")\n",
    "T=[]\n",
    "for i in range(n):\n",
    "    T.append([])\n",
    "    for j in range(m):\n",
    "        T[i].append(A[i][j])\n",
    "        if i>j:\n",
    "            T[i][j] = 0\n",
    "        else:\n",
    "            continue\n",
    "            \n",
    "for i in range(n):\n",
    "    for j in range(m):\n",
    "        print(T[i][j], end = \" \")\n",
    "    print(\"\")\n",
    "        \n",
    "        \n",
    "        "
   ]
  },
  {
   "cell_type": "markdown",
   "metadata": {},
   "source": [
    "Ejercicio 1.\n",
    "\n",
    "Dado que el valor de $e^{x}$ se puede calcular aproximando con el polinomio de taylor, Realiza el algoritmo que tome un valor para x y lo calculo hasta que $\\frac{x^{n}}{n!}$ error o aproximacion sea menor a 0.0001"
   ]
  },
  {
   "cell_type": "code",
   "execution_count": 1,
   "metadata": {},
   "outputs": [
    {
     "name": "stdout",
     "output_type": "stream",
     "text": [
      "Escribe el numero $e^{x}$ de tu polinomio de Taylor: 14\n",
      "Escribe el orden de tu polinomio: 30\n",
      "Escribe el orden de tu polinomio: 60\n",
      "1202603.2841647773\n"
     ]
    }
   ],
   "source": [
    "import math as mt\n",
    "\n",
    "x = int(input(\"Escribe el numero $e^{x}$ de tu polinomio de Taylor: \"))\n",
    "while True:\n",
    "    euler = 0\n",
    "    \n",
    "    orden = int(input(\"Escribe el orden de tu polinomio: \"))\n",
    "    for i in range(1,orden+1,1):\n",
    "        euler = euler + x**i/(mt.factorial(i))\n",
    "        \n",
    "        \n",
    "    if x**orden/(mt.factorial(orden)) < 0.0001:\n",
    "        print(euler)\n",
    "        break\n",
    "    else:\n",
    "        continue\n",
    "                \n",
    "\n"
   ]
  },
  {
   "cell_type": "markdown",
   "metadata": {},
   "source": [
    "# FUNCION DE DISTRIBUCION EMPIRICA "
   ]
  },
  {
   "cell_type": "code",
   "execution_count": 227,
   "metadata": {},
   "outputs": [
    {
     "data": {
      "image/png": "[encoded data removed]",
      "text/plain": [
       "<Figure size 432x288 with 1 Axes>"
      ]
     },
     "metadata": {
      "needs_background": "light"
     },
     "output_type": "display_data"
    }
   ],
   "source": [
    "datos = [1,-1,-2,-4,-5,2,3,4,5,6,7,8,9,10,11,12,13,14,15,16,17,18,19,20,21,22,23,24,25,26,27,28,29,30,30,30,30,30]\n",
    "dominio = []\n",
    "[dominio.append(x) for x in datos if x not in dominio]\n",
    "dominio.sort()\n",
    "n = len(datos)\n",
    "num_terminos = 0\n",
    "P = []\n",
    "for i in range(len(dominio)):\n",
    "    if i < len(dominio) - 1:\n",
    "        for j in range(len(datos)): \n",
    "            if (dominio[i] <= datos[j]) and (datos[j] < dominio[i+1]):\n",
    "                num_terminos += 1\n",
    "        \n",
    "    else:\n",
    "        continue\n",
    "        \n",
    "    \n",
    "    probabilidad = num_terminos/n\n",
    "    P.append(probabilidad)\n",
    "    \n",
    "P.append(1)\n",
    "P.sort()\n",
    "\n",
    "for i in range(len(dominio)):\n",
    "    if i < len(dominio) - 1:\n",
    "        x = np.linspace(dominio[i],dominio[i+1],100)\n",
    "        y = np.linspace(P[i],P[i],100)\n",
    "        plt.plot(x,y)\n",
    "    \n",
    "    elif i == len(dominio) - 1:\n",
    "        x = np.linspace(dominio[i],dominio[i]+1,100)\n",
    "        y = np.linspace(P[i],P[i],100)\n",
    "        plt.plot(x,y)\n",
    "        \n",
    "    \n",
    "x = np.linspace(dominio[0]-1,dominio[0],100)\n",
    "y = np.linspace(0,0,100)  \n",
    "plt.plot(x,y)\n",
    "\n",
    "plt.ylabel(\"F(x)\")\n",
    "plt.xlabel(\"x\")\n",
    "plt.title(\"Funcion de Distribución Empírica\")\n",
    "plt.show()\n",
    "                \n",
    "                \n",
    "        \n",
    "        \n",
    "            "
   ]
  },
  {
   "cell_type": "code",
   "execution_count": null,
   "metadata": {},
   "outputs": [],
   "source": []
  },
  {
   "cell_type": "code",
   "execution_count": null,
   "metadata": {},
   "outputs": [],
   "source": []
  },
  {
   "cell_type": "code",
   "execution_count": null,
   "metadata": {},
   "outputs": [],
   "source": []
  },
  {
   "cell_type": "code",
   "execution_count": null,
   "metadata": {},
   "outputs": [],
   "source": []
  },
  {
   "cell_type": "code",
   "execution_count": null,
   "metadata": {},
   "outputs": [],
   "source": []
  },
  {
   "cell_type": "code",
   "execution_count": null,
   "metadata": {},
   "outputs": [],
   "source": []
  },
  {
   "cell_type": "code",
   "execution_count": null,
   "metadata": {},
   "outputs": [],
   "source": []
  }
 ],
 "metadata": {
  "kernelspec": {
   "display_name": "Python 3",
   "language": "python",
   "name": "python3"
  },
  "language_info": {
   "codemirror_mode": {
    "name": "ipython",
    "version": 3
   },
   "file_extension": ".py",
   "mimetype": "text/x-python",
   "name": "python",
   "nbconvert_exporter": "python",
   "pygments_lexer": "ipython3",
   "version": "3.8.3"
  }
 },
 "nbformat": 4,
 "nbformat_minor": 4
}
