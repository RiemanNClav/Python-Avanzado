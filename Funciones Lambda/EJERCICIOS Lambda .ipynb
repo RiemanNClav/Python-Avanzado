{
 "cells": [
  {
   "cell_type": "markdown",
   "metadata": {},
   "source": [
    "Ejercicio 1\n",
    "\n",
    "Crea una función lambda que dado un número entero multiplique por su anterior y su siguiente. Por ejemplo,\n",
    "si proporcionamos n = 3, nos tendrá que devolver 2 · 3 · 4 = 24"
   ]
  },
  {
   "cell_type": "code",
   "execution_count": 6,
   "metadata": {},
   "outputs": [],
   "source": [
    "func = lambda x: (x-1) * (x) * (x+1)"
   ]
  },
  {
   "cell_type": "code",
   "execution_count": 7,
   "metadata": {},
   "outputs": [
    {
     "data": {
      "text/plain": [
       "24"
      ]
     },
     "execution_count": 7,
     "metadata": {},
     "output_type": "execute_result"
    }
   ],
   "source": [
    "func(3)"
   ]
  },
  {
   "cell_type": "markdown",
   "metadata": {},
   "source": [
    "Ejercicio 2\n",
    "\n",
    "Crea una función lambda que dados dos números devuelva si el primero es mayor."
   ]
  },
  {
   "cell_type": "code",
   "execution_count": 8,
   "metadata": {},
   "outputs": [],
   "source": [
    "func = lambda x , y: x > y "
   ]
  },
  {
   "cell_type": "markdown",
   "metadata": {},
   "source": [
    "Ejercicio 3\n",
    "\n",
    "Dada una lista de palabras, quédate con filter() con las que tengan más vocales que consonantes. Necesitarás una función que devuelva si una palabra tiene más vocales que consonantes."
   ]
  },
  {
   "cell_type": "code",
   "execution_count": 19,
   "metadata": {},
   "outputs": [
    {
     "data": {
      "text/plain": [
       "['Te quiero']"
      ]
     },
     "execution_count": 19,
     "metadata": {},
     "output_type": "execute_result"
    }
   ],
   "source": [
    "def v_c(word):\n",
    "    v = 0\n",
    "    c = 0\n",
    "    for i in word:\n",
    "        if i == \"a\" or i == \"e\" or i == \"i\" or i == \"o\" or i == \"u\":\n",
    "            v += 1\n",
    "        else:\n",
    "            c += 1\n",
    "            \n",
    "    return v > c\n",
    "\n",
    "palabras = [\"Hola\", \"Jugando\", \"Te quiero\", \"Murcielago\", \"Orangutan\"]\n",
    "\n",
    "list(filter(v_c,palabras))\n",
    "            \n",
    "            "
   ]
  },
  {
   "cell_type": "markdown",
   "metadata": {},
   "source": [
    "Ejercicio 4\n",
    "\n",
    "Dada una lista de números enteros, quédate con filter() con los que tengan más de 5 divisores. Necesitarás\n",
    "una función que devuelva el número de divisores de un número dado."
   ]
  },
  {
   "cell_type": "code",
   "execution_count": 12,
   "metadata": {},
   "outputs": [
    {
     "data": {
      "text/plain": [
       "[12, 18, 20, 40, 50]"
      ]
     },
     "execution_count": 12,
     "metadata": {},
     "output_type": "execute_result"
    }
   ],
   "source": [
    "def divisores(x):\n",
    "    d = 0\n",
    "    i = 0\n",
    "    while x > i:\n",
    "        j = i+1\n",
    "        if x % j == 0:\n",
    "            d += 1\n",
    "        i+=1\n",
    "    return d > 5\n",
    "  \n",
    "\n",
    "num = [1,2,3,4,5,12,14,18,20,22,40,50,71] \n",
    "list(filter(divisores,num))"
   ]
  },
  {
   "cell_type": "markdown",
   "metadata": {},
   "source": [
    "Ejercicio 5\n",
    "\n",
    "Dada una lista de palabras, quédate con reduce() con la palabra más larga. Necesitarás una función que\n",
    "compare dos palabras y devuelva la que tenga mayor longitud."
   ]
  },
  {
   "cell_type": "code",
   "execution_count": 27,
   "metadata": {},
   "outputs": [],
   "source": [
    "def num_palabras(w):\n",
    "    palabras = 0\n",
    "    for i in w:\n",
    "        palabras += 1\n",
    "        if i == \" \":\n",
    "            palabras -= 1\n",
    "            \n",
    "    return palabras\n",
    "\n",
    "def Palabras(w1,w2):\n",
    "    if num_palabras(w1)> num_palabras(w2):\n",
    "        return w1\n",
    "    return w2\n",
    "\n"
   ]
  },
  {
   "cell_type": "code",
   "execution_count": 26,
   "metadata": {},
   "outputs": [
    {
     "data": {
      "text/plain": [
       "'Supercalifrajilispiridico'"
      ]
     },
     "execution_count": 26,
     "metadata": {},
     "output_type": "execute_result"
    }
   ],
   "source": [
    "from functools import reduce\n",
    "palabras = [\"Hola\", \"Jugando\", \"Te quiero\", \"Murcielago\", \"Orangutan\",\"Xochimilco\",\"Supercalifrajilispiridico\"]\n",
    "reduce(Palabras,palabras)"
   ]
  },
  {
   "cell_type": "markdown",
   "metadata": {},
   "source": [
    "Ejercicio 6\n",
    "\n",
    "Dada una lista de palabras, calcula el número de vocales de cada una con map()"
   ]
  },
  {
   "cell_type": "code",
   "execution_count": 33,
   "metadata": {},
   "outputs": [
    {
     "data": {
      "text/plain": [
       "[3, 3, 2, 2, 3, 1]"
      ]
     },
     "execution_count": 33,
     "metadata": {},
     "output_type": "execute_result"
    }
   ],
   "source": [
    "words = [\"zapato\", \"amigo\", \"yoyo\", \"barco\", \"xilófono\", \"césped\"]\n",
    "\n",
    "def num_vocales(w):\n",
    "    voc = 0\n",
    "    for i in w:\n",
    "        if i in [\"a\",\"e\",\"i\",\"o\",\"u\"]:\n",
    "            voc += 1\n",
    "    return voc\n",
    "\n",
    "list(map(lambda w: num_vocales(w), words))"
   ]
  },
  {
   "cell_type": "markdown",
   "metadata": {},
   "source": [
    "Ejercicio 7\n",
    "\n",
    "Dada una lista de palabras, quédate con reduce() y map() con la palabra con más consonantes. Necesitarás\n",
    "una función que cuente el número de consonantes de una palabra y otra que dados dos números, devuelva el mayor."
   ]
  },
  {
   "cell_type": "code",
   "execution_count": 43,
   "metadata": {},
   "outputs": [
    {
     "data": {
      "text/plain": [
       "14"
      ]
     },
     "execution_count": 43,
     "metadata": {},
     "output_type": "execute_result"
    }
   ],
   "source": [
    "palabras = [\"Hola\", \"Jugando\", \"Te quiero\", \"Murcielago\", \"Orangutan\",\"Xochimilco\",\"Supercalifrajilispiridico\"]\n",
    "def cons(w):\n",
    "    v = 0\n",
    "    for i in w:\n",
    "        if i not in [\"a\",\"e\",\"i\",\"o\",\"u\"]:\n",
    "            v += 1\n",
    "            \n",
    "    return v\n",
    "\n",
    "def more_than(x,y):\n",
    "    if x>y:\n",
    "        return x\n",
    "    return y\n",
    "\n",
    "reduce(more_than,list(map(lambda w: cons(w), palabras)))\n"
   ]
  },
  {
   "cell_type": "code",
   "execution_count": 44,
   "metadata": {},
   "outputs": [
    {
     "data": {
      "text/plain": [
       "[2, 4, 4, 5, 6, 6, 14]"
      ]
     },
     "execution_count": 44,
     "metadata": {},
     "output_type": "execute_result"
    }
   ],
   "source": [
    "list(map(lambda w: cons(w), palabras))"
   ]
  },
  {
   "cell_type": "code",
   "execution_count": null,
   "metadata": {},
   "outputs": [],
   "source": []
  },
  {
   "cell_type": "code",
   "execution_count": null,
   "metadata": {},
   "outputs": [],
   "source": []
  },
  {
   "cell_type": "code",
   "execution_count": null,
   "metadata": {},
   "outputs": [],
   "source": []
  },
  {
   "cell_type": "code",
   "execution_count": null,
   "metadata": {},
   "outputs": [],
   "source": []
  },
  {
   "cell_type": "code",
   "execution_count": null,
   "metadata": {},
   "outputs": [],
   "source": []
  },
  {
   "cell_type": "code",
   "execution_count": null,
   "metadata": {},
   "outputs": [],
   "source": []
  },
  {
   "cell_type": "code",
   "execution_count": null,
   "metadata": {},
   "outputs": [],
   "source": [
    "\n"
   ]
  },
  {
   "cell_type": "code",
   "execution_count": null,
   "metadata": {},
   "outputs": [],
   "source": []
  },
  {
   "cell_type": "code",
   "execution_count": null,
   "metadata": {},
   "outputs": [],
   "source": []
  },
  {
   "cell_type": "code",
   "execution_count": null,
   "metadata": {},
   "outputs": [],
   "source": []
  },
  {
   "cell_type": "code",
   "execution_count": null,
   "metadata": {},
   "outputs": [],
   "source": []
  },
  {
   "cell_type": "code",
   "execution_count": null,
   "metadata": {},
   "outputs": [],
   "source": []
  },
  {
   "cell_type": "code",
   "execution_count": null,
   "metadata": {},
   "outputs": [],
   "source": []
  },
  {
   "cell_type": "code",
   "execution_count": null,
   "metadata": {},
   "outputs": [],
   "source": []
  },
  {
   "cell_type": "code",
   "execution_count": null,
   "metadata": {},
   "outputs": [],
   "source": []
  },
  {
   "cell_type": "code",
   "execution_count": null,
   "metadata": {},
   "outputs": [],
   "source": []
  },
  {
   "cell_type": "code",
   "execution_count": null,
   "metadata": {},
   "outputs": [],
   "source": []
  }
 ],
 "metadata": {
  "kernelspec": {
   "display_name": "Python 3",
   "language": "python",
   "name": "python3"
  },
  "language_info": {
   "codemirror_mode": {
    "name": "ipython",
    "version": 3
   },
   "file_extension": ".py",
   "mimetype": "text/x-python",
   "name": "python",
   "nbconvert_exporter": "python",
   "pygments_lexer": "ipython3",
   "version": "3.8.3"
  }
 },
 "nbformat": 4,
 "nbformat_minor": 4
}
